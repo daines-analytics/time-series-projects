{
  "cells": [
    {
      "cell_type": "markdown",
      "metadata": {
        "id": "OIRgK0tZmNdY"
      },
      "source": [
        "# Univariate Time Series Model for Iron Production in Australia Using TensorFlow\n",
        "### David Lowe\n",
        "### March 30, 2022\n",
        "\n",
        "SUMMARY: The project aims to construct a time series prediction model and document the end-to-end steps using a template. The Iron Production in Australia dataset is a univariate time series situation where we attempt to forecast future outcomes based on past data points.\n",
        "\n",
        "INTRODUCTION: The problem is forecasting the monthly iron production in Australia. The dataset describes a time-series of weight (in thousand tons) over 40 years (1956-1995), and there are 476 observations. We used the first 80% of the observations for training and testing various models while holding back the remaining observations for validating the final model.\n",
        "\n",
        "ANALYSIS: The baseline persistence model yielded an RMSE of 56.494. The MLP model processed the same test data with an RMSE of 41.415, which was better than the baseline model as expected. In an earlier ARIMA modeling experiment, the best ARIMA model with non-seasonal order of (1, 1, 1) and seasonal order of (1, 0, 1, 12) processed the validation data with an RMSE of 34.639.\n",
        "\n",
        "CONCLUSION: For this dataset, the TensorFlow MLP model achieved an acceptable result, and we should consider using TensorFlow for further modeling.\n",
        "\n",
        "Dataset Used: Monthly basic iron production in Australia from January 1956 through August 1995\n",
        "\n",
        "Dataset ML Model: Time series forecast with numerical attribute\n",
        "\n",
        "Dataset Reference: Rob Hyndman and Yangzhuoran Yang (2018). tsdl: Time Series Data Library. v0.1.0. https://pkg.yangzhuoranyang./tsdl/."
      ]
    },
    {
      "cell_type": "markdown",
      "metadata": {
        "id": "RFArbqQfmNdb"
      },
      "source": [
        "## Task 1 - Define Problem and Acquire Data"
      ]
    },
    {
      "cell_type": "code",
      "execution_count": 1,
      "metadata": {
        "id": "JgO3qCVqmNdc",
        "outputId": "d196e222-56a4-4f74-cf2c-69d4c8bfa4b1",
        "colab": {
          "base_uri": "https://localhost:8080/"
        }
      },
      "outputs": [
        {
          "output_type": "stream",
          "name": "stdout",
          "text": [
            "The number of available CPUs is: 2\n"
          ]
        }
      ],
      "source": [
        "# Retrieve the CPU information\n",
        "ncpu = !nproc\n",
        "print(\"The number of available CPUs is:\", ncpu[0])"
      ]
    },
    {
      "cell_type": "code",
      "execution_count": 2,
      "metadata": {
        "id": "xp6nuYTNmNdd",
        "outputId": "daeb49f1-e491-4f1a-bb4a-6221347d139f",
        "colab": {
          "base_uri": "https://localhost:8080/"
        }
      },
      "outputs": [
        {
          "output_type": "stream",
          "name": "stdout",
          "text": [
            "Your runtime has 13.6 gigabytes of available RAM\n",
            "\n"
          ]
        }
      ],
      "source": [
        "# Retrieve memory configuration information\n",
        "from psutil import virtual_memory\n",
        "ram_gb = virtual_memory().total / 1e9\n",
        "print('Your runtime has {:.1f} gigabytes of available RAM\\n'.format(ram_gb))"
      ]
    },
    {
      "cell_type": "code",
      "execution_count": 3,
      "metadata": {
        "id": "q7GF0yh4mNdd",
        "outputId": "e0a53f7d-31f3-4ba9-cf95-3c06acc50ced",
        "colab": {
          "base_uri": "https://localhost:8080/"
        }
      },
      "outputs": [
        {
          "output_type": "stream",
          "name": "stdout",
          "text": [
            "Wed Mar 30 20:42:24 2022       \n",
            "+-----------------------------------------------------------------------------+\n",
            "| NVIDIA-SMI 460.32.03    Driver Version: 460.32.03    CUDA Version: 11.2     |\n",
            "|-------------------------------+----------------------+----------------------+\n",
            "| GPU  Name        Persistence-M| Bus-Id        Disp.A | Volatile Uncorr. ECC |\n",
            "| Fan  Temp  Perf  Pwr:Usage/Cap|         Memory-Usage | GPU-Util  Compute M. |\n",
            "|                               |                      |               MIG M. |\n",
            "|===============================+======================+======================|\n",
            "|   0  Tesla V100-SXM2...  Off  | 00000000:00:04.0 Off |                    0 |\n",
            "| N/A   34C    P0    26W / 300W |      0MiB / 16160MiB |      0%      Default |\n",
            "|                               |                      |                  N/A |\n",
            "+-------------------------------+----------------------+----------------------+\n",
            "                                                                               \n",
            "+-----------------------------------------------------------------------------+\n",
            "| Processes:                                                                  |\n",
            "|  GPU   GI   CI        PID   Type   Process name                  GPU Memory |\n",
            "|        ID   ID                                                   Usage      |\n",
            "|=============================================================================|\n",
            "|  No running processes found                                                 |\n",
            "+-----------------------------------------------------------------------------+\n"
          ]
        }
      ],
      "source": [
        "# Retrieve the GPU information\n",
        "gpu_info = !nvidia-smi\n",
        "gpu_info = '\\n'.join(gpu_info)\n",
        "print(gpu_info)"
      ]
    },
    {
      "cell_type": "markdown",
      "metadata": {
        "id": "sVQ0F8SgmNdd"
      },
      "source": [
        "### 1.a) Load Libraries"
      ]
    },
    {
      "cell_type": "code",
      "execution_count": 4,
      "metadata": {
        "id": "2jL4WN__mNde"
      },
      "outputs": [],
      "source": [
        "# Create the random seed number for reproducible results\n",
        "RNG_SEED = 888"
      ]
    },
    {
      "cell_type": "code",
      "execution_count": 5,
      "metadata": {
        "id": "TLooWS4zmNde"
      },
      "outputs": [],
      "source": [
        "import random\n",
        "import numpy as np\n",
        "import tensorflow as tf\n",
        "random.seed(RNG_SEED)\n",
        "np.random.seed(RNG_SEED)\n",
        "tf.random.set_seed(RNG_SEED)\n",
        "\n",
        "import pandas as pd\n",
        "import seaborn as sns\n",
        "import matplotlib.pyplot as plt\n",
        "import os\n",
        "import sys\n",
        "import math\n",
        "# import boto3\n",
        "from datetime import datetime\n",
        "from sklearn.metrics import mean_squared_error"
      ]
    },
    {
      "cell_type": "markdown",
      "metadata": {
        "id": "Phie8OQLmNdf"
      },
      "source": [
        "### 1.b) Set up the controlling parameters and functions"
      ]
    },
    {
      "cell_type": "code",
      "execution_count": 6,
      "metadata": {
        "id": "o5yHVfd7mNdf"
      },
      "outputs": [],
      "source": [
        "# Begin the timer for the script processing\n",
        "START_TIME_SCRIPT = datetime.now()\n",
        "\n",
        "# Set up the number of CPU cores available for multi-thread processing\n",
        "N_JOBS = 1\n",
        "\n",
        "# Set up the flag to stop sending progress emails (setting to True will send status emails!)\n",
        "NOTIFY_STATUS = False\n",
        "\n",
        "# Set various default modeling parameters\n",
        "DEFAULT_LOSS = 'mean_squared_error'\n",
        "DEFAULT_METRICS = [tf.keras.metrics.RootMeanSquaredError(name='rmse')]\n",
        "DEFAULT_OPTIMIZER = tf.keras.optimizers.Adam(learning_rate=0.001)\n",
        "DEFAULT_INITIALIZER = tf.keras.initializers.RandomNormal(seed=RNG_SEED)\n",
        "MAX_EPOCHS = 20\n",
        "BATCH_SIZE = 16\n",
        "SLIDING_WINDOW = 5"
      ]
    },
    {
      "cell_type": "code",
      "execution_count": 7,
      "metadata": {
        "id": "7iHutUoSmNdg"
      },
      "outputs": [],
      "source": [
        "# Set up the email notification function\n",
        "def status_notify(msg_text):\n",
        "    access_key = os.environ.get('SNS_ACCESS_KEY')\n",
        "    secret_key = os.environ.get('SNS_SECRET_KEY')\n",
        "    aws_region = os.environ.get('SNS_AWS_REGION')\n",
        "    topic_arn = os.environ.get('SNS_TOPIC_ARN')\n",
        "    if (access_key is None) or (secret_key is None) or (aws_region is None):\n",
        "        sys.exit(\"Incomplete notification setup info. Script Processing Aborted!!!\")\n",
        "    sns = boto3.client('sns', aws_access_key_id=access_key, aws_secret_access_key=secret_key, region_name=aws_region)\n",
        "    response = sns.publish(TopicArn=topic_arn, Message=msg_text)\n",
        "    if response['ResponseMetadata']['HTTPStatusCode'] != 200 :\n",
        "        print('Status notification not OK with HTTP status code:', response['ResponseMetadata']['HTTPStatusCode'])"
      ]
    },
    {
      "cell_type": "code",
      "execution_count": 8,
      "metadata": {
        "id": "w4s5vaCcmNdg"
      },
      "outputs": [],
      "source": [
        "if NOTIFY_STATUS: status_notify(\"TensorFlow Time Series Task 1 - Define Problem and Acquire Data has begun! \" + datetime.now().strftime('%a %B %d, %Y %I:%M:%S %p'))"
      ]
    },
    {
      "cell_type": "markdown",
      "metadata": {
        "id": "AX8sm65xmNdg"
      },
      "source": [
        "### 1.c) Acquire and Load the Data"
      ]
    },
    {
      "cell_type": "code",
      "execution_count": 9,
      "metadata": {
        "id": "I2lUXEZGmNdg"
      },
      "outputs": [],
      "source": [
        "# load the dataset and the necessary data structure\n",
        "time_series = pd.read_csv('https://dainesanalytics.com/datasets/time-series-data-library/tsdl096.csv', index_col='idx', parse_dates=True)\n",
        "\n",
        "# Load the dataset from the Federal Reserve Bank's FRED Database\n",
        "# starting = datetime(1990, 1, 1)\n",
        "# ending = datetime.now()\n",
        "# fred_data = 'SMU06000007072251101'\n",
        "# time_series = web.DataReader(fred_data, 'fred', starting, ending)\n",
        "# time_series.rename(columns={fred_data: 'value'}, inplace=True)\n",
        "\n",
        "# Sample code for subsetting the time-series data\n",
        "# time_series = original_series['1986':'1990']"
      ]
    },
    {
      "cell_type": "code",
      "execution_count": 10,
      "metadata": {
        "id": "doFh3-sAmNdh",
        "outputId": "1d08abc4-e09f-4fe9-cb66-c453e042f25b",
        "colab": {
          "base_uri": "https://localhost:8080/"
        }
      },
      "outputs": [
        {
          "output_type": "stream",
          "name": "stdout",
          "text": [
            "The target column of the time series is: values\n",
            "The forecast boundary columns are: lower values & upper values\n"
          ]
        }
      ],
      "source": [
        "target_col = time_series.columns[0]\n",
        "lower_bound = 'lower ' + target_col\n",
        "upper_bound = 'upper ' + target_col\n",
        "print('The target column of the time series is:', target_col)\n",
        "print('The forecast boundary columns are:', lower_bound, '&', upper_bound)"
      ]
    },
    {
      "cell_type": "code",
      "execution_count": 11,
      "metadata": {
        "id": "ZHV9EqjQmNdh",
        "outputId": "a6aedcb7-0263-499f-827e-f71864bfee86",
        "colab": {
          "base_uri": "https://localhost:8080/"
        }
      },
      "outputs": [
        {
          "output_type": "stream",
          "name": "stdout",
          "text": [
            "<class 'pandas.core.frame.DataFrame'>\n",
            "DatetimeIndex: 476 entries, 1956-01-01 to 1995-08-01\n",
            "Data columns (total 1 columns):\n",
            " #   Column  Non-Null Count  Dtype\n",
            "---  ------  --------------  -----\n",
            " 0   values  476 non-null    int64\n",
            "dtypes: int64(1)\n",
            "memory usage: 7.4 KB\n"
          ]
        }
      ],
      "source": [
        "time_series.info(verbose=True)"
      ]
    },
    {
      "cell_type": "code",
      "execution_count": 12,
      "metadata": {
        "id": "qBGA33SQmNdh",
        "outputId": "3bce40f9-f47d-483b-b2ff-b1e36d07c6b2",
        "colab": {
          "base_uri": "https://localhost:8080/"
        }
      },
      "outputs": [
        {
          "output_type": "stream",
          "name": "stdout",
          "text": [
            "            values\n",
            "idx               \n",
            "1956-01-01     172\n",
            "1956-02-01     166\n",
            "1956-03-01     175\n",
            "1956-04-01     171\n",
            "1956-05-01     184\n"
          ]
        }
      ],
      "source": [
        "print(time_series.head())"
      ]
    },
    {
      "cell_type": "code",
      "execution_count": 13,
      "metadata": {
        "id": "Vjc_SbDXmNdh",
        "outputId": "a7233463-d55c-4ef8-a3ec-8da2c9631b7d",
        "colab": {
          "base_uri": "https://localhost:8080/"
        }
      },
      "outputs": [
        {
          "output_type": "stream",
          "name": "stdout",
          "text": [
            "            values\n",
            "idx               \n",
            "1995-04-01     605\n",
            "1995-05-01     619\n",
            "1995-06-01     595\n",
            "1995-07-01     625\n",
            "1995-08-01     657\n"
          ]
        }
      ],
      "source": [
        "print(time_series.tail())"
      ]
    },
    {
      "cell_type": "code",
      "execution_count": 14,
      "metadata": {
        "id": "jg9D1sQkmNdh"
      },
      "outputs": [],
      "source": [
        "if NOTIFY_STATUS: status_notify(\"TensorFlow Time Series Task 1 - Define Problem and Acquire Data completed! \" + datetime.now().strftime('%a %B %d, %Y %I:%M:%S %p'))"
      ]
    },
    {
      "cell_type": "markdown",
      "metadata": {
        "id": "492S94qSmNdi"
      },
      "source": [
        "## Task 2: Summarize and Visualize Data"
      ]
    },
    {
      "cell_type": "code",
      "execution_count": 15,
      "metadata": {
        "id": "47qr21uYmNdi"
      },
      "outputs": [],
      "source": [
        "if NOTIFY_STATUS: status_notify(\"TensorFlow Time Series Task 2 - Summarize and Visualize Data has begun! \" + datetime.now().strftime('%a %B %d, %Y %I:%M:%S %p'))"
      ]
    },
    {
      "cell_type": "markdown",
      "metadata": {
        "id": "lcpaRX9FmNdi"
      },
      "source": [
        "### 2.a) Summary Statistics of the Time Series Data"
      ]
    },
    {
      "cell_type": "code",
      "execution_count": 16,
      "metadata": {
        "id": "ImaAxicLmNdi",
        "outputId": "a84591d6-a690-4c8d-eed7-f6e1e78b09ad",
        "colab": {
          "base_uri": "https://localhost:8080/"
        }
      },
      "outputs": [
        {
          "output_type": "stream",
          "name": "stdout",
          "text": [
            "           values\n",
            "count  476.000000\n",
            "mean   460.313025\n",
            "std    142.790921\n",
            "min    154.000000\n",
            "25%    363.250000\n",
            "50%    489.500000\n",
            "75%    567.000000\n",
            "max    711.000000\n"
          ]
        }
      ],
      "source": [
        "# Summary statistics of time series\n",
        "print(time_series.describe())"
      ]
    },
    {
      "cell_type": "markdown",
      "metadata": {
        "id": "oTrf_RhAmNdi"
      },
      "source": [
        "### 2.b) Line Plot of the Time Series Data"
      ]
    },
    {
      "cell_type": "code",
      "execution_count": 17,
      "metadata": {
        "id": "1eZrYkRLmNdi",
        "outputId": "a3f8972c-1303-44cb-a4c1-bf7c158c7089",
        "colab": {
          "base_uri": "https://localhost:8080/",
          "height": 616
        }
      },
      "outputs": [
        {
          "output_type": "display_data",
          "data": {
            "text/plain": [
              "<Figure size 864x648 with 1 Axes>"
            ],
            "image/png": "[encoded data removed]"
          },
          "metadata": {
            "needs_background": "light"
          }
        }
      ],
      "source": [
        "# Line plots of time series\n",
        "fig, ax = plt.subplots(figsize=(12,9))\n",
        "fig.suptitle('Line Plot of the Time Series Data')\n",
        "time_series.plot(ax=ax)\n",
        "plt.show()"
      ]
    },
    {
      "cell_type": "markdown",
      "metadata": {
        "id": "xoEzQPPjmNdj"
      },
      "source": [
        "### 2.c) Histogram and Density Plots of the Time Series Data"
      ]
    },
    {
      "cell_type": "code",
      "execution_count": 18,
      "metadata": {
        "id": "QOoUo4NdmNdj",
        "outputId": "72dd3339-52c4-421a-af3e-b7d559eee29f",
        "colab": {
          "base_uri": "https://localhost:8080/",
          "height": 602
        }
      },
      "outputs": [
        {
          "output_type": "display_data",
          "data": {
            "text/plain": [
              "<Figure size 864x648 with 1 Axes>"
            ],
            "image/png": "[encoded data removed]"
          },
          "metadata": {
            "needs_background": "light"
          }
        }
      ],
      "source": [
        "# Line plots of time series\n",
        "fig, ax = plt.subplots(figsize=(12,9))\n",
        "fig.suptitle('Histogram of the Time Series Data')\n",
        "time_series.hist(ax=ax)\n",
        "plt.show()"
      ]
    },
    {
      "cell_type": "code",
      "execution_count": 19,
      "metadata": {
        "id": "phsChUjgmNdj",
        "outputId": "3292b0d9-8c8e-4bbf-fc74-e74c17b55b2d",
        "colab": {
          "base_uri": "https://localhost:8080/",
          "height": 602
        }
      },
      "outputs": [
        {
          "output_type": "display_data",
          "data": {
            "text/plain": [
              "<Figure size 864x648 with 1 Axes>"
            ],
            "image/png": "[encoded data removed]"
          },
          "metadata": {
            "needs_background": "light"
          }
        }
      ],
      "source": [
        "# Line plots of time series\n",
        "fig, ax = plt.subplots(figsize=(12,9))\n",
        "fig.suptitle('Density Plot of the Time Series Data')\n",
        "time_series.plot(kind='kde', ax=ax)\n",
        "plt.show()"
      ]
    },
    {
      "cell_type": "markdown",
      "metadata": {
        "id": "QpUcUKhsmNdj"
      },
      "source": [
        "### 2.d) Box and Whisker Plots of the Time Series Data"
      ]
    },
    {
      "cell_type": "code",
      "execution_count": 20,
      "metadata": {
        "id": "lmUgagrYmNdj",
        "outputId": "394351e9-fcd8-4cda-a154-29923f0b7260",
        "colab": {
          "base_uri": "https://localhost:8080/",
          "height": 616
        }
      },
      "outputs": [
        {
          "output_type": "display_data",
          "data": {
            "text/plain": [
              "<Figure size 864x648 with 1 Axes>"
            ],
            "image/png": "[encoded data removed]"
          },
          "metadata": {
            "needs_background": "light"
          }
        }
      ],
      "source": [
        "# boxplots of time series\n",
        "fig, ax = plt.subplots(figsize=(12,9))\n",
        "fig.suptitle('Box and Whisker Plots of the Time Series Data')\n",
        "squeezed = time_series.squeeze()\n",
        "sns.boxplot(x=squeezed.index.year, y=squeezed, ax=ax)\n",
        "plt.show()"
      ]
    },
    {
      "cell_type": "code",
      "execution_count": 21,
      "metadata": {
        "id": "i9A5OSvlmNdj"
      },
      "outputs": [],
      "source": [
        "if NOTIFY_STATUS: status_notify(\"TensorFlow Time Series Task 2 - Summarize and Visualize Data completed! \" + datetime.now().strftime('%a %B %d, %Y %I:%M:%S %p'))"
      ]
    },
    {
      "cell_type": "markdown",
      "metadata": {
        "id": "-zSUTWpGmNdj"
      },
      "source": [
        "## Task 3: Pre-Process Data"
      ]
    },
    {
      "cell_type": "code",
      "execution_count": 22,
      "metadata": {
        "id": "rwqkQ3kImNdj"
      },
      "outputs": [],
      "source": [
        "if NOTIFY_STATUS: status_notify(\"TensorFlow Time Series Task 3 - Pre-Process Data has begun! \" + datetime.now().strftime('%a %B %d, %Y %I:%M:%S %p'))"
      ]
    },
    {
      "cell_type": "code",
      "execution_count": 23,
      "metadata": {
        "id": "KXpK3n0jmNdj"
      },
      "outputs": [],
      "source": [
        "# Resampling the time series into monthly average for the ease of modeling\n",
        "# original_series = time_series\n",
        "# resample = original_series.resample('M')\n",
        "# time_series = resample.mean()\n",
        "# time_series.head(10)"
      ]
    },
    {
      "cell_type": "code",
      "execution_count": 24,
      "metadata": {
        "id": "O17gosqdmNdk",
        "outputId": "c7783c6e-abd1-48aa-d32c-3a3b8650feeb",
        "colab": {
          "base_uri": "https://localhost:8080/"
        }
      },
      "outputs": [
        {
          "output_type": "stream",
          "name": "stdout",
          "text": [
            "Number of data points in the training set: 380\n",
            "Number of data points in the test set: 96\n"
          ]
        }
      ],
      "source": [
        "# Split the data into training and test sets\n",
        "data = time_series.values\n",
        "data = data.astype('float32')\n",
        "n_test = 96\n",
        "n_train = len(data) - n_test\n",
        "train_ts, test_ts = data[0:n_train], data[n_train:]\n",
        "print('Number of data points in the training set:', n_train)\n",
        "print('Number of data points in the test set:', n_test)"
      ]
    },
    {
      "cell_type": "code",
      "execution_count": 25,
      "metadata": {
        "id": "TRbABWpHmNdk"
      },
      "outputs": [],
      "source": [
        "if NOTIFY_STATUS: status_notify(\"TensorFlow Time Series Task 3 - Pre-Process Data completed! \" + datetime.now().strftime('%a %B %d, %Y %I:%M:%S %p'))"
      ]
    },
    {
      "cell_type": "markdown",
      "metadata": {
        "id": "FMQnKb1xmNdk"
      },
      "source": [
        "## Task 4: Train and Tune Models"
      ]
    },
    {
      "cell_type": "code",
      "execution_count": 26,
      "metadata": {
        "id": "oWi2kyROmNdk"
      },
      "outputs": [],
      "source": [
        "if NOTIFY_STATUS: status_notify(\"TensorFlow Time Series Task 4 - Train and Tune Models has begun! \" + datetime.now().strftime('%a %B %d, %Y %I:%M:%S %p'))"
      ]
    },
    {
      "cell_type": "markdown",
      "metadata": {
        "id": "_zpu32lKmNdk"
      },
      "source": [
        "### 4.a) Set up the Common Helper Functions"
      ]
    },
    {
      "cell_type": "code",
      "execution_count": 27,
      "metadata": {
        "id": "vQV68Zg0mNdk"
      },
      "outputs": [],
      "source": [
        "# split a univariate dataset into train/test sets\n",
        "def train_test_split(data, n_test):\n",
        "    return data[:-n_test], data[-n_test:]\n",
        "\n",
        "# transform list into supervised learning format\n",
        "def series_to_supervised(data, n_in=1, n_out=1):\n",
        "    df = pd.DataFrame(data)\n",
        "    cols = list()\n",
        "    # input sequence (t-n, ... t-1)\n",
        "    for i in range(n_in, 0, -1):\n",
        "        cols.append(df.shift(i))\n",
        "    # forecast sequence (t, t+1, ... t+n)\n",
        "    for i in range(0, n_out):\n",
        "        cols.append(df.shift(-i))\n",
        "    # put it all together\n",
        "    agg = pd.concat(cols, axis=1)\n",
        "    # drop rows with NaN values\n",
        "    agg.dropna(inplace=True)\n",
        "    return agg.values\n",
        "\n",
        "# root mean squared error or rmse\n",
        "def measure_rmse(actual, predicted):\n",
        "    return math.sqrt(mean_squared_error(actual, predicted))\n",
        "\n",
        "# difference dataset\n",
        "def difference(data, interval):\n",
        "    return [data[i] - data[i - interval] for i in range(interval, len(data))]\n",
        "\n",
        "# walk-forward validation for univariate data\n",
        "def walk_forward_validation(data, n_test, cfg):\n",
        "    predictions = list()\n",
        "    # split dataset\n",
        "    train, test = train_test_split(data, n_test)\n",
        "    # fit model\n",
        "    model = model_fit(train, cfg)\n",
        "    # seed history with training dataset\n",
        "    history = [x for x in train]\n",
        "    # step over each time-step in the test set\n",
        "    for i in range(len(test)):\n",
        "        # fit model and make forecast for history\n",
        "        yhat = model_predict(model, history, cfg)\n",
        "        # store forecast in list of predictions\n",
        "        predictions.append(yhat)\n",
        "        # add actual observation to history for the next loop\n",
        "        history.append(test[i])\n",
        "    # estimate prediction error\n",
        "    error = measure_rmse(test, predictions)\n",
        "    print(' > %.3f' % error)\n",
        "    return error\n",
        "\n",
        "# repeat evaluation of a config\n",
        "def repeat_evaluate(data, config, n_test, n_repeats=30):\n",
        "    # fit and evaluate the model n times\n",
        "    scores = [walk_forward_validation(data, n_test, config) for _ in range(n_repeats)]\n",
        "    return scores\n",
        "\n",
        "# summarize model performance\n",
        "def summarize_scores(name, scores):\n",
        "    # print a summary\n",
        "    scores_m, score_std = np.mean(scores), np.std(scores)\n",
        "    print('%s: %.3f RMSE (+/- %.3f)' % (name, scores_m, score_std))\n",
        "    # box and whisker plot\n",
        "    plt.boxplot(scores)\n",
        "    plt.show()"
      ]
    },
    {
      "cell_type": "markdown",
      "metadata": {
        "id": "G5d5KMdYmNdk"
      },
      "source": [
        "### 4.b) Simple Persistent Modeling as a Baseline"
      ]
    },
    {
      "cell_type": "code",
      "execution_count": 28,
      "metadata": {
        "id": "Evp7o6iemNdk"
      },
      "outputs": [],
      "source": [
        "# fit a model\n",
        "def model_fit(train, config):\n",
        "    return None"
      ]
    },
    {
      "cell_type": "code",
      "execution_count": 29,
      "metadata": {
        "id": "v1jFIxzqmNdl"
      },
      "outputs": [],
      "source": [
        "# forecast with a pre-fit model\n",
        "def model_predict(model, history, config):\n",
        "    values = list()\n",
        "    for offset in config:\n",
        "        values.append(history[-offset])\n",
        "    return np.median(values)"
      ]
    },
    {
      "cell_type": "code",
      "execution_count": 30,
      "metadata": {
        "id": "JJR3mjT-mNdl",
        "outputId": "f7e6b215-ae56-4764-b231-009e6b7fb31c",
        "colab": {
          "base_uri": "https://localhost:8080/"
        }
      },
      "outputs": [
        {
          "output_type": "stream",
          "name": "stdout",
          "text": [
            " > 56.494\n",
            " > 56.494\n",
            " > 56.494\n",
            " > 56.494\n",
            " > 56.494\n",
            " > 56.494\n",
            " > 56.494\n",
            " > 56.494\n",
            " > 56.494\n",
            " > 56.494\n",
            " > 56.494\n",
            " > 56.494\n",
            " > 56.494\n",
            " > 56.494\n",
            " > 56.494\n",
            " > 56.494\n",
            " > 56.494\n",
            " > 56.494\n",
            " > 56.494\n",
            " > 56.494\n",
            " > 56.494\n",
            " > 56.494\n",
            " > 56.494\n",
            " > 56.494\n",
            " > 56.494\n",
            " > 56.494\n",
            " > 56.494\n",
            " > 56.494\n",
            " > 56.494\n",
            " > 56.494\n"
          ]
        }
      ],
      "source": [
        "# define config\n",
        "config = [12, 24, 36]\n",
        "# grid search\n",
        "persistent_scores = repeat_evaluate(data, config, n_test)"
      ]
    },
    {
      "cell_type": "code",
      "execution_count": 31,
      "metadata": {
        "id": "c6lkfWPWmNdl",
        "outputId": "944312bd-98e3-4a7f-d311-3dd430c65937",
        "colab": {
          "base_uri": "https://localhost:8080/",
          "height": 283
        }
      },
      "outputs": [
        {
          "output_type": "stream",
          "name": "stdout",
          "text": [
            "Persistence Model: 56.494 RMSE (+/- 0.000)\n"
          ]
        },
        {
          "output_type": "display_data",
          "data": {
            "text/plain": [
              "<Figure size 432x288 with 1 Axes>"
            ],
            "image/png": "[encoded data removed]"
          },
          "metadata": {
            "needs_background": "light"
          }
        }
      ],
      "source": [
        "# summarize scores\n",
        "summarize_scores('Persistence Model', persistent_scores)"
      ]
    },
    {
      "cell_type": "markdown",
      "metadata": {
        "id": "CSTT0kG9mNdl"
      },
      "source": [
        "### 4.c) MLP Modeling and Tuning"
      ]
    },
    {
      "cell_type": "code",
      "source": [
        "# fit a model\n",
        "def model_fit(train, config):\n",
        "    # unpack config\n",
        "    n_input, n_nodes, n_epochs, n_batch = config\n",
        "    # prepare data\n",
        "    data = series_to_supervised(train, n_in=n_input)\n",
        "    train_x, train_y = data[:, :-1], data[:, -1]\n",
        "    # define model\n",
        "    model = tf.keras.Sequential()\n",
        "    model.add(tf.keras.layers.Dense(n_nodes, activation='relu', input_dim=n_input))\n",
        "    model.add(tf.keras.layers.Dense(1))\n",
        "    model.compile(loss='mse', optimizer='adam')\n",
        "    # fit\n",
        "    model.fit(train_x, train_y, epochs=n_epochs, batch_size=n_batch, verbose=0)\n",
        "    return model"
      ],
      "metadata": {
        "id": "sL9gVXsO-orO"
      },
      "execution_count": 32,
      "outputs": []
    },
    {
      "cell_type": "code",
      "source": [
        "# forecast with a pre-fit model\n",
        "def model_predict(model, history, config):\n",
        "    # unpack config\n",
        "    n_input, _, _, _ = config\n",
        "    # prepare data\n",
        "    x_input = np.array(history[-n_input:]).reshape(1, n_input)\n",
        "    # forecast\n",
        "    yhat = model.predict(x_input, verbose=0)\n",
        "    return yhat[0]"
      ],
      "metadata": {
        "id": "QBGgc46d-8ex"
      },
      "execution_count": 33,
      "outputs": []
    },
    {
      "cell_type": "code",
      "source": [
        "# define config\n",
        "config = [24, 512, 100, 72]\n",
        "# grid search\n",
        "mlp_scores = repeat_evaluate(data, config, n_test)"
      ],
      "metadata": {
        "colab": {
          "base_uri": "https://localhost:8080/"
        },
        "id": "Z_7fvC4W-9Dy",
        "outputId": "c93a6e0f-59bd-4a1c-898d-9f434214c709"
      },
      "execution_count": 34,
      "outputs": [
        {
          "output_type": "stream",
          "name": "stdout",
          "text": [
            " > 41.498\n",
            " > 39.331\n",
            " > 41.911\n",
            " > 42.478\n",
            " > 39.922\n",
            " > 42.617\n",
            " > 42.029\n",
            " > 41.727\n",
            " > 41.991\n",
            " > 41.644\n",
            " > 40.513\n",
            " > 41.906\n",
            " > 41.470\n",
            " > 44.110\n",
            " > 41.312\n",
            " > 38.696\n",
            " > 40.781\n",
            " > 39.014\n",
            " > 41.193\n",
            " > 40.492\n",
            " > 41.359\n",
            " > 40.587\n",
            " > 43.974\n",
            " > 40.937\n",
            " > 41.220\n",
            " > 41.374\n",
            " > 41.202\n",
            " > 42.205\n",
            " > 43.719\n",
            " > 41.227\n"
          ]
        }
      ]
    },
    {
      "cell_type": "code",
      "source": [
        "# summarize scores\n",
        "summarize_scores('MLP Model', mlp_scores)"
      ],
      "metadata": {
        "colab": {
          "base_uri": "https://localhost:8080/",
          "height": 283
        },
        "id": "UHigutUI_fCH",
        "outputId": "f8ac5750-ff64-4a75-d630-6cebb6adf5b2"
      },
      "execution_count": 35,
      "outputs": [
        {
          "output_type": "stream",
          "name": "stdout",
          "text": [
            "MLP Model: 41.415 RMSE (+/- 1.246)\n"
          ]
        },
        {
          "output_type": "display_data",
          "data": {
            "text/plain": [
              "<Figure size 432x288 with 1 Axes>"
            ],
            "image/png": "[encoded data removed]"
          },
          "metadata": {
            "needs_background": "light"
          }
        }
      ]
    },
    {
      "cell_type": "markdown",
      "metadata": {
        "id": "gIRgU6C1-jHw"
      },
      "source": [
        "### 4.d) CNN Modeling and Tuning"
      ]
    },
    {
      "cell_type": "code",
      "execution_count": 36,
      "metadata": {
        "id": "R24vd4DUmNdl"
      },
      "outputs": [],
      "source": [
        "# fit a model\n",
        "def model_fit(train, config):\n",
        "    # unpack config\n",
        "    n_input, n_filters, n_kernel, n_epochs, n_batch = config\n",
        "    # prepare data\n",
        "    data = series_to_supervised(train, n_in=n_input)\n",
        "    train_x, train_y = data[:, :-1], data[:, -1]\n",
        "    train_x = train_x.reshape((train_x.shape[0], train_x.shape[1], 1))\n",
        "    # define model\n",
        "    model = tf.keras.Sequential()\n",
        "    model.add(tf.keras.layers.Conv1D(filters=n_filters, kernel_size=n_kernel, activation='relu', input_shape=(n_input, 1)))\n",
        "    model.add(tf.keras.layers.Conv1D(filters=n_filters, kernel_size=n_kernel, activation='relu'))\n",
        "    model.add(tf.keras.layers.MaxPool1D(pool_size=2))\n",
        "    model.add(tf.keras.layers.Flatten())\n",
        "    model.add(tf.keras.layers.Dense(1))\n",
        "    model.compile(loss=DEFAULT_LOSS, optimizer=DEFAULT_OPTIMIZER)\n",
        "    # fit\n",
        "    model.fit(train_x, train_y, epochs=n_epochs, batch_size=n_batch, verbose=0)\n",
        "    return model"
      ]
    },
    {
      "cell_type": "code",
      "execution_count": 37,
      "metadata": {
        "id": "BPEbOfy_mNdl"
      },
      "outputs": [],
      "source": [
        "# forecast with a pre-fit model\n",
        "def model_predict(model, history, config):\n",
        "    # unpack config\n",
        "    n_input, _, _, _, _ = config\n",
        "    # prepare data\n",
        "    x_input = np.array(history[-n_input:]).reshape((1, n_input, 1))\n",
        "    # forecast\n",
        "    yhat = model.predict(x_input, verbose=0)\n",
        "    return yhat[0]"
      ]
    },
    {
      "cell_type": "code",
      "execution_count": 38,
      "metadata": {
        "id": "KufOR6NEmNdl",
        "outputId": "fe0bf94b-9968-4b49-9bae-4192bd431443",
        "colab": {
          "base_uri": "https://localhost:8080/"
        }
      },
      "outputs": [
        {
          "output_type": "stream",
          "name": "stdout",
          "text": [
            " > 44.626\n",
            " > 50.300\n",
            " > 46.276\n",
            " > 45.194\n",
            " > 50.290\n",
            " > 48.366\n",
            " > 45.308\n",
            " > 47.470\n",
            " > 51.660\n",
            " > 49.854\n",
            " > 49.991\n",
            " > 50.127\n",
            " > 45.894\n",
            " > 47.761\n",
            " > 49.943\n",
            " > 48.632\n",
            " > 46.215\n",
            " > 50.272\n",
            " > 46.511\n",
            " > 45.073\n",
            " > 46.416\n",
            " > 43.589\n",
            " > 45.644\n",
            " > 46.692\n",
            " > 49.387\n",
            " > 46.738\n",
            " > 50.831\n",
            " > 51.159\n",
            " > 44.620\n",
            " > 47.983\n"
          ]
        }
      ],
      "source": [
        "# define config\n",
        "config = [36, 256, 3, 100, 72]\n",
        "# grid search\n",
        "cnn_scores = repeat_evaluate(data, config, n_test)"
      ]
    },
    {
      "cell_type": "code",
      "execution_count": 39,
      "metadata": {
        "id": "-8yBQ96HmNdl",
        "outputId": "0f148f0a-caaf-4b49-9085-3b590171d57c",
        "colab": {
          "base_uri": "https://localhost:8080/",
          "height": 285
        }
      },
      "outputs": [
        {
          "output_type": "stream",
          "name": "stdout",
          "text": [
            "CNN Model: 47.761 RMSE (+/- 2.266)\n"
          ]
        },
        {
          "output_type": "display_data",
          "data": {
            "text/plain": [
              "<Figure size 432x288 with 1 Axes>"
            ],
            "image/png": "[encoded data removed]"
          },
          "metadata": {
            "needs_background": "light"
          }
        }
      ],
      "source": [
        "# summarize scores\n",
        "summarize_scores('CNN Model', cnn_scores)"
      ]
    },
    {
      "cell_type": "markdown",
      "metadata": {
        "id": "Go4mM3v0mNdl"
      },
      "source": [
        "### 4.e) LSTM Modeling and Tuning"
      ]
    },
    {
      "cell_type": "code",
      "execution_count": 40,
      "metadata": {
        "id": "dqiwmgVRmNdm"
      },
      "outputs": [],
      "source": [
        "# fit a model\n",
        "def model_fit(train, config):\n",
        "    # unpack config\n",
        "    n_input, n_nodes, n_epochs, n_batch, n_diff = config\n",
        "    # prepare data\n",
        "    if n_diff > 0:\n",
        "        train = difference(train, n_diff)\n",
        "    data = series_to_supervised(train, n_in=n_input)\n",
        "    train_x, train_y = data[:, :-1], data[:, -1]\n",
        "    train_x = train_x.reshape((train_x.shape[0], train_x.shape[1], 1))\n",
        "    # define model\n",
        "    model = tf.keras.Sequential()\n",
        "    model.add(tf.keras.layers.LSTM(n_nodes, activation='relu', input_shape=(n_input, 1)))\n",
        "    model.add(tf.keras.layers.Dense(n_nodes, activation='relu'))\n",
        "    model.add(tf.keras.layers.Dense(1))\n",
        "    model.compile(loss=DEFAULT_LOSS, optimizer=DEFAULT_OPTIMIZER)\n",
        "    # fit\n",
        "    model.fit(train_x, train_y, epochs=n_epochs, batch_size=n_batch, verbose=0)\n",
        "    return model"
      ]
    },
    {
      "cell_type": "code",
      "execution_count": 41,
      "metadata": {
        "id": "XfmB9q0TmNdm"
      },
      "outputs": [],
      "source": [
        "# forecast with a pre-fit model\n",
        "def model_predict(model, history, config):\n",
        "    # unpack config\n",
        "    n_input, _, _, _, n_diff = config\n",
        "    # prepare data\n",
        "    correction = 0.0\n",
        "    if n_diff > 0:\n",
        "        correction = history[-n_diff]\n",
        "        history = difference(history, n_diff)\n",
        "    x_input = np.array(history[-n_input:]).reshape((1, n_input, 1))\n",
        "    # forecast\n",
        "    yhat = model.predict(x_input, verbose=0)\n",
        "    return correction + yhat[0]"
      ]
    },
    {
      "cell_type": "code",
      "execution_count": 42,
      "metadata": {
        "id": "X3KJn4DYmNdm",
        "outputId": "f1d9064c-439e-465d-f216-79ecc07a7c8d",
        "colab": {
          "base_uri": "https://localhost:8080/"
        }
      },
      "outputs": [
        {
          "output_type": "stream",
          "name": "stdout",
          "text": [
            "WARNING:tensorflow:Layer lstm will not use cuDNN kernels since it doesn't meet the criteria. It will use a generic GPU kernel as fallback when running on GPU.\n",
            " > 80.610\n",
            "WARNING:tensorflow:Layer lstm_1 will not use cuDNN kernels since it doesn't meet the criteria. It will use a generic GPU kernel as fallback when running on GPU.\n",
            " > 347.658\n",
            "WARNING:tensorflow:Layer lstm_2 will not use cuDNN kernels since it doesn't meet the criteria. It will use a generic GPU kernel as fallback when running on GPU.\n",
            " > 72.591\n",
            "WARNING:tensorflow:Layer lstm_3 will not use cuDNN kernels since it doesn't meet the criteria. It will use a generic GPU kernel as fallback when running on GPU.\n",
            " > 61.172\n",
            "WARNING:tensorflow:Layer lstm_4 will not use cuDNN kernels since it doesn't meet the criteria. It will use a generic GPU kernel as fallback when running on GPU.\n",
            " > 63.956\n",
            "WARNING:tensorflow:Layer lstm_5 will not use cuDNN kernels since it doesn't meet the criteria. It will use a generic GPU kernel as fallback when running on GPU.\n",
            " > 132.844\n",
            "WARNING:tensorflow:Layer lstm_6 will not use cuDNN kernels since it doesn't meet the criteria. It will use a generic GPU kernel as fallback when running on GPU.\n",
            " > 181.089\n",
            "WARNING:tensorflow:Layer lstm_7 will not use cuDNN kernels since it doesn't meet the criteria. It will use a generic GPU kernel as fallback when running on GPU.\n",
            " > 72.322\n",
            "WARNING:tensorflow:Layer lstm_8 will not use cuDNN kernels since it doesn't meet the criteria. It will use a generic GPU kernel as fallback when running on GPU.\n",
            " > 70.573\n",
            "WARNING:tensorflow:Layer lstm_9 will not use cuDNN kernels since it doesn't meet the criteria. It will use a generic GPU kernel as fallback when running on GPU.\n",
            " > 86.819\n",
            "WARNING:tensorflow:Layer lstm_10 will not use cuDNN kernels since it doesn't meet the criteria. It will use a generic GPU kernel as fallback when running on GPU.\n",
            " > 66.963\n",
            "WARNING:tensorflow:Layer lstm_11 will not use cuDNN kernels since it doesn't meet the criteria. It will use a generic GPU kernel as fallback when running on GPU.\n",
            " > 75.773\n",
            "WARNING:tensorflow:Layer lstm_12 will not use cuDNN kernels since it doesn't meet the criteria. It will use a generic GPU kernel as fallback when running on GPU.\n",
            " > 61.284\n",
            "WARNING:tensorflow:Layer lstm_13 will not use cuDNN kernels since it doesn't meet the criteria. It will use a generic GPU kernel as fallback when running on GPU.\n",
            " > 94.336\n",
            "WARNING:tensorflow:Layer lstm_14 will not use cuDNN kernels since it doesn't meet the criteria. It will use a generic GPU kernel as fallback when running on GPU.\n",
            " > 105.761\n",
            "WARNING:tensorflow:Layer lstm_15 will not use cuDNN kernels since it doesn't meet the criteria. It will use a generic GPU kernel as fallback when running on GPU.\n",
            " > 67.329\n",
            "WARNING:tensorflow:Layer lstm_16 will not use cuDNN kernels since it doesn't meet the criteria. It will use a generic GPU kernel as fallback when running on GPU.\n",
            " > 122.267\n",
            "WARNING:tensorflow:Layer lstm_17 will not use cuDNN kernels since it doesn't meet the criteria. It will use a generic GPU kernel as fallback when running on GPU.\n",
            " > 80.881\n",
            "WARNING:tensorflow:Layer lstm_18 will not use cuDNN kernels since it doesn't meet the criteria. It will use a generic GPU kernel as fallback when running on GPU.\n",
            " > 118.045\n",
            "WARNING:tensorflow:Layer lstm_19 will not use cuDNN kernels since it doesn't meet the criteria. It will use a generic GPU kernel as fallback when running on GPU.\n",
            " > 64.081\n",
            "WARNING:tensorflow:Layer lstm_20 will not use cuDNN kernels since it doesn't meet the criteria. It will use a generic GPU kernel as fallback when running on GPU.\n",
            " > 237.980\n",
            "WARNING:tensorflow:Layer lstm_21 will not use cuDNN kernels since it doesn't meet the criteria. It will use a generic GPU kernel as fallback when running on GPU.\n",
            " > 72.872\n",
            "WARNING:tensorflow:Layer lstm_22 will not use cuDNN kernels since it doesn't meet the criteria. It will use a generic GPU kernel as fallback when running on GPU.\n",
            " > 141.169\n",
            "WARNING:tensorflow:Layer lstm_23 will not use cuDNN kernels since it doesn't meet the criteria. It will use a generic GPU kernel as fallback when running on GPU.\n",
            " > 49.802\n",
            "WARNING:tensorflow:Layer lstm_24 will not use cuDNN kernels since it doesn't meet the criteria. It will use a generic GPU kernel as fallback when running on GPU.\n",
            " > 75.294\n",
            "WARNING:tensorflow:Layer lstm_25 will not use cuDNN kernels since it doesn't meet the criteria. It will use a generic GPU kernel as fallback when running on GPU.\n",
            " > 74.298\n",
            "WARNING:tensorflow:Layer lstm_26 will not use cuDNN kernels since it doesn't meet the criteria. It will use a generic GPU kernel as fallback when running on GPU.\n",
            " > 65.558\n",
            "WARNING:tensorflow:Layer lstm_27 will not use cuDNN kernels since it doesn't meet the criteria. It will use a generic GPU kernel as fallback when running on GPU.\n",
            " > 80.734\n",
            "WARNING:tensorflow:Layer lstm_28 will not use cuDNN kernels since it doesn't meet the criteria. It will use a generic GPU kernel as fallback when running on GPU.\n",
            " > 89.408\n",
            "WARNING:tensorflow:Layer lstm_29 will not use cuDNN kernels since it doesn't meet the criteria. It will use a generic GPU kernel as fallback when running on GPU.\n",
            " > 64.151\n"
          ]
        }
      ],
      "source": [
        "# define config\n",
        "config = [36, 256, 100, 72, 12]\n",
        "# grid search\n",
        "lstm_scores = repeat_evaluate(data, config, n_test)"
      ]
    },
    {
      "cell_type": "code",
      "execution_count": 43,
      "metadata": {
        "id": "4zif190TmNdm",
        "outputId": "e68437dc-490d-4bca-862e-2e6d2f7a2469",
        "colab": {
          "base_uri": "https://localhost:8080/",
          "height": 283
        }
      },
      "outputs": [
        {
          "output_type": "stream",
          "name": "stdout",
          "text": [
            "LSTM Model: 99.254 RMSE (+/- 60.474)\n"
          ]
        },
        {
          "output_type": "display_data",
          "data": {
            "text/plain": [
              "<Figure size 432x288 with 1 Axes>"
            ],
            "image/png": "[encoded data removed]"
          },
          "metadata": {
            "needs_background": "light"
          }
        }
      ],
      "source": [
        "# summarize scores\n",
        "summarize_scores('LSTM Model', lstm_scores)"
      ]
    },
    {
      "cell_type": "markdown",
      "metadata": {
        "id": "WUfg2kipmNdm"
      },
      "source": [
        "### 4.f) CNN-LSTM Modeling and Tuning"
      ]
    },
    {
      "cell_type": "code",
      "execution_count": 44,
      "metadata": {
        "id": "UQfhMGkdmNdm"
      },
      "outputs": [],
      "source": [
        "# fit a model\n",
        "def model_fit(train, config):\n",
        "    # unpack config\n",
        "    n_seq, n_steps, n_filters, n_kernel, n_nodes, n_epochs, n_batch = config\n",
        "    n_input = n_seq * n_steps\n",
        "    # prepare data\n",
        "    data = series_to_supervised(train, n_in=n_input)\n",
        "    train_x, train_y = data[:, :-1], data[:, -1]\n",
        "    train_x = train_x.reshape((train_x.shape[0], n_seq, n_steps, 1))\n",
        "    # define model\n",
        "    model = tf.keras.Sequential()\n",
        "    model.add(tf.keras.layers.TimeDistributed(tf.keras.layers.Conv1D(filters=n_filters, kernel_size=n_kernel, activation='relu', input_shape=(None,n_steps,1))))\n",
        "    model.add(tf.keras.layers.TimeDistributed(tf.keras.layers.Conv1D(filters=n_filters, kernel_size=n_kernel, activation='relu')))\n",
        "    model.add(tf.keras.layers.TimeDistributed(tf.keras.layers.MaxPool1D(pool_size=2)))\n",
        "    model.add(tf.keras.layers.TimeDistributed(tf.keras.layers.Flatten()))\n",
        "    model.add(tf.keras.layers.LSTM(n_nodes, activation='relu'))\n",
        "    model.add(tf.keras.layers.Dense(n_nodes, activation='relu'))\n",
        "    model.add(tf.keras.layers.Dense(1))\n",
        "    model.compile(loss=DEFAULT_LOSS, optimizer=DEFAULT_OPTIMIZER)\n",
        "    # fit\n",
        "    model.fit(train_x, train_y, epochs=n_epochs, batch_size=n_batch, verbose=0)\n",
        "    return model"
      ]
    },
    {
      "cell_type": "code",
      "execution_count": 45,
      "metadata": {
        "id": "2FPlBkgdmNdm"
      },
      "outputs": [],
      "source": [
        "# forecast with a pre-fit model\n",
        "def model_predict(model, history, config):\n",
        "    # unpack config\n",
        "    n_seq, n_steps, _, _, _, _, _ = config\n",
        "    n_input = n_seq * n_steps\n",
        "    # prepare data\n",
        "    x_input = np.array(history[-n_input:]).reshape((1, n_seq, n_steps, 1))\n",
        "    # forecast\n",
        "    yhat = model.predict(x_input, verbose=0)\n",
        "    return yhat[0]"
      ]
    },
    {
      "cell_type": "code",
      "execution_count": 46,
      "metadata": {
        "id": "hM3TETHVmNdm",
        "outputId": "dcf4fda4-7cfa-4bd7-81f3-44ff102b30a2",
        "colab": {
          "base_uri": "https://localhost:8080/"
        }
      },
      "outputs": [
        {
          "output_type": "stream",
          "name": "stdout",
          "text": [
            "WARNING:tensorflow:Layer lstm_30 will not use cuDNN kernels since it doesn't meet the criteria. It will use a generic GPU kernel as fallback when running on GPU.\n",
            " > 45.432\n",
            "WARNING:tensorflow:Layer lstm_31 will not use cuDNN kernels since it doesn't meet the criteria. It will use a generic GPU kernel as fallback when running on GPU.\n",
            " > 43.769\n",
            "WARNING:tensorflow:Layer lstm_32 will not use cuDNN kernels since it doesn't meet the criteria. It will use a generic GPU kernel as fallback when running on GPU.\n",
            " > 44.529\n",
            "WARNING:tensorflow:Layer lstm_33 will not use cuDNN kernels since it doesn't meet the criteria. It will use a generic GPU kernel as fallback when running on GPU.\n",
            " > 45.121\n",
            "WARNING:tensorflow:Layer lstm_34 will not use cuDNN kernels since it doesn't meet the criteria. It will use a generic GPU kernel as fallback when running on GPU.\n",
            " > 43.609\n",
            "WARNING:tensorflow:Layer lstm_35 will not use cuDNN kernels since it doesn't meet the criteria. It will use a generic GPU kernel as fallback when running on GPU.\n",
            " > 41.755\n",
            "WARNING:tensorflow:Layer lstm_36 will not use cuDNN kernels since it doesn't meet the criteria. It will use a generic GPU kernel as fallback when running on GPU.\n",
            " > 41.810\n",
            "WARNING:tensorflow:Layer lstm_37 will not use cuDNN kernels since it doesn't meet the criteria. It will use a generic GPU kernel as fallback when running on GPU.\n",
            " > 41.378\n",
            "WARNING:tensorflow:Layer lstm_38 will not use cuDNN kernels since it doesn't meet the criteria. It will use a generic GPU kernel as fallback when running on GPU.\n",
            " > 44.226\n",
            "WARNING:tensorflow:Layer lstm_39 will not use cuDNN kernels since it doesn't meet the criteria. It will use a generic GPU kernel as fallback when running on GPU.\n",
            " > 44.146\n",
            "WARNING:tensorflow:Layer lstm_40 will not use cuDNN kernels since it doesn't meet the criteria. It will use a generic GPU kernel as fallback when running on GPU.\n",
            " > 42.697\n",
            "WARNING:tensorflow:Layer lstm_41 will not use cuDNN kernels since it doesn't meet the criteria. It will use a generic GPU kernel as fallback when running on GPU.\n",
            " > 40.898\n",
            "WARNING:tensorflow:Layer lstm_42 will not use cuDNN kernels since it doesn't meet the criteria. It will use a generic GPU kernel as fallback when running on GPU.\n",
            " > 42.530\n",
            "WARNING:tensorflow:Layer lstm_43 will not use cuDNN kernels since it doesn't meet the criteria. It will use a generic GPU kernel as fallback when running on GPU.\n",
            " > 45.432\n",
            "WARNING:tensorflow:Layer lstm_44 will not use cuDNN kernels since it doesn't meet the criteria. It will use a generic GPU kernel as fallback when running on GPU.\n",
            " > 42.106\n",
            "WARNING:tensorflow:Layer lstm_45 will not use cuDNN kernels since it doesn't meet the criteria. It will use a generic GPU kernel as fallback when running on GPU.\n",
            " > 44.986\n",
            "WARNING:tensorflow:Layer lstm_46 will not use cuDNN kernels since it doesn't meet the criteria. It will use a generic GPU kernel as fallback when running on GPU.\n",
            " > 43.251\n",
            "WARNING:tensorflow:Layer lstm_47 will not use cuDNN kernels since it doesn't meet the criteria. It will use a generic GPU kernel as fallback when running on GPU.\n",
            " > 46.923\n",
            "WARNING:tensorflow:Layer lstm_48 will not use cuDNN kernels since it doesn't meet the criteria. It will use a generic GPU kernel as fallback when running on GPU.\n",
            " > 43.919\n",
            "WARNING:tensorflow:Layer lstm_49 will not use cuDNN kernels since it doesn't meet the criteria. It will use a generic GPU kernel as fallback when running on GPU.\n",
            " > 42.395\n",
            "WARNING:tensorflow:Layer lstm_50 will not use cuDNN kernels since it doesn't meet the criteria. It will use a generic GPU kernel as fallback when running on GPU.\n",
            " > 43.956\n",
            "WARNING:tensorflow:Layer lstm_51 will not use cuDNN kernels since it doesn't meet the criteria. It will use a generic GPU kernel as fallback when running on GPU.\n",
            " > 43.224\n",
            "WARNING:tensorflow:Layer lstm_52 will not use cuDNN kernels since it doesn't meet the criteria. It will use a generic GPU kernel as fallback when running on GPU.\n",
            " > 49.145\n",
            "WARNING:tensorflow:Layer lstm_53 will not use cuDNN kernels since it doesn't meet the criteria. It will use a generic GPU kernel as fallback when running on GPU.\n",
            " > 43.795\n",
            "WARNING:tensorflow:Layer lstm_54 will not use cuDNN kernels since it doesn't meet the criteria. It will use a generic GPU kernel as fallback when running on GPU.\n",
            " > 45.298\n",
            "WARNING:tensorflow:Layer lstm_55 will not use cuDNN kernels since it doesn't meet the criteria. It will use a generic GPU kernel as fallback when running on GPU.\n",
            " > 46.860\n",
            "WARNING:tensorflow:Layer lstm_56 will not use cuDNN kernels since it doesn't meet the criteria. It will use a generic GPU kernel as fallback when running on GPU.\n",
            " > 44.733\n",
            "WARNING:tensorflow:Layer lstm_57 will not use cuDNN kernels since it doesn't meet the criteria. It will use a generic GPU kernel as fallback when running on GPU.\n",
            " > 39.764\n",
            "WARNING:tensorflow:Layer lstm_58 will not use cuDNN kernels since it doesn't meet the criteria. It will use a generic GPU kernel as fallback when running on GPU.\n",
            " > 42.324\n",
            "WARNING:tensorflow:Layer lstm_59 will not use cuDNN kernels since it doesn't meet the criteria. It will use a generic GPU kernel as fallback when running on GPU.\n",
            " > 44.572\n"
          ]
        }
      ],
      "source": [
        "# define config\n",
        "config = [3, 12, 128, 3, 100, 200, 72]\n",
        "# grid search\n",
        "cnnlstm_scores = repeat_evaluate(data, config, n_test)"
      ]
    },
    {
      "cell_type": "code",
      "execution_count": 47,
      "metadata": {
        "scrolled": true,
        "id": "hTCFyOP3mNdm",
        "outputId": "4dbf730c-84ab-40d8-d5c7-95fe4b81fce0",
        "colab": {
          "base_uri": "https://localhost:8080/",
          "height": 283
        }
      },
      "outputs": [
        {
          "output_type": "stream",
          "name": "stdout",
          "text": [
            "CNN-LSTM Model: 43.819 RMSE (+/- 1.915)\n"
          ]
        },
        {
          "output_type": "display_data",
          "data": {
            "text/plain": [
              "<Figure size 432x288 with 1 Axes>"
            ],
            "image/png": "[encoded data removed]"
          },
          "metadata": {
            "needs_background": "light"
          }
        }
      ],
      "source": [
        "# summarize scores\n",
        "summarize_scores('CNN-LSTM Model', cnnlstm_scores)"
      ]
    },
    {
      "cell_type": "markdown",
      "metadata": {
        "id": "uyM9NtLomNdn"
      },
      "source": [
        "### 4.g) ConvLSTM Modeling and Tuning"
      ]
    },
    {
      "cell_type": "code",
      "execution_count": 48,
      "metadata": {
        "id": "RhHX42IKmNdn"
      },
      "outputs": [],
      "source": [
        "# fit a model\n",
        "def model_fit(train, config):\n",
        "    # unpack config\n",
        "    n_seq, n_steps, n_filters, n_kernel, n_nodes, n_epochs, n_batch = config\n",
        "    n_input = n_seq * n_steps\n",
        "    # prepare data\n",
        "    data = series_to_supervised(train, n_in=n_input)\n",
        "    train_x, train_y = data[:, :-1], data[:, -1]\n",
        "    train_x = train_x.reshape((train_x.shape[0], n_seq, 1, n_steps, 1))\n",
        "    # define model\n",
        "    model = tf.keras.Sequential()\n",
        "    model.add(tf.keras.layers.ConvLSTM2D(filters=n_filters, kernel_size=(1,n_kernel), activation='relu', input_shape=(n_seq, 1, n_steps, 1)))\n",
        "    model.add(tf.keras.layers.Flatten())\n",
        "    model.add(tf.keras.layers.Dense(n_nodes, activation='relu'))\n",
        "    model.add(tf.keras.layers.Dense(1))\n",
        "    model.compile(loss=DEFAULT_LOSS, optimizer=DEFAULT_OPTIMIZER)\n",
        "    # fit\n",
        "    model.fit(train_x, train_y, epochs=n_epochs, batch_size=n_batch, verbose=0)\n",
        "    return model"
      ]
    },
    {
      "cell_type": "code",
      "execution_count": 49,
      "metadata": {
        "id": "TQMgFqLSmNdn"
      },
      "outputs": [],
      "source": [
        "# forecast with a pre-fit model\n",
        "def model_predict(model, history, config):\n",
        "    # unpack config\n",
        "    n_seq, n_steps, _, _, _, _, _ = config\n",
        "    n_input = n_seq * n_steps\n",
        "    # prepare data\n",
        "    x_input = np.array(history[-n_input:]).reshape((1, n_seq, 1, n_steps, 1))\n",
        "    # forecast\n",
        "    yhat = model.predict(x_input, verbose=0)\n",
        "    return yhat[0]"
      ]
    },
    {
      "cell_type": "code",
      "execution_count": 50,
      "metadata": {
        "id": "97RqO5I6mNdn",
        "outputId": "48022eed-ed3a-4da7-b5bc-840205b360d6",
        "colab": {
          "base_uri": "https://localhost:8080/"
        }
      },
      "outputs": [
        {
          "output_type": "stream",
          "name": "stdout",
          "text": [
            " > 45.150\n",
            " > 44.308\n",
            " > 43.966\n",
            " > 45.056\n",
            " > 44.746\n",
            " > 39.832\n",
            " > 43.183\n",
            " > 40.822\n",
            " > 44.482\n",
            " > 40.698\n",
            " > 39.393\n",
            " > 46.335\n",
            " > 44.457\n",
            " > 41.629\n",
            " > 47.464\n",
            " > 41.823\n",
            " > 41.226\n",
            " > 45.205\n",
            " > 44.223\n",
            " > 40.280\n",
            " > 42.041\n",
            " > 40.349\n",
            " > 42.203\n",
            " > 39.208\n",
            " > 45.976\n",
            " > 42.816\n",
            " > 41.843\n",
            " > 47.956\n",
            " > 42.806\n",
            " > 43.331\n"
          ]
        }
      ],
      "source": [
        "# define config\n",
        "config = [3, 12, 256, 3, 200, 200, 72]\n",
        "# grid search\n",
        "convlstm_scores = repeat_evaluate(data, config, n_test)"
      ]
    },
    {
      "cell_type": "code",
      "execution_count": 51,
      "metadata": {
        "id": "bcZXkLwPmNdn",
        "outputId": "11e478d1-208a-4a89-c460-b6cbfeafb2db",
        "colab": {
          "base_uri": "https://localhost:8080/",
          "height": 283
        }
      },
      "outputs": [
        {
          "output_type": "stream",
          "name": "stdout",
          "text": [
            "ConvLSTM Model: 43.094 RMSE (+/- 2.315)\n"
          ]
        },
        {
          "output_type": "display_data",
          "data": {
            "text/plain": [
              "<Figure size 432x288 with 1 Axes>"
            ],
            "image/png": "[encoded data removed]"
          },
          "metadata": {
            "needs_background": "light"
          }
        }
      ],
      "source": [
        "# summarize scores\n",
        "summarize_scores('ConvLSTM Model', convlstm_scores)"
      ]
    },
    {
      "cell_type": "markdown",
      "metadata": {
        "id": "9pd7byRzmNdn"
      },
      "source": [
        "### 4.g) Models Comparison"
      ]
    },
    {
      "cell_type": "code",
      "execution_count": 52,
      "metadata": {
        "id": "IeG-TaWgmNdn"
      },
      "outputs": [],
      "source": [
        "# Set up Arrays for Score Comparison\n",
        "train_models = []\n",
        "train_results = []"
      ]
    },
    {
      "cell_type": "code",
      "execution_count": 53,
      "metadata": {
        "id": "8kMEbgiUmNdn"
      },
      "outputs": [],
      "source": [
        "train_models.append('Baseline')\n",
        "train_results.append(persistent_scores)\n",
        "train_models.append('MLP')\n",
        "train_results.append(mlp_scores)\n",
        "train_models.append('CNN')\n",
        "train_results.append(cnn_scores)\n",
        "# train_models.append('LSTM')\n",
        "# train_results.append(lstm_scores)\n",
        "train_models.append('CNN-LSTM')\n",
        "train_results.append(cnnlstm_scores)\n",
        "train_models.append('ConvLSTM')\n",
        "train_results.append(convlstm_scores)"
      ]
    },
    {
      "cell_type": "code",
      "execution_count": 54,
      "metadata": {
        "id": "ITfd6LLkmNdn",
        "outputId": "e790c1c0-e278-45a7-fd9c-436d85357406",
        "colab": {
          "base_uri": "https://localhost:8080/",
          "height": 787
        }
      },
      "outputs": [
        {
          "output_type": "display_data",
          "data": {
            "text/plain": [
              "<Figure size 1152x864 with 1 Axes>"
            ],
            "image/png": "[encoded data removed]"
          },
          "metadata": {
            "needs_background": "light"
          }
        }
      ],
      "source": [
        "fig = plt.figure(figsize=(16,12))\n",
        "fig.suptitle('Model Comparison')\n",
        "ax = fig.add_subplot(111)\n",
        "plt.boxplot(train_results)\n",
        "ax.set_xticklabels(train_models)\n",
        "plt.show()"
      ]
    },
    {
      "cell_type": "code",
      "execution_count": 55,
      "metadata": {
        "id": "vvyzdubMmNdn"
      },
      "outputs": [],
      "source": [
        "if NOTIFY_STATUS: status_notify(\"TensorFlow Time Series Task 4 - Train and Tune Models completed! \" + datetime.now().strftime('%a %B %d, %Y %I:%M:%S %p'))"
      ]
    },
    {
      "cell_type": "markdown",
      "metadata": {
        "id": "GA8ECRD5mNdn"
      },
      "source": [
        "## Section 5. Finalize Model and Make Predictions"
      ]
    },
    {
      "cell_type": "code",
      "execution_count": 56,
      "metadata": {
        "id": "hzfS6ikYmNdo"
      },
      "outputs": [],
      "source": [
        "if NOTIFY_STATUS: status_notify(\"TensorFlow Time Series Task 5 - Finalize Model and Make Predictions has begun! \" + datetime.now().strftime('%a %B %d, %Y %I:%M:%S %p'))"
      ]
    },
    {
      "cell_type": "code",
      "execution_count": 57,
      "metadata": {
        "id": "1et1_yYemNdo"
      },
      "outputs": [],
      "source": [
        "# Code Segment Under Construction"
      ]
    },
    {
      "cell_type": "code",
      "execution_count": 58,
      "metadata": {
        "id": "h-V1DnqamNdo"
      },
      "outputs": [],
      "source": [
        "if NOTIFY_STATUS: status_notify(\"TensorFlow Time Series Task 5 - Finalize Model and Make Predictions completed! \" + datetime.now().strftime('%a %B %d, %Y %I:%M:%S %p'))"
      ]
    },
    {
      "cell_type": "code",
      "execution_count": 59,
      "metadata": {
        "id": "YoyBpIbLmNdo",
        "outputId": "e95392e2-dfa2-412e-cb1c-52fde0cc854d",
        "colab": {
          "base_uri": "https://localhost:8080/"
        }
      },
      "outputs": [
        {
          "output_type": "stream",
          "name": "stdout",
          "text": [
            "Total time for the script: 0:49:04.763385\n"
          ]
        }
      ],
      "source": [
        "print ('Total time for the script:',(datetime.now() - START_TIME_SCRIPT))"
      ]
    }
  ],
  "metadata": {
    "kernelspec": {
      "display_name": "Python 3 (ipykernel)",
      "language": "python",
      "name": "python3"
    },
    "language_info": {
      "codemirror_mode": {
        "name": "ipython",
        "version": 3
      },
      "file_extension": ".py",
      "mimetype": "text/x-python",
      "name": "python",
      "nbconvert_exporter": "python",
      "pygments_lexer": "ipython3",
      "version": "3.8.10"
    },
    "colab": {
      "name": "py_timeseries_tensorflow_iron_production_australian.ipynb",
      "provenance": [],
      "background_execution": "on",
      "collapsed_sections": [],
      "toc_visible": true
    },
    "accelerator": "GPU"
  },
  "nbformat": 4,
  "nbformat_minor": 0
}