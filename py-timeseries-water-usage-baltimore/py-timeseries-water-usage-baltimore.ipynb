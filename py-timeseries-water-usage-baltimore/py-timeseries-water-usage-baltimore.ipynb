{
 "cells": [
  {
   "cell_type": "markdown",
   "metadata": {},
   "source": [
    "# Time Series Model for Annual Water Usage in Baltimore Using Python\n",
    "### David Lowe\n",
    "### January 30, 2019\n",
    "\n",
    "Template Credit: Adapted from a template made available by Dr. Jason Brownlee of Machine Learning Mastery. https://machinelearningmastery.com/\n",
    "\n",
    "Code Credit: Adapted from a blog post made available by Dr. Jason Brownlee of Machine Learning Mastery. https://machinelearningmastery.com/time-series-forecast-study-python-annual-water-usage-baltimore/\n",
    "\n",
    "PREFACE: This is a replication of Python code from Dr. Brownlee's blog post on time series. I have combined all the code snipets into one script, so I can turn the whole process into a template. The comments and analysis were also part of the blog post and annodated here to explain each coding block.\n",
    "\n",
    "SUMMARY: The purpose of this project is to construct a time series prediction model and document the end-to-end steps using a template. The Annual Water Usage in Baltimore dataset is a time series situation where we are trying to forecast future outcomes based on the past data points.\n",
    "\n",
    "INTRODUCTION: The problem is to predict annual water usage. The dataset provides the annual water usage in Baltimore from 1885 to 1963, or 79 years of data. The dataset contains 79 observations in the units of liters per capita per day and is credited to Hipel and McLeod, 1994.\n",
    "\n",
    "ANALYSIS: The baseline prediction (or persistence) for the dataset resulted in an RMSE of 21.975. The manually configured model was simplified to ARIMA(4,1,1) and produced an RMSE of 31.097, which was higher than the persistent model. After applying the grid search technique to the dataset, the final RMSE of the ARIMA(2,1,0) model was 21.733. This is only a slightly smaller error than the persistent model, and it may or may not be statistically different.\n",
    "\n",
    "CONCLUSION: The final RMSE for the validation period is predicted at 16 liters per capita per day. This is not too different from the expected error of 21, but we would expect that it is also not too different from a simple persistence model. The forecast does have the characteristics of a persistence forecast. This suggests that although this time series does have an obvious trend, it is still a reasonably difficult problem.\n",
    "\n",
    "Dataset Used: Annual Water Usage in Baltimore\n",
    "\n",
    "Dataset ML Model: Time series forecast with numerical attributes\n",
    "\n",
    "Dataset Reference: https://datamarket.com/data/set/22sl/baltmore-city-annual-water-use-liters-per-capita-per-day-1885-1968#!ds=22sl&display=line\n",
    "\n",
    "One potential source of performance benchmark: https://machinelearningmastery.com/time-series-forecast-study-python-annual-water-usage-baltimore/\n",
    "\n",
    "The project aims to touch on the following areas:\n",
    "\n",
    "* Document a predictive modeling problem end-to-end\n",
    "* Explore data cleaning and transformation options\n",
    "* Explore various algorithms for baselining the model performance\n",
    "* Explore tuning techniques for improving the model performance\n",
    "\n",
    "A time series predictive modeling project genrally can be broken down into about five major tasks:\n",
    "\n",
    "1. Define Problem and Acquire Data\n",
    "2. Inspect and Explore Data\n",
    "3. Clean and Pre-Process Data\n",
    "4. Fit and Evaluate Models\n",
    "5. Finalize and Deploy Model"
   ]
  },
  {
   "cell_type": "markdown",
   "metadata": {},
   "source": [
    "## Section 1. Define Problem and Acquire Data"
   ]
  },
  {
   "cell_type": "markdown",
   "metadata": {},
   "source": [
    "### 1.a) Load Libraries"
   ]
  },
  {
   "cell_type": "code",
   "execution_count": 1,
   "metadata": {},
   "outputs": [],
   "source": [
    "import numpy as np\n",
    "import pandas as pd\n",
    "import smtplib\n",
    "import warnings\n",
    "from datetime import datetime\n",
    "from email.message import EmailMessage\n",
    "from math import exp\n",
    "from math import log\n",
    "from math import sqrt\n",
    "from matplotlib import pyplot\n",
    "from pandas import read_csv\n",
    "from pandas import DataFrame\n",
    "from pandas import Grouper\n",
    "from pandas import Series\n",
    "from sklearn.metrics import mean_squared_error\n",
    "from scipy.stats import boxcox\n",
    "from statsmodels.tsa.arima_model import ARIMA\n",
    "from statsmodels.tsa.arima_model import ARIMAResults\n",
    "from statsmodels.tsa.stattools import adfuller\n",
    "from statsmodels.graphics.gofplots import qqplot\n",
    "from statsmodels.graphics.tsaplots import plot_acf\n",
    "from statsmodels.graphics.tsaplots import plot_pacf\n",
    "from sklearn.metrics import mean_squared_error\n",
    "\n",
    "# Create a random seed number variable for reproducible results\n",
    "seedNum = 888"
   ]
  },
  {
   "cell_type": "markdown",
   "metadata": {},
   "source": [
    "### 1.b) Set up the email notification function"
   ]
  },
  {
   "cell_type": "code",
   "execution_count": 2,
   "metadata": {},
   "outputs": [],
   "source": [
    "def email_notify(msg_text):\n",
    "    sender = \"luozhi2488@gmail.com\"\n",
    "    receiver = \"dave@contactdavidlowe.com\"\n",
    "    with open('../email_credential.txt') as f:\n",
    "        password = f.readline()\n",
    "        f.close()\n",
    "    msg = EmailMessage()\n",
    "    msg.set_content(msg_text)\n",
    "    msg['Subject'] = 'Notification from Python Time Series Script'\n",
    "    msg['From'] = sender\n",
    "    msg['To'] = receiver\n",
    "    server = smtplib.SMTP('smtp.gmail.com', 587)\n",
    "    server.starttls()\n",
    "    server.login(sender, password)\n",
    "    server.send_message(msg)\n",
    "    server.quit()"
   ]
  },
  {
   "cell_type": "code",
   "execution_count": 3,
   "metadata": {},
   "outputs": [],
   "source": [
    "email_notify(\"Program Library and Data Loading has begun! \"+datetime.now().strftime('%a %B %d, %Y %I:%M:%S %p'))"
   ]
  },
  {
   "cell_type": "markdown",
   "metadata": {},
   "source": [
    "### 1.c) Acquire and Load the Data"
   ]
  },
  {
   "cell_type": "markdown",
   "metadata": {},
   "source": [
    "The dataset is not current. This means that we cannot easily collect updated data to validate the model. Therefore, we will pretend that it is 1953 and withhold the last 10 years of data from analysis and model selection. This final decade of data will be used to validate the final model.\n",
    "\n",
    "The code below will load the dataset as a Pandas Series and split into two, one for model development (dataset.csv) and the other for validation (validation.csv). The specific contents of these files are:\n",
    "\n",
    "* dataset.csv: Observations from 1885 to 1953 (69 observations).\n",
    "* validation.csv: Observations from 1954 to 1963 (10 observations).\n",
    "\n",
    "The validation dataset is about 12% of the original dataset."
   ]
  },
  {
   "cell_type": "code",
   "execution_count": 4,
   "metadata": {},
   "outputs": [],
   "source": [
    "startTimeScript = datetime.now()"
   ]
  },
  {
   "cell_type": "code",
   "execution_count": 5,
   "metadata": {},
   "outputs": [
    {
     "name": "stdout",
     "output_type": "stream",
     "text": [
      "Dataset 69, Validation 10\n"
     ]
    }
   ],
   "source": [
    "# split into a training and validation dataset\n",
    "series = read_csv('water.csv', header=0, index_col=0, parse_dates=True, squeeze=True)\n",
    "split_point = len(series) - 10\n",
    "dataset, validation = series[0:split_point], series[split_point:]\n",
    "print('Dataset %d, Validation %d' % (len(dataset), len(validation)))\n",
    "dataset.to_csv('dataset.csv')\n",
    "validation.to_csv('validation.csv')"
   ]
  },
  {
   "cell_type": "markdown",
   "metadata": {},
   "source": [
    "### 1.d) Establish the Persistent Model"
   ]
  },
  {
   "cell_type": "markdown",
   "metadata": {},
   "source": [
    "The first step before getting bogged down in data analysis and modeling is to establish a baseline of performance. This will provide both a template for evaluating models using the proposed test harness and a performance measure by which all more elaborate predictive models can be compared.\n",
    "\n",
    "The baseline prediction for time series forecasting is called the naive forecast, or persistence. This is where the observation from the previous time step is used as the prediction for the observation at the next time step.\n",
    "\n",
    "Candidate models will be evaluated using walk-forward validation. This is because a rolling-forecast type model is required from the problem definition. This is where one-step forecasts are needed given all available data.\n",
    "\n",
    "The walk-forward validation will work as follows:\n",
    "\n",
    "* The first 50% of the dataset will be held back to train the model.\n",
    "* The remaining 50% of the dataset will be iterated and test the model.\n",
    "* For each step in the test dataset:\n",
    "    * A model will be trained.\n",
    "    * A one-step prediction made and the prediction stored for later evaluation.\n",
    "    * The actual observation from the test dataset will be added to the training dataset for the next iteration.\n",
    "* The predictions made during the iteration of the test dataset will be evaluated and an RMSE score reported.\n",
    "\n",
    "Given the small size of the data, we will allow a model to be re-trained given all available data prior to each prediction."
   ]
  },
  {
   "cell_type": "code",
   "execution_count": 6,
   "metadata": {},
   "outputs": [
    {
     "name": "stdout",
     "output_type": "stream",
     "text": [
      ">Predicted=503.000, Expected=503\n",
      ">Predicted=503.000, Expected=503\n",
      ">Predicted=503.000, Expected=515\n",
      ">Predicted=515.000, Expected=522\n",
      ">Predicted=522.000, Expected=492\n",
      ">Predicted=492.000, Expected=503\n",
      ">Predicted=503.000, Expected=503\n",
      ">Predicted=503.000, Expected=450\n",
      ">Predicted=450.000, Expected=432\n",
      ">Predicted=432.000, Expected=432\n",
      ">Predicted=432.000, Expected=458\n",
      ">Predicted=458.000, Expected=462\n",
      ">Predicted=462.000, Expected=503\n",
      ">Predicted=503.000, Expected=488\n",
      ">Predicted=488.000, Expected=466\n",
      ">Predicted=466.000, Expected=492\n",
      ">Predicted=492.000, Expected=503\n",
      ">Predicted=503.000, Expected=515\n",
      ">Predicted=515.000, Expected=500\n",
      ">Predicted=500.000, Expected=522\n",
      ">Predicted=522.000, Expected=575\n",
      ">Predicted=575.000, Expected=583\n",
      ">Predicted=583.000, Expected=587\n",
      ">Predicted=587.000, Expected=628\n",
      ">Predicted=628.000, Expected=640\n",
      ">Predicted=640.000, Expected=609\n",
      ">Predicted=609.000, Expected=606\n",
      ">Predicted=606.000, Expected=632\n",
      ">Predicted=632.000, Expected=617\n",
      ">Predicted=617.000, Expected=613\n",
      ">Predicted=613.000, Expected=598\n",
      ">Predicted=598.000, Expected=575\n",
      ">Predicted=575.000, Expected=564\n",
      ">Predicted=564.000, Expected=549\n",
      ">Predicted=549.000, Expected=538\n",
      "RMSE: 21.975\n"
     ]
    }
   ],
   "source": [
    "# evaluate a persistence model\n",
    "# load data\n",
    "series = read_csv('dataset.csv', header=None, index_col=0, parse_dates=True, squeeze=True)\n",
    "# prepare data\n",
    "X = series.values\n",
    "X = X.astype('float32')\n",
    "train_size = int(len(X) * 0.50)\n",
    "train, test = X[0:train_size], X[train_size:]\n",
    "# walk-forward validation\n",
    "history = [x for x in train]\n",
    "predictions = list()\n",
    "for i in range(len(test)):\n",
    "\t# predict\n",
    "\tyhat = history[-1]\n",
    "\tpredictions.append(yhat)\n",
    "\t# observation\n",
    "\tobs = test[i]\n",
    "\thistory.append(obs)\n",
    "\tprint('>Predicted=%.3f, Expected=%3.f' % (yhat, obs))\n",
    "# report performance\n",
    "rmse = sqrt(mean_squared_error(test, predictions))\n",
    "print('RMSE: %.3f' % rmse)"
   ]
  },
  {
   "cell_type": "code",
   "execution_count": 7,
   "metadata": {},
   "outputs": [],
   "source": [
    "email_notify(\"Program Library and Data Loading completed! \"+datetime.now().strftime('%a %B %d, %Y %I:%M:%S %p'))"
   ]
  },
  {
   "cell_type": "markdown",
   "metadata": {},
   "source": [
    "## Section 2. Inspect and Explore Data"
   ]
  },
  {
   "cell_type": "code",
   "execution_count": 8,
   "metadata": {},
   "outputs": [],
   "source": [
    "email_notify(\"Data Inspection and Exploration has begun! \"+datetime.now().strftime('%a %B %d, %Y %I:%M:%S %p'))"
   ]
  },
  {
   "cell_type": "markdown",
   "metadata": {},
   "source": [
    "### 2.a) Summary Statistics of the Time Series Data"
   ]
  },
  {
   "cell_type": "markdown",
   "metadata": {},
   "source": [
    "Summary statistics provide a quick look at the limits of observed values. It can help to get a quick idea of what we are working with. Some observations from these statistics include:\n",
    "\n",
    "* The number of observations (count) matches our expectation, meaning we are handling the data correctly.\n",
    "* The mean is about 500, which we might consider our level in this series.\n",
    "* The standard deviation and percentiles suggest a reasonably tight spread around the mean."
   ]
  },
  {
   "cell_type": "code",
   "execution_count": 9,
   "metadata": {},
   "outputs": [
    {
     "name": "stdout",
     "output_type": "stream",
     "text": [
      "count     69.000000\n",
      "mean     500.478261\n",
      "std       73.901685\n",
      "min      344.000000\n",
      "25%      458.000000\n",
      "50%      492.000000\n",
      "75%      538.000000\n",
      "max      662.000000\n",
      "Name: 1, dtype: float64\n"
     ]
    }
   ],
   "source": [
    "# summary statistics of time series\n",
    "print(series.describe())"
   ]
  },
  {
   "cell_type": "markdown",
   "metadata": {},
   "source": [
    "### 2.b) Line Plot of the Time Series Data"
   ]
  },
  {
   "cell_type": "markdown",
   "metadata": {},
   "source": [
    "A line plot of a time series can provide a lot of insight into the problem. Some observations from the plot include:\n",
    "\n",
    "* There looks to be an increasing trend in water usage over time.\n",
    "* There do not appear to be any obvious outliers, although there are some large fluctuations.\n",
    "* There is a downward trend for the last few years of the series.\n",
    "\n",
    "There may be some benefit in explicitly modeling the trend component and removing it. We may also explore using differencing with one or two levels in order to make the series stationary."
   ]
  },
  {
   "cell_type": "code",
   "execution_count": 10,
   "metadata": {},
   "outputs": [
    {
     "data": {
      "image/png": "[encoded data removed]",
      "text/plain": [
       "<Figure size 432x288 with 1 Axes>"
      ]
     },
     "metadata": {
      "needs_background": "light"
     },
     "output_type": "display_data"
    }
   ],
   "source": [
    "# line plots of time series\n",
    "series.plot()\n",
    "pyplot.show()"
   ]
  },
  {
   "cell_type": "markdown",
   "metadata": {},
   "source": [
    "### 2.c) Density Plots of the Time Series Data"
   ]
  },
  {
   "cell_type": "markdown",
   "metadata": {},
   "source": [
    "Reviewing plots of the density of observations can provide further insight into the structure of the data. Some observations from the plots include:\n",
    "\n",
    "* The distribution is not Gaussian, but is pretty close.\n",
    "* The distribution has a long right tail and may suggest an exponential distribution or a double Gaussian."
   ]
  },
  {
   "cell_type": "code",
   "execution_count": 11,
   "metadata": {},
   "outputs": [
    {
     "data": {
      "image/png": "[encoded data removed]",
      "text/plain": [
       "<Figure size 432x288 with 2 Axes>"
      ]
     },
     "metadata": {
      "needs_background": "light"
     },
     "output_type": "display_data"
    }
   ],
   "source": [
    "# density plots of time series\n",
    "pyplot.figure(1)\n",
    "pyplot.subplot(211)\n",
    "series.hist()\n",
    "pyplot.subplot(212)\n",
    "series.plot(kind='kde')\n",
    "pyplot.show()"
   ]
  },
  {
   "cell_type": "markdown",
   "metadata": {},
   "source": [
    "### 2.d) Box and Whisker Plots of the Time Series Data"
   ]
  },
  {
   "cell_type": "markdown",
   "metadata": {},
   "source": [
    "We can group the monthly data by year and get an idea of the spread of observations for each year and how this may be changing. We do expect to see some trend (increasing mean or median), but it may be interesting to see how the rest of the distribution may be changing.\n",
    "\n",
    "The last decade only contains 9 years and may not be a useful comparison with the other decades. Therefore only data between 1885 and 1944 was plotted.\n",
    "\n",
    "Some observations from reviewing the plot include:\n",
    "\n",
    "* The median values for each year (red line) may show an increasing trend that may not be linear.\n",
    "* The spread, or middle 50% of the data (blue boxes), does show some variability.\n",
    "* There maybe outliers in some decades (crosses outside of the box and whiskers).\n",
    "* The second to last decade seems to have a lower average consumption, perhaps related to the first world war.\n",
    "\n",
    "This yearly view of the data is an interesting avenue and could be pursued further by looking at summary statistics from decade-to-decade and changes in summary statistics."
   ]
  },
  {
   "cell_type": "code",
   "execution_count": 12,
   "metadata": {},
   "outputs": [
    {
     "data": {
      "image/png": "[encoded data removed]",
      "text/plain": [
       "<Figure size 432x288 with 1 Axes>"
      ]
     },
     "metadata": {
      "needs_background": "light"
     },
     "output_type": "display_data"
    }
   ],
   "source": [
    "# boxplots of time series\n",
    "groups = series.groupby(Grouper(freq='10YS'))\n",
    "decades = DataFrame()\n",
    "for name, group in groups:\n",
    "\tif len(group.values) is 10:\n",
    "\t\tdecades[name.year] = group.values\n",
    "decades.boxplot()\n",
    "pyplot.show()"
   ]
  },
  {
   "cell_type": "code",
   "execution_count": 13,
   "metadata": {},
   "outputs": [],
   "source": [
    "email_notify(\"Data Inspection and Exploration completed! \"+datetime.now().strftime('%a %B %d, %Y %I:%M:%S %p'))"
   ]
  },
  {
   "cell_type": "markdown",
   "metadata": {},
   "source": [
    "## Section 3. Clean and Pre-Process Data"
   ]
  },
  {
   "cell_type": "markdown",
   "metadata": {},
   "source": [
    "This section currently is not applicable to this iteration of the project."
   ]
  },
  {
   "cell_type": "code",
   "execution_count": 14,
   "metadata": {},
   "outputs": [],
   "source": [
    "email_notify(\"Data Cleaning and Pre-Processing has begun! \"+datetime.now().strftime('%a %B %d, %Y %I:%M:%S %p'))"
   ]
  },
  {
   "cell_type": "code",
   "execution_count": 15,
   "metadata": {},
   "outputs": [],
   "source": [
    "email_notify(\"Data Cleaning and Pre-Processing completed! \"+datetime.now().strftime('%a %B %d, %Y %I:%M:%S %p'))"
   ]
  },
  {
   "cell_type": "markdown",
   "metadata": {},
   "source": [
    "## Section 4. Fit and Evaluate Models"
   ]
  },
  {
   "cell_type": "markdown",
   "metadata": {},
   "source": [
    "In this section, we will develop Autoregressive Integrated Moving Average or ARIMA models for the problem. We will approach modeling by both manual and automatic configuration of the ARIMA model. This will be followed by a third step of investigating the residual errors of the chosen model.\n",
    "\n",
    "* Manually Configure the ARIMA.\n",
    "* Automatically Configure the ARIMA.\n",
    "* Review Residual Errors."
   ]
  },
  {
   "cell_type": "code",
   "execution_count": 16,
   "metadata": {},
   "outputs": [],
   "source": [
    "email_notify(\"Model Fitting and Evaluation has begun! \"+datetime.now().strftime('%a %B %d, %Y %I:%M:%S %p'))"
   ]
  },
  {
   "cell_type": "markdown",
   "metadata": {},
   "source": [
    "### 4.a) Manually Configured ARIMA"
   ]
  },
  {
   "cell_type": "code",
   "execution_count": 17,
   "metadata": {},
   "outputs": [],
   "source": [
    "email_notify(\"Performing Manual ARIMA has begun! \"+datetime.now().strftime('%a %B %d, %Y %I:%M:%S %p'))"
   ]
  },
  {
   "cell_type": "markdown",
   "metadata": {},
   "source": [
    "#### 4.a.i) Statistical Test for the Stationarity of the Time Series Data"
   ]
  },
  {
   "cell_type": "markdown",
   "metadata": {},
   "source": [
    "The ARIMA(p,d,q) model requires three parameters and is traditionally configured manually. Analysis of the time series data assumes that we are working with a stationary time series.\n",
    "\n",
    "The time series is likely non-stationary. We can make it stationary by first differencing the series and using a statistical test to confirm that the result is stationary.\n",
    "\n",
    "The results show that the test statistic value -6.126719 is smaller than the critical value at 1% of -3.534. This suggests that we can reject the null hypothesis with a significance level of less than 1% (i.e. a low probability that the result is a statistical fluke).\n",
    "\n",
    "Rejecting the null hypothesis means that the process has no unit root, and in turn that the time series is stationary or does not have time-dependent structure. This suggests that at least one level of differencing is required. The d parameter in our ARIMA model should at least be a value of 1."
   ]
  },
  {
   "cell_type": "code",
   "execution_count": 18,
   "metadata": {},
   "outputs": [
    {
     "name": "stdout",
     "output_type": "stream",
     "text": [
      "ADF Statistic: -6.126719\n",
      "p-value: 0.000000\n",
      "Critical Values:\n",
      "\t1%: -3.534\n",
      "\t5%: -2.906\n",
      "\t10%: -2.591\n"
     ]
    },
    {
     "data": {
      "image/png": "[encoded data removed]",
      "text/plain": [
       "<Figure size 432x288 with 1 Axes>"
      ]
     },
     "metadata": {
      "needs_background": "light"
     },
     "output_type": "display_data"
    }
   ],
   "source": [
    "# create a differenced series\n",
    "def difference(dataset):\n",
    "\tdiff = list()\n",
    "\tfor i in range(1, len(dataset)):\n",
    "\t\tvalue = dataset[i] - dataset[i - 1]\n",
    "\t\tdiff.append(value)\n",
    "\treturn Series(diff)\n",
    "\n",
    "X = series.values\n",
    "X = X.astype('float32')\n",
    "# difference data\n",
    "stationary = difference(X)\n",
    "stationary.index = series.index[1:]\n",
    "# check if stationary\n",
    "result = adfuller(stationary)\n",
    "print('ADF Statistic: %f' % result[0])\n",
    "print('p-value: %f' % result[1])\n",
    "print('Critical Values:')\n",
    "for key, value in result[4].items():\n",
    "\tprint('\\t%s: %.3f' % (key, value))\n",
    "# plot differenced data\n",
    "stationary.plot()\n",
    "pyplot.show()\n",
    "# save\n",
    "stationary.to_csv('stationary.csv')"
   ]
  },
  {
   "cell_type": "markdown",
   "metadata": {},
   "source": [
    "#### 4.a.ii) ACF and PACF Plots of the Time Series Data"
   ]
  },
  {
   "cell_type": "markdown",
   "metadata": {},
   "source": [
    "The next first step is to select the lag values for the Autoregression (AR) and Moving Average (MA) parameters, p and q respectively. We can do this by reviewing Autocorrelation Function (ACF) and Partial Autocorrelation Function (PACF) plots.\n",
    "\n",
    "Below are some observations from the plots.\n",
    "\n",
    "* The ACF shows significant lags to 4 time steps.\n",
    "* The PACF shows significant lags to 1 time step.\n",
    "\n",
    "A good starting point for the p is 4 and q as 1."
   ]
  },
  {
   "cell_type": "code",
   "execution_count": 19,
   "metadata": {},
   "outputs": [
    {
     "name": "stderr",
     "output_type": "stream",
     "text": [
      "C:\\Users\\david.lowe\\Anaconda3\\lib\\site-packages\\statsmodels\\regression\\linear_model.py:1283: RuntimeWarning: invalid value encountered in sqrt\n",
      "  return rho, np.sqrt(sigmasq)\n"
     ]
    },
    {
     "data": {
      "image/png": "[encoded data removed]",
      "text/plain": [
       "<Figure size 432x288 with 2 Axes>"
      ]
     },
     "metadata": {
      "needs_background": "light"
     },
     "output_type": "display_data"
    }
   ],
   "source": [
    "# ACF and PACF plots of time series\n",
    "pyplot.figure()\n",
    "pyplot.subplot(211)\n",
    "plot_acf(series, ax=pyplot.gca())\n",
    "pyplot.subplot(212)\n",
    "plot_pacf(series, ax=pyplot.gca())\n",
    "pyplot.show()"
   ]
  },
  {
   "cell_type": "markdown",
   "metadata": {},
   "source": [
    "#### 4.a.iii) Evaluate Manually Configured ARIMA Model"
   ]
  },
  {
   "cell_type": "markdown",
   "metadata": {},
   "source": [
    "A quick analysis from ACF and PACF suggests an ARIMA(4,1,1) on the raw data may be a good starting point.\n",
    "\n",
    "Running this example results in an RMSE of 31.097, which is higher than the persistence model above. This may be because of the details of the ARIMA implementation, such as an automatic trend constant that is calculated and added."
   ]
  },
  {
   "cell_type": "code",
   "execution_count": 20,
   "metadata": {},
   "outputs": [
    {
     "name": "stdout",
     "output_type": "stream",
     "text": [
      ">Predicted=548.319, Expected=503\n",
      ">Predicted=545.085, Expected=503\n",
      ">Predicted=546.061, Expected=515\n",
      ">Predicted=550.660, Expected=522\n",
      ">Predicted=552.011, Expected=492\n",
      ">Predicted=519.221, Expected=503\n",
      ">Predicted=527.953, Expected=503\n",
      ">Predicted=534.026, Expected=450\n",
      ">Predicted=474.118, Expected=432\n",
      ">Predicted=456.458, Expected=432\n",
      ">Predicted=465.408, Expected=458\n",
      ">Predicted=481.425, Expected=462\n",
      ">Predicted=476.155, Expected=503\n",
      ">Predicted=511.083, Expected=488\n",
      ">Predicted=497.183, Expected=466\n",
      ">Predicted=460.301, Expected=492\n",
      ">Predicted=506.310, Expected=503\n",
      ">Predicted=515.928, Expected=515\n",
      ">Predicted=516.368, Expected=500\n",
      ">Predicted=504.364, Expected=522\n",
      ">Predicted=525.885, Expected=575\n",
      ">Predicted=579.358, Expected=583\n",
      ">Predicted=575.313, Expected=587\n",
      ">Predicted=573.357, Expected=628\n",
      ">Predicted=622.135, Expected=640\n",
      ">Predicted=632.300, Expected=609\n",
      ">Predicted=595.782, Expected=606\n",
      ">Predicted=602.447, Expected=632\n",
      ">Predicted=635.946, Expected=617\n",
      ">Predicted=614.238, Expected=613\n",
      ">Predicted=609.030, Expected=598\n",
      ">Predicted=601.830, Expected=575\n",
      ">Predicted=580.316, Expected=564\n",
      ">Predicted=574.084, Expected=549\n",
      ">Predicted=562.009, Expected=538\n",
      "RMSE: 31.097\n"
     ]
    }
   ],
   "source": [
    "# evaluate manually configured ARIMA model\n",
    "# prepare data\n",
    "X = series.values\n",
    "X = X.astype('float32')\n",
    "train_size = int(len(X) * 0.50)\n",
    "train, test = X[0:train_size], X[train_size:]\n",
    "# walk-forward validation\n",
    "history = [x for x in train]\n",
    "predictions = list()\n",
    "for i in range(len(test)):\n",
    "\t# predict\n",
    "\tmodel = ARIMA(history, order=(4,1,1))\n",
    "\tmodel_fit = model.fit(disp=0)\n",
    "\tyhat = model_fit.forecast()[0]\n",
    "\tpredictions.append(yhat)\n",
    "\t# observation\n",
    "\tobs = test[i]\n",
    "\thistory.append(obs)\n",
    "\tprint('>Predicted=%.3f, Expected=%3.f' % (yhat, obs))\n",
    "# report performance\n",
    "rmse = sqrt(mean_squared_error(test, predictions))\n",
    "print('RMSE: %.3f' % rmse)"
   ]
  },
  {
   "cell_type": "code",
   "execution_count": 21,
   "metadata": {},
   "outputs": [],
   "source": [
    "email_notify(\"Performing Manual ARIMA completed! \"+datetime.now().strftime('%a %B %d, %Y %I:%M:%S %p'))"
   ]
  },
  {
   "cell_type": "markdown",
   "metadata": {},
   "source": [
    "### 4.b) Grid Search of ARIMA Hyperparameters"
   ]
  },
  {
   "cell_type": "markdown",
   "metadata": {},
   "source": [
    "The ACF and PACF plots suggest that we cannot do better than a persistence model on this dataset. To confirm this analysis, we can grid search a suite of ARIMA hyperparameters and check that no models result in better out of sample RMSE performance.\n",
    "\n",
    "In this section, we will search values of p, d, and q for combinations (skipping those that fail to converge), and find the combination that results in the best performance. We will use a grid search to explore all combinations in a subset of integer values.\n",
    "\n",
    "Specifically, we will search all combinations of the following parameters:\n",
    "\n",
    "p: 0 to 4.\n",
    "d: 0 to 2.\n",
    "q: 0 to 4.\n",
    "\n",
    "This is (5 * 3 * 5), or 300 potential runs of the test harness, and will take some time to execute.\n",
    "\n",
    "We will also disable the automatic addition of a trend constant from the model by setting the ‘trend‘ argument to ‘nc‘ for no constant when calling fit().\n",
    "\n",
    "The results show that the best configuration discovered was ARIMA(2, 1, 0) with an RMSE of 21.733, slightly lower than the manual persistence model tested earlier, but may or may not be significantly different. We will select this ARIMA(2, 1, 0) model going forward."
   ]
  },
  {
   "cell_type": "code",
   "execution_count": 22,
   "metadata": {},
   "outputs": [],
   "source": [
    "email_notify(\"ARIMA Hyperparameters Search has begun! \"+datetime.now().strftime('%a %B %d, %Y %I:%M:%S %p'))"
   ]
  },
  {
   "cell_type": "code",
   "execution_count": 23,
   "metadata": {},
   "outputs": [
    {
     "name": "stdout",
     "output_type": "stream",
     "text": [
      "ARIMA(0, 0, 1) RMSE=282.658\n",
      "ARIMA(0, 0, 4) RMSE=77.303\n",
      "ARIMA(0, 1, 1) RMSE=21.907\n",
      "ARIMA(0, 1, 2) RMSE=22.182\n",
      "ARIMA(0, 1, 3) RMSE=24.733\n",
      "ARIMA(0, 1, 4) RMSE=24.845\n",
      "ARIMA(0, 2, 1) RMSE=22.381\n",
      "ARIMA(0, 2, 2) RMSE=22.244\n",
      "ARIMA(1, 0, 0) RMSE=21.852\n",
      "ARIMA(1, 1, 0) RMSE=21.922\n",
      "ARIMA(1, 2, 0) RMSE=27.464\n",
      "ARIMA(1, 2, 1) RMSE=22.271\n",
      "ARIMA(2, 1, 0) RMSE=21.733\n",
      "ARIMA(2, 2, 0) RMSE=25.282\n",
      "ARIMA(3, 1, 0) RMSE=24.270\n",
      "ARIMA(3, 1, 1) RMSE=25.491\n",
      "ARIMA(3, 2, 0) RMSE=25.625\n",
      "ARIMA(3, 2, 1) RMSE=25.007\n",
      "ARIMA(3, 2, 4) RMSE=26.395\n",
      "ARIMA(4, 1, 0) RMSE=24.802\n",
      "ARIMA(4, 1, 1) RMSE=25.103\n",
      "ARIMA(4, 2, 0) RMSE=27.089\n",
      "ARIMA(4, 2, 1) RMSE=25.932\n",
      "ARIMA(4, 2, 2) RMSE=25.419\n",
      "Best ARIMA(2, 1, 0) RMSE=21.733\n"
     ]
    }
   ],
   "source": [
    "# grid search ARIMA parameters for a time series\n",
    "# evaluate an ARIMA model for a given order (p,d,q) and return RMSE\n",
    "def evaluate_arima_model(X, arima_order):\n",
    "\t# prepare training dataset\n",
    "\tX = X.astype('float32')\n",
    "\ttrain_size = int(len(X) * 0.50)\n",
    "\ttrain, test = X[0:train_size], X[train_size:]\n",
    "\thistory = [x for x in train]\n",
    "\t# make predictions\n",
    "\tpredictions = list()\n",
    "\tfor t in range(len(test)):\n",
    "\t\tmodel = ARIMA(history, order=arima_order)\n",
    "\t\t# model_fit = model.fit(disp=0)\n",
    "\t\tmodel_fit = model.fit(trend='nc', disp=0)\n",
    "\t\tyhat = model_fit.forecast()[0]\n",
    "\t\tpredictions.append(yhat)\n",
    "\t\thistory.append(test[t])\n",
    "\t# calculate out of sample error\n",
    "\trmse = sqrt(mean_squared_error(test, predictions))\n",
    "\treturn rmse\n",
    "\n",
    "# evaluate combinations of p, d and q values for an ARIMA model\n",
    "def evaluate_models(dataset, p_values, d_values, q_values):\n",
    "\tdataset = dataset.astype('float32')\n",
    "\tbest_score, best_cfg = float(\"inf\"), None\n",
    "\tfor p in p_values:\n",
    "\t\tfor d in d_values:\n",
    "\t\t\tfor q in q_values:\n",
    "\t\t\t\torder = (p,d,q)\n",
    "\t\t\t\ttry:\n",
    "\t\t\t\t\trmse = evaluate_arima_model(dataset, order)\n",
    "\t\t\t\t\tif rmse < best_score:\n",
    "\t\t\t\t\t\tbest_score, best_cfg = rmse, order\n",
    "\t\t\t\t\tprint('ARIMA%s RMSE=%.3f' % (order,rmse))\n",
    "\t\t\t\texcept:\n",
    "\t\t\t\t\tcontinue\n",
    "\tprint('Best ARIMA%s RMSE=%.3f' % (best_cfg, best_score))\n",
    "\n",
    "# load dataset\n",
    "series = read_csv('dataset.csv', header=None, index_col=0, parse_dates=True, squeeze=True)\n",
    "# evaluate parameters\n",
    "p_values = range(0, 5)\n",
    "d_values = range(0, 3)\n",
    "q_values = range(0, 5)\n",
    "warnings.filterwarnings(\"ignore\")\n",
    "evaluate_models(series.values, p_values, d_values, q_values)"
   ]
  },
  {
   "cell_type": "code",
   "execution_count": 24,
   "metadata": {},
   "outputs": [],
   "source": [
    "email_notify(\"ARIMA Hyperparameters Search completed! \"+datetime.now().strftime('%a %B %d, %Y %I:%M:%S %p'))"
   ]
  },
  {
   "cell_type": "markdown",
   "metadata": {},
   "source": [
    "### 4.c) Review Residual Errors"
   ]
  },
  {
   "cell_type": "markdown",
   "metadata": {},
   "source": [
    "A good final check of a model is to review residual forecast errors. Ideally, the distribution of residual errors should be a Gaussian with a zero mean.\n",
    "\n",
    "We can check this by using summary statistics and plots to investigate the residual errors from the ARIMA(2, 1, 0) model.\n",
    "\n",
    "We can see that the distribution has a right shift and that the mean is non-zero at 1.0816. This is perhaps a sign that the predictions are biased.\n",
    "\n",
    "The graphs suggest a Gaussian-like distribution with a longer right tail, providing further evidence that perhaps a power transform might be worth exploring."
   ]
  },
  {
   "cell_type": "code",
   "execution_count": 25,
   "metadata": {},
   "outputs": [],
   "source": [
    "email_notify(\"Residual Errors Review has begun! \"+datetime.now().strftime('%a %B %d, %Y %I:%M:%S %p'))"
   ]
  },
  {
   "cell_type": "code",
   "execution_count": 26,
   "metadata": {},
   "outputs": [
    {
     "name": "stdout",
     "output_type": "stream",
     "text": [
      "RMSE: 21.733\n",
      "               0\n",
      "count  35.000000\n",
      "mean    1.081623\n",
      "std    22.022566\n",
      "min   -52.103812\n",
      "25%   -16.202288\n",
      "50%    -0.459801\n",
      "75%    12.085091\n",
      "max    51.284336\n"
     ]
    },
    {
     "data": {
      "image/png": "[encoded data removed]",
      "text/plain": [
       "<Figure size 432x288 with 2 Axes>"
      ]
     },
     "metadata": {
      "needs_background": "light"
     },
     "output_type": "display_data"
    }
   ],
   "source": [
    "# summarize residual errors for an ARIMA model\n",
    "# prepare data\n",
    "X = series.values\n",
    "X = X.astype('float32')\n",
    "train_size = int(len(X) * 0.50)\n",
    "train, test = X[0:train_size], X[train_size:]\n",
    "# walk-forward validation\n",
    "history = [x for x in train]\n",
    "predictions = list()\n",
    "for i in range(len(test)):\n",
    "\t# predict\n",
    "\tmodel = ARIMA(history, order=(2,1,0))\n",
    "\tmodel_fit = model.fit(trend='nc', disp=0)\n",
    "\tyhat = model_fit.forecast()[0]\n",
    "\tpredictions.append(yhat)\n",
    "\t# observation\n",
    "\tobs = test[i]\n",
    "\thistory.append(obs)\n",
    "# report performance\n",
    "rmse = sqrt(mean_squared_error(test, predictions))\n",
    "print('RMSE: %.3f' % rmse)\n",
    "# errors\n",
    "residuals = [test[i]-predictions[i] for i in range(len(test))]\n",
    "residuals = DataFrame(residuals)\n",
    "print(residuals.describe())\n",
    "pyplot.figure()\n",
    "pyplot.subplot(211)\n",
    "residuals.hist(ax=pyplot.gca())\n",
    "pyplot.subplot(212)\n",
    "residuals.plot(kind='kde', ax=pyplot.gca())\n",
    "pyplot.show()"
   ]
  },
  {
   "cell_type": "markdown",
   "metadata": {},
   "source": [
    "We could use this information to bias-correct predictions by adding the mean residual error of 1.0816 to each forecast made.\n",
    "\n",
    "The performance of the predictions is improved very slightly from 21.733 to 21.706, which may or may not be significant. The summary of the forecast residual errors shows that the mean was indeed moved to a value very close to zero."
   ]
  },
  {
   "cell_type": "code",
   "execution_count": 27,
   "metadata": {},
   "outputs": [
    {
     "name": "stdout",
     "output_type": "stream",
     "text": [
      "RMSE: 21.706\n",
      "                  0\n",
      "count  3.500000e+01\n",
      "mean  -1.834233e-08\n",
      "std    2.202257e+01\n",
      "min   -5.318543e+01\n",
      "25%   -1.728391e+01\n",
      "50%   -1.541424e+00\n",
      "75%    1.100347e+01\n",
      "max    5.020271e+01\n"
     ]
    },
    {
     "data": {
      "image/png": "[encoded data removed]",
      "text/plain": [
       "<Figure size 432x288 with 2 Axes>"
      ]
     },
     "metadata": {
      "needs_background": "light"
     },
     "output_type": "display_data"
    }
   ],
   "source": [
    "# summarize residual errors from bias corrected forecasts\n",
    "# prepare data\n",
    "X = series.values\n",
    "X = X.astype('float32')\n",
    "train_size = int(len(X) * 0.50)\n",
    "train, test = X[0:train_size], X[train_size:]\n",
    "# walk-forward validation\n",
    "history = [x for x in train]\n",
    "predictions = list()\n",
    "bias = 1.081623\n",
    "for i in range(len(test)):\n",
    "\t# predict\n",
    "\tmodel = ARIMA(history, order=(2,1,0))\n",
    "\tmodel_fit = model.fit(trend='nc', disp=0)\n",
    "\tyhat = bias + float(model_fit.forecast()[0])\n",
    "\tpredictions.append(yhat)\n",
    "\t# observation\n",
    "\tobs = test[i]\n",
    "\thistory.append(obs)\n",
    "# report performance\n",
    "rmse = sqrt(mean_squared_error(test, predictions))\n",
    "print('RMSE: %.3f' % rmse)\n",
    "# summarize residual errors\n",
    "residuals = [test[i]-predictions[i] for i in range(len(test))]\n",
    "residuals = DataFrame(residuals)\n",
    "print(residuals.describe())\n",
    "# plot residual errors\n",
    "pyplot.figure()\n",
    "pyplot.subplot(211)\n",
    "residuals.hist(ax=pyplot.gca())\n",
    "pyplot.subplot(212)\n",
    "residuals.plot(kind='kde', ax=pyplot.gca())\n",
    "pyplot.show()"
   ]
  },
  {
   "cell_type": "code",
   "execution_count": 28,
   "metadata": {},
   "outputs": [],
   "source": [
    "email_notify(\"Residual Errors Review completed! \"+datetime.now().strftime('%a %B %d, %Y %I:%M:%S %p'))"
   ]
  },
  {
   "cell_type": "code",
   "execution_count": 29,
   "metadata": {},
   "outputs": [],
   "source": [
    "email_notify(\"Model Fitting and Evaluation completed! \"+datetime.now().strftime('%a %B %d, %Y %I:%M:%S %p'))"
   ]
  },
  {
   "cell_type": "markdown",
   "metadata": {},
   "source": [
    "## Section 5. Finalize and Deploy Model"
   ]
  },
  {
   "cell_type": "markdown",
   "metadata": {},
   "source": [
    "After models have been developed and a final model selected, it must be validated and finalized. Validation is an optional part of the process, but one that provides a ‘last check’ to ensure we have not fooled or lied to ourselves.\n",
    "\n",
    "This section includes the following steps:\n",
    "\n",
    "* Finalize Model: Train and save the final model.\n",
    "* Make Prediction: Load the finalized model and make a prediction.\n",
    "* Validate Model: Load and validate the final model."
   ]
  },
  {
   "cell_type": "code",
   "execution_count": 30,
   "metadata": {},
   "outputs": [],
   "source": [
    "email_notify(\"Model Finalization and Deployment has begun! \"+datetime.now().strftime('%a %B %d, %Y %I:%M:%S %p'))"
   ]
  },
  {
   "cell_type": "markdown",
   "metadata": {},
   "source": [
    "### 5.a) Finalize Model"
   ]
  },
  {
   "cell_type": "markdown",
   "metadata": {},
   "source": [
    "Finalizing the model involves fitting an ARIMA model on the entire dataset, in this case, on a transformed version of the entire dataset. Once fit, the model can be saved to file for later use.\n",
    "\n",
    "The code below trains an ARIMA(2,1,0) model on the dataset and saves the whole fit object and the bias to file. Running the code creates two local files:\n",
    "\n",
    "* model.pkl This is the ARIMAResult object from the call to ARIMA.fit(). This includes the coefficients and all other internal data returned when fitting the model.\n",
    "* model_bias.npy This is the bias value stored as a one-row, one-column NumPy array."
   ]
  },
  {
   "cell_type": "code",
   "execution_count": 31,
   "metadata": {},
   "outputs": [],
   "source": [
    "# save finalized model to file\n",
    "# monkey patch around bug in ARIMA class\n",
    "def __getnewargs__(self):\n",
    "\treturn ((self.endog),(self.k_lags, self.k_diff, self.k_ma))\n",
    "\n",
    "ARIMA.__getnewargs__ = __getnewargs__\n",
    "\n",
    "# load data\n",
    "series = read_csv('dataset.csv', header=None, index_col=0, parse_dates=True, squeeze=True)\n",
    "# prepare data\n",
    "X = series.values\n",
    "X = X.astype('float32')\n",
    "# fit model\n",
    "model = ARIMA(X, order=(2,1,0))\n",
    "model_fit = model.fit(trend='nc', disp=0)\n",
    "# bias constant, could be calculated from in-sample mean residual\n",
    "bias = 1.081623\n",
    "# save model\n",
    "model_fit.save('model.pkl')\n",
    "np.save('model_bias.npy', [bias])"
   ]
  },
  {
   "cell_type": "markdown",
   "metadata": {},
   "source": [
    "### 5.b) Make Prediction"
   ]
  },
  {
   "cell_type": "markdown",
   "metadata": {},
   "source": [
    "A natural case may be to load the model and make a single forecast. This is relatively straightforward and involves restoring the saved model and the bias and calling the forecast() function.\n",
    "\n",
    "Running the example prints the prediction of about 540. If we peek inside validation.csv, we can see that the value on the first row for the next time period is 568. The prediction is in the right ballpark."
   ]
  },
  {
   "cell_type": "code",
   "execution_count": 32,
   "metadata": {},
   "outputs": [
    {
     "name": "stdout",
     "output_type": "stream",
     "text": [
      "Predicted: 540.013\n"
     ]
    }
   ],
   "source": [
    "# load finalized model and make a prediction\n",
    "model_fit = ARIMAResults.load('model.pkl')\n",
    "bias = np.load('model_bias.npy')\n",
    "yhat = bias + float(model_fit.forecast()[0])\n",
    "print('Predicted: %.3f' % yhat)"
   ]
  },
  {
   "cell_type": "markdown",
   "metadata": {},
   "source": [
    "### 5.c) Validate Model"
   ]
  },
  {
   "cell_type": "markdown",
   "metadata": {},
   "source": [
    "We can load the model and use it in a pretend operational manner. In the test harness section, we saved the final 10 years of the original dataset in a separate file to validate the final model.\n",
    "\n",
    "We can load this validation.csv file now and use it to see how well our model really is on “unseen” data. There are two ways we might proceed:\n",
    "\n",
    "* Load the model and use it to forecast the next 10 years. The forecast beyond the first one or two years will quickly start to degrade in skill.\n",
    "* Load the model and use it in a rolling-forecast manner, updating the transform and model for each time step. This is the preferred method as it is how one would use this model in practice as it would achieve the best performance.\n",
    "\n",
    "As with model evaluation in the previous sections, we will make predictions in a rolling-forecast manner. This means that we will step over lead times in the validation dataset and take the observations as an update to the history.\n",
    "\n",
    "The final RMSE for the validation period is predicted at 16 liters per capita per day. This is not too different from the expected error of 21, but we would expect that it is also not too different from a simple persistence model. The forecast does have the characteristics of a persistence forecast. This suggests that although this time series does have an obvious trend, it is still a reasonably difficult problem."
   ]
  },
  {
   "cell_type": "code",
   "execution_count": 33,
   "metadata": {},
   "outputs": [
    {
     "name": "stdout",
     "output_type": "stream",
     "text": [
      ">Predicted=540.013, Expected=568\n",
      ">Predicted=571.589, Expected=575\n",
      ">Predicted=573.289, Expected=579\n",
      ">Predicted=579.561, Expected=587\n",
      ">Predicted=588.063, Expected=602\n",
      ">Predicted=603.022, Expected=594\n",
      ">Predicted=593.178, Expected=587\n",
      ">Predicted=588.558, Expected=587\n",
      ">Predicted=588.797, Expected=625\n",
      ">Predicted=627.941, Expected=613\n",
      "RMSE: 16.532\n"
     ]
    },
    {
     "data": {
      "image/png": "[encoded data removed]",
      "text/plain": [
       "<Figure size 432x288 with 1 Axes>"
      ]
     },
     "metadata": {
      "needs_background": "light"
     },
     "output_type": "display_data"
    }
   ],
   "source": [
    "# load and evaluate the finalized model on the validation dataset\n",
    "# load and prepare datasets\n",
    "X = dataset.values.astype('float32')\n",
    "history = [x for x in X]\n",
    "validation = read_csv('validation.csv', header=None, index_col=0, parse_dates=True, squeeze=True)\n",
    "y = validation.values.astype('float32')\n",
    "# load model\n",
    "model_fit = ARIMAResults.load('model.pkl')\n",
    "bias = np.load('model_bias.npy')\n",
    "# make first prediction\n",
    "predictions = list()\n",
    "yhat = bias + float(model_fit.forecast()[0])\n",
    "predictions.append(yhat)\n",
    "history.append(y[0])\n",
    "print('>Predicted=%.3f, Expected=%3.f' % (yhat, y[0]))\n",
    "# rolling forecasts\n",
    "for i in range(1, len(y)):\n",
    "\t# predict\n",
    "\tmodel = ARIMA(history, order=(2,1,0))\n",
    "\tmodel_fit = model.fit(trend='nc', disp=0)\n",
    "\tyhat = bias + float(model_fit.forecast()[0])\n",
    "\tpredictions.append(yhat)\n",
    "\t# observation\n",
    "\tobs = y[i]\n",
    "\thistory.append(obs)\n",
    "\tprint('>Predicted=%.3f, Expected=%3.f' % (yhat, obs))\n",
    "# report performance\n",
    "rmse = sqrt(mean_squared_error(y, predictions))\n",
    "print('RMSE: %.3f' % rmse)\n",
    "pyplot.plot(y)\n",
    "pyplot.plot(predictions, color='red')\n",
    "pyplot.show()"
   ]
  },
  {
   "cell_type": "code",
   "execution_count": 34,
   "metadata": {},
   "outputs": [],
   "source": [
    "email_notify(\"Model Finalization and Deployment completed! \"+datetime.now().strftime('%a %B %d, %Y %I:%M:%S %p'))"
   ]
  },
  {
   "cell_type": "code",
   "execution_count": 35,
   "metadata": {},
   "outputs": [
    {
     "name": "stdout",
     "output_type": "stream",
     "text": [
      "Total time for the script: 0:02:28.731032\n"
     ]
    }
   ],
   "source": [
    "print ('Total time for the script:',(datetime.now() - startTimeScript))"
   ]
  }
 ],
 "metadata": {
  "kernelspec": {
   "display_name": "Python 3",
   "language": "python",
   "name": "python3"
  },
  "language_info": {
   "codemirror_mode": {
    "name": "ipython",
    "version": 3
   },
   "file_extension": ".py",
   "mimetype": "text/x-python",
   "name": "python",
   "nbconvert_exporter": "python",
   "pygments_lexer": "ipython3",
   "version": "3.6.7"
  }
 },
 "nbformat": 4,
 "nbformat_minor": 2
}
