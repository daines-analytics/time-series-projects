{
 "cells": [
  {
   "cell_type": "markdown",
   "metadata": {},
   "source": [
    "# Time Series Model for Monthly Sales of French Champagne Using Python\n",
    "### David Lowe\n",
    "### February 6, 2019\n",
    "\n",
    "Template Credit: Adapted from a template made available by Dr. Jason Brownlee of Machine Learning Mastery. https://machinelearningmastery.com/\n",
    "\n",
    "Code Credit: Adapted from a blog post made available by Dr. Jason Brownlee of Machine Learning Mastery. https://machinelearningmastery.com/time-series-forecast-study-python-monthly-sales-french-champagne/\n",
    "\n",
    "PREFACE: This is a replication of Python code from Dr. Brownlee's blog post on time series. I have combined all the code snippets into one script so that I can turn the whole process into a template. The comments and analysis were also part of the blog post and annotated here to explain each coding block.\n",
    "\n",
    "SUMMARY: The purpose of this project is to construct a time series prediction model and document the end-to-end steps using a template. The Monthly Sales of French Champagne dataset is a time series situation where we are trying to forecast future outcomes based on the past data points.\n",
    "\n",
    "INTRODUCTION: The problem is to predict the number of monthly sales of champagne for the Perrin Freres label (named for a region in France). The dataset provides the number of monthly sales of champagne from January 1964 to September 1972, or just under 10 years of data. The values are a count of millions of sales and there are 105 observations. The dataset is credited to Makridakis and Wheelwright, 1989.\n",
    "\n",
    "ANALYSIS: The baseline prediction (or persistence) for the dataset resulted in an RMSE of 3186.501. The manually configured model was simplified to ARIMA(1,1,1) and produced an RMSE of 956.958, which is dramatically better than the persistence RMSE of 3186.501. After applying the grid search technique to the dataset, the final RMSE of the ARIMA(0,0,1) model was 939.464, which is slightly lower than the manually configured ARIMA from the previous section. This difference may or may not be statistically significant. At the end, we selected ARIMA(0,0,1) as the final model.\n",
    "\n",
    "CONCLUSION: The final RMSE for the validation period is predicted at 361 million sales. This is much better than the expectation of an error of a little more than 924 million sales per month. At this scale on the plot, the 12 months of forecast sales figures look fantastic.\n",
    "\n",
    "Dataset Used: Monthly Sales of French Champagne\n",
    "\n",
    "Dataset ML Model: Time series forecast with numerical attributes\n",
    "\n",
    "Dataset Reference: https://datamarket.com/data/set/22r5/perrin-freres-monthly-champagne-sales-millions-64-72#!ds=22r5&display=line\n",
    "\n",
    "One potential source of performance benchmark: https://machinelearningmastery.com/time-series-forecast-study-python-monthly-sales-french-champagne/\n",
    "\n",
    "The project aims to touch on the following areas:\n",
    "\n",
    "* Document a predictive modeling problem end-to-end\n",
    "* Explore data cleaning and transformation options\n",
    "* Explore various algorithms for baselining the model performance\n",
    "* Explore tuning techniques for improving the model performance\n",
    "\n",
    "A time series predictive modeling project genrally can be broken down into about five major tasks:\n",
    "\n",
    "1. Define Problem and Acquire Data\n",
    "2. Inspect and Explore Data\n",
    "3. Clean and Pre-Process Data\n",
    "4. Fit and Evaluate Models\n",
    "5. Finalize and Deploy Model"
   ]
  },
  {
   "cell_type": "markdown",
   "metadata": {},
   "source": [
    "## Section 1. Define Problem and Acquire Data"
   ]
  },
  {
   "cell_type": "markdown",
   "metadata": {},
   "source": [
    "### 1.a) Load Libraries"
   ]
  },
  {
   "cell_type": "code",
   "execution_count": 1,
   "metadata": {},
   "outputs": [],
   "source": [
    "import numpy\n",
    "import pandas\n",
    "import smtplib\n",
    "import warnings\n",
    "from datetime import datetime\n",
    "from email.message import EmailMessage\n",
    "from math import exp\n",
    "from math import log\n",
    "from math import sqrt\n",
    "from matplotlib import pyplot\n",
    "from pandas import read_csv\n",
    "from pandas import DataFrame\n",
    "from pandas import Grouper\n",
    "from pandas import Series\n",
    "from sklearn.metrics import mean_squared_error\n",
    "from scipy.stats import boxcox\n",
    "from statsmodels.tsa.arima_model import ARIMA\n",
    "from statsmodels.tsa.arima_model import ARIMAResults\n",
    "from statsmodels.tsa.stattools import adfuller\n",
    "from statsmodels.graphics.gofplots import qqplot\n",
    "from statsmodels.graphics.tsaplots import plot_acf\n",
    "from statsmodels.graphics.tsaplots import plot_pacf\n",
    "from sklearn.metrics import mean_squared_error\n",
    "\n",
    "# Create a random seed number variable for reproducible results\n",
    "seedNum = 888"
   ]
  },
  {
   "cell_type": "markdown",
   "metadata": {},
   "source": [
    "### 1.b) Set up the email notification function"
   ]
  },
  {
   "cell_type": "code",
   "execution_count": 2,
   "metadata": {},
   "outputs": [],
   "source": [
    "def email_notify(msg_text):\n",
    "    sender = \"luozhi2488@gmail.com\"\n",
    "    receiver = \"dave@contactdavidlowe.com\"\n",
    "    with open('../email_credential.txt') as f:\n",
    "        password = f.readline()\n",
    "        f.close()\n",
    "    msg = EmailMessage()\n",
    "    msg.set_content(msg_text)\n",
    "    msg['Subject'] = 'Notification from Python Time Series Script'\n",
    "    msg['From'] = sender\n",
    "    msg['To'] = receiver\n",
    "    server = smtplib.SMTP('smtp.gmail.com', 587)\n",
    "    server.starttls()\n",
    "    server.login(sender, password)\n",
    "    server.send_message(msg)\n",
    "    server.quit()"
   ]
  },
  {
   "cell_type": "code",
   "execution_count": 3,
   "metadata": {},
   "outputs": [],
   "source": [
    "email_notify(\"Program Library and Data Loading has begun! \"+datetime.now().strftime('%a %B %d, %Y %I:%M:%S %p'))"
   ]
  },
  {
   "cell_type": "markdown",
   "metadata": {},
   "source": [
    "### 1.c) Acquire and Load the Data"
   ]
  },
  {
   "cell_type": "markdown",
   "metadata": {},
   "source": [
    "The dataset is not current. This means that we cannot easily collect updated data to validate the model. Therefore we will pretend that it is September 1971 and withhold the last one year of data from analysis and model selection. This final year of data will be used to validate the final model.\n",
    "\n",
    "The code below will load the dataset as a Pandas Series and split into two, one for model development (dataset.csv) and the other for validation (validation.csv). The specific contents of these files are:\n",
    "\n",
    "* dataset.csv: Observations from January 1964 to September 1971 (93 observations)\n",
    "* validation.csv: Observations from October 1971 to September 1972 (12 observations)\n",
    "\n",
    "The validation dataset is about 11% of the original dataset."
   ]
  },
  {
   "cell_type": "code",
   "execution_count": 4,
   "metadata": {},
   "outputs": [],
   "source": [
    "startTimeScript = datetime.now()"
   ]
  },
  {
   "cell_type": "code",
   "execution_count": 5,
   "metadata": {},
   "outputs": [
    {
     "name": "stdout",
     "output_type": "stream",
     "text": [
      "Dataset 93, Validation 12\n"
     ]
    }
   ],
   "source": [
    "# separate out a validation dataset\n",
    "series = read_csv('champagne.csv', header=0, index_col=0, parse_dates=True, squeeze=True)\n",
    "split_point = len(series) - 12\n",
    "dataset, validation = series[0:split_point], series[split_point:]\n",
    "print('Dataset %d, Validation %d' % (len(dataset), len(validation)))\n",
    "dataset.to_csv('dataset.csv')\n",
    "validation.to_csv('validation.csv')"
   ]
  },
  {
   "cell_type": "markdown",
   "metadata": {},
   "source": [
    "### 1.d) Establish the Persistent Model"
   ]
  },
  {
   "cell_type": "markdown",
   "metadata": {},
   "source": [
    "The first step before getting bogged down in data analysis and modeling is to establish a baseline of performance. This will provide both a template for evaluating models using the proposed test harness and a performance measure by which all more elaborate predictive models can be compared.\n",
    "\n",
    "The baseline prediction for time series forecasting is called the naive forecast, or persistence. This is where the observation from the previous time step is used as the prediction for the observation at the next time step.\n",
    "\n",
    "Candidate models will be evaluated using walk-forward validation. This is because a rolling-forecast type model is required from the problem definition. This is where one-step forecasts are needed given all available data.\n",
    "\n",
    "The walk-forward validation will work as follows:\n",
    "\n",
    "* The first 50% of the dataset will be held back to train the model.\n",
    "* The remaining 50% of the dataset will be iterated and test the model.\n",
    "* For each step in the test dataset:\n",
    "    * A model will be trained.\n",
    "    * A one-step prediction made and the prediction stored for later evaluation.\n",
    "    * The actual observation from the test dataset will be added to the training dataset for the next iteration.\n",
    "* The predictions made during the iteration of the test dataset will be evaluated and an RMSE score reported.\n",
    "\n",
    "Given the small size of the data, we will allow a model to be re-trained given all available data prior to each prediction."
   ]
  },
  {
   "cell_type": "code",
   "execution_count": 6,
   "metadata": {},
   "outputs": [
    {
     "name": "stdout",
     "output_type": "stream",
     "text": [
      ">Predicted=5428.000, Expected=8314\n",
      ">Predicted=8314.000, Expected=10651\n",
      ">Predicted=10651.000, Expected=3633\n",
      ">Predicted=3633.000, Expected=4292\n",
      ">Predicted=4292.000, Expected=4154\n",
      ">Predicted=4154.000, Expected=4121\n",
      ">Predicted=4121.000, Expected=4647\n",
      ">Predicted=4647.000, Expected=4753\n",
      ">Predicted=4753.000, Expected=3965\n",
      ">Predicted=3965.000, Expected=1723\n",
      ">Predicted=1723.000, Expected=5048\n",
      ">Predicted=5048.000, Expected=6922\n",
      ">Predicted=6922.000, Expected=9858\n",
      ">Predicted=9858.000, Expected=11331\n",
      ">Predicted=11331.000, Expected=4016\n",
      ">Predicted=4016.000, Expected=3957\n",
      ">Predicted=3957.000, Expected=4510\n",
      ">Predicted=4510.000, Expected=4276\n",
      ">Predicted=4276.000, Expected=4968\n",
      ">Predicted=4968.000, Expected=4677\n",
      ">Predicted=4677.000, Expected=3523\n",
      ">Predicted=3523.000, Expected=1821\n",
      ">Predicted=1821.000, Expected=5222\n",
      ">Predicted=5222.000, Expected=6872\n",
      ">Predicted=6872.000, Expected=10803\n",
      ">Predicted=10803.000, Expected=13916\n",
      ">Predicted=13916.000, Expected=2639\n",
      ">Predicted=2639.000, Expected=2899\n",
      ">Predicted=2899.000, Expected=3370\n",
      ">Predicted=3370.000, Expected=3740\n",
      ">Predicted=3740.000, Expected=2927\n",
      ">Predicted=2927.000, Expected=3986\n",
      ">Predicted=3986.000, Expected=4217\n",
      ">Predicted=4217.000, Expected=1738\n",
      ">Predicted=1738.000, Expected=5221\n",
      ">Predicted=5221.000, Expected=6424\n",
      ">Predicted=6424.000, Expected=9842\n",
      ">Predicted=9842.000, Expected=13076\n",
      ">Predicted=13076.000, Expected=3934\n",
      ">Predicted=3934.000, Expected=3162\n",
      ">Predicted=3162.000, Expected=4286\n",
      ">Predicted=4286.000, Expected=4676\n",
      ">Predicted=4676.000, Expected=5010\n",
      ">Predicted=5010.000, Expected=4874\n",
      ">Predicted=4874.000, Expected=4633\n",
      ">Predicted=4633.000, Expected=1659\n",
      ">Predicted=1659.000, Expected=5951\n",
      "RMSE: 3186.501\n"
     ]
    }
   ],
   "source": [
    "# evaluate persistence model on time series\n",
    "# load data\n",
    "series = read_csv('dataset.csv', header=None, index_col=0, parse_dates=True, squeeze=True)\n",
    "# prepare data\n",
    "X = series.values\n",
    "X = X.astype('float32')\n",
    "train_size = int(len(X) * 0.50)\n",
    "train, test = X[0:train_size], X[train_size:]\n",
    "# walk-forward validation\n",
    "history = [x for x in train]\n",
    "predictions = list()\n",
    "for i in range(len(test)):\n",
    "\t# predict\n",
    "\tyhat = history[-1]\n",
    "\tpredictions.append(yhat)\n",
    "\t# observation\n",
    "\tobs = test[i]\n",
    "\thistory.append(obs)\n",
    "\tprint('>Predicted=%.3f, Expected=%3.f' % (yhat, obs))\n",
    "# report performance\n",
    "rmse = sqrt(mean_squared_error(test, predictions))\n",
    "print('RMSE: %.3f' % rmse)"
   ]
  },
  {
   "cell_type": "code",
   "execution_count": 7,
   "metadata": {},
   "outputs": [],
   "source": [
    "email_notify(\"Program Library and Data Loading completed! \"+datetime.now().strftime('%a %B %d, %Y %I:%M:%S %p'))"
   ]
  },
  {
   "cell_type": "markdown",
   "metadata": {},
   "source": [
    "## Section 2. Inspect and Explore Data"
   ]
  },
  {
   "cell_type": "code",
   "execution_count": 8,
   "metadata": {},
   "outputs": [],
   "source": [
    "email_notify(\"Data Inspection and Exploration has begun! \"+datetime.now().strftime('%a %B %d, %Y %I:%M:%S %p'))"
   ]
  },
  {
   "cell_type": "markdown",
   "metadata": {},
   "source": [
    "### 2.a) Summary Statistics"
   ]
  },
  {
   "cell_type": "markdown",
   "metadata": {},
   "source": [
    "Summary statistics provide a quick look at the limits of observed values. It can help to get a quick idea of what we are working with. Some observations from these statistics include:\n",
    "\n",
    "* The number of observations (count) matches our expectation, meaning we are handling the data correctly.\n",
    "* The mean is about 4,641, which we might consider our level in this series.\n",
    "* The standard deviation (average spread from the mean) is relatively large at 2,486 sales.\n",
    "* The percentiles along with the standard deviation do suggest a large spread to the data."
   ]
  },
  {
   "cell_type": "code",
   "execution_count": 9,
   "metadata": {},
   "outputs": [
    {
     "name": "stdout",
     "output_type": "stream",
     "text": [
      "count       93.000000\n",
      "mean      4641.118280\n",
      "std       2486.403841\n",
      "min       1573.000000\n",
      "25%       3036.000000\n",
      "50%       4016.000000\n",
      "75%       5048.000000\n",
      "max      13916.000000\n",
      "Name: 1, dtype: float64\n"
     ]
    }
   ],
   "source": [
    "# summary statistics of time series\n",
    "print(series.describe())"
   ]
  },
  {
   "cell_type": "markdown",
   "metadata": {},
   "source": [
    "### 2.b) Line Plot"
   ]
  },
  {
   "cell_type": "markdown",
   "metadata": {},
   "source": [
    "A line plot of a time series can provide a lot of insight into the problem. Some observations from the plot include:\n",
    "\n",
    "* There may be an increasing trend of sales over time.\n",
    "* There appears to be systematic seasonality to the sales for each year.\n",
    "* The seasonal signal appears to be growing over time, suggesting a multiplicative relationship (increasing change).\n",
    "* There do not appear to be any obvious outliers.\n",
    "* The seasonality suggests that the series is almost certainly non-stationary.\n",
    "\n",
    "There may be benefit in explicitly modeling the seasonal component and removing it. We may also explore using differencing with one or two levels in order to make the series stationary. In addition, the increasing trend or growth in the seasonal component may suggest the use of a log or other power transform."
   ]
  },
  {
   "cell_type": "code",
   "execution_count": 10,
   "metadata": {},
   "outputs": [
    {
     "data": {
      "image/png": "[encoded data removed]",
      "text/plain": [
       "<Figure size 432x288 with 1 Axes>"
      ]
     },
     "metadata": {
      "needs_background": "light"
     },
     "output_type": "display_data"
    }
   ],
   "source": [
    "# line plots of time series\n",
    "series.plot()\n",
    "pyplot.show()"
   ]
  },
  {
   "cell_type": "markdown",
   "metadata": {},
   "source": [
    "### 2.c) Seasonal Line Plots"
   ]
  },
  {
   "cell_type": "markdown",
   "metadata": {},
   "source": [
    "We can confirm the assumption that the seasonality is a yearly cycle by eyeballing line plots of the dataset by year. The example below takes the 7 full years of data as separate groups and creates one line plot for each. The line plots are aligned vertically to help spot any year-to-year pattern.\n",
    "\n",
    "We can clearly see a dip each August and a rise from each August to December. This pattern appears the same each year, although at different levels. This will help with any explicitly season-based modeling later."
   ]
  },
  {
   "cell_type": "code",
   "execution_count": 11,
   "metadata": {},
   "outputs": [
    {
     "data": {
      "image/png": "[encoded data removed]",
      "text/plain": [
       "<Figure size 432x288 with 7 Axes>"
      ]
     },
     "metadata": {
      "needs_background": "light"
     },
     "output_type": "display_data"
    }
   ],
   "source": [
    "groups = series['1964':'1970'].groupby(Grouper(freq='A'))\n",
    "years = DataFrame()\n",
    "pyplot.figure()\n",
    "i = 1\n",
    "n_groups = len(groups)\n",
    "for name, group in groups:\n",
    "\tpyplot.subplot((n_groups*100) + 10 + i)\n",
    "\ti += 1\n",
    "\tpyplot.plot(group)\n",
    "pyplot.show()"
   ]
  },
  {
   "cell_type": "markdown",
   "metadata": {},
   "source": [
    "### 2.d) Density Plots"
   ]
  },
  {
   "cell_type": "markdown",
   "metadata": {},
   "source": [
    "Reviewing plots of the density of observations can provide further insight into the structure of the data. Some observations from the plots include:\n",
    "\n",
    "* The distribution is not Gaussian.\n",
    "* The shape has a long right tail and may suggest an exponential distribution."
   ]
  },
  {
   "cell_type": "code",
   "execution_count": 12,
   "metadata": {},
   "outputs": [
    {
     "data": {
      "image/png": "[encoded data removed]",
      "text/plain": [
       "<Figure size 432x288 with 2 Axes>"
      ]
     },
     "metadata": {
      "needs_background": "light"
     },
     "output_type": "display_data"
    }
   ],
   "source": [
    "# density plots of time series\n",
    "pyplot.figure(1)\n",
    "pyplot.subplot(211)\n",
    "series.hist()\n",
    "pyplot.subplot(212)\n",
    "series.plot(kind='kde')\n",
    "pyplot.show()"
   ]
  },
  {
   "cell_type": "markdown",
   "metadata": {},
   "source": [
    "### 2.e) Box and Whisker Plots"
   ]
  },
  {
   "cell_type": "markdown",
   "metadata": {},
   "source": [
    "We can group the monthly data by year and get an idea of the spread of observations for each year and how this may be changing. We do expect to see some trend (increasing mean or median), but it may be interesting to see how the rest of the distribution may be changing.\n",
    "\n",
    "The example below groups the observations by year and creates one box and whisker plot for each year of observations. The last year (1971) only contains 9 months and may not be a useful comparison with the 12 months of observations for other years. Therefore, only data between 1964 and 1970 was plotted.\n",
    "\n",
    "Some observations from reviewing the plot include:\n",
    "\n",
    "* The median values for each year (red line) may show an increasing trend.\n",
    "* The spread or middle 50% of the data (blue boxes) does appear reasonably stable.\n",
    "* There are outliers each year (black crosses); these may be the tops or bottoms of the seasonal cycle.\n",
    "* The last year, 1970, does look different from the trend in prior years.\n",
    "\n",
    "The observations suggest perhaps some growth trend over the years and outliers that may be a part of the seasonal cycle. This yearly view of the data is an interesting avenue and could be pursued further by looking at summary statistics from year-to-year and changes in summary stats from year-to-year."
   ]
  },
  {
   "cell_type": "code",
   "execution_count": 13,
   "metadata": {},
   "outputs": [
    {
     "data": {
      "image/png": "[encoded data removed]",
      "text/plain": [
       "<Figure size 432x288 with 1 Axes>"
      ]
     },
     "metadata": {
      "needs_background": "light"
     },
     "output_type": "display_data"
    }
   ],
   "source": [
    "# boxplots of time series\n",
    "groups = series['1964':'1970'].groupby(Grouper(freq='A'))\n",
    "years = DataFrame()\n",
    "for name, group in groups:\n",
    "\tyears[name.year] = group.values\n",
    "years.boxplot()\n",
    "pyplot.show()"
   ]
  },
  {
   "cell_type": "code",
   "execution_count": 14,
   "metadata": {},
   "outputs": [],
   "source": [
    "email_notify(\"Data Inspection and Exploration completed! \"+datetime.now().strftime('%a %B %d, %Y %I:%M:%S %p'))"
   ]
  },
  {
   "cell_type": "markdown",
   "metadata": {},
   "source": [
    "## Section 3. Clean and Pre-Process Data"
   ]
  },
  {
   "cell_type": "markdown",
   "metadata": {},
   "source": [
    "This section currently is not applicable to this iteration of the project."
   ]
  },
  {
   "cell_type": "code",
   "execution_count": 15,
   "metadata": {},
   "outputs": [],
   "source": [
    "email_notify(\"Data Cleaning and Pre-Processing has begun! \"+datetime.now().strftime('%a %B %d, %Y %I:%M:%S %p'))"
   ]
  },
  {
   "cell_type": "code",
   "execution_count": 16,
   "metadata": {},
   "outputs": [],
   "source": [
    "email_notify(\"Data Cleaning and Pre-Processing completed! \"+datetime.now().strftime('%a %B %d, %Y %I:%M:%S %p'))"
   ]
  },
  {
   "cell_type": "markdown",
   "metadata": {},
   "source": [
    "## Section 4. Fit and Evaluate Models"
   ]
  },
  {
   "cell_type": "markdown",
   "metadata": {},
   "source": [
    "In this section, we will develop Autoregressive Integrated Moving Average or ARIMA models for the problem. We will approach modeling by both manual and automatic configuration of the ARIMA model. This will be followed by a third step of investigating the residual errors of the chosen model.\n",
    "\n",
    "* Manually Configure the ARIMA.\n",
    "* Automatically Configure the ARIMA.\n",
    "* Review Residual Errors."
   ]
  },
  {
   "cell_type": "code",
   "execution_count": 17,
   "metadata": {},
   "outputs": [],
   "source": [
    "email_notify(\"Model Fitting and Evaluation has begun! \"+datetime.now().strftime('%a %B %d, %Y %I:%M:%S %p'))"
   ]
  },
  {
   "cell_type": "markdown",
   "metadata": {},
   "source": [
    "### 4.a) Manually Configured ARIMA"
   ]
  },
  {
   "cell_type": "code",
   "execution_count": 18,
   "metadata": {},
   "outputs": [],
   "source": [
    "email_notify(\"Performing Manual ARIMA has begun! \"+datetime.now().strftime('%a %B %d, %Y %I:%M:%S %p'))"
   ]
  },
  {
   "cell_type": "markdown",
   "metadata": {},
   "source": [
    "#### 4.a.i) Create Stationary Version of Time Series"
   ]
  },
  {
   "cell_type": "markdown",
   "metadata": {},
   "source": [
    "The ARIMA(p,d,q) model requires three parameters and is traditionally configured manually. Analysis of the time series data assumes that we are working with a stationary time series.\n",
    "\n",
    "The time series is almost certainly non-stationary. We can make it stationary this by first differencing the series and using a statistical test to confirm that the result is stationary.\n",
    "\n",
    "The seasonality in the series is seemingly year-to-year. Seasonal data can be differenced by subtracting the observation from the same time in the previous cycle, in this case the same month in the previous year. This does mean that we will lose the first year of observations as there is no prior year to difference with.\n",
    "\n",
    "The results show that the test statistic value -7.134898 is smaller than the critical value at 1% of -3.515. This suggests that we can reject the null hypothesis with a significance level of less than 1% (i.e. a low probability that the result is a statistical fluke).\n",
    "\n",
    "Rejecting the null hypothesis means that the process has no unit root, and in turn that the time series is stationary or does not have time-dependent structure. The plot does not show any obvious seasonality or trend, suggesting the seasonally differenced dataset is a good starting point for modeling.\n",
    "\n",
    "We will use this dataset as an input to the ARIMA model. It also suggests that no further differencing may be required, and that the d parameter may be set to 0."
   ]
  },
  {
   "cell_type": "code",
   "execution_count": 19,
   "metadata": {},
   "outputs": [
    {
     "name": "stdout",
     "output_type": "stream",
     "text": [
      "ADF Statistic: -7.134898\n",
      "p-value: 0.000000\n",
      "Critical Values:\n",
      "\t1%: -3.515\n",
      "\t5%: -2.898\n",
      "\t10%: -2.586\n"
     ]
    },
    {
     "data": {
      "image/png": "[encoded data removed]",
      "text/plain": [
       "<Figure size 432x288 with 1 Axes>"
      ]
     },
     "metadata": {
      "needs_background": "light"
     },
     "output_type": "display_data"
    }
   ],
   "source": [
    "# create and summarize stationary version of time series\n",
    "# create a differenced series\n",
    "def difference(dataset, interval=1):\n",
    "\tdiff = list()\n",
    "\tfor i in range(interval, len(dataset)):\n",
    "\t\tvalue = dataset[i] - dataset[i - interval]\n",
    "\t\tdiff.append(value)\n",
    "\treturn Series(diff)\n",
    "\n",
    "X = series.values\n",
    "X = X.astype('float32')\n",
    "# difference data\n",
    "months_in_year = 12\n",
    "stationary = difference(X, months_in_year)\n",
    "stationary.index = series.index[months_in_year:]\n",
    "# check if stationary\n",
    "result = adfuller(stationary)\n",
    "print('ADF Statistic: %f' % result[0])\n",
    "print('p-value: %f' % result[1])\n",
    "print('Critical Values:')\n",
    "for key, value in result[4].items():\n",
    "\tprint('\\t%s: %.3f' % (key, value))\n",
    "# save\n",
    "stationary.to_csv('stationary.csv')\n",
    "# plot\n",
    "stationary.plot()\n",
    "pyplot.show()"
   ]
  },
  {
   "cell_type": "markdown",
   "metadata": {},
   "source": [
    "#### 4.a.ii) ACF and PACF Plots"
   ]
  },
  {
   "cell_type": "markdown",
   "metadata": {},
   "source": [
    "The next first step is to select the lag values for the Autoregression (AR) and Moving Average (MA) parameters, p and q respectively. We can do this by reviewing Autocorrelation Function (ACF) and Partial Autocorrelation Function (PACF) plots.\n",
    "\n",
    "Note, we are now using the seasonally differenced stationary.csv as our dataset.\n",
    "\n",
    "Below are some observations from the plots.\n",
    "\n",
    "* The ACF shows a significant lag for 1 month.\n",
    "* The PACF shows a significant lag for 1 month, with perhaps some significant lag at 12 and 13 months.\n",
    "* Both the ACF and PACF show a drop-off at the same point, perhaps suggesting a mix of AR and MA.\n",
    "\n",
    "A good starting point for the p and q values is also 1. The PACF plot also suggests that there is still some seasonality present in the differenced data.\n",
    "\n",
    "We may consider a better model of seasonality, such as modeling it directly and explicitly removing it from the model rather than seasonal differencing.\n",
    "\n"
   ]
  },
  {
   "cell_type": "code",
   "execution_count": 20,
   "metadata": {},
   "outputs": [
    {
     "name": "stderr",
     "output_type": "stream",
     "text": [
      "C:\\Users\\david.lowe\\Anaconda3\\lib\\site-packages\\statsmodels\\regression\\linear_model.py:1283: RuntimeWarning: invalid value encountered in sqrt\n",
      "  return rho, np.sqrt(sigmasq)\n"
     ]
    },
    {
     "data": {
      "image/png": "[encoded data removed]",
      "text/plain": [
       "<Figure size 432x288 with 2 Axes>"
      ]
     },
     "metadata": {
      "needs_background": "light"
     },
     "output_type": "display_data"
    }
   ],
   "source": [
    "# ACF and PACF plots of time series\n",
    "series = read_csv('stationary.csv', header=None, index_col=0, parse_dates=True, squeeze=True)\n",
    "pyplot.figure()\n",
    "pyplot.subplot(211)\n",
    "plot_acf(series, ax=pyplot.gca())\n",
    "pyplot.subplot(212)\n",
    "plot_pacf(series, ax=pyplot.gca())\n",
    "pyplot.show()"
   ]
  },
  {
   "cell_type": "markdown",
   "metadata": {},
   "source": [
    "#### 4.a.iii) Evaluate Manually Configured ARIMA Model"
   ]
  },
  {
   "cell_type": "markdown",
   "metadata": {},
   "source": [
    "This quick analysis suggests an ARIMA(1,0,1) on the stationary data may be a good starting point.\n",
    "\n",
    "The historic observations will be seasonally differenced prior to the fitting of each ARIMA model. The differencing will be inverted for all predictions made to make them directly comparable to the expected observation in the original sale count units.\n",
    "\n",
    "Experimentation shows that this configuration of ARIMA does not converge and results in errors by the underlying library. Further experimentation showed that adding one level of differencing to the stationary data made the model more stable. The model can be extended to ARIMA(1,1,1).\n",
    "\n",
    "We will also disable the automatic addition of a trend constant from the model by setting the ‘trend‘ argument to ‘nc‘ for no constant in the call to fit(). From experimentation, I find that this can result in better forecast performance on some problems.\n",
    "\n",
    "Running this example results in an RMSE of 956.958, which is dramatically better than the persistence RMSE of 3186.501."
   ]
  },
  {
   "cell_type": "code",
   "execution_count": 21,
   "metadata": {},
   "outputs": [
    {
     "name": "stdout",
     "output_type": "stream",
     "text": [
      ">Predicted=8089.799, Expected=8314\n",
      ">Predicted=9742.807, Expected=10651\n",
      ">Predicted=5986.917, Expected=3633\n",
      ">Predicted=3886.768, Expected=4292\n",
      ">Predicted=4038.107, Expected=4154\n",
      ">Predicted=4992.354, Expected=4121\n",
      ">Predicted=5156.490, Expected=4647\n",
      ">Predicted=5046.652, Expected=4753\n",
      ">Predicted=4143.802, Expected=3965\n",
      ">Predicted=2102.971, Expected=1723\n",
      ">Predicted=5228.276, Expected=5048\n",
      ">Predicted=5873.366, Expected=6922\n",
      ">Predicted=8571.395, Expected=9858\n",
      ">Predicted=11005.988, Expected=11331\n",
      ">Predicted=4087.481, Expected=4016\n",
      ">Predicted=4771.840, Expected=3957\n",
      ">Predicted=4676.087, Expected=4510\n",
      ">Predicted=4583.393, Expected=4276\n",
      ">Predicted=5117.354, Expected=4968\n",
      ">Predicted=5208.152, Expected=4677\n",
      ">Predicted=4436.430, Expected=3523\n",
      ">Predicted=2180.851, Expected=1821\n",
      ">Predicted=5471.221, Expected=5222\n",
      ">Predicted=7337.589, Expected=6872\n",
      ">Predicted=10268.338, Expected=10803\n",
      ">Predicted=11725.346, Expected=13916\n",
      ">Predicted=4519.433, Expected=2639\n",
      ">Predicted=4606.066, Expected=2899\n",
      ">Predicted=4939.096, Expected=3370\n",
      ">Predicted=4495.259, Expected=3740\n",
      ">Predicted=5109.010, Expected=2927\n",
      ">Predicted=4285.914, Expected=3986\n",
      ">Predicted=3155.259, Expected=4217\n",
      ">Predicted=1830.004, Expected=1738\n",
      ">Predicted=5135.171, Expected=5221\n",
      ">Predicted=6806.894, Expected=6424\n",
      ">Predicted=10644.038, Expected=9842\n",
      ">Predicted=13605.823, Expected=13076\n",
      ">Predicted=2265.382, Expected=3934\n",
      ">Predicted=2938.911, Expected=3162\n",
      ">Predicted=3341.705, Expected=4286\n",
      ">Predicted=3882.923, Expected=4676\n",
      ">Predicted=3157.017, Expected=5010\n",
      ">Predicted=4615.082, Expected=4874\n",
      ">Predicted=4624.998, Expected=4633\n",
      ">Predicted=2044.098, Expected=1659\n",
      ">Predicted=5404.427, Expected=5951\n",
      "RMSE: 956.958\n"
     ]
    }
   ],
   "source": [
    "# evaluate manually configured ARIMA model\n",
    "# create a differenced series\n",
    "def difference(dataset, interval=1):\n",
    "\tdiff = list()\n",
    "\tfor i in range(interval, len(dataset)):\n",
    "\t\tvalue = dataset[i] - dataset[i - interval]\n",
    "\t\tdiff.append(value)\n",
    "\treturn diff\n",
    "\n",
    "# invert differenced value\n",
    "def inverse_difference(history, yhat, interval=1):\n",
    "\treturn yhat + history[-interval]\n",
    "\n",
    "# load data\n",
    "series = read_csv('dataset.csv', header=None, index_col=0, parse_dates=True, squeeze=True)\n",
    "# prepare data\n",
    "X = series.values\n",
    "X = X.astype('float32')\n",
    "train_size = int(len(X) * 0.50)\n",
    "train, test = X[0:train_size], X[train_size:]\n",
    "# walk-forward validation\n",
    "history = [x for x in train]\n",
    "predictions = list()\n",
    "for i in range(len(test)):\n",
    "\t# difference data\n",
    "\tmonths_in_year = 12\n",
    "\tdiff = difference(history, months_in_year)\n",
    "\t# predict\n",
    "\tmodel = ARIMA(diff, order=(1,1,1))\n",
    "\tmodel_fit = model.fit(trend='nc', disp=0)\n",
    "\tyhat = model_fit.forecast()[0]\n",
    "\tyhat = inverse_difference(history, yhat, months_in_year)\n",
    "\tpredictions.append(yhat)\n",
    "\t# observation\n",
    "\tobs = test[i]\n",
    "\thistory.append(obs)\n",
    "\tprint('>Predicted=%.3f, Expected=%3.f' % (yhat, obs))\n",
    "# report performance\n",
    "rmse = sqrt(mean_squared_error(test, predictions))\n",
    "print('RMSE: %.3f' % rmse)"
   ]
  },
  {
   "cell_type": "code",
   "execution_count": 22,
   "metadata": {},
   "outputs": [],
   "source": [
    "email_notify(\"Performing Manual ARIMA completed! \"+datetime.now().strftime('%a %B %d, %Y %I:%M:%S %p'))"
   ]
  },
  {
   "cell_type": "markdown",
   "metadata": {},
   "source": [
    "### 4.b) Grid Search of ARIMA Hyperparameters"
   ]
  },
  {
   "cell_type": "markdown",
   "metadata": {},
   "source": [
    "The ACF and PACF plots suggest that an ARIMA(1,0,1) or similar may be the best that we can do.\n",
    "\n",
    "To confirm this analysis, we can grid search a suite of ARIMA hyperparameters and check that no models result in better out of sample RMSE performance.\n",
    "\n",
    "In this section, we will search values of p, d, and q for combinations (skipping those that fail to converge), and find the combination that results in the best performance on the test set. We will use a grid search to explore all combinations in a subset of integer values.\n",
    "\n",
    "Specifically, we will search all combinations of the following parameters:\n",
    "\n",
    "p: 0 to 6.\n",
    "d: 0 to 2.\n",
    "q: 0 to 6.\n",
    "This is (7 * 3 * 7), or 147, potential runs of the test harness and will take some time to execute.\n",
    "\n",
    "It may be interesting to evaluate MA models with a lag of 12 or 13 as were noticed as potentially interesting from reviewing the ACF and PACF plots. Experimentation suggested that these models may not be stable, resulting in errors in the underlying mathematical libraries.\n",
    "\n",
    "The results show that the best configuration discovered was ARIMA(0, 0, 1) with an RMSE of 939.464, slightly lower than the manually configured ARIMA from the previous section. This difference may or may not be statistically significant. We will select this ARIMA(0, 0, 1) model going forward."
   ]
  },
  {
   "cell_type": "code",
   "execution_count": 23,
   "metadata": {},
   "outputs": [],
   "source": [
    "email_notify(\"ARIMA Hyperparameters Search has begun! \"+datetime.now().strftime('%a %B %d, %Y %I:%M:%S %p'))"
   ]
  },
  {
   "cell_type": "code",
   "execution_count": 24,
   "metadata": {},
   "outputs": [
    {
     "name": "stdout",
     "output_type": "stream",
     "text": [
      "ARIMA(0, 0, 1) RMSE=939.464\n",
      "ARIMA(0, 0, 2) RMSE=962.289\n",
      "ARIMA(0, 0, 3) RMSE=944.237\n",
      "ARIMA(0, 0, 4) RMSE=958.795\n",
      "ARIMA(0, 0, 5) RMSE=986.834\n",
      "ARIMA(0, 0, 6) RMSE=1087.014\n",
      "ARIMA(0, 1, 1) RMSE=958.301\n",
      "ARIMA(0, 2, 1) RMSE=1146.987\n",
      "ARIMA(1, 0, 0) RMSE=944.449\n",
      "ARIMA(1, 1, 0) RMSE=1070.204\n",
      "ARIMA(1, 1, 1) RMSE=956.958\n",
      "ARIMA(1, 2, 0) RMSE=1555.858\n",
      "ARIMA(2, 0, 0) RMSE=955.134\n",
      "ARIMA(2, 1, 0) RMSE=1030.467\n",
      "ARIMA(2, 1, 1) RMSE=980.956\n",
      "ARIMA(2, 2, 0) RMSE=1346.598\n",
      "ARIMA(2, 2, 1) RMSE=1039.657\n",
      "ARIMA(3, 0, 0) RMSE=959.165\n",
      "ARIMA(3, 1, 0) RMSE=1028.226\n",
      "ARIMA(3, 1, 1) RMSE=979.940\n",
      "ARIMA(3, 2, 0) RMSE=1244.846\n",
      "ARIMA(4, 0, 0) RMSE=968.411\n",
      "ARIMA(4, 1, 0) RMSE=1046.524\n",
      "ARIMA(4, 1, 1) RMSE=1006.260\n",
      "ARIMA(4, 2, 0) RMSE=1227.555\n",
      "ARIMA(4, 2, 1) RMSE=1055.485\n",
      "ARIMA(5, 0, 0) RMSE=987.690\n",
      "ARIMA(5, 1, 0) RMSE=1042.642\n",
      "ARIMA(5, 1, 1) RMSE=1023.399\n",
      "ARIMA(5, 2, 1) RMSE=1053.745\n",
      "ARIMA(6, 0, 0) RMSE=996.466\n",
      "ARIMA(6, 1, 0) RMSE=1018.211\n",
      "ARIMA(6, 1, 1) RMSE=1023.760\n",
      "ARIMA(6, 1, 2) RMSE=1033.406\n",
      "Best ARIMA(0, 0, 1) RMSE=939.464\n"
     ]
    }
   ],
   "source": [
    "# grid search ARIMA parameters for time series\n",
    "# create a differenced series\n",
    "def difference(dataset, interval=1):\n",
    "\tdiff = list()\n",
    "\tfor i in range(interval, len(dataset)):\n",
    "\t\tvalue = dataset[i] - dataset[i - interval]\n",
    "\t\tdiff.append(value)\n",
    "\treturn numpy.array(diff)\n",
    "\n",
    "# invert differenced value\n",
    "def inverse_difference(history, yhat, interval=1):\n",
    "\treturn yhat + history[-interval]\n",
    "\n",
    "# evaluate an ARIMA model for a given order (p,d,q) and return RMSE\n",
    "def evaluate_arima_model(X, arima_order):\n",
    "\t# prepare training dataset\n",
    "\tX = X.astype('float32')\n",
    "\ttrain_size = int(len(X) * 0.50)\n",
    "\ttrain, test = X[0:train_size], X[train_size:]\n",
    "\thistory = [x for x in train]\n",
    "\t# make predictions\n",
    "\tpredictions = list()\n",
    "\tfor t in range(len(test)):\n",
    "\t\t# difference data\n",
    "\t\tmonths_in_year = 12\n",
    "\t\tdiff = difference(history, months_in_year)\n",
    "\t\tmodel = ARIMA(diff, order=arima_order)\n",
    "\t\tmodel_fit = model.fit(trend='nc', disp=0)\n",
    "\t\tyhat = model_fit.forecast()[0]\n",
    "\t\tyhat = inverse_difference(history, yhat, months_in_year)\n",
    "\t\tpredictions.append(yhat)\n",
    "\t\thistory.append(test[t])\n",
    "\t# calculate out of sample error\n",
    "\trmse = sqrt(mean_squared_error(test, predictions))\n",
    "\treturn rmse\n",
    "\n",
    "# evaluate combinations of p, d and q values for an ARIMA model\n",
    "def evaluate_models(dataset, p_values, d_values, q_values):\n",
    "\tdataset = dataset.astype('float32')\n",
    "\tbest_score, best_cfg = float(\"inf\"), None\n",
    "\tfor p in p_values:\n",
    "\t\tfor d in d_values:\n",
    "\t\t\tfor q in q_values:\n",
    "\t\t\t\torder = (p,d,q)\n",
    "\t\t\t\ttry:\n",
    "\t\t\t\t\trmse = evaluate_arima_model(dataset, order)\n",
    "\t\t\t\t\tif rmse < best_score:\n",
    "\t\t\t\t\t\tbest_score, best_cfg = rmse, order\n",
    "\t\t\t\t\tprint('ARIMA%s RMSE=%.3f' % (order,rmse))\n",
    "\t\t\t\texcept:\n",
    "\t\t\t\t\tcontinue\n",
    "\tprint('Best ARIMA%s RMSE=%.3f' % (best_cfg, best_score))\n",
    "\n",
    "# evaluate parameters\n",
    "p_values = range(0, 7)\n",
    "d_values = range(0, 3)\n",
    "q_values = range(0, 7)\n",
    "warnings.filterwarnings(\"ignore\")\n",
    "evaluate_models(series.values, p_values, d_values, q_values)"
   ]
  },
  {
   "cell_type": "code",
   "execution_count": 25,
   "metadata": {},
   "outputs": [],
   "source": [
    "email_notify(\"ARIMA Hyperparameters Search completed! \"+datetime.now().strftime('%a %B %d, %Y %I:%M:%S %p'))"
   ]
  },
  {
   "cell_type": "markdown",
   "metadata": {},
   "source": [
    "### 4.c) Review Residual Errors"
   ]
  },
  {
   "cell_type": "markdown",
   "metadata": {},
   "source": [
    "A good final check of a model is to review residual forecast errors. Ideally, the distribution of residual errors should be a Gaussian with a zero mean.\n",
    "\n",
    "We can check this by using summary statistics and plots to investigate the residual errors from the ARIMA(0, 0, 1) model.\n",
    "\n",
    "We can see that the distribution has a right shift and that the mean is non-zero at 165.904728. This is perhaps a sign that the predictions are biased.\n",
    "\n",
    "The graphs suggest a Gaussian-like distribution with a bumpy left tail, providing further evidence that perhaps a power transform might be worth exploring."
   ]
  },
  {
   "cell_type": "code",
   "execution_count": 26,
   "metadata": {},
   "outputs": [],
   "source": [
    "email_notify(\"Residual Errors Review has begun! \"+datetime.now().strftime('%a %B %d, %Y %I:%M:%S %p'))"
   ]
  },
  {
   "cell_type": "code",
   "execution_count": 27,
   "metadata": {},
   "outputs": [
    {
     "name": "stdout",
     "output_type": "stream",
     "text": [
      "                 0\n",
      "count    47.000000\n",
      "mean    165.904730\n",
      "std     934.696204\n",
      "min   -2164.247449\n",
      "25%    -289.651596\n",
      "50%     191.759548\n",
      "75%     732.992187\n",
      "max    2367.304815\n"
     ]
    },
    {
     "data": {
      "image/png": "[encoded data removed]",
      "text/plain": [
       "<Figure size 432x288 with 2 Axes>"
      ]
     },
     "metadata": {
      "needs_background": "light"
     },
     "output_type": "display_data"
    }
   ],
   "source": [
    "# summarize ARIMA forecast residuals\n",
    "# create a differenced series\n",
    "def difference(dataset, interval=1):\n",
    "\tdiff = list()\n",
    "\tfor i in range(interval, len(dataset)):\n",
    "\t\tvalue = dataset[i] - dataset[i - interval]\n",
    "\t\tdiff.append(value)\n",
    "\treturn diff\n",
    "\n",
    "# invert differenced value\n",
    "def inverse_difference(history, yhat, interval=1):\n",
    "\treturn yhat + history[-interval]\n",
    "\n",
    "# prepare data\n",
    "X = series.values\n",
    "X = X.astype('float32')\n",
    "train_size = int(len(X) * 0.50)\n",
    "train, test = X[0:train_size], X[train_size:]\n",
    "# walk-forward validation\n",
    "history = [x for x in train]\n",
    "predictions = list()\n",
    "for i in range(len(test)):\n",
    "\t# difference data\n",
    "\tmonths_in_year = 12\n",
    "\tdiff = difference(history, months_in_year)\n",
    "\t# predict\n",
    "\tmodel = ARIMA(diff, order=(0,0,1))\n",
    "\tmodel_fit = model.fit(trend='nc', disp=0)\n",
    "\tyhat = model_fit.forecast()[0]\n",
    "\tyhat = inverse_difference(history, yhat, months_in_year)\n",
    "\tpredictions.append(yhat)\n",
    "\t# observation\n",
    "\tobs = test[i]\n",
    "\thistory.append(obs)\n",
    "# errors\n",
    "residuals = [test[i]-predictions[i] for i in range(len(test))]\n",
    "residuals = DataFrame(residuals)\n",
    "print(residuals.describe())\n",
    "# plot\n",
    "pyplot.figure()\n",
    "pyplot.subplot(211)\n",
    "residuals.hist(ax=pyplot.gca())\n",
    "pyplot.subplot(212)\n",
    "residuals.plot(kind='kde', ax=pyplot.gca())\n",
    "pyplot.show()"
   ]
  },
  {
   "cell_type": "markdown",
   "metadata": {},
   "source": [
    "We could use this information to bias-correct predictions by adding the mean residual error of 165.904730 to each forecast made.\n",
    "\n",
    "The performance of the predictions is improved very slightly from 939.464 to 924.699, which may or may not be significant. The summary of the forecast residual errors shows that the mean was indeed moved to a value very close to zero.\n",
    "\n",
    "Finally, density plots of the residual error do show a small shift towards zero. It is debatable whether this bias correction is worth it, but we will use it for now."
   ]
  },
  {
   "cell_type": "code",
   "execution_count": 28,
   "metadata": {},
   "outputs": [
    {
     "name": "stdout",
     "output_type": "stream",
     "text": [
      "RMSE: 924.699\n",
      "                  0\n",
      "count  4.700000e+01\n",
      "mean   4.450881e-07\n",
      "std    9.346962e+02\n",
      "min   -2.330152e+03\n",
      "25%   -4.555563e+02\n",
      "50%    2.585482e+01\n",
      "75%    5.670875e+02\n",
      "max    2.201400e+03\n"
     ]
    },
    {
     "data": {
      "image/png": "[encoded data removed]",
      "text/plain": [
       "<Figure size 432x288 with 2 Axes>"
      ]
     },
     "metadata": {
      "needs_background": "light"
     },
     "output_type": "display_data"
    }
   ],
   "source": [
    "# plots of residual errors of bias corrected forecasts\n",
    "# create a differenced series\n",
    "def difference(dataset, interval=1):\n",
    "\tdiff = list()\n",
    "\tfor i in range(interval, len(dataset)):\n",
    "\t\tvalue = dataset[i] - dataset[i - interval]\n",
    "\t\tdiff.append(value)\n",
    "\treturn diff\n",
    "\n",
    "# invert differenced value\n",
    "def inverse_difference(history, yhat, interval=1):\n",
    "\treturn yhat + history[-interval]\n",
    "\n",
    "# prepare data\n",
    "X = series.values\n",
    "X = X.astype('float32')\n",
    "train_size = int(len(X) * 0.50)\n",
    "train, test = X[0:train_size], X[train_size:]\n",
    "# walk-forward validation\n",
    "history = [x for x in train]\n",
    "predictions = list()\n",
    "bias = 165.904730\n",
    "for i in range(len(test)):\n",
    "\t# difference data\n",
    "\tmonths_in_year = 12\n",
    "\tdiff = difference(history, months_in_year)\n",
    "\t# predict\n",
    "\tmodel = ARIMA(diff, order=(0,0,1))\n",
    "\tmodel_fit = model.fit(trend='nc', disp=0)\n",
    "\tyhat = model_fit.forecast()[0]\n",
    "\tyhat = bias + inverse_difference(history, yhat, months_in_year)\n",
    "\tpredictions.append(yhat)\n",
    "\t# observation\n",
    "\tobs = test[i]\n",
    "\thistory.append(obs)\n",
    "# report performance\n",
    "rmse = sqrt(mean_squared_error(test, predictions))\n",
    "print('RMSE: %.3f' % rmse)\n",
    "# errors\n",
    "residuals = [test[i]-predictions[i] for i in range(len(test))]\n",
    "residuals = DataFrame(residuals)\n",
    "print(residuals.describe())\n",
    "# plot\n",
    "pyplot.figure()\n",
    "pyplot.subplot(211)\n",
    "residuals.hist(ax=pyplot.gca())\n",
    "pyplot.subplot(212)\n",
    "residuals.plot(kind='kde', ax=pyplot.gca())\n",
    "pyplot.show()"
   ]
  },
  {
   "cell_type": "markdown",
   "metadata": {},
   "source": [
    "It is also a good idea to check the time series of the residual errors for any type of autocorrelation. If present, it would suggest that the model has more opportunity to model the temporal structure in the data.\n",
    "\n",
    "The results suggest that what little autocorrelation is present in the time series has been captured by the model."
   ]
  },
  {
   "cell_type": "code",
   "execution_count": 29,
   "metadata": {},
   "outputs": [
    {
     "name": "stdout",
     "output_type": "stream",
     "text": [
      "                 0\n",
      "count    47.000000\n",
      "mean    165.904730\n",
      "std     934.696204\n",
      "min   -2164.247449\n",
      "25%    -289.651596\n",
      "50%     191.759548\n",
      "75%     732.992187\n",
      "max    2367.304815\n"
     ]
    },
    {
     "data": {
      "image/png": "[encoded data removed]",
      "text/plain": [
       "<Figure size 432x288 with 2 Axes>"
      ]
     },
     "metadata": {
      "needs_background": "light"
     },
     "output_type": "display_data"
    }
   ],
   "source": [
    "# ACF and PACF plots of residual errors of bias corrected forecasts\n",
    "# create a differenced series\n",
    "def difference(dataset, interval=1):\n",
    "\tdiff = list()\n",
    "\tfor i in range(interval, len(dataset)):\n",
    "\t\tvalue = dataset[i] - dataset[i - interval]\n",
    "\t\tdiff.append(value)\n",
    "\treturn diff\n",
    "\n",
    "# invert differenced value\n",
    "def inverse_difference(history, yhat, interval=1):\n",
    "\treturn yhat + history[-interval]\n",
    "\n",
    "# prepare data\n",
    "X = series.values\n",
    "X = X.astype('float32')\n",
    "train_size = int(len(X) * 0.50)\n",
    "train, test = X[0:train_size], X[train_size:]\n",
    "# walk-forward validation\n",
    "history = [x for x in train]\n",
    "predictions = list()\n",
    "for i in range(len(test)):\n",
    "\t# difference data\n",
    "\tmonths_in_year = 12\n",
    "\tdiff = difference(history, months_in_year)\n",
    "\t# predict\n",
    "\tmodel = ARIMA(diff, order=(0,0,1))\n",
    "\tmodel_fit = model.fit(trend='nc', disp=0)\n",
    "\tyhat = model_fit.forecast()[0]\n",
    "\tyhat = inverse_difference(history, yhat, months_in_year)\n",
    "\tpredictions.append(yhat)\n",
    "\t# observation\n",
    "\tobs = test[i]\n",
    "\thistory.append(obs)\n",
    "# errors\n",
    "residuals = [test[i]-predictions[i] for i in range(len(test))]\n",
    "residuals = DataFrame(residuals)\n",
    "print(residuals.describe())\n",
    "# plot\n",
    "pyplot.figure()\n",
    "pyplot.subplot(211)\n",
    "plot_acf(residuals, ax=pyplot.gca())\n",
    "pyplot.subplot(212)\n",
    "plot_pacf(residuals, ax=pyplot.gca())\n",
    "pyplot.show()"
   ]
  },
  {
   "cell_type": "code",
   "execution_count": 30,
   "metadata": {},
   "outputs": [],
   "source": [
    "email_notify(\"Residual Errors Review completed! \"+datetime.now().strftime('%a %B %d, %Y %I:%M:%S %p'))"
   ]
  },
  {
   "cell_type": "code",
   "execution_count": 31,
   "metadata": {},
   "outputs": [],
   "source": [
    "email_notify(\"Model Fitting and Evaluation completed! \"+datetime.now().strftime('%a %B %d, %Y %I:%M:%S %p'))"
   ]
  },
  {
   "cell_type": "markdown",
   "metadata": {},
   "source": [
    "## Section 5. Finalize and Deploy Model"
   ]
  },
  {
   "cell_type": "markdown",
   "metadata": {},
   "source": [
    "After models have been developed and a final model selected, it must be validated and finalized. Validation is an optional part of the process, but one that provides a ‘last check’ to ensure we have not fooled or lied to ourselves.\n",
    "\n",
    "This section includes the following steps:\n",
    "\n",
    "* Finalize Model: Train and save the final model.\n",
    "* Make Prediction: Load the finalized model and make a prediction.\n",
    "* Validate Model: Load and validate the final model."
   ]
  },
  {
   "cell_type": "code",
   "execution_count": 32,
   "metadata": {},
   "outputs": [],
   "source": [
    "email_notify(\"Model Finalization and Deployment has begun! \"+datetime.now().strftime('%a %B %d, %Y %I:%M:%S %p'))"
   ]
  },
  {
   "cell_type": "markdown",
   "metadata": {},
   "source": [
    "### 5.a) Finalize Model"
   ]
  },
  {
   "cell_type": "markdown",
   "metadata": {},
   "source": [
    "Finalizing the model involves fitting an ARIMA model on the entire dataset, in this case on a transformed version of the entire dataset. Once fit, the model can be saved to file for later use.\n",
    "\n",
    "The code below trains an ARIMA(0,0,1) model on the dataset and saves the whole fit object and the bias to file. Running the code creates two local files:\n",
    "\n",
    "* model.pkl This is the ARIMAResult object from the call to ARIMA.fit(). This includes the coefficients and all other internal data returned when fitting the model.\n",
    "* model_bias.npy This is the bias value stored as a one-row, one-column NumPy array."
   ]
  },
  {
   "cell_type": "code",
   "execution_count": 33,
   "metadata": {},
   "outputs": [],
   "source": [
    "# save finalized model\n",
    "# monkey patch around bug in ARIMA class\n",
    "def __getnewargs__(self):\n",
    "\treturn ((self.endog),(self.k_lags, self.k_diff, self.k_ma))\n",
    "\n",
    "ARIMA.__getnewargs__ = __getnewargs__\n",
    "\n",
    "# create a differenced series\n",
    "def difference(dataset, interval=1):\n",
    "\tdiff = list()\n",
    "\tfor i in range(interval, len(dataset)):\n",
    "\t\tvalue = dataset[i] - dataset[i - interval]\n",
    "\t\tdiff.append(value)\n",
    "\treturn diff\n",
    "\n",
    "# prepare data\n",
    "X = series.values\n",
    "X = X.astype('float32')\n",
    "# difference data\n",
    "months_in_year = 12\n",
    "diff = difference(X, months_in_year)\n",
    "# fit model\n",
    "model = ARIMA(diff, order=(0,0,1))\n",
    "model_fit = model.fit(trend='nc', disp=0)\n",
    "# bias constant, could be calculated from in-sample mean residual\n",
    "bias = 165.904730\n",
    "# save model\n",
    "model_fit.save('model.pkl')\n",
    "numpy.save('model_bias.npy', [bias])"
   ]
  },
  {
   "cell_type": "markdown",
   "metadata": {},
   "source": [
    "### 5.b) Make Prediction"
   ]
  },
  {
   "cell_type": "markdown",
   "metadata": {},
   "source": [
    "A natural case may be to load the model and make a single forecast. This is relatively straightforward and involves restoring the saved model and the bias and calling the forecast() function.\n",
    "\n",
    "Running the example prints the prediction of about 6794. If we peek inside validation.csv, we can see that the value on the first row for the next time period is 6981."
   ]
  },
  {
   "cell_type": "code",
   "execution_count": 34,
   "metadata": {},
   "outputs": [
    {
     "name": "stdout",
     "output_type": "stream",
     "text": [
      "Predicted: 6794.773\n"
     ]
    }
   ],
   "source": [
    "# load finalized model and make a prediction\n",
    "# invert differenced value\n",
    "def inverse_difference(history, yhat, interval=1):\n",
    "\treturn yhat + history[-interval]\n",
    "\n",
    "months_in_year = 12\n",
    "model_fit = ARIMAResults.load('model.pkl')\n",
    "bias = numpy.load('model_bias.npy')\n",
    "yhat = float(model_fit.forecast()[0])\n",
    "yhat = bias + inverse_difference(series.values, yhat, months_in_year)\n",
    "print('Predicted: %.3f' % yhat)"
   ]
  },
  {
   "cell_type": "markdown",
   "metadata": {},
   "source": [
    "### 5.c) Validate Model"
   ]
  },
  {
   "cell_type": "markdown",
   "metadata": {},
   "source": [
    "We can load the model and use it in a pretend operational manner. In the test harness section, we saved the final 12 months of the original dataset in a separate file to validate the final model. We can load this validation.csv file now and use it see how well our model really is on “unseen” data.\n",
    "\n",
    "There are two ways we might proceed:\n",
    "\n",
    "* Load the model and use it to forecast the next 12 months. The forecast beyond the first one or two months will quickly start to degrade in skill.\n",
    "* Load the model and use it in a rolling-forecast manner, updating the transform and model for each time step. This is the preferred method as it is how one would use this model in practice as it would achieve the best performance.\n",
    "\n",
    "As with model evaluation in previous sections, we will make predictions in a rolling-forecast manner. This means that we will step over lead times in the validation dataset and take the observations as an update to the history.\n",
    "\n",
    "The final RMSE for the validation period is predicted at 361.110 million sales. This is much better than the expectation of an error of a little more than 924 million sales per month. At this scale on the plot, the 12 months of forecast sales figures look fantastic."
   ]
  },
  {
   "cell_type": "code",
   "execution_count": 35,
   "metadata": {},
   "outputs": [
    {
     "name": "stdout",
     "output_type": "stream",
     "text": [
      ">Predicted=6794.773, Expected=6981\n",
      ">Predicted=10101.763, Expected=9851\n",
      ">Predicted=13219.067, Expected=12670\n",
      ">Predicted=3996.535, Expected=4348\n",
      ">Predicted=3465.934, Expected=3564\n",
      ">Predicted=4522.683, Expected=4577\n",
      ">Predicted=4901.336, Expected=4788\n",
      ">Predicted=5190.094, Expected=4618\n",
      ">Predicted=4930.190, Expected=5312\n",
      ">Predicted=4944.785, Expected=4298\n",
      ">Predicted=1699.409, Expected=1413\n",
      ">Predicted=6085.324, Expected=5877\n",
      "RMSE: 361.110\n"
     ]
    },
    {
     "data": {
      "image/png": "[encoded data removed]",
      "text/plain": [
       "<Figure size 432x288 with 1 Axes>"
      ]
     },
     "metadata": {
      "needs_background": "light"
     },
     "output_type": "display_data"
    }
   ],
   "source": [
    "# load and evaluate the finalized model on the validation dataset\n",
    "# create a differenced series\n",
    "def difference(dataset, interval=1):\n",
    "\tdiff = list()\n",
    "\tfor i in range(interval, len(dataset)):\n",
    "\t\tvalue = dataset[i] - dataset[i - interval]\n",
    "\t\tdiff.append(value)\n",
    "\treturn diff\n",
    "\n",
    "# invert differenced value\n",
    "def inverse_difference(history, yhat, interval=1):\n",
    "\treturn yhat + history[-interval]\n",
    "\n",
    "# Prepare datasets\n",
    "X = dataset.values.astype('float32')\n",
    "history = [x for x in X]\n",
    "months_in_year = 12\n",
    "validation = read_csv('validation.csv', header=None, index_col=0, parse_dates=True, squeeze=True)\n",
    "y = validation.values.astype('float32')\n",
    "# load model\n",
    "model_fit = ARIMAResults.load('model.pkl')\n",
    "bias = numpy.load('model_bias.npy')\n",
    "# make first prediction\n",
    "predictions = list()\n",
    "yhat = float(model_fit.forecast()[0])\n",
    "yhat = bias + inverse_difference(history, yhat, months_in_year)\n",
    "predictions.append(yhat)\n",
    "history.append(y[0])\n",
    "print('>Predicted=%.3f, Expected=%3.f' % (yhat, y[0]))\n",
    "# rolling forecasts\n",
    "for i in range(1, len(y)):\n",
    "\t# difference data\n",
    "\tmonths_in_year = 12\n",
    "\tdiff = difference(history, months_in_year)\n",
    "\t# predict\n",
    "\tmodel = ARIMA(diff, order=(0,0,1))\n",
    "\tmodel_fit = model.fit(trend='nc', disp=0)\n",
    "\tyhat = model_fit.forecast()[0]\n",
    "\tyhat = bias + inverse_difference(history, yhat, months_in_year)\n",
    "\tpredictions.append(yhat)\n",
    "\t# observation\n",
    "\tobs = y[i]\n",
    "\thistory.append(obs)\n",
    "\tprint('>Predicted=%.3f, Expected=%3.f' % (yhat, obs))\n",
    "# report performance\n",
    "rmse = sqrt(mean_squared_error(y, predictions))\n",
    "print('RMSE: %.3f' % rmse)\n",
    "pyplot.plot(y)\n",
    "pyplot.plot(predictions, color='red')\n",
    "pyplot.show()"
   ]
  },
  {
   "cell_type": "code",
   "execution_count": 36,
   "metadata": {},
   "outputs": [],
   "source": [
    "email_notify(\"Model Finalization and Deployment completed! \"+datetime.now().strftime('%a %B %d, %Y %I:%M:%S %p'))"
   ]
  },
  {
   "cell_type": "code",
   "execution_count": 37,
   "metadata": {},
   "outputs": [
    {
     "name": "stdout",
     "output_type": "stream",
     "text": [
      "Total time for the script: 0:03:49.094818\n"
     ]
    }
   ],
   "source": [
    "print ('Total time for the script:',(datetime.now() - startTimeScript))"
   ]
  }
 ],
 "metadata": {
  "kernelspec": {
   "display_name": "Python 3",
   "language": "python",
   "name": "python3"
  },
  "language_info": {
   "codemirror_mode": {
    "name": "ipython",
    "version": 3
   },
   "file_extension": ".py",
   "mimetype": "text/x-python",
   "name": "python",
   "nbconvert_exporter": "python",
   "pygments_lexer": "ipython3",
   "version": "3.6.7"
  }
 },
 "nbformat": 4,
 "nbformat_minor": 2
}
