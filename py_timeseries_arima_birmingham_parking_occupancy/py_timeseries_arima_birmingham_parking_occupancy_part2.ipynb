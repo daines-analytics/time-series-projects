{
 "cells": [
  {
   "cell_type": "markdown",
   "metadata": {},
   "source": [
    "# Time Series Model for Birmingham Parking Occupancy Using Python and ARIMA Part 2\n",
    "### David Lowe\n",
    "### October 21, 2020\n",
    "\n",
    "Template Credit: Adapted from a template made available by Dr. Jason Brownlee of Machine Learning Mastery. https://machinelearningmastery.com/\n",
    "\n",
    "SUMMARY: This project aims to construct a time series prediction model and document the end-to-end steps using a template. The Birmingham Parking Occupancy dataset is a time series situation where we are trying to forecast future outcomes based on past data points.\n",
    "\n",
    "INTRODUCTION: The problem is to forecast the hourly number of parking occupancy for a parking facility in Birmingham. The dataset describes a time-series of parking occupancy over three months between October 2016 and December 2016, and there are 1834 hourly observations. We used the first 90% of the observations for training various models while holding back the remaining observations for validating the final model.\n",
    "\n",
    "From iteration Part1, we trained and validated an ARIMA model using just one facility, BHMBCCMKT01, within the dataset.\n",
    "\n",
    "In this Part2 iteration, we will train and validate an ARIMA model for each one of the facilities within the dataset.\n",
    "\n",
    "ANALYSIS: The baseline prediction (or persistence) for the parking facility BHMBCCMKT01 resulted in an RMSE of 46. After performing a grid search for the most optimal ARIMA parameters, the final ARIMA non-seasonal order was (2, 0, 1) with the seasonal order (2, 0, 0, 24). Furthermore, the chosen model processed the validation data with an RMSE of 22, which was better than the baseline model as expected.\n",
    "\n",
    "Parking structure: BHMBCCPST01\n",
    "RMSE for the persistent model is: 38\n",
    "Final Non-season order: (0, 0, 1) Final Seasonal Order: (1, 0, 1, 24)\n",
    "RMSE from the validation data is: 20\n",
    "\n",
    "Parking structure: BHMBCCSNH01\n",
    "RMSE for the persistent model is: 157\n",
    "Final Non-season order: (2, 0, 1) Final Seasonal Order: (0, 0, 2, 24)\n",
    "RMSE from the validation data is: 75\n",
    "\n",
    "Parking structure: BHMBCCTHL01\n",
    "RMSE for the persistent model is: 84\n",
    "Final Non-season order: (0, 0, 0) Final Seasonal Order: (1, 0, 1, 24)\n",
    "RMSE from the validation data is: 24\n",
    "\n",
    "Parking structure: BHMNCPPLS01\n",
    "RMSE for the persistent model is: 32\n",
    "Final Non-season order: (4, 0, 0) Final Seasonal Order: (1, 0, 0, 24)\n",
    "RMSE from the validation data is: 16\n",
    "\n",
    "Parking structure: BHMBRCBRG02\n",
    "RMSE for the persistent model is: 189\n",
    "Final Non-season order: (0, 1, 3) Final Seasonal Order: (0, 0, 2, 24)\n",
    "RMSE from the validation data is: 95\n",
    "\n",
    "Parking structure: BHMBRCBRG03\n",
    "RMSE for the persistent model is: 78\n",
    "Final Non-season order: (2, 1, 0) Final Seasonal Order: (0, 0, 2, 24)\n",
    "RMSE from the validation data is: 41\n",
    "\n",
    "Parking structure: BHMBRTARC01\n",
    "RMSE for the persistent model is: 109\n",
    "Final Non-season order: (1, 0, 0) Final Seasonal Order: (1, 0, 0, 24)\n",
    "RMSE from the validation data is: 120\n",
    "\n",
    "Parking structure: BHMEURBRD01\n",
    "RMSE for the persistent model is: 77\n",
    "Final Non-season order: (1, 0, 4) Final Seasonal Order: (2, 0, 1, 24)\n",
    "RMSE from the validation data is: 24\n",
    "\n",
    "CONCLUSION: For this dataset, the chosen ARIMA model achieved a satisfactory result, and we should consider using ARIMA for further modeling.\n",
    "\n",
    "Dataset Used: Parking Birmingham Data Set\n",
    "\n",
    "Dataset ML Model: Time series forecast with numerical attribute\n",
    "\n",
    "Dataset Reference: https://archive.ics.uci.edu/ml/datasets/Parking+Birmingham\n",
    "\n",
    "A time series predictive modeling project generally can be broken down into about five major tasks:\n",
    "\n",
    "1. Define Problem and Acquire Data\n",
    "2. Inspect and Explore Data\n",
    "3. Clean and Pre-Process Data\n",
    "4. Fit and Evaluate Models\n",
    "5. Finalize Model and Make Predictions"
   ]
  },
  {
   "cell_type": "markdown",
   "metadata": {},
   "source": [
    "## Task 1: Define Problem and Acquire Data"
   ]
  },
  {
   "cell_type": "code",
   "execution_count": 1,
   "metadata": {},
   "outputs": [],
   "source": [
    "# Install the necessary packages for Colab\n",
    "# !pip install python-dotenv PyMySQL"
   ]
  },
  {
   "cell_type": "code",
   "execution_count": 2,
   "metadata": {},
   "outputs": [],
   "source": [
    "# Retrieve the GPU information from Colab\n",
    "# gpu_info = !nvidia-smi\n",
    "# gpu_info = '\\n'.join(gpu_info)\n",
    "# if gpu_info.find('failed') >= 0:\n",
    "#     print('Select the Runtime → \"Change runtime type\" menu to enable a GPU accelerator, ')\n",
    "#     print('and then re-execute this cell.')\n",
    "# else:\n",
    "#     print(gpu_info)"
   ]
  },
  {
   "cell_type": "code",
   "execution_count": 3,
   "metadata": {},
   "outputs": [],
   "source": [
    "# Retrieve the memory configuration from Colab\n",
    "# from psutil import virtual_memory\n",
    "# ram_gb = virtual_memory().total / 1e9\n",
    "# print('Your runtime has {:.1f} gigabytes of available RAM\\n'.format(ram_gb))\n",
    "\n",
    "# if ram_gb < 20:\n",
    "#     print('To enable a high-RAM runtime, select the Runtime → \"Change runtime type\"')\n",
    "#     print('menu, and then select High-RAM in the Runtime shape dropdown. Then, ')\n",
    "#     print('re-execute this cell.')\n",
    "# else:\n",
    "#     print('You are using a high-RAM runtime!')"
   ]
  },
  {
   "cell_type": "code",
   "execution_count": 4,
   "metadata": {},
   "outputs": [],
   "source": [
    "# Retrieve the CPU information\n",
    "# ncpu = !nproc\n",
    "# print(\"The number of available CPUs is:\", ncpu[0])"
   ]
  },
  {
   "cell_type": "markdown",
   "metadata": {},
   "source": [
    "### 1.a) Load Libraries"
   ]
  },
  {
   "cell_type": "code",
   "execution_count": 5,
   "metadata": {},
   "outputs": [],
   "source": [
    "# Create the random seed number for reproducible results\n",
    "seedNum = 888"
   ]
  },
  {
   "cell_type": "code",
   "execution_count": 6,
   "metadata": {},
   "outputs": [],
   "source": [
    "import pandas as pd\n",
    "# import matplotlib.pyplot as plt\n",
    "# import seaborn as sns\n",
    "import pmdarima as pm\n",
    "import os\n",
    "import sys\n",
    "import math\n",
    "import boto3\n",
    "from datetime import datetime\n",
    "from sklearn.metrics import mean_squared_error\n",
    "from statsmodels.tsa.statespace.sarimax import SARIMAX\n",
    "# from statsmodels.tsa.stattools import adfuller\n",
    "# from statsmodels.tsa.seasonal import seasonal_decompose\n",
    "# from statsmodels.graphics.tsaplots import plot_acf\n",
    "# from statsmodels.graphics.tsaplots import plot_pacf\n",
    "# import pandas_datareader.data as web"
   ]
  },
  {
   "cell_type": "markdown",
   "metadata": {},
   "source": [
    "### 1.b) Set up the controlling parameters and functions"
   ]
  },
  {
   "cell_type": "code",
   "execution_count": 7,
   "metadata": {},
   "outputs": [],
   "source": [
    "# Begin the timer for the script processing\n",
    "startTimeScript = datetime.now()\n",
    "\n",
    "# Set up the number of CPU cores available for multi-thread processing\n",
    "n_jobs = 1\n",
    "\n",
    "# Set up the flag to stop sending progress emails (setting to True will send status emails!)\n",
    "notifyStatus = False\n",
    "\n",
    "# Set Pandas options\n",
    "pd.set_option(\"display.max_rows\", 500)\n",
    "pd.set_option(\"display.width\", 140)"
   ]
  },
  {
   "cell_type": "code",
   "execution_count": 8,
   "metadata": {},
   "outputs": [],
   "source": [
    "# # Set up the parent directory location for loading the dotenv files\n",
    "# useGDrive = False\n",
    "# if useGDrive:\n",
    "#     # Mount Google Drive locally for storing files\n",
    "#     from google.colab import drive\n",
    "#     drive.mount('/content/gdrive')\n",
    "#     gdrivePrefix = '/content/gdrive/My Drive/Colab_Downloads/'\n",
    "#     env_path = '/content/gdrive/My Drive/Colab Notebooks/'\n",
    "#     dotenv_path = env_path + \"python_script.env\"\n",
    "#     load_dotenv(dotenv_path=dotenv_path)\n",
    "\n",
    "# # Set up the dotenv file for retrieving environment variables\n",
    "# useLocalPC = False\n",
    "# if useLocalPC:\n",
    "#     env_path = \"/Users/david/PycharmProjects/\"\n",
    "#     dotenv_path = env_path + \"python_script.env\"\n",
    "#     load_dotenv(dotenv_path=dotenv_path)"
   ]
  },
  {
   "cell_type": "code",
   "execution_count": 9,
   "metadata": {},
   "outputs": [],
   "source": [
    "# Set up the email notification function\n",
    "def status_notify(msg_text):\n",
    "    access_key = os.environ.get('SNS_ACCESS_KEY')\n",
    "    secret_key = os.environ.get('SNS_SECRET_KEY')\n",
    "    aws_region = os.environ.get('SNS_AWS_REGION')\n",
    "    topic_arn = os.environ.get('SNS_TOPIC_ARN')\n",
    "    if (access_key is None) or (secret_key is None) or (aws_region is None):\n",
    "        sys.exit(\"Incomplete notification setup info. Script Processing Aborted!!!\")\n",
    "    sns = boto3.client('sns', aws_access_key_id=access_key, aws_secret_access_key=secret_key, region_name=aws_region)\n",
    "    response = sns.publish(TopicArn=topic_arn, Message=msg_text)\n",
    "    if response['ResponseMetadata']['HTTPStatusCode'] != 200 :\n",
    "        print('Status notification not OK with HTTP status code:', response['ResponseMetadata']['HTTPStatusCode'])"
   ]
  },
  {
   "cell_type": "code",
   "execution_count": 10,
   "metadata": {},
   "outputs": [],
   "source": [
    "if notifyStatus: status_notify(\"ARIMA Task 1: Define Problem and Acquire Data has begun! \"+datetime.now().strftime('%a %B %d, %Y %I:%M:%S %p'))"
   ]
  },
  {
   "cell_type": "markdown",
   "metadata": {},
   "source": [
    "### 1.c) Acquire and Load the Data"
   ]
  },
  {
   "cell_type": "code",
   "execution_count": 11,
   "metadata": {},
   "outputs": [],
   "source": [
    "# load the dataset and the necessary data structure\n",
    "original_series = pd.read_csv('https://dainesanalytics.com/datasets/ucirvine-birmingham-parking-occupancy/dataset.csv', index_col='LastUpdated', parse_dates=True)"
   ]
  },
  {
   "cell_type": "code",
   "execution_count": 12,
   "metadata": {},
   "outputs": [],
   "source": [
    "if notifyStatus: status_notify(\"ARIMA Task 1: Define Problem and Acquire Data completed! \"+datetime.now().strftime('%a %B %d, %Y %I:%M:%S %p'))"
   ]
  },
  {
   "cell_type": "markdown",
   "metadata": {},
   "source": [
    "## Task 2: Inspect and Explore Data"
   ]
  },
  {
   "cell_type": "code",
   "execution_count": 13,
   "metadata": {},
   "outputs": [],
   "source": [
    "if notifyStatus: status_notify(\"ARIMA Task 2: Inspect and Explore Data has begun! \"+datetime.now().strftime('%a %B %d, %Y %I:%M:%S %p'))"
   ]
  },
  {
   "cell_type": "code",
   "execution_count": 14,
   "metadata": {},
   "outputs": [],
   "source": [
    "# Omitted for this iteration of modeling"
   ]
  },
  {
   "cell_type": "code",
   "execution_count": 15,
   "metadata": {},
   "outputs": [],
   "source": [
    "if notifyStatus: status_notify(\"ARIMA Task 2: Inspect and Explore Data completed! \"+datetime.now().strftime('%a %B %d, %Y %I:%M:%S %p'))"
   ]
  },
  {
   "cell_type": "markdown",
   "metadata": {},
   "source": [
    "## Task 3: Clean and Pre-Process Data"
   ]
  },
  {
   "cell_type": "code",
   "execution_count": 16,
   "metadata": {},
   "outputs": [],
   "source": [
    "if notifyStatus: status_notify(\"ARIMA Task 3: Clean and Pre-Process Data has begun! \"+datetime.now().strftime('%a %B %d, %Y %I:%M:%S %p'))"
   ]
  },
  {
   "cell_type": "code",
   "execution_count": 17,
   "metadata": {},
   "outputs": [],
   "source": [
    "# Omitted for this iteration of modeling"
   ]
  },
  {
   "cell_type": "code",
   "execution_count": 18,
   "metadata": {},
   "outputs": [],
   "source": [
    "if notifyStatus: status_notify(\"ARIMA Task 3: Clean and Pre-Process Data completed! \"+datetime.now().strftime('%a %B %d, %Y %I:%M:%S %p'))"
   ]
  },
  {
   "cell_type": "markdown",
   "metadata": {},
   "source": [
    "## Task 4: Fit and Evaluate Models"
   ]
  },
  {
   "cell_type": "code",
   "execution_count": 19,
   "metadata": {},
   "outputs": [],
   "source": [
    "if notifyStatus: status_notify(\"ARIMA Task 4: Fit and Evaluate Models has begun! \"+datetime.now().strftime('%a %B %d, %Y %I:%M:%S %p'))"
   ]
  },
  {
   "cell_type": "code",
   "execution_count": 20,
   "metadata": {},
   "outputs": [],
   "source": [
    "# Prepare and evaluate a persistence model\n",
    "def calculate_persistent_model(train_ts, test_ts):\n",
    "    # walk-forward validation\n",
    "    history = [x for x in train_ts]\n",
    "    predictions = list()\n",
    "    for i in range(len(test_ts)):\n",
    "        yhat = history[-1]\n",
    "        predictions.append(yhat)\n",
    "        obs = test_ts[i]\n",
    "        history.append(obs)\n",
    "\n",
    "    # Calculate performance\n",
    "    rmse = math.sqrt(mean_squared_error(test_ts, predictions))\n",
    "    print('RMSE for the persistent model is: %.0f' % rmse)"
   ]
  },
  {
   "cell_type": "code",
   "execution_count": 21,
   "metadata": {},
   "outputs": [],
   "source": [
    "def calculate_arima_model(train_ts):\n",
    "    \n",
    "    # Set the initial seasonal frequency parameter\n",
    "    seasonal_freq = 24\n",
    "\n",
    "    # Do an automated stepwise search of ARIMA parameters\n",
    "    print('Searching optimal ARIMA parameters through stepwise search...')\n",
    "    stepwise_results = pm.auto_arima(train_ts, seasonal = True, m = seasonal_freq, stepwise = True, trace = False, suppress_warnings = True, random_state = seedNum)\n",
    "    \n",
    "    # Set the ARIMA order parameters for validation and forecasting\n",
    "    ns_order = stepwise_results.order\n",
    "    ss_order = stepwise_results.seasonal_order\n",
    "    print(\"Final Non-season order:\", ns_order, 'Final Seasonal Order:', ss_order)\n",
    "    return(ns_order, ss_order)"
   ]
  },
  {
   "cell_type": "code",
   "execution_count": 22,
   "metadata": {},
   "outputs": [],
   "source": [
    "def validate_model_error(time_series, test_size, final_ns_order, final_ss_order):\n",
    "    # Summarize residual errors for the final ARIMA model\n",
    "    final_model = SARIMAX(time_series, order=final_ns_order, seasonal_order=final_ss_order)\n",
    "    final_results = final_model.fit(disp = False)\n",
    "#     print(final_results.summary())\n",
    "#     final_results.plot_diagnostics(figsize=(12,12))\n",
    "#     plt.show()\n",
    "\n",
    "    validate_forecast = final_results.get_prediction(start = -test_size)\n",
    "    mean_validate_forecast = validate_forecast.predicted_mean\n",
    "    validate_confidence_intervals = validate_forecast.conf_int()\n",
    "\n",
    "    # Occasionally some predicted values turned out to be < 0 but they should not be (e.g. rainfall, disease cases, etc.)\n",
    "    # If we have those values, we will need to set them to 0\n",
    "#     print(mean_validate_forecast[mean_validate_forecast < 0])\n",
    "    mean_validate_forecast[mean_validate_forecast < 0] = 0\n",
    "\n",
    "    # Evaluate RMSE for the validation data\n",
    "    y_test = time_series[-test_size:]\n",
    "    predictions = mean_validate_forecast.values\n",
    "#     for i in range(y_test.shape[0]):\n",
    "#         print(y_test.index[i], ' | ', y_test.iloc[i,0], ' | ', predictions[i])\n",
    "    print('RMSE from the validation data is: %.0f' % math.sqrt(mean_squared_error(y_test, predictions)))"
   ]
  },
  {
   "cell_type": "code",
   "execution_count": 23,
   "metadata": {},
   "outputs": [],
   "source": [
    "if notifyStatus: status_notify(\"ARIMA Task 4: Fit and Evaluate Models completed! \"+datetime.now().strftime('%a %B %d, %Y %I:%M:%S %p'))"
   ]
  },
  {
   "cell_type": "markdown",
   "metadata": {},
   "source": [
    "## Section 5. Finalize Model and Make Predictions"
   ]
  },
  {
   "cell_type": "code",
   "execution_count": 24,
   "metadata": {},
   "outputs": [],
   "source": [
    "if notifyStatus: status_notify(\"ARIMA Task 5: Finalize Model and Make Predictions has begun! \"+datetime.now().strftime('%a %B %d, %Y %I:%M:%S %p'))"
   ]
  },
  {
   "cell_type": "code",
   "execution_count": 25,
   "metadata": {},
   "outputs": [],
   "source": [
    "facilityCodes = ['BHMBCCMKT01', 'BHMBCCPST01', 'BHMBCCSNH01', 'BHMBCCTHL01', 'BHMNCPPLS01',\n",
    "                 'BHMBRCBRG02', 'BHMBRCBRG03', 'BHMBRTARC01', 'BHMEURBRD01']"
   ]
  },
  {
   "cell_type": "code",
   "execution_count": 26,
   "metadata": {},
   "outputs": [
    {
     "name": "stdout",
     "output_type": "stream",
     "text": [
      "Modeling the parking structure: BHMBCCMKT01\n",
      "RMSE for the persistent model is: 46\n",
      "Searching optimal ARIMA parameters through stepwise search...\n",
      "Final Non-season order: (2, 0, 1) Final Seasonal Order: (2, 0, 0, 24)\n",
      "RMSE from the validation data is: 22\n",
      "Modeling of the parking structure: BHMBCCMKT01 completed!\n",
      "\n",
      "Modeling the parking structure: BHMBCCPST01\n",
      "RMSE for the persistent model is: 38\n",
      "Searching optimal ARIMA parameters through stepwise search...\n",
      "Final Non-season order: (0, 0, 1) Final Seasonal Order: (1, 0, 1, 24)\n",
      "RMSE from the validation data is: 20\n",
      "Modeling of the parking structure: BHMBCCPST01 completed!\n",
      "\n",
      "Modeling the parking structure: BHMBCCSNH01\n",
      "RMSE for the persistent model is: 157\n",
      "Searching optimal ARIMA parameters through stepwise search...\n",
      "Final Non-season order: (2, 0, 1) Final Seasonal Order: (0, 0, 2, 24)\n",
      "RMSE from the validation data is: 75\n",
      "Modeling of the parking structure: BHMBCCSNH01 completed!\n",
      "\n",
      "Modeling the parking structure: BHMBCCTHL01\n",
      "RMSE for the persistent model is: 84\n",
      "Searching optimal ARIMA parameters through stepwise search...\n",
      "Final Non-season order: (0, 0, 0) Final Seasonal Order: (1, 0, 1, 24)\n",
      "RMSE from the validation data is: 24\n",
      "Modeling of the parking structure: BHMBCCTHL01 completed!\n",
      "\n",
      "Modeling the parking structure: BHMNCPPLS01\n",
      "RMSE for the persistent model is: 32\n",
      "Searching optimal ARIMA parameters through stepwise search...\n",
      "Final Non-season order: (4, 0, 0) Final Seasonal Order: (1, 0, 0, 24)\n",
      "RMSE from the validation data is: 16\n",
      "Modeling of the parking structure: BHMNCPPLS01 completed!\n",
      "\n",
      "Modeling the parking structure: BHMBRCBRG02\n",
      "RMSE for the persistent model is: 189\n",
      "Searching optimal ARIMA parameters through stepwise search...\n",
      "Final Non-season order: (0, 1, 3) Final Seasonal Order: (0, 0, 2, 24)\n",
      "RMSE from the validation data is: 95\n",
      "Modeling of the parking structure: BHMBRCBRG02 completed!\n",
      "\n",
      "Modeling the parking structure: BHMBRCBRG03\n",
      "RMSE for the persistent model is: 78\n",
      "Searching optimal ARIMA parameters through stepwise search...\n",
      "Final Non-season order: (2, 1, 0) Final Seasonal Order: (0, 0, 2, 24)\n",
      "RMSE from the validation data is: 41\n",
      "Modeling of the parking structure: BHMBRCBRG03 completed!\n",
      "\n",
      "Modeling the parking structure: BHMBRTARC01\n",
      "RMSE for the persistent model is: 109\n",
      "Searching optimal ARIMA parameters through stepwise search...\n",
      "Final Non-season order: (1, 0, 0) Final Seasonal Order: (1, 0, 0, 24)\n",
      "RMSE from the validation data is: 120\n",
      "Modeling of the parking structure: BHMBRTARC01 completed!\n",
      "\n",
      "Modeling the parking structure: BHMEURBRD01\n",
      "RMSE for the persistent model is: 77\n",
      "Searching optimal ARIMA parameters through stepwise search...\n",
      "Final Non-season order: (1, 0, 4) Final Seasonal Order: (2, 0, 1, 24)\n",
      "RMSE from the validation data is: 24\n",
      "Modeling of the parking structure: BHMEURBRD01 completed!\n",
      "\n"
     ]
    }
   ],
   "source": [
    "for targetSystemCode in facilityCodes:\n",
    "    parking_data = original_series.copy()\n",
    "    parking_data = parking_data[parking_data['SystemCodeNumber']==targetSystemCode]\n",
    "    parking_data.drop(columns=['SystemCodeNumber','Capacity'], inplace=True)\n",
    "    parking_data.sort_values(by=['LastUpdated'], ascending=True, inplace=True)\n",
    "    parking_data = parking_data.resample('H').mean()\n",
    "    parking_data['Occupancy'].fillna(0, inplace=True)\n",
    "    \n",
    "    X = parking_data.values\n",
    "    X = X.astype('float32')\n",
    "    train_pct = 0.90\n",
    "    train_size = int(len(X) * train_pct)\n",
    "    validate_size = len(X) - train_size\n",
    "    train_data, validate_data = X[0:train_size], X[train_size:]\n",
    "\n",
    "    print('Modeling the parking structure:', targetSystemCode)\n",
    "    calculate_persistent_model(train_data, validate_data)\n",
    "    nonseason_order, seasonal_order = calculate_arima_model(train_data)\n",
    "    validate_model_error(parking_data, validate_size, nonseason_order, seasonal_order)\n",
    "    print('Modeling of the parking structure:', targetSystemCode, 'completed!')\n",
    "    print()"
   ]
  },
  {
   "cell_type": "code",
   "execution_count": 27,
   "metadata": {},
   "outputs": [],
   "source": [
    "if notifyStatus: status_notify(\"ARIMA Task 5: Finalize Model and Make Predictions completed! \"+datetime.now().strftime('%a %B %d, %Y %I:%M:%S %p'))"
   ]
  },
  {
   "cell_type": "code",
   "execution_count": 28,
   "metadata": {},
   "outputs": [
    {
     "name": "stdout",
     "output_type": "stream",
     "text": [
      "Total time for the script: 1:22:56.921662\n"
     ]
    }
   ],
   "source": [
    "print ('Total time for the script:',(datetime.now() - startTimeScript))"
   ]
  }
 ],
 "metadata": {
  "kernelspec": {
   "display_name": "Python 3",
   "language": "python",
   "name": "python3"
  },
  "language_info": {
   "codemirror_mode": {
    "name": "ipython",
    "version": 3
   },
   "file_extension": ".py",
   "mimetype": "text/x-python",
   "name": "python",
   "nbconvert_exporter": "python",
   "pygments_lexer": "ipython3",
   "version": "3.7.6"
  }
 },
 "nbformat": 4,
 "nbformat_minor": 4
}