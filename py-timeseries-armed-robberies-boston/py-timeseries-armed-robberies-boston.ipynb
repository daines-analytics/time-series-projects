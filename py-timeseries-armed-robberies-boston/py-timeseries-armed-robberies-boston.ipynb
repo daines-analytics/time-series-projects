{
 "cells": [
  {
   "cell_type": "markdown",
   "metadata": {},
   "source": [
    "# Time Series Model for Monthly Armed Robberies in Boston Using Python\n",
    "### David Lowe\n",
    "### January 23, 2019\n",
    "\n",
    "Template Credit: Adapted from a template made available by Dr. Jason Brownlee of Machine Learning Mastery. https://machinelearningmastery.com/\n",
    "\n",
    "Code Credit: Adapted from a blog post made available by Dr. Jason Brownlee of Machine Learning Mastery. https://machinelearningmastery.com/time-series-forecast-case-study-python-monthly-armed-robberies-boston/\n",
    "\n",
    "PREFACE: This is a replication of Python code from Dr. Brownlee's blog post on time series. I have combined all the code snippets into one script so that I could turn the whole process into a template. The comments and analysis were also part of the blog post and annotated here to explain each coding block.\n",
    "\n",
    "SUMMARY: The purpose of this project is to construct a time series prediction model and document the end-to-end steps using a template. The Monthly Armed Robberies in Boston dataset is a time series situation where we are trying to forecast future outcomes based on the past data points.\n",
    "\n",
    "INTRODUCTION: The problem is to predict the number of monthly armed robberies in Boston, USA. The dataset provides the number of monthly armed robberies in Boston from January 1966 to October 1975, Monthly Boston armed robberies Jan.1966-Oct.1975 Deutsch and Alt (1977) and credited to McCleary & Hay (1980).\n",
    "\n",
    "ANALYSIS: The baseline prediction (or persistence) for the dataset resulted in an RMSE of 51.8. The manually configured model was simplified to ARIMA(0,1,2) and produced an RMSE of 49.8, which was slightly better than the persistent model. After applying the power transformation (Box-Cox) to the dataset, the final RMSE of the model on the transformed data was 49.4. This is only a slightly smaller error than the ARIMA model on untransformed data, and it may or may not be statistically different.\n",
    "\n",
    "CONCLUSION: The final RMSE for the validation period was predicted at 53 robberies, and it was not too different from the expected error of 49. Although the forecast appears to have the characteristic of a persistence forecast, this does suggest that, while this time series does have an obvious trend, it is still a reasonably difficult problem.\n",
    "\n",
    "Dataset Used: Monthly Armed Robberies in Boston\n",
    "\n",
    "Dataset ML Model: Time series forecast with numerical attributes\n",
    "\n",
    "Dataset Reference: https://datamarket.com/data/set/22ob/monthly-boston-armed-robberies-jan1966-oct1975-deutsch-and-alt-1977#!ds=22ob&display=line\n",
    "\n",
    "One potential source of performance benchmark: https://machinelearningmastery.com/time-series-forecast-case-study-python-monthly-armed-robberies-boston/\n",
    "\n",
    "The project aims to touch on the following areas:\n",
    "\n",
    "* Document a predictive modeling problem end-to-end\n",
    "* Explore data cleaning and transformation options\n",
    "* Explore various algorithms for baselining the model performance\n",
    "* Explore tuning techniques for improving the model performance\n",
    "\n",
    "A time series predictive modeling project genrally can be broken down into about five major tasks:\n",
    "\n",
    "1. Define Problem and Acquire Data\n",
    "2. Inspect and Explore Data\n",
    "3. Clean and Pre-Process Data\n",
    "4. Fit and Evaluate Models\n",
    "5. Finalize and Deploy Model"
   ]
  },
  {
   "cell_type": "markdown",
   "metadata": {},
   "source": [
    "## Section 1. Define Problem and Acquire Data"
   ]
  },
  {
   "cell_type": "markdown",
   "metadata": {},
   "source": [
    "### 1.a) Load Libraries"
   ]
  },
  {
   "cell_type": "code",
   "execution_count": 1,
   "metadata": {},
   "outputs": [],
   "source": [
    "import numpy as np\n",
    "import pandas as pd\n",
    "import smtplib\n",
    "import warnings\n",
    "from datetime import datetime\n",
    "from email.message import EmailMessage\n",
    "from math import exp\n",
    "from math import log\n",
    "from math import sqrt\n",
    "from matplotlib import pyplot\n",
    "from pandas import read_csv\n",
    "from pandas import DataFrame\n",
    "from pandas import Grouper\n",
    "from pandas import Series\n",
    "from sklearn.metrics import mean_squared_error\n",
    "from scipy.stats import boxcox\n",
    "from statsmodels.tsa.arima_model import ARIMA\n",
    "from statsmodels.tsa.arima_model import ARIMAResults\n",
    "from statsmodels.tsa.stattools import adfuller\n",
    "from statsmodels.graphics.gofplots import qqplot\n",
    "from statsmodels.graphics.tsaplots import plot_acf\n",
    "from statsmodels.graphics.tsaplots import plot_pacf\n",
    "from sklearn.metrics import mean_squared_error\n",
    "\n",
    "# Create a random seed number variable for reproducible results\n",
    "seedNum = 888"
   ]
  },
  {
   "cell_type": "markdown",
   "metadata": {},
   "source": [
    "### 1.b) Set up the email notification function"
   ]
  },
  {
   "cell_type": "code",
   "execution_count": 2,
   "metadata": {},
   "outputs": [],
   "source": [
    "def email_notify(msg_text):\n",
    "    sender = \"luozhi2488@gmail.com\"\n",
    "    receiver = \"dave@contactdavidlowe.com\"\n",
    "    with open('../email_credential.txt') as f:\n",
    "        password = f.readline()\n",
    "        f.close()\n",
    "    msg = EmailMessage()\n",
    "    msg.set_content(msg_text)\n",
    "    msg['Subject'] = 'Notification from Python Time Series Script'\n",
    "    msg['From'] = sender\n",
    "    msg['To'] = receiver\n",
    "    server = smtplib.SMTP('smtp.gmail.com', 587)\n",
    "    server.starttls()\n",
    "    server.login(sender, password)\n",
    "    server.send_message(msg)\n",
    "    server.quit()"
   ]
  },
  {
   "cell_type": "code",
   "execution_count": 3,
   "metadata": {},
   "outputs": [],
   "source": [
    "email_notify(\"Program Library and Data Loading has begun! \"+datetime.now().strftime('%a %B %d, %Y %I:%M:%S %p'))"
   ]
  },
  {
   "cell_type": "markdown",
   "metadata": {},
   "source": [
    "### 1.c) Acquire and Load the Data"
   ]
  },
  {
   "cell_type": "markdown",
   "metadata": {},
   "source": [
    "The dataset is not current. This means that we cannot easily collect updated data to validate the model. Therefore we will pretend that it is October 1974 and withhold the last one year of data from analysis and model selection. This final year of data will be used to validate the final model.\n",
    "\n",
    "The code below will load the dataset as a Pandas Series and split into two, one for model development (dataset.csv) and the other for validation (validation.csv). The specific contents of these files are:\n",
    "\n",
    "* dataset.csv: Observations from January 1966 to October 1974 (106 observations)\n",
    "* validation.csv: Observations from November 1974 to October 1975 (12 observations)"
   ]
  },
  {
   "cell_type": "code",
   "execution_count": 4,
   "metadata": {},
   "outputs": [],
   "source": [
    "startTimeScript = datetime.now()"
   ]
  },
  {
   "cell_type": "code",
   "execution_count": 5,
   "metadata": {},
   "outputs": [
    {
     "name": "stdout",
     "output_type": "stream",
     "text": [
      "Dataset 106, Validation 12\n"
     ]
    }
   ],
   "source": [
    "# split into a training and validation dataset\n",
    "series = read_csv('robberies.csv', header=0, index_col=0, parse_dates=True, squeeze=True)\n",
    "split_point = len(series) - 12\n",
    "dataset, validation = series[0:split_point], series[split_point:]\n",
    "print('Dataset %d, Validation %d' % (len(dataset), len(validation)))\n",
    "dataset.to_csv('dataset.csv')\n",
    "validation.to_csv('validation.csv')"
   ]
  },
  {
   "cell_type": "markdown",
   "metadata": {},
   "source": [
    "### 1.d) Establish the Persistent Model"
   ]
  },
  {
   "cell_type": "markdown",
   "metadata": {},
   "source": [
    "The first step before getting bogged down in data analysis and modeling is to establish a baseline of performance. This will provide both a template for evaluating models using the proposed test harness and a performance measure by which all more elaborate predictive models can be compared.\n",
    "\n",
    "The baseline prediction for time series forecasting is called the naive forecast, or persistence. This is where the observation from the previous time step is used as the prediction for the observation at the next time step.\n",
    "\n",
    "Candidate models will be evaluated using walk-forward validation. This is because a rolling-forecast type model is required from the problem definition. This is where one-step forecasts are needed given all available data.\n",
    "\n",
    "The walk-forward validation will work as follows:\n",
    "\n",
    "* The first 50% of the dataset will be held back to train the model.\n",
    "* The remaining 50% of the dataset will be iterated and test the model.\n",
    "* For each step in the test dataset:\n",
    "    * A model will be trained.\n",
    "    * A one-step prediction made and the prediction stored for later evaluation.\n",
    "    * The actual observation from the test dataset will be added to the training dataset for the next iteration.\n",
    "* The predictions made during the iteration of the test dataset will be evaluated and an RMSE score reported.\n",
    "\n",
    "Given the small size of the data, we will allow a model to be re-trained given all available data prior to each prediction."
   ]
  },
  {
   "cell_type": "code",
   "execution_count": 6,
   "metadata": {},
   "outputs": [
    {
     "name": "stdout",
     "output_type": "stream",
     "text": [
      ">Predicted=98.000, Expected=125\n",
      ">Predicted=125.000, Expected=155\n",
      ">Predicted=155.000, Expected=190\n",
      ">Predicted=190.000, Expected=236\n",
      ">Predicted=236.000, Expected=189\n",
      ">Predicted=189.000, Expected=174\n",
      ">Predicted=174.000, Expected=178\n",
      ">Predicted=178.000, Expected=136\n",
      ">Predicted=136.000, Expected=161\n",
      ">Predicted=161.000, Expected=171\n",
      ">Predicted=171.000, Expected=149\n",
      ">Predicted=149.000, Expected=184\n",
      ">Predicted=184.000, Expected=155\n",
      ">Predicted=155.000, Expected=276\n",
      ">Predicted=276.000, Expected=224\n",
      ">Predicted=224.000, Expected=213\n",
      ">Predicted=213.000, Expected=279\n",
      ">Predicted=279.000, Expected=268\n",
      ">Predicted=268.000, Expected=287\n",
      ">Predicted=287.000, Expected=238\n",
      ">Predicted=238.000, Expected=213\n",
      ">Predicted=213.000, Expected=257\n",
      ">Predicted=257.000, Expected=293\n",
      ">Predicted=293.000, Expected=212\n",
      ">Predicted=212.000, Expected=246\n",
      ">Predicted=246.000, Expected=353\n",
      ">Predicted=353.000, Expected=339\n",
      ">Predicted=339.000, Expected=308\n",
      ">Predicted=308.000, Expected=247\n",
      ">Predicted=247.000, Expected=257\n",
      ">Predicted=257.000, Expected=322\n",
      ">Predicted=322.000, Expected=298\n",
      ">Predicted=298.000, Expected=273\n",
      ">Predicted=273.000, Expected=312\n",
      ">Predicted=312.000, Expected=249\n",
      ">Predicted=249.000, Expected=286\n",
      ">Predicted=286.000, Expected=279\n",
      ">Predicted=279.000, Expected=309\n",
      ">Predicted=309.000, Expected=401\n",
      ">Predicted=401.000, Expected=309\n",
      ">Predicted=309.000, Expected=328\n",
      ">Predicted=328.000, Expected=353\n",
      ">Predicted=353.000, Expected=354\n",
      ">Predicted=354.000, Expected=327\n",
      ">Predicted=327.000, Expected=324\n",
      ">Predicted=324.000, Expected=285\n",
      ">Predicted=285.000, Expected=243\n",
      ">Predicted=243.000, Expected=241\n",
      ">Predicted=241.000, Expected=287\n",
      ">Predicted=287.000, Expected=355\n",
      ">Predicted=355.000, Expected=460\n",
      ">Predicted=460.000, Expected=364\n",
      ">Predicted=364.000, Expected=487\n",
      "RMSE: 51.844\n"
     ]
    }
   ],
   "source": [
    "# evaluate a persistence model\n",
    "# load data\n",
    "series = read_csv('dataset.csv', header=None, index_col=0, parse_dates=True, squeeze=True)\n",
    "# prepare data\n",
    "X = series.values\n",
    "X = X.astype('float32')\n",
    "train_size = int(len(X) * 0.50)\n",
    "train, test = X[0:train_size], X[train_size:]\n",
    "# walk-forward validation\n",
    "history = [x for x in train]\n",
    "predictions = list()\n",
    "for i in range(len(test)):\n",
    "\t# predict\n",
    "\tyhat = history[-1]\n",
    "\tpredictions.append(yhat)\n",
    "\t# observation\n",
    "\tobs = test[i]\n",
    "\thistory.append(obs)\n",
    "\tprint('>Predicted=%.3f, Expected=%3.f' % (yhat, obs))\n",
    "# report performance\n",
    "rmse = sqrt(mean_squared_error(test, predictions))\n",
    "print('RMSE: %.3f' % rmse)"
   ]
  },
  {
   "cell_type": "code",
   "execution_count": 7,
   "metadata": {},
   "outputs": [],
   "source": [
    "email_notify(\"Program Library and Data Loading completed! \"+datetime.now().strftime('%a %B %d, %Y %I:%M:%S %p'))"
   ]
  },
  {
   "cell_type": "markdown",
   "metadata": {},
   "source": [
    "## Section 2. Inspect and Explore Data"
   ]
  },
  {
   "cell_type": "code",
   "execution_count": 8,
   "metadata": {},
   "outputs": [],
   "source": [
    "email_notify(\"Data Inspection and Exploration has begun! \"+datetime.now().strftime('%a %B %d, %Y %I:%M:%S %p'))"
   ]
  },
  {
   "cell_type": "markdown",
   "metadata": {},
   "source": [
    "### 2.a) Summary Statistics of the Time Series Data"
   ]
  },
  {
   "cell_type": "markdown",
   "metadata": {},
   "source": [
    "Summary statistics provide a quick look at the limits of observed values. It can help to get a quick idea of what we are working with. Some observations from these statistics include:\n",
    "\n",
    "* The number of observations (count) matches our expectation, meaning we are handling the data correctly.\n",
    "* The mean is about 173, which we might consider our level in this series.\n",
    "* The standard deviation (average spread from the mean) is relatively large at 112 robberies.\n",
    "* The percentiles along with the standard deviation do suggest a large spread to the data.\n",
    "\n",
    "The large spread in this series will likely make highly accurate predictions difficult if it is caused by random fluctuation (e.g. not systematic)."
   ]
  },
  {
   "cell_type": "code",
   "execution_count": 9,
   "metadata": {},
   "outputs": [
    {
     "name": "stdout",
     "output_type": "stream",
     "text": [
      "count    106.000000\n",
      "mean     173.103774\n",
      "std      112.231133\n",
      "min       29.000000\n",
      "25%       74.750000\n",
      "50%      144.500000\n",
      "75%      271.750000\n",
      "max      487.000000\n",
      "Name: 1, dtype: float64\n"
     ]
    }
   ],
   "source": [
    "# summary statistics of time series\n",
    "print(series.describe())"
   ]
  },
  {
   "cell_type": "markdown",
   "metadata": {},
   "source": [
    "### 2.b) Line Plot of the Time Series Data"
   ]
  },
  {
   "cell_type": "markdown",
   "metadata": {},
   "source": [
    "A line plot of a time series can provide a lot of insight into the problem. Some observations from the plot include:\n",
    "\n",
    "* There is an increasing trend of robberies over time.\n",
    "* There do not appear to be any obvious outliers.\n",
    "* There are relatively large fluctuations from year to year, up and down.\n",
    "* The fluctuations at later years appear larger than fluctuations at earlier years.\n",
    "* The trend means the dataset is almost certainly non-stationary and the apparent change in fluctuation may also contribute."
   ]
  },
  {
   "cell_type": "code",
   "execution_count": 10,
   "metadata": {},
   "outputs": [
    {
     "data": {
      "image/png": "[encoded data removed]",
      "text/plain": [
       "<Figure size 432x288 with 1 Axes>"
      ]
     },
     "metadata": {
      "needs_background": "light"
     },
     "output_type": "display_data"
    }
   ],
   "source": [
    "# line plots of time series\n",
    "series.plot()\n",
    "pyplot.show()"
   ]
  },
  {
   "cell_type": "markdown",
   "metadata": {},
   "source": [
    "### 2.c) Density Plots of the Time Series Data"
   ]
  },
  {
   "cell_type": "markdown",
   "metadata": {},
   "source": [
    "Reviewing plots of the density of observations can provide further insight into the structure of the data. Some observations from the plots include:\n",
    "\n",
    "* The distribution is not Gaussian.\n",
    "* The distribution is left shifted and may be exponential or a double Gaussian."
   ]
  },
  {
   "cell_type": "code",
   "execution_count": 11,
   "metadata": {},
   "outputs": [
    {
     "data": {
      "image/png": "[encoded data removed]",
      "text/plain": [
       "<Figure size 432x288 with 2 Axes>"
      ]
     },
     "metadata": {
      "needs_background": "light"
     },
     "output_type": "display_data"
    }
   ],
   "source": [
    "# density plots of time series\n",
    "pyplot.figure(1)\n",
    "pyplot.subplot(211)\n",
    "series.hist()\n",
    "pyplot.subplot(212)\n",
    "series.plot(kind='kde')\n",
    "pyplot.show()"
   ]
  },
  {
   "cell_type": "markdown",
   "metadata": {},
   "source": [
    "### 2.d) Box and Whisker Plots of the Time Series Data"
   ]
  },
  {
   "cell_type": "markdown",
   "metadata": {},
   "source": [
    "We can group the monthly data by year and get an idea of the spread of observations for each year and how this may be changing. We do expect to see some trend (increasing mean or median), but it may be interesting to see how the rest of the distribution may be changing.\n",
    "\n",
    "Some observations from reviewing the plot include:\n",
    "\n",
    "* The median values for each year (red line) show a trend that may not be linear.\n",
    "* The spread, or middle 50% of the data (blue boxes), differ, but perhaps not consistently over time.\n",
    "* The earlier years, perhaps first 2, are quite different from the rest of the dataset."
   ]
  },
  {
   "cell_type": "code",
   "execution_count": 12,
   "metadata": {},
   "outputs": [
    {
     "data": {
      "image/png": "[encoded data removed]",
      "text/plain": [
       "<Figure size 432x288 with 1 Axes>"
      ]
     },
     "metadata": {
      "needs_background": "light"
     },
     "output_type": "display_data"
    }
   ],
   "source": [
    "# boxplots of time series\n",
    "groups = series['1966':'1973'].groupby(Grouper(freq='A'))\n",
    "years = DataFrame()\n",
    "for name, group in groups:\n",
    "\tyears[name.year] = group.values\n",
    "years.boxplot()\n",
    "pyplot.show()"
   ]
  },
  {
   "cell_type": "code",
   "execution_count": 13,
   "metadata": {},
   "outputs": [],
   "source": [
    "email_notify(\"Data Inspection and Exploration completed! \"+datetime.now().strftime('%a %B %d, %Y %I:%M:%S %p'))"
   ]
  },
  {
   "cell_type": "markdown",
   "metadata": {},
   "source": [
    "## Section 3. Clean and Pre-Process Data"
   ]
  },
  {
   "cell_type": "markdown",
   "metadata": {},
   "source": [
    "This section currently is not applicable to this iteration of the project."
   ]
  },
  {
   "cell_type": "code",
   "execution_count": 14,
   "metadata": {},
   "outputs": [],
   "source": [
    "email_notify(\"Data Cleaning and Pre-Processing has begun! \"+datetime.now().strftime('%a %B %d, %Y %I:%M:%S %p'))"
   ]
  },
  {
   "cell_type": "code",
   "execution_count": 15,
   "metadata": {},
   "outputs": [],
   "source": [
    "email_notify(\"Data Cleaning and Pre-Processing completed! \"+datetime.now().strftime('%a %B %d, %Y %I:%M:%S %p'))"
   ]
  },
  {
   "cell_type": "markdown",
   "metadata": {},
   "source": [
    "## Section 4. Fit and Evaluate Models"
   ]
  },
  {
   "cell_type": "markdown",
   "metadata": {},
   "source": [
    "In this section, we will develop Autoregression Integrated Moving Average, or ARIMA, models for the problem. We will approach this in four steps:\n",
    "\n",
    "* Developing a manually configured ARIMA model.\n",
    "* Using a grid search of ARIMA to find an optimized model.\n",
    "* Analysis of forecast residual errors to evaluate any bias in the model.\n",
    "* Explore improvements to the model using power transforms."
   ]
  },
  {
   "cell_type": "code",
   "execution_count": 16,
   "metadata": {},
   "outputs": [],
   "source": [
    "email_notify(\"Model Fitting and Evaluation has begun! \"+datetime.now().strftime('%a %B %d, %Y %I:%M:%S %p'))"
   ]
  },
  {
   "cell_type": "markdown",
   "metadata": {},
   "source": [
    "### 4.a) Manually Configured ARIMA"
   ]
  },
  {
   "cell_type": "code",
   "execution_count": 17,
   "metadata": {},
   "outputs": [],
   "source": [
    "email_notify(\"Performing Manual ARIMA has begun! \"+datetime.now().strftime('%a %B %d, %Y %I:%M:%S %p'))"
   ]
  },
  {
   "cell_type": "markdown",
   "metadata": {},
   "source": [
    "#### 4.a.i) Statistical Test for the Stationarity of the Time Series Data"
   ]
  },
  {
   "cell_type": "markdown",
   "metadata": {},
   "source": [
    "Nonseasonal ARIMA(p,d,q) requires three parameters and is traditionally configured manually. Analysis of the time series data assumes that we are working with a stationary time series.\n",
    "\n",
    "The time series is almost certainly non-stationary. We can make it stationary by first differencing the series and using a statistical test to confirm that the result is stationary.\n",
    "\n",
    "The results show that the test statistic value -3.980946 is smaller than the critical value at 5% of -2.893. This suggests that we can reject the null hypothesis with a significance level of less than 5% (i.e. a low probability that the result is a statistical fluke).\n",
    "\n",
    "Rejecting the null hypothesis means that the process has no unit root, and in turn that the time series is stationary or does not have time-dependent structure. This suggests that at least one level of differencing is required. The d parameter in our ARIMA model should at least be a value of 1."
   ]
  },
  {
   "cell_type": "code",
   "execution_count": 18,
   "metadata": {},
   "outputs": [
    {
     "name": "stdout",
     "output_type": "stream",
     "text": [
      "ADF Statistic: -3.980946\n",
      "p-value: 0.001514\n",
      "Critical Values:\n",
      "\t1%: -3.503\n",
      "\t5%: -2.893\n",
      "\t10%: -2.584\n"
     ]
    }
   ],
   "source": [
    "# statistical test for the stationarity of the time series\n",
    "# create a differenced time series\n",
    "def difference(dataset):\n",
    "\tdiff = list()\n",
    "\tfor i in range(1, len(dataset)):\n",
    "\t\tvalue = dataset[i] - dataset[i - 1]\n",
    "\t\tdiff.append(value)\n",
    "\treturn Series(diff)\n",
    "\n",
    "X = series.values\n",
    "# difference data\n",
    "stationary = difference(X)\n",
    "stationary.index = series.index[1:]\n",
    "# check if stationary\n",
    "result = adfuller(stationary)\n",
    "print('ADF Statistic: %f' % result[0])\n",
    "print('p-value: %f' % result[1])\n",
    "print('Critical Values:')\n",
    "for key, value in result[4].items():\n",
    "\tprint('\\t%s: %.3f' % (key, value))\n",
    "# save\n",
    "stationary.to_csv('stationary.csv')"
   ]
  },
  {
   "cell_type": "markdown",
   "metadata": {},
   "source": [
    "#### 4.a.ii) ACF and PACF Plots of the Time Series Data"
   ]
  },
  {
   "cell_type": "markdown",
   "metadata": {},
   "source": [
    "The next step is to select the lag values for the Autoregression (AR) and Moving Average (MA) parameters, p and q respectively. We can do this by reviewing Autocorrelation Function (ACF) and Partial Autocorrelation Function (PACF) plots.\n",
    "\n",
    "Below are some observations from the plots.\n",
    "\n",
    "* The ACF shows a significant lag for 1 month.\n",
    "* The PACF shows a significant lag for perhaps 2 months, with significant lags spotty out to perhaps 12 months.\n",
    "* Both the ACF and PACF show a drop-off at the same point, perhaps suggesting a mix of AR and MA.\n",
    "\n",
    "A good starting point for the p and q values is 1 or 2. This quick analysis suggests an ARIMA(1,1,2) on the raw data may be a good starting point."
   ]
  },
  {
   "cell_type": "code",
   "execution_count": 19,
   "metadata": {},
   "outputs": [
    {
     "name": "stderr",
     "output_type": "stream",
     "text": [
      "C:\\Users\\user_hhds7y1\\Anaconda3\\lib\\site-packages\\statsmodels\\regression\\linear_model.py:1283: RuntimeWarning: invalid value encountered in sqrt\n",
      "  return rho, np.sqrt(sigmasq)\n"
     ]
    },
    {
     "data": {
      "image/png": "[encoded data removed]",
      "text/plain": [
       "<Figure size 432x288 with 2 Axes>"
      ]
     },
     "metadata": {
      "needs_background": "light"
     },
     "output_type": "display_data"
    }
   ],
   "source": [
    "# ACF and PACF plots of time series\n",
    "pyplot.figure()\n",
    "pyplot.subplot(211)\n",
    "plot_acf(series, ax=pyplot.gca())\n",
    "pyplot.subplot(212)\n",
    "plot_pacf(series, ax=pyplot.gca())\n",
    "pyplot.show()"
   ]
  },
  {
   "cell_type": "markdown",
   "metadata": {},
   "source": [
    "#### 4.a.iii) Evaluate Manually Configured ARIMA Model"
   ]
  },
  {
   "cell_type": "markdown",
   "metadata": {},
   "source": [
    "Experimentation shows that this configuration of ARIMA does not converge and results in errors by the underlying library. Some experimentation shows that the model does not appear to be stable, with non-zero AR and MA orders defined at the same time.\n",
    "\n",
    "The model can be simplified to ARIMA(0,1,2). Running this configuration results in an RMSE of 49.821, which is lower than the persistence model. This is a good start, but we may be able to get improved results with a better configured ARIMA model."
   ]
  },
  {
   "cell_type": "code",
   "execution_count": 20,
   "metadata": {},
   "outputs": [
    {
     "name": "stderr",
     "output_type": "stream",
     "text": [
      "C:\\Users\\user_hhds7y1\\Anaconda3\\lib\\site-packages\\scipy\\signal\\signaltools.py:1344: FutureWarning: Using a non-tuple sequence for multidimensional indexing is deprecated; use `arr[tuple(seq)]` instead of `arr[seq]`. In the future this will be interpreted as an array index, `arr[np.array(seq)]`, which will result either in an error or a different result.\n",
      "  out = out_full[ind]\n"
     ]
    },
    {
     "name": "stdout",
     "output_type": "stream",
     "text": [
      ">Predicted=102.710, Expected=125\n",
      ">Predicted=118.868, Expected=155\n",
      ">Predicted=141.099, Expected=190\n",
      ">Predicted=176.593, Expected=236\n",
      ">Predicted=233.418, Expected=189\n",
      ">Predicted=186.905, Expected=174\n",
      ">Predicted=184.846, Expected=178\n",
      ">Predicted=183.763, Expected=136\n",
      ">Predicted=146.180, Expected=161\n",
      ">Predicted=171.279, Expected=171\n",
      ">Predicted=170.196, Expected=149\n",
      ">Predicted=154.425, Expected=184\n",
      ">Predicted=185.707, Expected=155\n",
      ">Predicted=157.284, Expected=276\n",
      ">Predicted=245.280, Expected=224\n",
      ">Predicted=222.242, Expected=213\n",
      ">Predicted=219.698, Expected=279\n",
      ">Predicted=261.506, Expected=268\n",
      ">Predicted=264.287, Expected=287\n",
      ">Predicted=282.759, Expected=238\n",
      ">Predicted=255.843, Expected=213\n",
      ">Predicted=235.189, Expected=257\n",
      ">Predicted=257.622, Expected=293\n",
      ">Predicted=280.345, Expected=212\n",
      ">Predicted=235.564, Expected=246\n",
      ">Predicted=255.342, Expected=353\n",
      ">Predicted=318.613, Expected=339\n",
      ">Predicted=310.335, Expected=308\n",
      ">Predicted=306.789, Expected=247\n",
      ">Predicted=270.213, Expected=257\n",
      ">Predicted=283.318, Expected=322\n",
      ">Predicted=316.063, Expected=298\n",
      ">Predicted=294.466, Expected=273\n",
      ">Predicted=289.635, Expected=312\n",
      ">Predicted=314.759, Expected=249\n",
      ">Predicted=268.675, Expected=286\n",
      ">Predicted=303.095, Expected=279\n",
      ">Predicted=286.441, Expected=309\n",
      ">Predicted=309.455, Expected=401\n",
      ">Predicted=363.141, Expected=309\n",
      ">Predicted=304.979, Expected=328\n",
      ">Predicted=336.240, Expected=353\n",
      ">Predicted=342.814, Expected=354\n",
      ">Predicted=347.675, Expected=327\n",
      ">Predicted=335.842, Expected=324\n",
      ">Predicted=338.449, Expected=285\n",
      ">Predicted=314.714, Expected=243\n",
      ">Predicted=290.336, Expected=241\n",
      ">Predicted=280.614, Expected=287\n",
      ">Predicted=302.079, Expected=355\n",
      ">Predicted=340.210, Expected=460\n",
      ">Predicted=405.172, Expected=364\n",
      ">Predicted=333.755, Expected=487\n",
      "RMSE: 49.821\n"
     ]
    }
   ],
   "source": [
    "# evaluate manually configured ARIMA model\n",
    "# prepare data\n",
    "X = series.values\n",
    "X = X.astype('float32')\n",
    "train_size = int(len(X) * 0.50)\n",
    "train, test = X[0:train_size], X[train_size:]\n",
    "# walk-forward validation\n",
    "history = [x for x in train]\n",
    "predictions = list()\n",
    "for i in range(len(test)):\n",
    "\t# predict\n",
    "\tmodel = ARIMA(history, order=(0,1,2))\n",
    "\tmodel_fit = model.fit(disp=0)\n",
    "\tyhat = model_fit.forecast()[0]\n",
    "\tpredictions.append(yhat)\n",
    "\t# observation\n",
    "\tobs = test[i]\n",
    "\thistory.append(obs)\n",
    "\tprint('>Predicted=%.3f, Expected=%3.f' % (yhat, obs))\n",
    "# report performance\n",
    "rmse = sqrt(mean_squared_error(test, predictions))\n",
    "print('RMSE: %.3f' % rmse)"
   ]
  },
  {
   "cell_type": "code",
   "execution_count": 21,
   "metadata": {},
   "outputs": [],
   "source": [
    "email_notify(\"Performing Manual ARIMA completed! \"+datetime.now().strftime('%a %B %d, %Y %I:%M:%S %p'))"
   ]
  },
  {
   "cell_type": "markdown",
   "metadata": {},
   "source": [
    "### 4.b) Grid Search of ARIMA Hyperparameters"
   ]
  },
  {
   "cell_type": "markdown",
   "metadata": {},
   "source": [
    "Many ARIMA configurations are unstable on this dataset, but there may be other hyperparameters that result in a well-performing model. In this section, we will search values of p, d, and q for combinations that do not result in error, and find the combination that results in the best performance. We will use a grid search to explore all combinations in a subset of integer values.\n",
    "\n",
    "Specifically, we will search all combinations of the following parameters:\n",
    "\n",
    "* p: 0 to 12.\n",
    "* d: 0 to 3.\n",
    "* q: 0 to 12.\n",
    "\n",
    "The results show that the best configuration discovered was ARIMA(0, 1, 2); coincidently, that was demonstrated in the previous section."
   ]
  },
  {
   "cell_type": "code",
   "execution_count": 22,
   "metadata": {},
   "outputs": [],
   "source": [
    "email_notify(\"ARIMA Hyperparameters Search has begun! \"+datetime.now().strftime('%a %B %d, %Y %I:%M:%S %p'))"
   ]
  },
  {
   "cell_type": "code",
   "execution_count": 23,
   "metadata": {},
   "outputs": [
    {
     "name": "stdout",
     "output_type": "stream",
     "text": [
      "ARIMA(0, 0, 0) RMSE=154.962\n",
      "ARIMA(0, 0, 1) RMSE=99.360\n",
      "ARIMA(0, 1, 0) RMSE=51.827\n",
      "ARIMA(0, 1, 1) RMSE=50.417\n",
      "ARIMA(0, 1, 2) RMSE=49.821\n",
      "ARIMA(0, 2, 0) RMSE=80.804\n",
      "ARIMA(0, 2, 1) RMSE=52.456\n",
      "ARIMA(1, 0, 0) RMSE=53.243\n",
      "ARIMA(1, 1, 0) RMSE=50.582\n",
      "ARIMA(1, 2, 0) RMSE=68.672\n",
      "ARIMA(2, 0, 0) RMSE=52.032\n",
      "ARIMA(2, 1, 0) RMSE=50.761\n",
      "ARIMA(2, 1, 1) RMSE=50.407\n",
      "ARIMA(2, 2, 0) RMSE=61.384\n",
      "ARIMA(2, 2, 1) RMSE=51.388\n",
      "ARIMA(3, 1, 0) RMSE=51.901\n",
      "ARIMA(3, 1, 1) RMSE=50.295\n",
      "ARIMA(3, 2, 0) RMSE=60.411\n",
      "ARIMA(3, 2, 1) RMSE=52.830\n",
      "ARIMA(4, 1, 0) RMSE=52.420\n",
      "ARIMA(4, 1, 1) RMSE=52.295\n",
      "ARIMA(4, 2, 0) RMSE=56.286\n",
      "ARIMA(4, 2, 1) RMSE=53.207\n",
      "ARIMA(5, 1, 0) RMSE=52.653\n",
      "ARIMA(5, 1, 1) RMSE=52.883\n",
      "ARIMA(5, 2, 0) RMSE=57.370\n",
      "ARIMA(5, 2, 1) RMSE=53.203\n",
      "ARIMA(6, 1, 0) RMSE=52.437\n",
      "ARIMA(6, 2, 0) RMSE=58.307\n",
      "ARIMA(7, 0, 0) RMSE=54.232\n",
      "ARIMA(7, 1, 0) RMSE=51.104\n",
      "ARIMA(7, 1, 1) RMSE=52.340\n",
      "ARIMA(8, 1, 0) RMSE=51.759\n",
      "ARIMA(9, 1, 0) RMSE=52.491\n",
      "Best ARIMA(0, 1, 2) RMSE=49.821\n",
      "Model training time: 1:07:10.686682\n"
     ]
    }
   ],
   "source": [
    "# grid search ARIMA parameters for time series\n",
    "startTimeModule = datetime.now()\n",
    "# evaluate an ARIMA model for a given order (p,d,q) and return RMSE\n",
    "def evaluate_arima_model(X, arima_order):\n",
    "\t# prepare training dataset\n",
    "\tX = X.astype('float32')\n",
    "\ttrain_size = int(len(X) * 0.50)\n",
    "\ttrain, test = X[0:train_size], X[train_size:]\n",
    "\thistory = [x for x in train]\n",
    "\t# make predictions\n",
    "\tpredictions = list()\n",
    "\tfor t in range(len(test)):\n",
    "\t\tmodel = ARIMA(history, order=arima_order)\n",
    "\t\tmodel_fit = model.fit(disp=0)\n",
    "\t\tyhat = model_fit.forecast()[0]\n",
    "\t\tpredictions.append(yhat)\n",
    "\t\thistory.append(test[t])\n",
    "\t# calculate out of sample error\n",
    "\trmse = sqrt(mean_squared_error(test, predictions))\n",
    "\treturn rmse\n",
    "\n",
    "# evaluate combinations of p, d and q values for an ARIMA model\n",
    "def evaluate_models(dataset, p_values, d_values, q_values):\n",
    "\tdataset = dataset.astype('float32')\n",
    "\tbest_score, best_cfg = float(\"inf\"), None\n",
    "\tfor p in p_values:\n",
    "\t\tfor d in d_values:\n",
    "\t\t\tfor q in q_values:\n",
    "\t\t\t\torder = (p,d,q)\n",
    "\t\t\t\ttry:\n",
    "\t\t\t\t\trmse = evaluate_arima_model(dataset, order)\n",
    "\t\t\t\t\tif rmse < best_score:\n",
    "\t\t\t\t\t\tbest_score, best_cfg = rmse, order\n",
    "\t\t\t\t\tprint('ARIMA%s RMSE=%.3f' % (order,rmse))\n",
    "\t\t\t\texcept:\n",
    "\t\t\t\t\tcontinue\n",
    "\tprint('Best ARIMA%s RMSE=%.3f' % (best_cfg, best_score))\n",
    "\n",
    "# load dataset\n",
    "series = read_csv('dataset.csv', header=None, index_col=0, parse_dates=True, squeeze=True)\n",
    "# evaluate parameters\n",
    "p_values = range(0,13)\n",
    "d_values = range(0,4)\n",
    "q_values = range(0,13)\n",
    "warnings.filterwarnings(\"ignore\")\n",
    "evaluate_models(series.values, p_values, d_values, q_values)\n",
    "print ('Model training time:',(datetime.now() - startTimeModule))"
   ]
  },
  {
   "cell_type": "code",
   "execution_count": 24,
   "metadata": {},
   "outputs": [],
   "source": [
    "email_notify(\"ARIMA Hyperparameters Search completed! \"+datetime.now().strftime('%a %B %d, %Y %I:%M:%S %p'))"
   ]
  },
  {
   "cell_type": "markdown",
   "metadata": {},
   "source": [
    "### 4.c) Review Residual Errors"
   ]
  },
  {
   "cell_type": "markdown",
   "metadata": {},
   "source": [
    "A good final check of a model is to review residual forecast errors. Ideally, the distribution of residual errors should be a Gaussian with a zero mean.\n",
    "\n",
    "We can check this by plotting the residuals with a histogram and density plots. The graphs suggest a Gaussian-like distribution with a longer right tail.\n",
    "\n",
    "This is perhaps a sign that the predictions are biased, and in this case that perhaps a power-based transform of the raw data before modeling might be useful."
   ]
  },
  {
   "cell_type": "code",
   "execution_count": 25,
   "metadata": {},
   "outputs": [],
   "source": [
    "email_notify(\"Residual Errors Review has begun! \"+datetime.now().strftime('%a %B %d, %Y %I:%M:%S %p'))"
   ]
  },
  {
   "cell_type": "code",
   "execution_count": 26,
   "metadata": {},
   "outputs": [
    {
     "data": {
      "image/png": "[encoded data removed]",
      "text/plain": [
       "<Figure size 432x288 with 2 Axes>"
      ]
     },
     "metadata": {
      "needs_background": "light"
     },
     "output_type": "display_data"
    }
   ],
   "source": [
    "# plot residual errors for ARIMA model\n",
    "# prepare data\n",
    "X = series.values\n",
    "X = X.astype('float32')\n",
    "train_size = int(len(X) * 0.50)\n",
    "train, test = X[0:train_size], X[train_size:]\n",
    "# walk-forward validation\n",
    "history = [x for x in train]\n",
    "predictions = list()\n",
    "for i in range(len(test)):\n",
    "\t# predict\n",
    "\tmodel = ARIMA(history, order=(0,1,2))\n",
    "\tmodel_fit = model.fit(disp=0)\n",
    "\tyhat = model_fit.forecast()[0]\n",
    "\tpredictions.append(yhat)\n",
    "\t# observation\n",
    "\tobs = test[i]\n",
    "\thistory.append(obs)\n",
    "# errors\n",
    "residuals = [test[i]-predictions[i] for i in range(len(test))]\n",
    "residuals = DataFrame(residuals)\n",
    "pyplot.figure()\n",
    "pyplot.subplot(211)\n",
    "residuals.hist(ax=pyplot.gca())\n",
    "pyplot.subplot(212)\n",
    "residuals.plot(kind='kde', ax=pyplot.gca())\n",
    "pyplot.show()"
   ]
  },
  {
   "cell_type": "markdown",
   "metadata": {},
   "source": [
    "It is also a good idea to check the time series of the residual errors for any type of autocorrelation. If present, it would suggest that the model has more opportunity to model the temporal structure in the data.\n",
    "\n",
    "The results suggest that what little autocorrelation is present in the time series has been captured by the model."
   ]
  },
  {
   "cell_type": "code",
   "execution_count": 27,
   "metadata": {},
   "outputs": [
    {
     "data": {
      "image/png": "[encoded data removed]",
      "text/plain": [
       "<Figure size 432x288 with 2 Axes>"
      ]
     },
     "metadata": {
      "needs_background": "light"
     },
     "output_type": "display_data"
    }
   ],
   "source": [
    "# ACF and PACF plots of forecast residual errors\n",
    "# prepare data\n",
    "X = series.values\n",
    "X = X.astype('float32')\n",
    "train_size = int(len(X) * 0.50)\n",
    "train, test = X[0:train_size], X[train_size:]\n",
    "# walk-forward validation\n",
    "history = [x for x in train]\n",
    "predictions = list()\n",
    "for i in range(len(test)):\n",
    "\t# predict\n",
    "\tmodel = ARIMA(history, order=(0,1,2))\n",
    "\tmodel_fit = model.fit(disp=0)\n",
    "\tyhat = model_fit.forecast()[0]\n",
    "\tpredictions.append(yhat)\n",
    "\t# observation\n",
    "\tobs = test[i]\n",
    "\thistory.append(obs)\n",
    "# errors\n",
    "residuals = [test[i]-predictions[i] for i in range(len(test))]\n",
    "residuals = DataFrame(residuals)\n",
    "pyplot.figure()\n",
    "pyplot.subplot(211)\n",
    "plot_acf(residuals, ax=pyplot.gca())\n",
    "pyplot.subplot(212)\n",
    "plot_pacf(residuals, ax=pyplot.gca())\n",
    "pyplot.show()"
   ]
  },
  {
   "cell_type": "code",
   "execution_count": 28,
   "metadata": {},
   "outputs": [],
   "source": [
    "email_notify(\"Residual Errors Review completed! \"+datetime.now().strftime('%a %B %d, %Y %I:%M:%S %p'))"
   ]
  },
  {
   "cell_type": "markdown",
   "metadata": {},
   "source": [
    "### 4.d) Explore Model Improvements Using Power Transforms"
   ]
  },
  {
   "cell_type": "markdown",
   "metadata": {},
   "source": [
    "The Box-Cox transform is a method that is able to evaluate a suite of power transforms, including, but not limited to, log, square root, and reciprocal transforms of the data.\n",
    "\n",
    "Running the code block creates three graphs: a line chart of the transformed time series, a histogram showing the distribution of transformed values, and a Q-Q plot showing how the distribution of values compared to an idealized Gaussian distribution. Some observations from these plots are follows:\n",
    "\n",
    "* The large fluctuations have been removed from the line plot of the time series.\n",
    "* The histogram shows a flatter or more uniform (well behaved) distribution of values.\n",
    "* The Q-Q plot is reasonable, but still not a perfect fit for a Gaussian distribution.\n",
    "\n",
    "Undoubtedly, the Box-Cox transform has done something to the time series and may be useful."
   ]
  },
  {
   "cell_type": "code",
   "execution_count": 29,
   "metadata": {},
   "outputs": [],
   "source": [
    "email_notify(\"Power Transformation Exploration has begun! \"+datetime.now().strftime('%a %B %d, %Y %I:%M:%S %p'))"
   ]
  },
  {
   "cell_type": "code",
   "execution_count": 30,
   "metadata": {},
   "outputs": [
    {
     "name": "stdout",
     "output_type": "stream",
     "text": [
      "Lambda: 0.260060\n"
     ]
    },
    {
     "data": {
      "image/png": "[encoded data removed]",
      "text/plain": [
       "<Figure size 432x288 with 3 Axes>"
      ]
     },
     "metadata": {
      "needs_background": "light"
     },
     "output_type": "display_data"
    }
   ],
   "source": [
    "# plots of box-cox transformed dataset\n",
    "X = series.values\n",
    "transformed, lam = boxcox(X)\n",
    "print('Lambda: %f' % lam)\n",
    "pyplot.figure(1)\n",
    "# line plot\n",
    "pyplot.subplot(311)\n",
    "pyplot.plot(transformed)\n",
    "# histogram\n",
    "pyplot.subplot(312)\n",
    "pyplot.hist(transformed)\n",
    "# q-q plot\n",
    "pyplot.subplot(313)\n",
    "qqplot(transformed, line='r', ax=pyplot.gca())\n",
    "pyplot.show()"
   ]
  },
  {
   "cell_type": "markdown",
   "metadata": {},
   "source": [
    "Before proceeding to test the ARIMA model with the transformed data, we must have a way to reverse the transform in order to convert predictions made with a model trained on the transformed data back into the original scale. The boxcox() function used in the example finds an ideal lambda value by optimizing a cost function.\n",
    "\n",
    "We can re-evaluate the ARIMA(0,1,2) model with the Box-Cox transform. This involves first transforming the history prior to fitting the ARIMA model, then inverting the transform on the prediction before storing it for later comparison with the expected values.\n",
    "\n",
    "The boxcox() function can fail. In practice, it appears to be signaled by a returned lambda value of less than -5. By convention, lambda values are evaluated between -5 and 5. A check is added for a lambda value less than -5, and if this the case, a lambda value of 1 is assumed and the raw history is used to fit the model. A lambda value of 1 is the same as “no-transform” and therefore the inverse transform has no effect.\n",
    "\n",
    "The final RMSE of the model on the transformed data was 49.443. This is a smaller error than the ARIMA model on untransformed data, but only slightly, and it may or may not be statistically different."
   ]
  },
  {
   "cell_type": "code",
   "execution_count": 31,
   "metadata": {},
   "outputs": [
    {
     "name": "stdout",
     "output_type": "stream",
     "text": [
      ">Predicted=104.062, Expected=125\n",
      ">Predicted=119.208, Expected=155\n",
      ">Predicted=138.902, Expected=190\n",
      ">Predicted=166.143, Expected=236\n",
      ">Predicted=234.418, Expected=189\n",
      ">Predicted=183.613, Expected=174\n",
      ">Predicted=184.409, Expected=178\n",
      ">Predicted=186.641, Expected=136\n",
      ">Predicted=154.300, Expected=161\n",
      ">Predicted=175.672, Expected=171\n",
      ">Predicted=174.172, Expected=149\n",
      ">Predicted=159.915, Expected=184\n",
      ">Predicted=187.303, Expected=155\n",
      ">Predicted=161.656, Expected=276\n",
      ">Predicted=244.354, Expected=224\n",
      ">Predicted=212.416, Expected=213\n",
      ">Predicted=221.180, Expected=279\n",
      ">Predicted=262.629, Expected=268\n",
      ">Predicted=260.126, Expected=287\n",
      ">Predicted=283.320, Expected=238\n",
      ">Predicted=255.089, Expected=213\n",
      ">Predicted=241.692, Expected=257\n",
      ">Predicted=267.306, Expected=293\n",
      ">Predicted=286.371, Expected=212\n",
      ">Predicted=237.881, Expected=246\n",
      ">Predicted=265.193, Expected=353\n",
      ">Predicted=323.314, Expected=339\n",
      ">Predicted=318.589, Expected=308\n",
      ">Predicted=315.815, Expected=247\n",
      ">Predicted=279.552, Expected=257\n",
      ">Predicted=289.122, Expected=322\n",
      ">Predicted=323.729, Expected=298\n",
      ">Predicted=305.197, Expected=273\n",
      ">Predicted=297.090, Expected=312\n",
      ">Predicted=322.529, Expected=249\n",
      ">Predicted=275.873, Expected=286\n",
      ">Predicted=307.548, Expected=279\n",
      ">Predicted=291.949, Expected=309\n",
      ">Predicted=315.577, Expected=401\n",
      ">Predicted=369.477, Expected=309\n",
      ">Predicted=316.858, Expected=328\n",
      ">Predicted=345.389, Expected=353\n",
      ">Predicted=353.509, Expected=354\n",
      ">Predicted=358.417, Expected=327\n",
      ">Predicted=345.137, Expected=324\n",
      ">Predicted=346.405, Expected=285\n",
      ">Predicted=318.016, Expected=243\n",
      ">Predicted=286.562, Expected=241\n",
      ">Predicted=276.253, Expected=287\n",
      ">Predicted=299.811, Expected=355\n",
      ">Predicted=338.997, Expected=460\n",
      ">Predicted=404.509, Expected=364\n",
      ">Predicted=349.336, Expected=487\n",
      "RMSE: 49.443\n"
     ]
    }
   ],
   "source": [
    "# evaluate ARIMA models with box-cox transformed time series\n",
    "# invert box-cox transform\n",
    "def boxcox_inverse(value, lam):\n",
    "\tif lam == 0:\n",
    "\t\treturn exp(value)\n",
    "\treturn exp(log(lam * value + 1) / lam)\n",
    "\n",
    "# prepare data\n",
    "X = series.values\n",
    "X = X.astype('float32')\n",
    "train_size = int(len(X) * 0.50)\n",
    "train, test = X[0:train_size], X[train_size:]\n",
    "# walk-forward validation\n",
    "history = [x for x in train]\n",
    "predictions = list()\n",
    "for i in range(len(test)):\n",
    "\t# transform\n",
    "\ttransformed, lam = boxcox(history)\n",
    "\tif lam < -5:\n",
    "\t\ttransformed, lam = history, 1\n",
    "\t# predict\n",
    "\tmodel = ARIMA(transformed, order=(0,1,2))\n",
    "\tmodel_fit = model.fit(disp=0)\n",
    "\tyhat = model_fit.forecast()[0]\n",
    "\t# invert transformed prediction\n",
    "\tyhat = boxcox_inverse(yhat, lam)\n",
    "\tpredictions.append(yhat)\n",
    "\t# observation\n",
    "\tobs = test[i]\n",
    "\thistory.append(obs)\n",
    "\tprint('>Predicted=%.3f, Expected=%3.f' % (yhat, obs))\n",
    "# report performance\n",
    "rmse = sqrt(mean_squared_error(test, predictions))\n",
    "print('RMSE: %.3f' % rmse)"
   ]
  },
  {
   "cell_type": "code",
   "execution_count": 32,
   "metadata": {},
   "outputs": [],
   "source": [
    "email_notify(\"Power Transformation Exploration completed! \"+datetime.now().strftime('%a %B %d, %Y %I:%M:%S %p'))"
   ]
  },
  {
   "cell_type": "code",
   "execution_count": 33,
   "metadata": {},
   "outputs": [],
   "source": [
    "email_notify(\"Model Fitting and Evaluation completed! \"+datetime.now().strftime('%a %B %d, %Y %I:%M:%S %p'))"
   ]
  },
  {
   "cell_type": "markdown",
   "metadata": {},
   "source": [
    "## Section 5. Finalize and Deploy Model"
   ]
  },
  {
   "cell_type": "markdown",
   "metadata": {},
   "source": [
    "After models have been developed and a final model selected, it must be validated and finalized. Validation is an optional part of the process, but one that provides a ‘last check’ to ensure we have not fooled or lied to ourselves.\n",
    "\n",
    "This section includes the following steps:\n",
    "\n",
    "* Finalize Model: Train and save the final model.\n",
    "* Make Prediction: Load the finalized model and make a prediction.\n",
    "* Validate Model: Load and validate the final model."
   ]
  },
  {
   "cell_type": "code",
   "execution_count": 34,
   "metadata": {},
   "outputs": [],
   "source": [
    "email_notify(\"Model Finalization and Deployment has begun! \"+datetime.now().strftime('%a %B %d, %Y %I:%M:%S %p'))"
   ]
  },
  {
   "cell_type": "markdown",
   "metadata": {},
   "source": [
    "### 5.a) Finalize Model"
   ]
  },
  {
   "cell_type": "markdown",
   "metadata": {},
   "source": [
    "Finalizing the model involves fitting an ARIMA model on the entire dataset, in this case, on a transformed version of the entire dataset.\n",
    "\n",
    "Once fit, the model can be saved to file for later use. Because a Box-Cox transform is also performed on the data, we need to know the chosen lambda so that any predictions from the model can be converted back to the original, untransformed scale.\n",
    "\n",
    "Running the code block creates two local files:\n",
    "\n",
    "* model.pkl This is the ARIMAResult object from the call to ARIMA.fit(). This includes the coefficients and all other internal data returned when fitting the model.\n",
    "* model_lambda.npy This is the lambda value stored as a one-row, one-column NumPy array."
   ]
  },
  {
   "cell_type": "code",
   "execution_count": 35,
   "metadata": {},
   "outputs": [],
   "source": [
    "# finalize model and save to file with workaround\n",
    "# monkey patch around bug in ARIMA class\n",
    "def __getnewargs__(self):\n",
    "\treturn ((self.endog),(self.k_lags, self.k_diff, self.k_ma))\n",
    "\n",
    "ARIMA.__getnewargs__ = __getnewargs__\n",
    "\n",
    "# load data\n",
    "#series = read_csv('dataset.csv', header=None, index_col=0, parse_dates=True, squeeze=True)\n",
    "# prepare data\n",
    "X = series.values\n",
    "X = X.astype('float32')\n",
    "# transform data\n",
    "transformed, lam = boxcox(X)\n",
    "# fit model\n",
    "model = ARIMA(transformed, order=(0,1,2))\n",
    "model_fit = model.fit(disp=0)\n",
    "# save model\n",
    "model_fit.save('model.pkl')\n",
    "np.save('model_lambda.npy', [lam])"
   ]
  },
  {
   "cell_type": "markdown",
   "metadata": {},
   "source": [
    "### 5.b) Make Prediction"
   ]
  },
  {
   "cell_type": "markdown",
   "metadata": {},
   "source": [
    "A natural case may be to load the model and make a single forecast. This is relatively straightforward and involves restoring the saved model and the lambda and calling the forecast() method.\n",
    "\n",
    "We can now load the model and make a single prediction. Running the code block points to the prediction of about 452."
   ]
  },
  {
   "cell_type": "code",
   "execution_count": 36,
   "metadata": {},
   "outputs": [
    {
     "name": "stdout",
     "output_type": "stream",
     "text": [
      "Predicted: 452.043\n"
     ]
    }
   ],
   "source": [
    "# load the finalized model and make a prediction\n",
    "# invert box-cox transform\n",
    "def boxcox_inverse(value, lam):\n",
    "\tif lam == 0:\n",
    "\t\treturn exp(value)\n",
    "\treturn exp(log(lam * value + 1) / lam)\n",
    "\n",
    "model_fit = ARIMAResults.load('model.pkl')\n",
    "lam = np.load('model_lambda.npy')\n",
    "yhat = model_fit.forecast()[0]\n",
    "yhat = boxcox_inverse(yhat, lam)\n",
    "print('Predicted: %.3f' % yhat)"
   ]
  },
  {
   "cell_type": "markdown",
   "metadata": {},
   "source": [
    "### 5.c) Validate Model"
   ]
  },
  {
   "cell_type": "markdown",
   "metadata": {},
   "source": [
    "We can load the model and use it in a pretend operational manner. In the test harness section, we saved the final 12 months of the original dataset in a separate file to validate the final model. We can load this validation.csv file now and use it see how well our model really is on “unseen” data.\n",
    "\n",
    "There are two ways we might proceed:\n",
    "\n",
    "* Load the model and use it to forecast the next 12 months. The forecast beyond the first one or two months will quickly start to degrade in skill.\n",
    "* Load the model and use it in a rolling-forecast manner, updating the transform and model for each time step. This is the preferred method as it is how one would use this model in practice, as it would achieve the best performance.\n",
    "\n",
    "As with model evaluation in previous sections, we will make predictions in a rolling-forecast manner. This means that we will step over lead times in the validation dataset and take the observations as an update to the history.\n",
    "\n",
    "The final RMSE for the validation period is predicted at 53 robberies. This is not too different to the expected error of 49. The forecast does have the characteristic of a persistence forecast. This does suggest that although this time series does have an obvious trend, it is still a reasonably difficult problem."
   ]
  },
  {
   "cell_type": "code",
   "execution_count": 37,
   "metadata": {},
   "outputs": [
    {
     "name": "stdout",
     "output_type": "stream",
     "text": [
      ">Predicted=452.043, Expected=452\n",
      ">Predicted=423.088, Expected=391\n",
      ">Predicted=408.378, Expected=500\n",
      ">Predicted=482.454, Expected=451\n",
      ">Predicted=445.944, Expected=375\n",
      ">Predicted=413.881, Expected=372\n",
      ">Predicted=413.209, Expected=302\n",
      ">Predicted=355.159, Expected=316\n",
      ">Predicted=363.515, Expected=398\n",
      ">Predicted=406.365, Expected=394\n",
      ">Predicted=394.186, Expected=431\n",
      ">Predicted=428.174, Expected=431\n",
      "RMSE: 53.078\n"
     ]
    },
    {
     "data": {
      "image/png": "[encoded data removed]",
      "text/plain": [
       "<Figure size 432x288 with 1 Axes>"
      ]
     },
     "metadata": {
      "needs_background": "light"
     },
     "output_type": "display_data"
    }
   ],
   "source": [
    "# evaluate the finalized model on the validation dataset\n",
    "# invert box-cox transform\n",
    "def boxcox_inverse(value, lam):\n",
    "\tif lam == 0:\n",
    "\t\treturn exp(value)\n",
    "\treturn exp(log(lam * value + 1) / lam)\n",
    "\n",
    "# load and prepare datasets\n",
    "dataset = read_csv('dataset.csv', header=None, index_col=0, parse_dates=True, squeeze=True)\n",
    "X = dataset.values.astype('float32')\n",
    "history = [x for x in X]\n",
    "validation = read_csv('validation.csv', header=None, index_col=0, parse_dates=True, squeeze=True)\n",
    "y = validation.values.astype('float32')\n",
    "# load model\n",
    "model_fit = ARIMAResults.load('model.pkl')\n",
    "lam = np.load('model_lambda.npy')\n",
    "# make first prediction\n",
    "predictions = list()\n",
    "yhat = model_fit.forecast()[0]\n",
    "yhat = boxcox_inverse(yhat, lam)\n",
    "predictions.append(yhat)\n",
    "history.append(y[0])\n",
    "print('>Predicted=%.3f, Expected=%3.f' % (yhat, y[0]))\n",
    "# rolling forecasts\n",
    "for i in range(1, len(y)):\n",
    "\t# transform\n",
    "\ttransformed, lam = boxcox(history)\n",
    "\tif lam < -5:\n",
    "\t\ttransformed, lam = history, 1\n",
    "\t# predict\n",
    "\tmodel = ARIMA(transformed, order=(0,1,2))\n",
    "\tmodel_fit = model.fit(disp=0)\n",
    "\tyhat = model_fit.forecast()[0]\n",
    "\t# invert transformed prediction\n",
    "\tyhat = boxcox_inverse(yhat, lam)\n",
    "\tpredictions.append(yhat)\n",
    "\t# observation\n",
    "\tobs = y[i]\n",
    "\thistory.append(obs)\n",
    "\tprint('>Predicted=%.3f, Expected=%3.f' % (yhat, obs))\n",
    "# report performance\n",
    "rmse = sqrt(mean_squared_error(y, predictions))\n",
    "print('RMSE: %.3f' % rmse)\n",
    "pyplot.plot(y)\n",
    "pyplot.plot(predictions, color='red')\n",
    "pyplot.show()"
   ]
  },
  {
   "cell_type": "code",
   "execution_count": 38,
   "metadata": {},
   "outputs": [],
   "source": [
    "email_notify(\"Model Finalization and Deployment completed! \"+datetime.now().strftime('%a %B %d, %Y %I:%M:%S %p'))"
   ]
  },
  {
   "cell_type": "code",
   "execution_count": 39,
   "metadata": {},
   "outputs": [
    {
     "name": "stdout",
     "output_type": "stream",
     "text": [
      "Total time for the script: 1:08:00.186069\n"
     ]
    }
   ],
   "source": [
    "print ('Total time for the script:',(datetime.now() - startTimeScript))"
   ]
  }
 ],
 "metadata": {
  "kernelspec": {
   "display_name": "Python 3",
   "language": "python",
   "name": "python3"
  },
  "language_info": {
   "codemirror_mode": {
    "name": "ipython",
    "version": 3
   },
   "file_extension": ".py",
   "mimetype": "text/x-python",
   "name": "python",
   "nbconvert_exporter": "python",
   "pygments_lexer": "ipython3",
   "version": "3.7.1"
  }
 },
 "nbformat": 4,
 "nbformat_minor": 2
}
