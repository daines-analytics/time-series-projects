{
  "cells": [
    {
      "cell_type": "markdown",
      "metadata": {
        "id": "OIRgK0tZmNdY"
      },
      "source": [
        "# Univariate Time Series Model for Monthly Rainfall Coppermine Using TensorFlow\n",
        "### David Lowe\n",
        "### May 4, 2022\n",
        "\n",
        "SUMMARY: The project aims to construct a time series prediction model and document the end-to-end steps using a template. The Monthly Rainfall Coppermine dataset is a univariate time series situation where we attempt to forecast future outcomes based on past data points.\n",
        "\n",
        "INTRODUCTION: The problem is to forecast the monthly rainfall. The dataset describes a time series of rainfall (in millimeters) over 44 years (1933-1976), and there are 528 observations. We used the first 80% of the observations for training and testing various models while holding back the remaining observations for validating the final model.\n",
        "\n",
        "ANALYSIS: The baseline persistence model yielded an RMSE of 12.234. The CNN model processed the same test data with an RMSE of 12.239, which was comparable to the baseline model as expected. In an earlier ARIMA modeling experiment, the best ARIMA model with non-seasonal order of (0, 0, 2) and seasonal order of (1, 0, 1, 12) processed the validation data with an RMSE of 10.73.\n",
        "\n",
        "CONCLUSION: For this dataset, the TensorFlow CNN model achieved an acceptable result, and we should consider using TensorFlow for further modeling.\n",
        "\n",
        "Dataset Used: Monthly Rainfall Coppermine 1933 through 1976.\n",
        "\n",
        "Dataset ML Model: Time series forecast with numerical attribute.\n",
        "\n",
        "Dataset Reference: Rob Hyndman and Yangzhuoran Yang (2018). tsdl: Time Series Data Library. v0.1.0. https://pkg.yangzhuoranyang./tsdl/."
      ]
    },
    {
      "cell_type": "markdown",
      "metadata": {
        "id": "RFArbqQfmNdb"
      },
      "source": [
        "## Task 1 - Define Problem and Acquire Data"
      ]
    },
    {
      "cell_type": "code",
      "execution_count": 1,
      "metadata": {
        "id": "JgO3qCVqmNdc",
        "outputId": "4c19e6a1-a641-4bd0-f8f8-bd58a7289947",
        "colab": {
          "base_uri": "https://localhost:8080/"
        }
      },
      "outputs": [
        {
          "output_type": "stream",
          "name": "stdout",
          "text": [
            "The number of available CPUs is: 2\n"
          ]
        }
      ],
      "source": [
        "# Retrieve the CPU information\n",
        "ncpu = !nproc\n",
        "print(\"The number of available CPUs is:\", ncpu[0])"
      ]
    },
    {
      "cell_type": "code",
      "execution_count": 2,
      "metadata": {
        "id": "xp6nuYTNmNdd",
        "outputId": "534ba9c5-2017-41dc-8286-c63c6a2b3f62",
        "colab": {
          "base_uri": "https://localhost:8080/"
        }
      },
      "outputs": [
        {
          "output_type": "stream",
          "name": "stdout",
          "text": [
            "Your runtime has 13.6 gigabytes of available RAM\n",
            "\n"
          ]
        }
      ],
      "source": [
        "# Retrieve memory configuration information\n",
        "from psutil import virtual_memory\n",
        "ram_gb = virtual_memory().total / 1e9\n",
        "print('Your runtime has {:.1f} gigabytes of available RAM\\n'.format(ram_gb))"
      ]
    },
    {
      "cell_type": "code",
      "execution_count": 3,
      "metadata": {
        "id": "q7GF0yh4mNdd",
        "outputId": "e2fa5cea-3cd9-4d3b-d8fa-c17b9e1f5dc1",
        "colab": {
          "base_uri": "https://localhost:8080/"
        }
      },
      "outputs": [
        {
          "output_type": "stream",
          "name": "stdout",
          "text": [
            "Fri Apr 29 23:56:49 2022       \n",
            "+-----------------------------------------------------------------------------+\n",
            "| NVIDIA-SMI 460.32.03    Driver Version: 460.32.03    CUDA Version: 11.2     |\n",
            "|-------------------------------+----------------------+----------------------+\n",
            "| GPU  Name        Persistence-M| Bus-Id        Disp.A | Volatile Uncorr. ECC |\n",
            "| Fan  Temp  Perf  Pwr:Usage/Cap|         Memory-Usage | GPU-Util  Compute M. |\n",
            "|                               |                      |               MIG M. |\n",
            "|===============================+======================+======================|\n",
            "|   0  Tesla V100-SXM2...  Off  | 00000000:00:04.0 Off |                    0 |\n",
            "| N/A   34C    P0    30W / 300W |      0MiB / 16160MiB |      0%      Default |\n",
            "|                               |                      |                  N/A |\n",
            "+-------------------------------+----------------------+----------------------+\n",
            "                                                                               \n",
            "+-----------------------------------------------------------------------------+\n",
            "| Processes:                                                                  |\n",
            "|  GPU   GI   CI        PID   Type   Process name                  GPU Memory |\n",
            "|        ID   ID                                                   Usage      |\n",
            "|=============================================================================|\n",
            "|  No running processes found                                                 |\n",
            "+-----------------------------------------------------------------------------+\n"
          ]
        }
      ],
      "source": [
        "# Retrieve the GPU information\n",
        "gpu_info = !nvidia-smi\n",
        "gpu_info = '\\n'.join(gpu_info)\n",
        "print(gpu_info)"
      ]
    },
    {
      "cell_type": "markdown",
      "metadata": {
        "id": "sVQ0F8SgmNdd"
      },
      "source": [
        "### 1.a) Load Libraries"
      ]
    },
    {
      "cell_type": "code",
      "execution_count": 4,
      "metadata": {
        "id": "2jL4WN__mNde"
      },
      "outputs": [],
      "source": [
        "# Create the random seed number for reproducible results\n",
        "RNG_SEED = 888"
      ]
    },
    {
      "cell_type": "code",
      "execution_count": 5,
      "metadata": {
        "id": "TLooWS4zmNde"
      },
      "outputs": [],
      "source": [
        "import random\n",
        "import numpy as np\n",
        "import tensorflow as tf\n",
        "random.seed(RNG_SEED)\n",
        "np.random.seed(RNG_SEED)\n",
        "tf.random.set_seed(RNG_SEED)\n",
        "\n",
        "import pandas as pd\n",
        "import seaborn as sns\n",
        "import matplotlib.pyplot as plt\n",
        "import os\n",
        "import sys\n",
        "import math\n",
        "# import boto3\n",
        "from datetime import datetime\n",
        "from sklearn.metrics import mean_squared_error"
      ]
    },
    {
      "cell_type": "markdown",
      "metadata": {
        "id": "Phie8OQLmNdf"
      },
      "source": [
        "### 1.b) Set up the controlling parameters and functions"
      ]
    },
    {
      "cell_type": "code",
      "execution_count": 6,
      "metadata": {
        "id": "o5yHVfd7mNdf"
      },
      "outputs": [],
      "source": [
        "# Begin the timer for the script processing\n",
        "START_TIME_SCRIPT = datetime.now()\n",
        "\n",
        "# Set up the number of CPU cores available for multi-thread processing\n",
        "N_JOBS = 1\n",
        "\n",
        "# Set up the flag to stop sending progress emails (setting to True will send status emails!)\n",
        "NOTIFY_STATUS = False\n",
        "\n",
        "# Set various default modeling parameters\n",
        "DEFAULT_LOSS = 'mean_squared_error'\n",
        "DEFAULT_METRICS = [tf.keras.metrics.RootMeanSquaredError(name='rmse')]\n",
        "DEFAULT_OPTIMIZER = tf.keras.optimizers.Adam(learning_rate=0.0001)\n",
        "MAX_EPOCHS = 50\n",
        "BATCH_SIZE = 16\n",
        "SLIDING_WINDOW = 5"
      ]
    },
    {
      "cell_type": "code",
      "execution_count": 7,
      "metadata": {
        "id": "7iHutUoSmNdg"
      },
      "outputs": [],
      "source": [
        "# Set up the email notification function\n",
        "def status_notify(msg_text):\n",
        "    access_key = os.environ.get('SNS_ACCESS_KEY')\n",
        "    secret_key = os.environ.get('SNS_SECRET_KEY')\n",
        "    aws_region = os.environ.get('SNS_AWS_REGION')\n",
        "    topic_arn = os.environ.get('SNS_TOPIC_ARN')\n",
        "    if (access_key is None) or (secret_key is None) or (aws_region is None):\n",
        "        sys.exit(\"Incomplete notification setup info. Script Processing Aborted!!!\")\n",
        "    sns = boto3.client('sns', aws_access_key_id=access_key, aws_secret_access_key=secret_key, region_name=aws_region)\n",
        "    response = sns.publish(TopicArn=topic_arn, Message=msg_text)\n",
        "    if response['ResponseMetadata']['HTTPStatusCode'] != 200 :\n",
        "        print('Status notification not OK with HTTP status code:', response['ResponseMetadata']['HTTPStatusCode'])"
      ]
    },
    {
      "cell_type": "code",
      "execution_count": 8,
      "metadata": {
        "id": "w4s5vaCcmNdg"
      },
      "outputs": [],
      "source": [
        "if NOTIFY_STATUS: status_notify(\"TensorFlow Time Series Task 1 - Define Problem and Acquire Data has begun! \" + datetime.now().strftime('%a %B %d, %Y %I:%M:%S %p'))"
      ]
    },
    {
      "cell_type": "markdown",
      "metadata": {
        "id": "AX8sm65xmNdg"
      },
      "source": [
        "### 1.c) Acquire and Load the Data"
      ]
    },
    {
      "cell_type": "code",
      "execution_count": 9,
      "metadata": {
        "id": "I2lUXEZGmNdg"
      },
      "outputs": [],
      "source": [
        "# load the dataset and the necessary data structure\n",
        "time_series = pd.read_csv('https://dainesanalytics.com/datasets/time-series-data-library/tsdl245.csv', index_col='idx', parse_dates=True)\n",
        "\n",
        "# Load the dataset from the Federal Reserve Bank's FRED Database\n",
        "# starting = datetime(1990, 1, 1)\n",
        "# ending = datetime.now()\n",
        "# fred_data = 'SMU06000007072251101'\n",
        "# time_series = web.DataReader(fred_data, 'fred', starting, ending)\n",
        "# time_series.rename(columns={fred_data: 'value'}, inplace=True)\n",
        "\n",
        "# Sample code for subsetting the time-series data\n",
        "# time_series = original_series['1986':'1990']"
      ]
    },
    {
      "cell_type": "code",
      "execution_count": 10,
      "metadata": {
        "id": "doFh3-sAmNdh",
        "outputId": "2d2b6bc9-6cf6-4125-fa7a-ef0b934db7fc",
        "colab": {
          "base_uri": "https://localhost:8080/"
        }
      },
      "outputs": [
        {
          "output_type": "stream",
          "name": "stdout",
          "text": [
            "The target column of the time series is: values\n",
            "The forecast boundary columns are: lower values & upper values\n"
          ]
        }
      ],
      "source": [
        "target_col = time_series.columns[0]\n",
        "lower_bound = 'lower ' + target_col\n",
        "upper_bound = 'upper ' + target_col\n",
        "print('The target column of the time series is:', target_col)\n",
        "print('The forecast boundary columns are:', lower_bound, '&', upper_bound)"
      ]
    },
    {
      "cell_type": "code",
      "execution_count": 11,
      "metadata": {
        "id": "ZHV9EqjQmNdh",
        "outputId": "741687c1-acde-4aaf-ba5c-5563b8b42f02",
        "colab": {
          "base_uri": "https://localhost:8080/"
        }
      },
      "outputs": [
        {
          "output_type": "stream",
          "name": "stdout",
          "text": [
            "<class 'pandas.core.frame.DataFrame'>\n",
            "DatetimeIndex: 528 entries, 1933-01-01 to 1976-12-01\n",
            "Data columns (total 1 columns):\n",
            " #   Column  Non-Null Count  Dtype\n",
            "---  ------  --------------  -----\n",
            " 0   values  528 non-null    int64\n",
            "dtypes: int64(1)\n",
            "memory usage: 8.2 KB\n"
          ]
        }
      ],
      "source": [
        "time_series.info(verbose=True)"
      ]
    },
    {
      "cell_type": "code",
      "execution_count": 12,
      "metadata": {
        "id": "qBGA33SQmNdh",
        "outputId": "526d0863-9a97-477f-b038-e1fc075efe08",
        "colab": {
          "base_uri": "https://localhost:8080/"
        }
      },
      "outputs": [
        {
          "output_type": "stream",
          "name": "stdout",
          "text": [
            "            values\n",
            "idx               \n",
            "1933-01-01       0\n",
            "1933-02-01       0\n",
            "1933-03-01       0\n",
            "1933-04-01       0\n",
            "1933-05-01       1\n"
          ]
        }
      ],
      "source": [
        "print(time_series.head())"
      ]
    },
    {
      "cell_type": "code",
      "execution_count": 13,
      "metadata": {
        "id": "Vjc_SbDXmNdh",
        "outputId": "b60b6d0b-5afe-41d2-b837-5016735b7794",
        "colab": {
          "base_uri": "https://localhost:8080/"
        }
      },
      "outputs": [
        {
          "output_type": "stream",
          "name": "stdout",
          "text": [
            "            values\n",
            "idx               \n",
            "1976-08-01      54\n",
            "1976-09-01       0\n",
            "1976-10-01       0\n",
            "1976-11-01       0\n",
            "1976-12-01       0\n"
          ]
        }
      ],
      "source": [
        "print(time_series.tail())"
      ]
    },
    {
      "cell_type": "code",
      "execution_count": 14,
      "metadata": {
        "id": "jg9D1sQkmNdh"
      },
      "outputs": [],
      "source": [
        "if NOTIFY_STATUS: status_notify(\"TensorFlow Time Series Task 1 - Define Problem and Acquire Data completed! \" + datetime.now().strftime('%a %B %d, %Y %I:%M:%S %p'))"
      ]
    },
    {
      "cell_type": "markdown",
      "metadata": {
        "id": "492S94qSmNdi"
      },
      "source": [
        "## Task 2: Summarize and Visualize Data"
      ]
    },
    {
      "cell_type": "code",
      "execution_count": 15,
      "metadata": {
        "id": "47qr21uYmNdi"
      },
      "outputs": [],
      "source": [
        "if NOTIFY_STATUS: status_notify(\"TensorFlow Time Series Task 2 - Summarize and Visualize Data has begun! \" + datetime.now().strftime('%a %B %d, %Y %I:%M:%S %p'))"
      ]
    },
    {
      "cell_type": "markdown",
      "metadata": {
        "id": "lcpaRX9FmNdi"
      },
      "source": [
        "### 2.a) Summary Statistics of the Time Series Data"
      ]
    },
    {
      "cell_type": "code",
      "execution_count": 16,
      "metadata": {
        "id": "ImaAxicLmNdi",
        "outputId": "29d5de7e-5fff-485f-f76a-d21643b1c210",
        "colab": {
          "base_uri": "https://localhost:8080/"
        }
      },
      "outputs": [
        {
          "output_type": "stream",
          "name": "stdout",
          "text": [
            "           values\n",
            "count  528.000000\n",
            "mean     9.316288\n",
            "std     16.904025\n",
            "min      0.000000\n",
            "25%      0.000000\n",
            "50%      0.000000\n",
            "75%     12.000000\n",
            "max    105.000000\n"
          ]
        }
      ],
      "source": [
        "# Summary statistics of time series\n",
        "print(time_series.describe())"
      ]
    },
    {
      "cell_type": "markdown",
      "metadata": {
        "id": "oTrf_RhAmNdi"
      },
      "source": [
        "### 2.b) Line Plot of the Time Series Data"
      ]
    },
    {
      "cell_type": "code",
      "execution_count": 17,
      "metadata": {
        "id": "1eZrYkRLmNdi",
        "outputId": "410d9863-cacc-4df1-e1c7-490dc0be2236",
        "colab": {
          "base_uri": "https://localhost:8080/",
          "height": 616
        }
      },
      "outputs": [
        {
          "output_type": "display_data",
          "data": {
            "text/plain": [
              "<Figure size 1152x648 with 1 Axes>"
            ],
            "image/png": "[encoded data removed]"
          },
          "metadata": {
            "needs_background": "light"
          }
        }
      ],
      "source": [
        "# Line plots of time series\n",
        "fig, ax = plt.subplots(figsize=(16,9))\n",
        "fig.suptitle('Line Plot of the Time Series Data')\n",
        "time_series.plot(ax=ax)\n",
        "plt.show()"
      ]
    },
    {
      "cell_type": "markdown",
      "metadata": {
        "id": "xoEzQPPjmNdj"
      },
      "source": [
        "### 2.c) Histogram and Density Plots of the Time Series Data"
      ]
    },
    {
      "cell_type": "code",
      "execution_count": 18,
      "metadata": {
        "id": "QOoUo4NdmNdj",
        "outputId": "dc079979-93a6-40f6-9f03-b9b03e92237b",
        "colab": {
          "base_uri": "https://localhost:8080/",
          "height": 602
        }
      },
      "outputs": [
        {
          "output_type": "display_data",
          "data": {
            "text/plain": [
              "<Figure size 1152x648 with 1 Axes>"
            ],
            "image/png": "[encoded data removed]"
          },
          "metadata": {
            "needs_background": "light"
          }
        }
      ],
      "source": [
        "# Line plots of time series\n",
        "fig, ax = plt.subplots(figsize=(16,9))\n",
        "fig.suptitle('Histogram of the Time Series Data')\n",
        "time_series.hist(ax=ax)\n",
        "plt.show()"
      ]
    },
    {
      "cell_type": "code",
      "execution_count": 19,
      "metadata": {
        "id": "phsChUjgmNdj",
        "outputId": "a62d3ac6-6a2d-4670-c9a2-ae5d7d1c7649",
        "colab": {
          "base_uri": "https://localhost:8080/",
          "height": 602
        }
      },
      "outputs": [
        {
          "output_type": "display_data",
          "data": {
            "text/plain": [
              "<Figure size 1152x648 with 1 Axes>"
            ],
            "image/png": "[encoded data removed]"
          },
          "metadata": {
            "needs_background": "light"
          }
        }
      ],
      "source": [
        "# Line plots of time series\n",
        "fig, ax = plt.subplots(figsize=(16,9))\n",
        "fig.suptitle('Density Plot of the Time Series Data')\n",
        "time_series.plot(kind='kde', ax=ax)\n",
        "plt.show()"
      ]
    },
    {
      "cell_type": "markdown",
      "metadata": {
        "id": "QpUcUKhsmNdj"
      },
      "source": [
        "### 2.d) Box and Whisker Plots of the Time Series Data"
      ]
    },
    {
      "cell_type": "code",
      "execution_count": 20,
      "metadata": {
        "id": "lmUgagrYmNdj",
        "outputId": "d9874135-7703-4d79-dccf-d70fe97d707d",
        "colab": {
          "base_uri": "https://localhost:8080/",
          "height": 616
        }
      },
      "outputs": [
        {
          "output_type": "display_data",
          "data": {
            "text/plain": [
              "<Figure size 1152x648 with 1 Axes>"
            ],
            "image/png": "[encoded data removed]"
          },
          "metadata": {
            "needs_background": "light"
          }
        }
      ],
      "source": [
        "# boxplots of time series\n",
        "fig, ax = plt.subplots(figsize=(16,9))\n",
        "fig.suptitle('Box and Whisker Plots of the Time Series Data')\n",
        "squeezed = time_series.squeeze()\n",
        "sns.boxplot(x=((squeezed.index.year//10)*10), y=squeezed, ax=ax)\n",
        "plt.show()"
      ]
    },
    {
      "cell_type": "code",
      "execution_count": 21,
      "metadata": {
        "id": "i9A5OSvlmNdj"
      },
      "outputs": [],
      "source": [
        "if NOTIFY_STATUS: status_notify(\"TensorFlow Time Series Task 2 - Summarize and Visualize Data completed! \" + datetime.now().strftime('%a %B %d, %Y %I:%M:%S %p'))"
      ]
    },
    {
      "cell_type": "markdown",
      "metadata": {
        "id": "-zSUTWpGmNdj"
      },
      "source": [
        "## Task 3: Pre-Process Data"
      ]
    },
    {
      "cell_type": "code",
      "execution_count": 22,
      "metadata": {
        "id": "rwqkQ3kImNdj"
      },
      "outputs": [],
      "source": [
        "if NOTIFY_STATUS: status_notify(\"TensorFlow Time Series Task 3 - Pre-Process Data has begun! \" + datetime.now().strftime('%a %B %d, %Y %I:%M:%S %p'))"
      ]
    },
    {
      "cell_type": "code",
      "execution_count": 23,
      "metadata": {
        "id": "KXpK3n0jmNdj"
      },
      "outputs": [],
      "source": [
        "# Resampling the time series into monthly average for the ease of modeling\n",
        "# original_series = time_series\n",
        "# resample = original_series.resample('M')\n",
        "# time_series = resample.mean()\n",
        "# time_series.head(10)"
      ]
    },
    {
      "cell_type": "code",
      "execution_count": 24,
      "metadata": {
        "id": "O17gosqdmNdk",
        "outputId": "370d6735-d6f0-4c33-db98-74f534046dcd",
        "colab": {
          "base_uri": "https://localhost:8080/"
        }
      },
      "outputs": [
        {
          "output_type": "stream",
          "name": "stdout",
          "text": [
            "Number of data points in the training set: 420\n",
            "Number of data points in the test set: 108\n"
          ]
        }
      ],
      "source": [
        "# Split the data into training and test sets\n",
        "data = time_series.values\n",
        "data = data.astype('float32')\n",
        "n_test = 108\n",
        "n_train = len(data) - n_test\n",
        "train_ts, test_ts = data[0:n_train], data[n_train:]\n",
        "print('Number of data points in the training set:', n_train)\n",
        "print('Number of data points in the test set:', n_test)"
      ]
    },
    {
      "cell_type": "code",
      "execution_count": 25,
      "metadata": {
        "id": "TRbABWpHmNdk"
      },
      "outputs": [],
      "source": [
        "if NOTIFY_STATUS: status_notify(\"TensorFlow Time Series Task 3 - Pre-Process Data completed! \" + datetime.now().strftime('%a %B %d, %Y %I:%M:%S %p'))"
      ]
    },
    {
      "cell_type": "markdown",
      "metadata": {
        "id": "FMQnKb1xmNdk"
      },
      "source": [
        "## Task 4: Train and Tune Models"
      ]
    },
    {
      "cell_type": "code",
      "execution_count": 26,
      "metadata": {
        "id": "oWi2kyROmNdk"
      },
      "outputs": [],
      "source": [
        "if NOTIFY_STATUS: status_notify(\"TensorFlow Time Series Task 4 - Train and Tune Models has begun! \" + datetime.now().strftime('%a %B %d, %Y %I:%M:%S %p'))"
      ]
    },
    {
      "cell_type": "markdown",
      "metadata": {
        "id": "_zpu32lKmNdk"
      },
      "source": [
        "### 4.a) Set up the Common Helper Functions"
      ]
    },
    {
      "cell_type": "code",
      "execution_count": 27,
      "metadata": {
        "id": "vQV68Zg0mNdk"
      },
      "outputs": [],
      "source": [
        "# split a univariate dataset into train/test sets\n",
        "def train_test_split(data, n_test):\n",
        "    return data[:-n_test], data[-n_test:]\n",
        "\n",
        "# transform list into supervised learning format\n",
        "def series_to_supervised(data, n_in=1, n_out=1):\n",
        "    df = pd.DataFrame(data)\n",
        "    cols = list()\n",
        "    # input sequence (t-n, ... t-1)\n",
        "    for i in range(n_in, 0, -1):\n",
        "        cols.append(df.shift(i))\n",
        "    # forecast sequence (t, t+1, ... t+n)\n",
        "    for i in range(0, n_out):\n",
        "        cols.append(df.shift(-i))\n",
        "    # put it all together\n",
        "    agg = pd.concat(cols, axis=1)\n",
        "    # drop rows with NaN values\n",
        "    agg.dropna(inplace=True)\n",
        "    return agg.values\n",
        "\n",
        "# root mean squared error or rmse\n",
        "def measure_rmse(actual, predicted):\n",
        "    return math.sqrt(mean_squared_error(actual, predicted))\n",
        "\n",
        "# difference dataset\n",
        "def difference(data, interval):\n",
        "    return [data[i] - data[i - interval] for i in range(interval, len(data))]\n",
        "\n",
        "# walk-forward validation for univariate data\n",
        "def walk_forward_validation(data, n_test, cfg):\n",
        "    predictions = list()\n",
        "    # split dataset\n",
        "    train, test = train_test_split(data, n_test)\n",
        "    # fit model\n",
        "    model = model_fit(train, cfg)\n",
        "    # seed history with training dataset\n",
        "    history = [x for x in train]\n",
        "    # step over each time-step in the test set\n",
        "    for i in range(len(test)):\n",
        "        # fit model and make forecast for history\n",
        "        yhat = model_predict(model, history, cfg)\n",
        "        # store forecast in list of predictions\n",
        "        predictions.append(yhat)\n",
        "        # add actual observation to history for the next loop\n",
        "        history.append(test[i])\n",
        "    # estimate prediction error\n",
        "    error = measure_rmse(test, predictions)\n",
        "    # print(' > %.3f' % error)\n",
        "    return error\n",
        "\n",
        "# repeat evaluation of a config\n",
        "def repeat_evaluate(data, config, n_test, n_repeats=20):\n",
        "    # fit and evaluate the model n times\n",
        "    scores = [walk_forward_validation(data, n_test, config) for _ in range(n_repeats)]\n",
        "    return scores\n",
        "\n",
        "# summarize model performance\n",
        "def summarize_scores(name, scores):\n",
        "    # print a summary\n",
        "    scores_m, score_std = np.mean(scores), np.std(scores)\n",
        "    print('%s: %.3f RMSE (+/- %.3f)' % (name, scores_m, score_std))\n",
        "    # box and whisker plot\n",
        "    plt.boxplot(scores)\n",
        "    plt.show()"
      ]
    },
    {
      "cell_type": "markdown",
      "metadata": {
        "id": "G5d5KMdYmNdk"
      },
      "source": [
        "### 4.b) Simple Persistent Modeling as a Baseline"
      ]
    },
    {
      "cell_type": "code",
      "execution_count": 28,
      "metadata": {
        "id": "Evp7o6iemNdk"
      },
      "outputs": [],
      "source": [
        "# fit a model\n",
        "def model_fit(train, config):\n",
        "    return None"
      ]
    },
    {
      "cell_type": "code",
      "execution_count": 29,
      "metadata": {
        "id": "v1jFIxzqmNdl"
      },
      "outputs": [],
      "source": [
        "# forecast with a pre-fit model\n",
        "def model_predict(model, history, config):\n",
        "    values = list()\n",
        "    for offset in config:\n",
        "        values.append(history[-offset])\n",
        "    return np.median(values)"
      ]
    },
    {
      "cell_type": "code",
      "source": [
        "START_TIME_MODULE = datetime.now()\n",
        "# define config\n",
        "config = [12, 24, 36]\n",
        "# grid search\n",
        "persistent_scores = repeat_evaluate(data, config, n_test)\n",
        "# summarize scores\n",
        "summarize_scores('Persistence Model', persistent_scores)\n",
        "print ('Model training time:',(datetime.now() - START_TIME_MODULE))"
      ],
      "metadata": {
        "colab": {
          "base_uri": "https://localhost:8080/",
          "height": 300
        },
        "id": "DCKGNpsQGNga",
        "outputId": "3eb2d3d9-3dbd-49c2-b78e-057264e74f11"
      },
      "execution_count": 30,
      "outputs": [
        {
          "output_type": "stream",
          "name": "stdout",
          "text": [
            "Persistence Model: 12.234 RMSE (+/- 0.000)\n"
          ]
        },
        {
          "output_type": "display_data",
          "data": {
            "text/plain": [
              "<Figure size 432x288 with 1 Axes>"
            ],
            "image/png": "[encoded data removed]"
          },
          "metadata": {
            "needs_background": "light"
          }
        },
        {
          "output_type": "stream",
          "name": "stdout",
          "text": [
            "Model training time: 0:00:00.331206\n"
          ]
        }
      ]
    },
    {
      "cell_type": "markdown",
      "metadata": {
        "id": "CSTT0kG9mNdl"
      },
      "source": [
        "### 4.c) MLP Modeling and Tuning"
      ]
    },
    {
      "cell_type": "code",
      "source": [
        "# fit a model\n",
        "def model_fit(train, config):\n",
        "    tf.keras.utils.set_random_seed\n",
        "    tf.keras.backend.clear_session\n",
        "    # unpack config\n",
        "    # n_input: The number of lag observations to use as input to the model.\n",
        "    # n_nodes: The number of nodes to use in the hidden layer.\n",
        "    # n_epochs: The number of times to expose the model to the whole training dataset.\n",
        "    # n_batch: The number of samples within an epoch after which the weights are updated.\n",
        "    n_input, n_nodes, n_epochs, n_batch = config\n",
        "    # prepare data\n",
        "    data = series_to_supervised(train, n_in=n_input)\n",
        "    train_x, train_y = data[:, :-1], data[:, -1]\n",
        "    # define model\n",
        "    model = tf.keras.Sequential()\n",
        "    model.add(tf.keras.layers.Dense(n_nodes, activation='relu', input_dim=n_input))\n",
        "    model.add(tf.keras.layers.Dense(1))\n",
        "    model.compile(loss=DEFAULT_LOSS, optimizer=DEFAULT_OPTIMIZER)\n",
        "    # fit\n",
        "    model.fit(train_x, train_y, epochs=n_epochs, batch_size=n_batch, verbose=0)\n",
        "    return model"
      ],
      "metadata": {
        "id": "sL9gVXsO-orO"
      },
      "execution_count": 31,
      "outputs": []
    },
    {
      "cell_type": "code",
      "source": [
        "# forecast with a pre-fit model\n",
        "def model_predict(model, history, config):\n",
        "    # unpack config\n",
        "    n_input, _, _, _ = config\n",
        "    # prepare data\n",
        "    x_input = np.array(history[-n_input:]).reshape(1, n_input)\n",
        "    # forecast\n",
        "    yhat = model.predict(x_input, verbose=0)\n",
        "    return yhat[0]"
      ],
      "metadata": {
        "id": "QBGgc46d-8ex"
      },
      "execution_count": 32,
      "outputs": []
    },
    {
      "cell_type": "code",
      "source": [
        "START_TIME_MODULE = datetime.now()\n",
        "# define config\n",
        "config = [12, 128, MAX_EPOCHS, BATCH_SIZE]\n",
        "# grid search\n",
        "tf.keras.utils.set_random_seed(RNG_SEED)\n",
        "mlp_scores = repeat_evaluate(data, config, n_test)\n",
        "# summarize scores\n",
        "summarize_scores('MLP Model', mlp_scores)\n",
        "print ('Model training time:',(datetime.now() - START_TIME_MODULE))"
      ],
      "metadata": {
        "colab": {
          "base_uri": "https://localhost:8080/",
          "height": 304
        },
        "id": "Z_7fvC4W-9Dy",
        "outputId": "f048ead7-f2be-448d-e729-10dc2decb79c"
      },
      "execution_count": 33,
      "outputs": [
        {
          "output_type": "stream",
          "name": "stdout",
          "text": [
            "MLP Model: 12.366 RMSE (+/- 0.109)\n"
          ]
        },
        {
          "output_type": "display_data",
          "data": {
            "text/plain": [
              "<Figure size 432x288 with 1 Axes>"
            ],
            "image/png": "[encoded data removed]"
          },
          "metadata": {
            "needs_background": "light"
          }
        },
        {
          "output_type": "stream",
          "name": "stdout",
          "text": [
            "Model training time: 0:02:28.861839\n"
          ]
        }
      ]
    },
    {
      "cell_type": "code",
      "source": [
        "START_TIME_MODULE = datetime.now()\n",
        "# define config\n",
        "config = [24, 128, MAX_EPOCHS, BATCH_SIZE]\n",
        "# grid search\n",
        "tf.keras.utils.set_random_seed(RNG_SEED)\n",
        "mlp_scores = repeat_evaluate(data, config, n_test)\n",
        "# summarize scores\n",
        "summarize_scores('MLP Model', mlp_scores)\n",
        "print ('Model training time:',(datetime.now() - START_TIME_MODULE))"
      ],
      "metadata": {
        "colab": {
          "base_uri": "https://localhost:8080/",
          "height": 301
        },
        "id": "UHigutUI_fCH",
        "outputId": "d3a5e046-d698-415a-a2c7-afbc142db4f0"
      },
      "execution_count": 34,
      "outputs": [
        {
          "output_type": "stream",
          "name": "stdout",
          "text": [
            "MLP Model: 12.303 RMSE (+/- 0.145)\n"
          ]
        },
        {
          "output_type": "display_data",
          "data": {
            "text/plain": [
              "<Figure size 432x288 with 1 Axes>"
            ],
            "image/png": "[encoded data removed]"
          },
          "metadata": {
            "needs_background": "light"
          }
        },
        {
          "output_type": "stream",
          "name": "stdout",
          "text": [
            "Model training time: 0:02:18.145322\n"
          ]
        }
      ]
    },
    {
      "cell_type": "code",
      "source": [
        "START_TIME_MODULE = datetime.now()\n",
        "# define config\n",
        "config = [24, 256, MAX_EPOCHS, BATCH_SIZE]\n",
        "# grid search\n",
        "tf.keras.utils.set_random_seed(RNG_SEED)\n",
        "mlp_scores = repeat_evaluate(data, config, n_test)\n",
        "# summarize scores\n",
        "summarize_scores('MLP Model', mlp_scores)\n",
        "print ('Model training time:',(datetime.now() - START_TIME_MODULE))"
      ],
      "metadata": {
        "colab": {
          "base_uri": "https://localhost:8080/",
          "height": 300
        },
        "id": "8f7Vr-8J5Wcb",
        "outputId": "b56c1ecc-e7e0-4007-d16c-46b8ae7d9999"
      },
      "execution_count": 35,
      "outputs": [
        {
          "output_type": "stream",
          "name": "stdout",
          "text": [
            "MLP Model: 12.266 RMSE (+/- 0.157)\n"
          ]
        },
        {
          "output_type": "display_data",
          "data": {
            "text/plain": [
              "<Figure size 432x288 with 1 Axes>"
            ],
            "image/png": "[encoded data removed]"
          },
          "metadata": {
            "needs_background": "light"
          }
        },
        {
          "output_type": "stream",
          "name": "stdout",
          "text": [
            "Model training time: 0:02:19.095946\n"
          ]
        }
      ]
    },
    {
      "cell_type": "markdown",
      "metadata": {
        "id": "gIRgU6C1-jHw"
      },
      "source": [
        "### 4.d) CNN Modeling and Tuning"
      ]
    },
    {
      "cell_type": "code",
      "execution_count": 36,
      "metadata": {
        "id": "R24vd4DUmNdl"
      },
      "outputs": [],
      "source": [
        "# fit a model\n",
        "def model_fit(train, config):\n",
        "    tf.keras.utils.set_random_seed\n",
        "    tf.keras.backend.clear_session\n",
        "    # unpack config\n",
        "    # n_input: The number of lag observations to use as input to the model.\n",
        "    # n_filters: The number of parallel filters.\n",
        "    # n_kernel: The number of time steps considered in each read of the input sequence.\n",
        "    # n_epochs: The number of times to expose the model to the whole training dataset.\n",
        "    # n_batch: The number of samples within an epoch after which the weights are updated.\n",
        "    n_input, n_filters, n_kernel, n_epochs, n_batch = config\n",
        "    # prepare data\n",
        "    data = series_to_supervised(train, n_in=n_input)\n",
        "    train_x, train_y = data[:, :-1], data[:, -1]\n",
        "    train_x = train_x.reshape((train_x.shape[0], train_x.shape[1], 1))\n",
        "    # define model\n",
        "    model = tf.keras.Sequential()\n",
        "    model.add(tf.keras.layers.Conv1D(filters=n_filters, kernel_size=n_kernel, activation='relu', input_shape=(n_input, 1)))\n",
        "    model.add(tf.keras.layers.Conv1D(filters=n_filters, kernel_size=n_kernel, activation='relu'))\n",
        "    model.add(tf.keras.layers.MaxPool1D(pool_size=2))\n",
        "    model.add(tf.keras.layers.Flatten())\n",
        "    model.add(tf.keras.layers.Dense(1))\n",
        "    model.compile(loss=DEFAULT_LOSS, optimizer=DEFAULT_OPTIMIZER)\n",
        "    # fit\n",
        "    model.fit(train_x, train_y, epochs=n_epochs, batch_size=n_batch, verbose=0)\n",
        "    return model"
      ]
    },
    {
      "cell_type": "code",
      "execution_count": 37,
      "metadata": {
        "id": "BPEbOfy_mNdl"
      },
      "outputs": [],
      "source": [
        "# forecast with a pre-fit model\n",
        "def model_predict(model, history, config):\n",
        "    # unpack config\n",
        "    n_input, _, _, _, _ = config\n",
        "    # prepare data\n",
        "    x_input = np.array(history[-n_input:]).reshape((1, n_input, 1))\n",
        "    # forecast\n",
        "    yhat = model.predict(x_input, verbose=0)\n",
        "    return yhat[0]"
      ]
    },
    {
      "cell_type": "code",
      "execution_count": 38,
      "metadata": {
        "id": "KufOR6NEmNdl",
        "outputId": "82ae5002-84ae-4162-97ad-c81747f2e5b4",
        "colab": {
          "base_uri": "https://localhost:8080/",
          "height": 300
        }
      },
      "outputs": [
        {
          "output_type": "stream",
          "name": "stdout",
          "text": [
            "CNN Model: 12.847 RMSE (+/- 0.124)\n"
          ]
        },
        {
          "output_type": "display_data",
          "data": {
            "text/plain": [
              "<Figure size 432x288 with 1 Axes>"
            ],
            "image/png": "[encoded data removed]"
          },
          "metadata": {
            "needs_background": "light"
          }
        },
        {
          "output_type": "stream",
          "name": "stdout",
          "text": [
            "Model training time: 0:02:57.503938\n"
          ]
        }
      ],
      "source": [
        "START_TIME_MODULE = datetime.now()\n",
        "# define config\n",
        "config = [18, 128, 6, MAX_EPOCHS, BATCH_SIZE]\n",
        "# grid search\n",
        "tf.keras.utils.set_random_seed(RNG_SEED)\n",
        "cnn_scores = repeat_evaluate(data, config, n_test)\n",
        "# summarize scores\n",
        "summarize_scores('CNN Model', cnn_scores)\n",
        "print ('Model training time:',(datetime.now() - START_TIME_MODULE))"
      ]
    },
    {
      "cell_type": "code",
      "source": [
        "START_TIME_MODULE = datetime.now()\n",
        "# define config\n",
        "config = [12, 128, 6, MAX_EPOCHS, BATCH_SIZE]\n",
        "# grid search\n",
        "tf.keras.utils.set_random_seed(RNG_SEED)\n",
        "cnn_scores = repeat_evaluate(data, config, n_test)\n",
        "# summarize scores\n",
        "summarize_scores('CNN Model', cnn_scores)\n",
        "print ('Model training time:',(datetime.now() - START_TIME_MODULE))"
      ],
      "metadata": {
        "colab": {
          "base_uri": "https://localhost:8080/",
          "height": 300
        },
        "id": "5bJwsKjuHfxl",
        "outputId": "b3cc3f05-318b-4dc8-84fd-6af427fdde94"
      },
      "execution_count": 39,
      "outputs": [
        {
          "output_type": "stream",
          "name": "stdout",
          "text": [
            "CNN Model: 12.318 RMSE (+/- 0.055)\n"
          ]
        },
        {
          "output_type": "display_data",
          "data": {
            "text/plain": [
              "<Figure size 432x288 with 1 Axes>"
            ],
            "image/png": "[encoded data removed]"
          },
          "metadata": {
            "needs_background": "light"
          }
        },
        {
          "output_type": "stream",
          "name": "stdout",
          "text": [
            "Model training time: 0:02:59.085297\n"
          ]
        }
      ]
    },
    {
      "cell_type": "code",
      "execution_count": 40,
      "metadata": {
        "id": "-8yBQ96HmNdl",
        "outputId": "2316a030-58fa-4630-9b35-9ebd48cc6423",
        "colab": {
          "base_uri": "https://localhost:8080/",
          "height": 304
        }
      },
      "outputs": [
        {
          "output_type": "stream",
          "name": "stdout",
          "text": [
            "CNN Model: 12.239 RMSE (+/- 0.070)\n"
          ]
        },
        {
          "output_type": "display_data",
          "data": {
            "text/plain": [
              "<Figure size 432x288 with 1 Axes>"
            ],
            "image/png": "[encoded data removed]"
          },
          "metadata": {
            "needs_background": "light"
          }
        },
        {
          "output_type": "stream",
          "name": "stdout",
          "text": [
            "Model training time: 0:02:49.623541\n"
          ]
        }
      ],
      "source": [
        "START_TIME_MODULE = datetime.now()\n",
        "# define config\n",
        "config = [12, 64, 6, MAX_EPOCHS, BATCH_SIZE]\n",
        "# grid search\n",
        "tf.keras.utils.set_random_seed(RNG_SEED)\n",
        "cnn_scores = repeat_evaluate(data, config, n_test)\n",
        "# summarize scores\n",
        "summarize_scores('CNN Model', cnn_scores)\n",
        "print ('Model training time:',(datetime.now() - START_TIME_MODULE))"
      ]
    },
    {
      "cell_type": "markdown",
      "metadata": {
        "id": "Go4mM3v0mNdl"
      },
      "source": [
        "### 4.e) LSTM Modeling and Tuning"
      ]
    },
    {
      "cell_type": "code",
      "execution_count": 41,
      "metadata": {
        "id": "dqiwmgVRmNdm"
      },
      "outputs": [],
      "source": [
        "# fit a model\n",
        "def model_fit(train, config):\n",
        "    tf.keras.utils.set_random_seed\n",
        "    tf.keras.backend.clear_session\n",
        "    # unpack config\n",
        "    # n_input: The number of lag observations to use as input to the model.\n",
        "    # n_nodes: The number of LSTM units to use in the hidden layer.\n",
        "    # n_epochs: The number of times to expose the model to the whole training dataset.\n",
        "    # n_batch: The number of samples within an epoch after which the weights are updated.\n",
        "    # n_diff: The difference order or 0 if not used.\n",
        "    n_input, n_nodes, n_epochs, n_batch, n_diff = config\n",
        "    # prepare data\n",
        "    if n_diff > 0:\n",
        "        train = difference(train, n_diff)\n",
        "    data = series_to_supervised(train, n_in=n_input)\n",
        "    train_x, train_y = data[:, :-1], data[:, -1]\n",
        "    train_x = train_x.reshape((train_x.shape[0], train_x.shape[1], 1))\n",
        "    # define model\n",
        "    model = tf.keras.Sequential()\n",
        "    model.add(tf.keras.layers.LSTM(n_nodes, activation='relu', input_shape=(n_input, 1)))\n",
        "    model.add(tf.keras.layers.Dense(n_nodes, activation='relu'))\n",
        "    model.add(tf.keras.layers.Dense(1))\n",
        "    model.compile(loss=DEFAULT_LOSS, optimizer=DEFAULT_OPTIMIZER)\n",
        "    # fit\n",
        "    model.fit(train_x, train_y, epochs=n_epochs, batch_size=n_batch, verbose=0)\n",
        "    return model"
      ]
    },
    {
      "cell_type": "code",
      "execution_count": 42,
      "metadata": {
        "id": "XfmB9q0TmNdm"
      },
      "outputs": [],
      "source": [
        "# forecast with a pre-fit model\n",
        "def model_predict(model, history, config):\n",
        "    # unpack config\n",
        "    n_input, _, _, _, n_diff = config\n",
        "    # prepare data\n",
        "    correction = 0.0\n",
        "    if n_diff > 0:\n",
        "        correction = history[-n_diff]\n",
        "        history = difference(history, n_diff)\n",
        "    x_input = np.array(history[-n_input:]).reshape((1, n_input, 1))\n",
        "    # forecast\n",
        "    yhat = model.predict(x_input, verbose=0)\n",
        "    return correction + yhat[0]"
      ]
    },
    {
      "cell_type": "code",
      "execution_count": 43,
      "metadata": {
        "id": "X3KJn4DYmNdm",
        "outputId": "49a0dca2-b69a-4ba8-f68d-ad3c7af45107",
        "colab": {
          "base_uri": "https://localhost:8080/",
          "height": 647
        }
      },
      "outputs": [
        {
          "output_type": "stream",
          "name": "stdout",
          "text": [
            "WARNING:tensorflow:Layer lstm will not use cuDNN kernels since it doesn't meet the criteria. It will use a generic GPU kernel as fallback when running on GPU.\n",
            "WARNING:tensorflow:Layer lstm_1 will not use cuDNN kernels since it doesn't meet the criteria. It will use a generic GPU kernel as fallback when running on GPU.\n",
            "WARNING:tensorflow:Layer lstm_2 will not use cuDNN kernels since it doesn't meet the criteria. It will use a generic GPU kernel as fallback when running on GPU.\n",
            "WARNING:tensorflow:Layer lstm_3 will not use cuDNN kernels since it doesn't meet the criteria. It will use a generic GPU kernel as fallback when running on GPU.\n",
            "WARNING:tensorflow:Layer lstm_4 will not use cuDNN kernels since it doesn't meet the criteria. It will use a generic GPU kernel as fallback when running on GPU.\n",
            "WARNING:tensorflow:Layer lstm_5 will not use cuDNN kernels since it doesn't meet the criteria. It will use a generic GPU kernel as fallback when running on GPU.\n",
            "WARNING:tensorflow:Layer lstm_6 will not use cuDNN kernels since it doesn't meet the criteria. It will use a generic GPU kernel as fallback when running on GPU.\n",
            "WARNING:tensorflow:Layer lstm_7 will not use cuDNN kernels since it doesn't meet the criteria. It will use a generic GPU kernel as fallback when running on GPU.\n",
            "WARNING:tensorflow:Layer lstm_8 will not use cuDNN kernels since it doesn't meet the criteria. It will use a generic GPU kernel as fallback when running on GPU.\n",
            "WARNING:tensorflow:Layer lstm_9 will not use cuDNN kernels since it doesn't meet the criteria. It will use a generic GPU kernel as fallback when running on GPU.\n",
            "WARNING:tensorflow:Layer lstm_10 will not use cuDNN kernels since it doesn't meet the criteria. It will use a generic GPU kernel as fallback when running on GPU.\n",
            "WARNING:tensorflow:Layer lstm_11 will not use cuDNN kernels since it doesn't meet the criteria. It will use a generic GPU kernel as fallback when running on GPU.\n",
            "WARNING:tensorflow:Layer lstm_12 will not use cuDNN kernels since it doesn't meet the criteria. It will use a generic GPU kernel as fallback when running on GPU.\n",
            "WARNING:tensorflow:Layer lstm_13 will not use cuDNN kernels since it doesn't meet the criteria. It will use a generic GPU kernel as fallback when running on GPU.\n",
            "WARNING:tensorflow:Layer lstm_14 will not use cuDNN kernels since it doesn't meet the criteria. It will use a generic GPU kernel as fallback when running on GPU.\n",
            "WARNING:tensorflow:Layer lstm_15 will not use cuDNN kernels since it doesn't meet the criteria. It will use a generic GPU kernel as fallback when running on GPU.\n",
            "WARNING:tensorflow:Layer lstm_16 will not use cuDNN kernels since it doesn't meet the criteria. It will use a generic GPU kernel as fallback when running on GPU.\n",
            "WARNING:tensorflow:Layer lstm_17 will not use cuDNN kernels since it doesn't meet the criteria. It will use a generic GPU kernel as fallback when running on GPU.\n",
            "WARNING:tensorflow:Layer lstm_18 will not use cuDNN kernels since it doesn't meet the criteria. It will use a generic GPU kernel as fallback when running on GPU.\n",
            "WARNING:tensorflow:Layer lstm_19 will not use cuDNN kernels since it doesn't meet the criteria. It will use a generic GPU kernel as fallback when running on GPU.\n",
            "LSTM Model: 15.895 RMSE (+/- 0.825)\n"
          ]
        },
        {
          "output_type": "display_data",
          "data": {
            "text/plain": [
              "<Figure size 432x288 with 1 Axes>"
            ],
            "image/png": "[encoded data removed]"
          },
          "metadata": {
            "needs_background": "light"
          }
        },
        {
          "output_type": "stream",
          "name": "stdout",
          "text": [
            "Model training time: 0:10:57.602348\n"
          ]
        }
      ],
      "source": [
        "START_TIME_MODULE = datetime.now()\n",
        "# define config\n",
        "config = [12, 128, MAX_EPOCHS, BATCH_SIZE, 0]\n",
        "# grid search\n",
        "tf.keras.utils.set_random_seed(RNG_SEED)\n",
        "lstm_scores = repeat_evaluate(data, config, n_test)\n",
        "# summarize scores\n",
        "summarize_scores('LSTM Model', lstm_scores)\n",
        "print ('Model training time:',(datetime.now() - START_TIME_MODULE))"
      ]
    },
    {
      "cell_type": "code",
      "source": [
        "START_TIME_MODULE = datetime.now()\n",
        "# define config\n",
        "config = [12, 64, MAX_EPOCHS, BATCH_SIZE, 0]\n",
        "# grid search\n",
        "tf.keras.utils.set_random_seed(RNG_SEED)\n",
        "lstm_scores = repeat_evaluate(data, config, n_test)\n",
        "# summarize scores\n",
        "summarize_scores('LSTM Model', lstm_scores)\n",
        "print ('Model training time:',(datetime.now() - START_TIME_MODULE))"
      ],
      "metadata": {
        "colab": {
          "base_uri": "https://localhost:8080/",
          "height": 649
        },
        "id": "71iSSM8ESDsy",
        "outputId": "ad875797-853e-4c12-fbda-a5711584c0e9"
      },
      "execution_count": 44,
      "outputs": [
        {
          "output_type": "stream",
          "name": "stdout",
          "text": [
            "WARNING:tensorflow:Layer lstm_20 will not use cuDNN kernels since it doesn't meet the criteria. It will use a generic GPU kernel as fallback when running on GPU.\n",
            "WARNING:tensorflow:Layer lstm_21 will not use cuDNN kernels since it doesn't meet the criteria. It will use a generic GPU kernel as fallback when running on GPU.\n",
            "WARNING:tensorflow:Layer lstm_22 will not use cuDNN kernels since it doesn't meet the criteria. It will use a generic GPU kernel as fallback when running on GPU.\n",
            "WARNING:tensorflow:Layer lstm_23 will not use cuDNN kernels since it doesn't meet the criteria. It will use a generic GPU kernel as fallback when running on GPU.\n",
            "WARNING:tensorflow:Layer lstm_24 will not use cuDNN kernels since it doesn't meet the criteria. It will use a generic GPU kernel as fallback when running on GPU.\n",
            "WARNING:tensorflow:Layer lstm_25 will not use cuDNN kernels since it doesn't meet the criteria. It will use a generic GPU kernel as fallback when running on GPU.\n",
            "WARNING:tensorflow:Layer lstm_26 will not use cuDNN kernels since it doesn't meet the criteria. It will use a generic GPU kernel as fallback when running on GPU.\n",
            "WARNING:tensorflow:Layer lstm_27 will not use cuDNN kernels since it doesn't meet the criteria. It will use a generic GPU kernel as fallback when running on GPU.\n",
            "WARNING:tensorflow:Layer lstm_28 will not use cuDNN kernels since it doesn't meet the criteria. It will use a generic GPU kernel as fallback when running on GPU.\n",
            "WARNING:tensorflow:Layer lstm_29 will not use cuDNN kernels since it doesn't meet the criteria. It will use a generic GPU kernel as fallback when running on GPU.\n",
            "WARNING:tensorflow:Layer lstm_30 will not use cuDNN kernels since it doesn't meet the criteria. It will use a generic GPU kernel as fallback when running on GPU.\n",
            "WARNING:tensorflow:Layer lstm_31 will not use cuDNN kernels since it doesn't meet the criteria. It will use a generic GPU kernel as fallback when running on GPU.\n",
            "WARNING:tensorflow:Layer lstm_32 will not use cuDNN kernels since it doesn't meet the criteria. It will use a generic GPU kernel as fallback when running on GPU.\n",
            "WARNING:tensorflow:Layer lstm_33 will not use cuDNN kernels since it doesn't meet the criteria. It will use a generic GPU kernel as fallback when running on GPU.\n",
            "WARNING:tensorflow:Layer lstm_34 will not use cuDNN kernels since it doesn't meet the criteria. It will use a generic GPU kernel as fallback when running on GPU.\n",
            "WARNING:tensorflow:Layer lstm_35 will not use cuDNN kernels since it doesn't meet the criteria. It will use a generic GPU kernel as fallback when running on GPU.\n",
            "WARNING:tensorflow:Layer lstm_36 will not use cuDNN kernels since it doesn't meet the criteria. It will use a generic GPU kernel as fallback when running on GPU.\n",
            "WARNING:tensorflow:Layer lstm_37 will not use cuDNN kernels since it doesn't meet the criteria. It will use a generic GPU kernel as fallback when running on GPU.\n",
            "WARNING:tensorflow:Layer lstm_38 will not use cuDNN kernels since it doesn't meet the criteria. It will use a generic GPU kernel as fallback when running on GPU.\n",
            "WARNING:tensorflow:Layer lstm_39 will not use cuDNN kernels since it doesn't meet the criteria. It will use a generic GPU kernel as fallback when running on GPU.\n",
            "LSTM Model: 15.571 RMSE (+/- 0.800)\n"
          ]
        },
        {
          "output_type": "display_data",
          "data": {
            "text/plain": [
              "<Figure size 432x288 with 1 Axes>"
            ],
            "image/png": "[encoded data removed]"
          },
          "metadata": {
            "needs_background": "light"
          }
        },
        {
          "output_type": "stream",
          "name": "stdout",
          "text": [
            "Model training time: 0:11:03.402610\n"
          ]
        }
      ]
    },
    {
      "cell_type": "code",
      "source": [
        "START_TIME_MODULE = datetime.now()\n",
        "# define config\n",
        "config = [6, 64, MAX_EPOCHS, BATCH_SIZE, 0]\n",
        "# grid search\n",
        "tf.keras.utils.set_random_seed(RNG_SEED)\n",
        "lstm_scores = repeat_evaluate(data, config, n_test)\n",
        "# summarize scores\n",
        "summarize_scores('LSTM Model', lstm_scores)\n",
        "print ('Model training time:',(datetime.now() - START_TIME_MODULE))"
      ],
      "metadata": {
        "colab": {
          "base_uri": "https://localhost:8080/",
          "height": 647
        },
        "id": "jytSE0cSSDJh",
        "outputId": "fb8dbb66-f973-413a-d62a-ab83ad18fa37"
      },
      "execution_count": 45,
      "outputs": [
        {
          "output_type": "stream",
          "name": "stdout",
          "text": [
            "WARNING:tensorflow:Layer lstm_40 will not use cuDNN kernels since it doesn't meet the criteria. It will use a generic GPU kernel as fallback when running on GPU.\n",
            "WARNING:tensorflow:Layer lstm_41 will not use cuDNN kernels since it doesn't meet the criteria. It will use a generic GPU kernel as fallback when running on GPU.\n",
            "WARNING:tensorflow:Layer lstm_42 will not use cuDNN kernels since it doesn't meet the criteria. It will use a generic GPU kernel as fallback when running on GPU.\n",
            "WARNING:tensorflow:Layer lstm_43 will not use cuDNN kernels since it doesn't meet the criteria. It will use a generic GPU kernel as fallback when running on GPU.\n",
            "WARNING:tensorflow:Layer lstm_44 will not use cuDNN kernels since it doesn't meet the criteria. It will use a generic GPU kernel as fallback when running on GPU.\n",
            "WARNING:tensorflow:Layer lstm_45 will not use cuDNN kernels since it doesn't meet the criteria. It will use a generic GPU kernel as fallback when running on GPU.\n",
            "WARNING:tensorflow:Layer lstm_46 will not use cuDNN kernels since it doesn't meet the criteria. It will use a generic GPU kernel as fallback when running on GPU.\n",
            "WARNING:tensorflow:Layer lstm_47 will not use cuDNN kernels since it doesn't meet the criteria. It will use a generic GPU kernel as fallback when running on GPU.\n",
            "WARNING:tensorflow:Layer lstm_48 will not use cuDNN kernels since it doesn't meet the criteria. It will use a generic GPU kernel as fallback when running on GPU.\n",
            "WARNING:tensorflow:Layer lstm_49 will not use cuDNN kernels since it doesn't meet the criteria. It will use a generic GPU kernel as fallback when running on GPU.\n",
            "WARNING:tensorflow:Layer lstm_50 will not use cuDNN kernels since it doesn't meet the criteria. It will use a generic GPU kernel as fallback when running on GPU.\n",
            "WARNING:tensorflow:Layer lstm_51 will not use cuDNN kernels since it doesn't meet the criteria. It will use a generic GPU kernel as fallback when running on GPU.\n",
            "WARNING:tensorflow:Layer lstm_52 will not use cuDNN kernels since it doesn't meet the criteria. It will use a generic GPU kernel as fallback when running on GPU.\n",
            "WARNING:tensorflow:Layer lstm_53 will not use cuDNN kernels since it doesn't meet the criteria. It will use a generic GPU kernel as fallback when running on GPU.\n",
            "WARNING:tensorflow:Layer lstm_54 will not use cuDNN kernels since it doesn't meet the criteria. It will use a generic GPU kernel as fallback when running on GPU.\n",
            "WARNING:tensorflow:Layer lstm_55 will not use cuDNN kernels since it doesn't meet the criteria. It will use a generic GPU kernel as fallback when running on GPU.\n",
            "WARNING:tensorflow:Layer lstm_56 will not use cuDNN kernels since it doesn't meet the criteria. It will use a generic GPU kernel as fallback when running on GPU.\n",
            "WARNING:tensorflow:Layer lstm_57 will not use cuDNN kernels since it doesn't meet the criteria. It will use a generic GPU kernel as fallback when running on GPU.\n",
            "WARNING:tensorflow:Layer lstm_58 will not use cuDNN kernels since it doesn't meet the criteria. It will use a generic GPU kernel as fallback when running on GPU.\n",
            "WARNING:tensorflow:Layer lstm_59 will not use cuDNN kernels since it doesn't meet the criteria. It will use a generic GPU kernel as fallback when running on GPU.\n",
            "LSTM Model: 12.645 RMSE (+/- 0.108)\n"
          ]
        },
        {
          "output_type": "display_data",
          "data": {
            "text/plain": [
              "<Figure size 432x288 with 1 Axes>"
            ],
            "image/png": "[encoded data removed]"
          },
          "metadata": {
            "needs_background": "light"
          }
        },
        {
          "output_type": "stream",
          "name": "stdout",
          "text": [
            "Model training time: 0:06:56.882603\n"
          ]
        }
      ]
    },
    {
      "cell_type": "markdown",
      "metadata": {
        "id": "WUfg2kipmNdm"
      },
      "source": [
        "### 4.f) CNN-LSTM Modeling and Tuning"
      ]
    },
    {
      "cell_type": "code",
      "execution_count": 46,
      "metadata": {
        "id": "UQfhMGkdmNdm"
      },
      "outputs": [],
      "source": [
        "# fit a model\n",
        "def model_fit(train, config):\n",
        "    tf.keras.utils.set_random_seed\n",
        "    tf.keras.backend.clear_session\n",
        "    # unpack config\n",
        "    # n_seq: The number of subsequences within a sample.\n",
        "    # n_steps: The number of time steps within each subsequence.\n",
        "    # n_filters: The number of parallel filters.\n",
        "    # n_kernel: The number of time steps considered in each read of the input sequence.\n",
        "    # n_nodes: The number of LSTM units to use in the hidden layer.\n",
        "    # n_epochs: The number of times to expose the model to the whole training dataset.\n",
        "    # n_batch: The number of samples within an epoch after which the weights are updated.\n",
        "    n_seq, n_steps, n_filters, n_kernel, n_nodes, n_epochs, n_batch = config\n",
        "    n_input = n_seq * n_steps\n",
        "    # prepare data\n",
        "    data = series_to_supervised(train, n_in=n_input)\n",
        "    train_x, train_y = data[:, :-1], data[:, -1]\n",
        "    train_x = train_x.reshape((train_x.shape[0], n_seq, n_steps, 1))\n",
        "    # define model\n",
        "    model = tf.keras.Sequential()\n",
        "    model.add(tf.keras.layers.TimeDistributed(tf.keras.layers.Conv1D(filters=n_filters, kernel_size=n_kernel, activation='relu', input_shape=(None,n_steps,1))))\n",
        "    model.add(tf.keras.layers.TimeDistributed(tf.keras.layers.Conv1D(filters=n_filters, kernel_size=n_kernel, activation='relu')))\n",
        "    model.add(tf.keras.layers.TimeDistributed(tf.keras.layers.MaxPool1D(pool_size=2)))\n",
        "    model.add(tf.keras.layers.TimeDistributed(tf.keras.layers.Flatten()))\n",
        "    model.add(tf.keras.layers.LSTM(n_nodes, activation='relu'))\n",
        "    model.add(tf.keras.layers.Dense(n_nodes, activation='relu'))\n",
        "    model.add(tf.keras.layers.Dense(1))\n",
        "    model.compile(loss=DEFAULT_LOSS, optimizer=DEFAULT_OPTIMIZER)\n",
        "    # fit\n",
        "    model.fit(train_x, train_y, epochs=n_epochs, batch_size=n_batch, verbose=0)\n",
        "    return model"
      ]
    },
    {
      "cell_type": "code",
      "execution_count": 47,
      "metadata": {
        "id": "2FPlBkgdmNdm"
      },
      "outputs": [],
      "source": [
        "# forecast with a pre-fit model\n",
        "def model_predict(model, history, config):\n",
        "    # unpack config\n",
        "    n_seq, n_steps, _, _, _, _, _ = config\n",
        "    n_input = n_seq * n_steps\n",
        "    # prepare data\n",
        "    x_input = np.array(history[-n_input:]).reshape((1, n_seq, n_steps, 1))\n",
        "    # forecast\n",
        "    yhat = model.predict(x_input, verbose=0)\n",
        "    return yhat[0]"
      ]
    },
    {
      "cell_type": "code",
      "source": [
        "START_TIME_MODULE = datetime.now()\n",
        "# define config\n",
        "config = [3, 12, 128, 6, 128, MAX_EPOCHS, BATCH_SIZE]\n",
        "# grid search\n",
        "tf.keras.utils.set_random_seed(RNG_SEED)\n",
        "cnnlstm_scores = repeat_evaluate(data, config, n_test)\n",
        "# summarize scores\n",
        "summarize_scores('CNN-LSTM Model', cnnlstm_scores)\n",
        "print ('Model training time:',(datetime.now() - START_TIME_MODULE))"
      ],
      "metadata": {
        "colab": {
          "base_uri": "https://localhost:8080/",
          "height": 647
        },
        "id": "6OedWl6mWS4r",
        "outputId": "96a01a9f-d31f-437c-e379-654aeb3e8da3"
      },
      "execution_count": 48,
      "outputs": [
        {
          "output_type": "stream",
          "name": "stdout",
          "text": [
            "WARNING:tensorflow:Layer lstm_60 will not use cuDNN kernels since it doesn't meet the criteria. It will use a generic GPU kernel as fallback when running on GPU.\n",
            "WARNING:tensorflow:Layer lstm_61 will not use cuDNN kernels since it doesn't meet the criteria. It will use a generic GPU kernel as fallback when running on GPU.\n",
            "WARNING:tensorflow:Layer lstm_62 will not use cuDNN kernels since it doesn't meet the criteria. It will use a generic GPU kernel as fallback when running on GPU.\n",
            "WARNING:tensorflow:Layer lstm_63 will not use cuDNN kernels since it doesn't meet the criteria. It will use a generic GPU kernel as fallback when running on GPU.\n",
            "WARNING:tensorflow:Layer lstm_64 will not use cuDNN kernels since it doesn't meet the criteria. It will use a generic GPU kernel as fallback when running on GPU.\n",
            "WARNING:tensorflow:Layer lstm_65 will not use cuDNN kernels since it doesn't meet the criteria. It will use a generic GPU kernel as fallback when running on GPU.\n",
            "WARNING:tensorflow:Layer lstm_66 will not use cuDNN kernels since it doesn't meet the criteria. It will use a generic GPU kernel as fallback when running on GPU.\n",
            "WARNING:tensorflow:Layer lstm_67 will not use cuDNN kernels since it doesn't meet the criteria. It will use a generic GPU kernel as fallback when running on GPU.\n",
            "WARNING:tensorflow:Layer lstm_68 will not use cuDNN kernels since it doesn't meet the criteria. It will use a generic GPU kernel as fallback when running on GPU.\n",
            "WARNING:tensorflow:Layer lstm_69 will not use cuDNN kernels since it doesn't meet the criteria. It will use a generic GPU kernel as fallback when running on GPU.\n",
            "WARNING:tensorflow:Layer lstm_70 will not use cuDNN kernels since it doesn't meet the criteria. It will use a generic GPU kernel as fallback when running on GPU.\n",
            "WARNING:tensorflow:Layer lstm_71 will not use cuDNN kernels since it doesn't meet the criteria. It will use a generic GPU kernel as fallback when running on GPU.\n",
            "WARNING:tensorflow:Layer lstm_72 will not use cuDNN kernels since it doesn't meet the criteria. It will use a generic GPU kernel as fallback when running on GPU.\n",
            "WARNING:tensorflow:Layer lstm_73 will not use cuDNN kernels since it doesn't meet the criteria. It will use a generic GPU kernel as fallback when running on GPU.\n",
            "WARNING:tensorflow:Layer lstm_74 will not use cuDNN kernels since it doesn't meet the criteria. It will use a generic GPU kernel as fallback when running on GPU.\n",
            "WARNING:tensorflow:Layer lstm_75 will not use cuDNN kernels since it doesn't meet the criteria. It will use a generic GPU kernel as fallback when running on GPU.\n",
            "WARNING:tensorflow:Layer lstm_76 will not use cuDNN kernels since it doesn't meet the criteria. It will use a generic GPU kernel as fallback when running on GPU.\n",
            "WARNING:tensorflow:Layer lstm_77 will not use cuDNN kernels since it doesn't meet the criteria. It will use a generic GPU kernel as fallback when running on GPU.\n",
            "WARNING:tensorflow:Layer lstm_78 will not use cuDNN kernels since it doesn't meet the criteria. It will use a generic GPU kernel as fallback when running on GPU.\n",
            "WARNING:tensorflow:Layer lstm_79 will not use cuDNN kernels since it doesn't meet the criteria. It will use a generic GPU kernel as fallback when running on GPU.\n",
            "CNN-LSTM Model: 14.243 RMSE (+/- 1.189)\n"
          ]
        },
        {
          "output_type": "display_data",
          "data": {
            "text/plain": [
              "<Figure size 432x288 with 1 Axes>"
            ],
            "image/png": "[encoded data removed]"
          },
          "metadata": {
            "needs_background": "light"
          }
        },
        {
          "output_type": "stream",
          "name": "stdout",
          "text": [
            "Model training time: 0:04:07.655906\n"
          ]
        }
      ]
    },
    {
      "cell_type": "code",
      "execution_count": 49,
      "metadata": {
        "id": "hM3TETHVmNdm",
        "outputId": "d0754635-120c-47b2-e228-7d91e4c32aff",
        "colab": {
          "base_uri": "https://localhost:8080/",
          "height": 647
        }
      },
      "outputs": [
        {
          "output_type": "stream",
          "name": "stdout",
          "text": [
            "WARNING:tensorflow:Layer lstm_80 will not use cuDNN kernels since it doesn't meet the criteria. It will use a generic GPU kernel as fallback when running on GPU.\n",
            "WARNING:tensorflow:Layer lstm_81 will not use cuDNN kernels since it doesn't meet the criteria. It will use a generic GPU kernel as fallback when running on GPU.\n",
            "WARNING:tensorflow:Layer lstm_82 will not use cuDNN kernels since it doesn't meet the criteria. It will use a generic GPU kernel as fallback when running on GPU.\n",
            "WARNING:tensorflow:Layer lstm_83 will not use cuDNN kernels since it doesn't meet the criteria. It will use a generic GPU kernel as fallback when running on GPU.\n",
            "WARNING:tensorflow:Layer lstm_84 will not use cuDNN kernels since it doesn't meet the criteria. It will use a generic GPU kernel as fallback when running on GPU.\n",
            "WARNING:tensorflow:Layer lstm_85 will not use cuDNN kernels since it doesn't meet the criteria. It will use a generic GPU kernel as fallback when running on GPU.\n",
            "WARNING:tensorflow:Layer lstm_86 will not use cuDNN kernels since it doesn't meet the criteria. It will use a generic GPU kernel as fallback when running on GPU.\n",
            "WARNING:tensorflow:Layer lstm_87 will not use cuDNN kernels since it doesn't meet the criteria. It will use a generic GPU kernel as fallback when running on GPU.\n",
            "WARNING:tensorflow:Layer lstm_88 will not use cuDNN kernels since it doesn't meet the criteria. It will use a generic GPU kernel as fallback when running on GPU.\n",
            "WARNING:tensorflow:Layer lstm_89 will not use cuDNN kernels since it doesn't meet the criteria. It will use a generic GPU kernel as fallback when running on GPU.\n",
            "WARNING:tensorflow:Layer lstm_90 will not use cuDNN kernels since it doesn't meet the criteria. It will use a generic GPU kernel as fallback when running on GPU.\n",
            "WARNING:tensorflow:Layer lstm_91 will not use cuDNN kernels since it doesn't meet the criteria. It will use a generic GPU kernel as fallback when running on GPU.\n",
            "WARNING:tensorflow:Layer lstm_92 will not use cuDNN kernels since it doesn't meet the criteria. It will use a generic GPU kernel as fallback when running on GPU.\n",
            "WARNING:tensorflow:Layer lstm_93 will not use cuDNN kernels since it doesn't meet the criteria. It will use a generic GPU kernel as fallback when running on GPU.\n",
            "WARNING:tensorflow:Layer lstm_94 will not use cuDNN kernels since it doesn't meet the criteria. It will use a generic GPU kernel as fallback when running on GPU.\n",
            "WARNING:tensorflow:Layer lstm_95 will not use cuDNN kernels since it doesn't meet the criteria. It will use a generic GPU kernel as fallback when running on GPU.\n",
            "WARNING:tensorflow:Layer lstm_96 will not use cuDNN kernels since it doesn't meet the criteria. It will use a generic GPU kernel as fallback when running on GPU.\n",
            "WARNING:tensorflow:Layer lstm_97 will not use cuDNN kernels since it doesn't meet the criteria. It will use a generic GPU kernel as fallback when running on GPU.\n",
            "WARNING:tensorflow:Layer lstm_98 will not use cuDNN kernels since it doesn't meet the criteria. It will use a generic GPU kernel as fallback when running on GPU.\n",
            "WARNING:tensorflow:Layer lstm_99 will not use cuDNN kernels since it doesn't meet the criteria. It will use a generic GPU kernel as fallback when running on GPU.\n",
            "CNN-LSTM Model: 14.172 RMSE (+/- 1.736)\n"
          ]
        },
        {
          "output_type": "display_data",
          "data": {
            "text/plain": [
              "<Figure size 432x288 with 1 Axes>"
            ],
            "image/png": "[encoded data removed]"
          },
          "metadata": {
            "needs_background": "light"
          }
        },
        {
          "output_type": "stream",
          "name": "stdout",
          "text": [
            "Model training time: 0:04:12.252828\n"
          ]
        }
      ],
      "source": [
        "START_TIME_MODULE = datetime.now()\n",
        "# define config\n",
        "config = [3, 12, 64, 6, 64, MAX_EPOCHS, BATCH_SIZE]\n",
        "# grid search\n",
        "tf.keras.utils.set_random_seed(RNG_SEED)\n",
        "cnnlstm_scores = repeat_evaluate(data, config, n_test)\n",
        "# summarize scores\n",
        "summarize_scores('CNN-LSTM Model', cnnlstm_scores)\n",
        "print ('Model training time:',(datetime.now() - START_TIME_MODULE))"
      ]
    },
    {
      "cell_type": "code",
      "execution_count": 50,
      "metadata": {
        "scrolled": true,
        "id": "hTCFyOP3mNdm",
        "outputId": "6ccb9403-4e51-4eec-bbc0-4342bbb69e26",
        "colab": {
          "base_uri": "https://localhost:8080/",
          "height": 647
        }
      },
      "outputs": [
        {
          "output_type": "stream",
          "name": "stdout",
          "text": [
            "WARNING:tensorflow:Layer lstm_100 will not use cuDNN kernels since it doesn't meet the criteria. It will use a generic GPU kernel as fallback when running on GPU.\n",
            "WARNING:tensorflow:Layer lstm_101 will not use cuDNN kernels since it doesn't meet the criteria. It will use a generic GPU kernel as fallback when running on GPU.\n",
            "WARNING:tensorflow:Layer lstm_102 will not use cuDNN kernels since it doesn't meet the criteria. It will use a generic GPU kernel as fallback when running on GPU.\n",
            "WARNING:tensorflow:Layer lstm_103 will not use cuDNN kernels since it doesn't meet the criteria. It will use a generic GPU kernel as fallback when running on GPU.\n",
            "WARNING:tensorflow:Layer lstm_104 will not use cuDNN kernels since it doesn't meet the criteria. It will use a generic GPU kernel as fallback when running on GPU.\n",
            "WARNING:tensorflow:Layer lstm_105 will not use cuDNN kernels since it doesn't meet the criteria. It will use a generic GPU kernel as fallback when running on GPU.\n",
            "WARNING:tensorflow:Layer lstm_106 will not use cuDNN kernels since it doesn't meet the criteria. It will use a generic GPU kernel as fallback when running on GPU.\n",
            "WARNING:tensorflow:Layer lstm_107 will not use cuDNN kernels since it doesn't meet the criteria. It will use a generic GPU kernel as fallback when running on GPU.\n",
            "WARNING:tensorflow:Layer lstm_108 will not use cuDNN kernels since it doesn't meet the criteria. It will use a generic GPU kernel as fallback when running on GPU.\n",
            "WARNING:tensorflow:Layer lstm_109 will not use cuDNN kernels since it doesn't meet the criteria. It will use a generic GPU kernel as fallback when running on GPU.\n",
            "WARNING:tensorflow:Layer lstm_110 will not use cuDNN kernels since it doesn't meet the criteria. It will use a generic GPU kernel as fallback when running on GPU.\n",
            "WARNING:tensorflow:Layer lstm_111 will not use cuDNN kernels since it doesn't meet the criteria. It will use a generic GPU kernel as fallback when running on GPU.\n",
            "WARNING:tensorflow:Layer lstm_112 will not use cuDNN kernels since it doesn't meet the criteria. It will use a generic GPU kernel as fallback when running on GPU.\n",
            "WARNING:tensorflow:Layer lstm_113 will not use cuDNN kernels since it doesn't meet the criteria. It will use a generic GPU kernel as fallback when running on GPU.\n",
            "WARNING:tensorflow:Layer lstm_114 will not use cuDNN kernels since it doesn't meet the criteria. It will use a generic GPU kernel as fallback when running on GPU.\n",
            "WARNING:tensorflow:Layer lstm_115 will not use cuDNN kernels since it doesn't meet the criteria. It will use a generic GPU kernel as fallback when running on GPU.\n",
            "WARNING:tensorflow:Layer lstm_116 will not use cuDNN kernels since it doesn't meet the criteria. It will use a generic GPU kernel as fallback when running on GPU.\n",
            "WARNING:tensorflow:Layer lstm_117 will not use cuDNN kernels since it doesn't meet the criteria. It will use a generic GPU kernel as fallback when running on GPU.\n",
            "WARNING:tensorflow:Layer lstm_118 will not use cuDNN kernels since it doesn't meet the criteria. It will use a generic GPU kernel as fallback when running on GPU.\n",
            "WARNING:tensorflow:Layer lstm_119 will not use cuDNN kernels since it doesn't meet the criteria. It will use a generic GPU kernel as fallback when running on GPU.\n",
            "CNN-LSTM Model: 13.090 RMSE (+/- 0.551)\n"
          ]
        },
        {
          "output_type": "display_data",
          "data": {
            "text/plain": [
              "<Figure size 432x288 with 1 Axes>"
            ],
            "image/png": "[encoded data removed]"
          },
          "metadata": {
            "needs_background": "light"
          }
        },
        {
          "output_type": "stream",
          "name": "stdout",
          "text": [
            "Model training time: 0:05:12.115467\n"
          ]
        }
      ],
      "source": [
        "START_TIME_MODULE = datetime.now()\n",
        "# define config\n",
        "config = [3, 24, 64, 12, 64, MAX_EPOCHS, BATCH_SIZE]\n",
        "# grid search\n",
        "tf.keras.utils.set_random_seed(RNG_SEED)\n",
        "cnnlstm_scores = repeat_evaluate(data, config, n_test)\n",
        "# summarize scores\n",
        "summarize_scores('CNN-LSTM Model', cnnlstm_scores)\n",
        "print ('Model training time:',(datetime.now() - START_TIME_MODULE))"
      ]
    },
    {
      "cell_type": "markdown",
      "metadata": {
        "id": "uyM9NtLomNdn"
      },
      "source": [
        "### 4.g) ConvLSTM Modeling and Tuning"
      ]
    },
    {
      "cell_type": "code",
      "execution_count": 51,
      "metadata": {
        "id": "RhHX42IKmNdn"
      },
      "outputs": [],
      "source": [
        "# fit a model\n",
        "def model_fit(train, config):\n",
        "    tf.keras.utils.set_random_seed\n",
        "    tf.keras.backend.clear_session\n",
        "    # unpack config\n",
        "    # n_seq: The number of subsequences within a sample.\n",
        "    # n_steps: The number of time steps within each subsequence.\n",
        "    # n_filters: The number of parallel filters.\n",
        "    # n_kernel: The number of time steps considered in each read of the input sequence.\n",
        "    # n_nodes: The number of LSTM units to use in the hidden layer.\n",
        "    # n_epochs: The number of times to expose the model to the whole training dataset.\n",
        "    # n_batch: The number of samples within an epoch after which the weights are updated.\n",
        "    n_seq, n_steps, n_filters, n_kernel, n_nodes, n_epochs, n_batch = config\n",
        "    n_input = n_seq * n_steps\n",
        "    # prepare data\n",
        "    data = series_to_supervised(train, n_in=n_input)\n",
        "    train_x, train_y = data[:, :-1], data[:, -1]\n",
        "    train_x = train_x.reshape((train_x.shape[0], n_seq, 1, n_steps, 1))\n",
        "    # define model\n",
        "    model = tf.keras.Sequential()\n",
        "    model.add(tf.keras.layers.ConvLSTM2D(filters=n_filters, kernel_size=(1,n_kernel), activation='relu', input_shape=(n_seq, 1, n_steps, 1)))\n",
        "    model.add(tf.keras.layers.Flatten())\n",
        "    model.add(tf.keras.layers.Dense(n_nodes, activation='relu'))\n",
        "    model.add(tf.keras.layers.Dense(1))\n",
        "    model.compile(loss=DEFAULT_LOSS, optimizer=DEFAULT_OPTIMIZER)\n",
        "    # fit\n",
        "    model.fit(train_x, train_y, epochs=n_epochs, batch_size=n_batch, verbose=0)\n",
        "    return model"
      ]
    },
    {
      "cell_type": "code",
      "execution_count": 52,
      "metadata": {
        "id": "TQMgFqLSmNdn"
      },
      "outputs": [],
      "source": [
        "# forecast with a pre-fit model\n",
        "def model_predict(model, history, config):\n",
        "    # unpack config\n",
        "    n_seq, n_steps, _, _, _, _, _ = config\n",
        "    n_input = n_seq * n_steps\n",
        "    # prepare data\n",
        "    x_input = np.array(history[-n_input:]).reshape((1, n_seq, 1, n_steps, 1))\n",
        "    # forecast\n",
        "    yhat = model.predict(x_input, verbose=0)\n",
        "    return yhat[0]"
      ]
    },
    {
      "cell_type": "code",
      "execution_count": 53,
      "metadata": {
        "id": "97RqO5I6mNdn",
        "colab": {
          "base_uri": "https://localhost:8080/",
          "height": 300
        },
        "outputId": "fa035f39-c71f-4b47-b52c-6023390a4d3a"
      },
      "outputs": [
        {
          "output_type": "stream",
          "name": "stdout",
          "text": [
            "ConvLSTM Model: 13.191 RMSE (+/- 0.353)\n"
          ]
        },
        {
          "output_type": "display_data",
          "data": {
            "text/plain": [
              "<Figure size 432x288 with 1 Axes>"
            ],
            "image/png": "[encoded data removed]"
          },
          "metadata": {
            "needs_background": "light"
          }
        },
        {
          "output_type": "stream",
          "name": "stdout",
          "text": [
            "Model training time: 0:05:22.451598\n"
          ]
        }
      ],
      "source": [
        "START_TIME_MODULE = datetime.now()\n",
        "# define config\n",
        "config = [3, 12, 64, 6, 64, MAX_EPOCHS, BATCH_SIZE]\n",
        "# grid search\n",
        "tf.keras.utils.set_random_seed(RNG_SEED)\n",
        "convlstm_scores = repeat_evaluate(data, config, n_test)\n",
        "# summarize scores\n",
        "summarize_scores('ConvLSTM Model', convlstm_scores)\n",
        "print ('Model training time:',(datetime.now() - START_TIME_MODULE))"
      ]
    },
    {
      "cell_type": "code",
      "execution_count": 54,
      "metadata": {
        "id": "bcZXkLwPmNdn",
        "colab": {
          "base_uri": "https://localhost:8080/",
          "height": 300
        },
        "outputId": "48c7a5e4-0324-46cf-ada2-08afe2b49f98"
      },
      "outputs": [
        {
          "output_type": "stream",
          "name": "stdout",
          "text": [
            "ConvLSTM Model: 12.905 RMSE (+/- 0.361)\n"
          ]
        },
        {
          "output_type": "display_data",
          "data": {
            "text/plain": [
              "<Figure size 432x288 with 1 Axes>"
            ],
            "image/png": "[encoded data removed]"
          },
          "metadata": {
            "needs_background": "light"
          }
        },
        {
          "output_type": "stream",
          "name": "stdout",
          "text": [
            "Model training time: 0:09:32.038095\n"
          ]
        }
      ],
      "source": [
        "START_TIME_MODULE = datetime.now()\n",
        "# define config\n",
        "config = [3, 24, 64, 12, 64, MAX_EPOCHS, BATCH_SIZE]\n",
        "# grid search\n",
        "convlstm_scores = repeat_evaluate(data, config, n_test)\n",
        "# summarize scores\n",
        "summarize_scores('ConvLSTM Model', convlstm_scores)\n",
        "print ('Model training time:',(datetime.now() - START_TIME_MODULE))"
      ]
    },
    {
      "cell_type": "code",
      "source": [
        "START_TIME_MODULE = datetime.now()\n",
        "# define config\n",
        "config = [3, 24, 128, 12, 128, MAX_EPOCHS, BATCH_SIZE]\n",
        "# grid search\n",
        "convlstm_scores = repeat_evaluate(data, config, n_test)\n",
        "# summarize scores\n",
        "summarize_scores('ConvLSTM Model', convlstm_scores)\n",
        "print ('Model training time:',(datetime.now() - START_TIME_MODULE))"
      ],
      "metadata": {
        "id": "aLzfR12fBUxw",
        "colab": {
          "base_uri": "https://localhost:8080/",
          "height": 300
        },
        "outputId": "ed2a25d9-4524-448f-df3c-41ed9b570216"
      },
      "execution_count": 55,
      "outputs": [
        {
          "output_type": "stream",
          "name": "stdout",
          "text": [
            "ConvLSTM Model: 12.684 RMSE (+/- 0.208)\n"
          ]
        },
        {
          "output_type": "display_data",
          "data": {
            "text/plain": [
              "<Figure size 432x288 with 1 Axes>"
            ],
            "image/png": "[encoded data removed]"
          },
          "metadata": {
            "needs_background": "light"
          }
        },
        {
          "output_type": "stream",
          "name": "stdout",
          "text": [
            "Model training time: 0:10:34.893993\n"
          ]
        }
      ]
    },
    {
      "cell_type": "markdown",
      "metadata": {
        "id": "9pd7byRzmNdn"
      },
      "source": [
        "### 4.g) Models Comparison"
      ]
    },
    {
      "cell_type": "code",
      "execution_count": 56,
      "metadata": {
        "id": "IeG-TaWgmNdn"
      },
      "outputs": [],
      "source": [
        "# Set up Arrays for Score Comparison\n",
        "train_models = []\n",
        "train_results = []"
      ]
    },
    {
      "cell_type": "code",
      "execution_count": 57,
      "metadata": {
        "id": "8kMEbgiUmNdn"
      },
      "outputs": [],
      "source": [
        "train_models.append('Baseline')\n",
        "train_results.append(persistent_scores)\n",
        "train_models.append('MLP')\n",
        "train_results.append(mlp_scores)\n",
        "train_models.append('CNN')\n",
        "train_results.append(cnn_scores)\n",
        "train_models.append('LSTM')\n",
        "train_results.append(lstm_scores)\n",
        "train_models.append('CNN-LSTM')\n",
        "train_results.append(cnnlstm_scores)\n",
        "train_models.append('ConvLSTM')\n",
        "train_results.append(convlstm_scores)"
      ]
    },
    {
      "cell_type": "code",
      "execution_count": 58,
      "metadata": {
        "id": "ITfd6LLkmNdn",
        "colab": {
          "base_uri": "https://localhost:8080/",
          "height": 787
        },
        "outputId": "12cceb7a-0767-44d7-f7fb-493a2b5d5d25"
      },
      "outputs": [
        {
          "output_type": "display_data",
          "data": {
            "text/plain": [
              "<Figure size 1152x864 with 1 Axes>"
            ],
            "image/png": "[encoded data removed]"
          },
          "metadata": {
            "needs_background": "light"
          }
        }
      ],
      "source": [
        "fig = plt.figure(figsize=(16,12))\n",
        "fig.suptitle('Model Comparison')\n",
        "ax = fig.add_subplot(111)\n",
        "plt.boxplot(train_results)\n",
        "ax.set_xticklabels(train_models)\n",
        "plt.show()"
      ]
    },
    {
      "cell_type": "code",
      "execution_count": 59,
      "metadata": {
        "id": "vvyzdubMmNdn"
      },
      "outputs": [],
      "source": [
        "if NOTIFY_STATUS: status_notify(\"TensorFlow Time Series Task 4 - Train and Tune Models completed! \" + datetime.now().strftime('%a %B %d, %Y %I:%M:%S %p'))"
      ]
    },
    {
      "cell_type": "markdown",
      "metadata": {
        "id": "GA8ECRD5mNdn"
      },
      "source": [
        "## Section 5. Finalize Model and Make Predictions"
      ]
    },
    {
      "cell_type": "code",
      "execution_count": 60,
      "metadata": {
        "id": "hzfS6ikYmNdo"
      },
      "outputs": [],
      "source": [
        "if NOTIFY_STATUS: status_notify(\"TensorFlow Time Series Task 5 - Finalize Model and Make Predictions has begun! \" + datetime.now().strftime('%a %B %d, %Y %I:%M:%S %p'))"
      ]
    },
    {
      "cell_type": "code",
      "execution_count": 61,
      "metadata": {
        "id": "1et1_yYemNdo"
      },
      "outputs": [],
      "source": [
        "# Code Segment Under Construction"
      ]
    },
    {
      "cell_type": "code",
      "execution_count": 62,
      "metadata": {
        "id": "h-V1DnqamNdo"
      },
      "outputs": [],
      "source": [
        "if NOTIFY_STATUS: status_notify(\"TensorFlow Time Series Task 5 - Finalize Model and Make Predictions completed! \" + datetime.now().strftime('%a %B %d, %Y %I:%M:%S %p'))"
      ]
    },
    {
      "cell_type": "code",
      "execution_count": 63,
      "metadata": {
        "id": "YoyBpIbLmNdo",
        "colab": {
          "base_uri": "https://localhost:8080/"
        },
        "outputId": "d489204a-146a-4575-e976-294d1d3a2761"
      },
      "outputs": [
        {
          "output_type": "stream",
          "name": "stdout",
          "text": [
            "Total time for the script: 1:23:56.128066\n"
          ]
        }
      ],
      "source": [
        "print ('Total time for the script:',(datetime.now() - START_TIME_SCRIPT))"
      ]
    }
  ],
  "metadata": {
    "kernelspec": {
      "display_name": "Python 3 (ipykernel)",
      "language": "python",
      "name": "python3"
    },
    "language_info": {
      "codemirror_mode": {
        "name": "ipython",
        "version": 3
      },
      "file_extension": ".py",
      "mimetype": "text/x-python",
      "name": "python",
      "nbconvert_exporter": "python",
      "pygments_lexer": "ipython3",
      "version": "3.8.10"
    },
    "colab": {
      "name": "py_timeseries_tensorflow_monthly_rainfall_coppermine.ipynb",
      "provenance": [],
      "background_execution": "on",
      "collapsed_sections": [],
      "toc_visible": true
    },
    "accelerator": "GPU"
  },
  "nbformat": 4,
  "nbformat_minor": 0
}