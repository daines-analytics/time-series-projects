{
 "cells": [
  {
   "cell_type": "markdown",
   "metadata": {},
   "source": [
    "# Univariate Time Series CNN/LSTM Combo Model for Ontario Gasoline Demand Using TensorFlow\n",
    "### David Lowe\n",
    "### March 2, 2022\n",
    "\n",
    "Template Credit: Adapted from a template made available by Dr. Jason Brownlee of Machine Learning Mastery. https://machinelearningmastery.com/\n",
    "\n",
    "SUMMARY: The project aims to construct a time series prediction model and document the end-to-end steps using a template. The Ontario Gasoline Demand dataset is a univariate time series situation where we attempt to forecast future outcomes based on past data points.\n",
    "\n",
    "INTRODUCTION: The problem is to forecast the gasoline demand for Ontario. The dataset describes a time series of gasoline demand (in millions of gallons) between 1960 to 1975, and there are 192 monthly observations. We used the first 80% of the observations for training and testing various models while holding back the remaining observations for validating the final model.\n",
    "\n",
    "ANALYSIS: The baseline persistence model yielded an RMSE of 15,913. The CNN model processed the same test data with an RMSE of 11,653, which was better than the baseline model as expected. In an earlier ARIMA modeling experiment, the best ARIMA model with non-seasonal order of (2, 1, 0) and seasonal order of (1, 2, 2, 12) processed the validation data with an RMSE of 9,794.\n",
    "CONCLUSION: For this dataset, the TensorFlow ConvLSTM model achieved an acceptable result, and we should consider using TensorFlow for further modeling.\n",
    "\n",
    "Dataset Used:  Ontario Gasoline Demand, 1960 through 1975.\n",
    "\n",
    "Dataset ML Model: Time series forecast with numerical attribute\n",
    "\n",
    "Dataset Reference: Rob Hyndman and Yangzhuoran Yang (2018). tsdl: Time Series Data Library. v0.1.0. https://pkg.yangzhuoranyang./tsdl/."
   ]
  },
  {
   "cell_type": "markdown",
   "metadata": {},
   "source": [
    "## Task 1 - Define Problem and Acquire Data"
   ]
  },
  {
   "cell_type": "code",
   "execution_count": 1,
   "metadata": {},
   "outputs": [
    {
     "name": "stdout",
     "output_type": "stream",
     "text": [
      "Tue Mar  1 19:40:18 2022       \n",
      "+-----------------------------------------------------------------------------+\n",
      "| NVIDIA-SMI 460.91.03    Driver Version: 460.91.03    CUDA Version: 11.4     |\n",
      "|-------------------------------+----------------------+----------------------+\n",
      "| GPU  Name        Persistence-M| Bus-Id        Disp.A | Volatile Uncorr. ECC |\n",
      "| Fan  Temp  Perf  Pwr:Usage/Cap|         Memory-Usage | GPU-Util  Compute M. |\n",
      "|                               |                      |               MIG M. |\n",
      "|===============================+======================+======================|\n",
      "|   0  Quadro RTX 5000     Off  | 00000000:00:05.0 Off |                  Off |\n",
      "| 34%   33C    P0    56W / 230W |      0MiB / 16125MiB |     19%      Default |\n",
      "|                               |                      |                  N/A |\n",
      "+-------------------------------+----------------------+----------------------+\n",
      "                                                                               \n",
      "+-----------------------------------------------------------------------------+\n",
      "| Processes:                                                                  |\n",
      "|  GPU   GI   CI        PID   Type   Process name                  GPU Memory |\n",
      "|        ID   ID                                                   Usage      |\n",
      "|=============================================================================|\n",
      "|  No running processes found                                                 |\n",
      "+-----------------------------------------------------------------------------+\n"
     ]
    }
   ],
   "source": [
    "# Retrieve the GPU information\n",
    "gpu_info = !nvidia-smi\n",
    "gpu_info = '\\n'.join(gpu_info)\n",
    "if gpu_info.find('failed') >= 0:\n",
    "    print('Select the Runtime → \"Change runtime type\" menu to enable a GPU accelerator, ')\n",
    "    print('and then re-execute this cell.')\n",
    "else:\n",
    "    print(gpu_info)"
   ]
  },
  {
   "cell_type": "code",
   "execution_count": 2,
   "metadata": {},
   "outputs": [
    {
     "name": "stdout",
     "output_type": "stream",
     "text": [
      "Your runtime has 31.6 gigabytes of available RAM\n",
      "\n"
     ]
    }
   ],
   "source": [
    "# Retrieve memory configuration information\n",
    "from psutil import virtual_memory\n",
    "ram_gb = virtual_memory().total / 1e9\n",
    "print('Your runtime has {:.1f} gigabytes of available RAM\\n'.format(ram_gb))"
   ]
  },
  {
   "cell_type": "code",
   "execution_count": 3,
   "metadata": {},
   "outputs": [
    {
     "name": "stdout",
     "output_type": "stream",
     "text": [
      "The number of available CPUs is: 8\n"
     ]
    }
   ],
   "source": [
    "# Retrieve the CPU information\n",
    "ncpu = !nproc\n",
    "print(\"The number of available CPUs is:\", ncpu[0])"
   ]
  },
  {
   "cell_type": "code",
   "execution_count": 4,
   "metadata": {},
   "outputs": [],
   "source": [
    "# # Mount Google Drive locally for loading the dotenv files\n",
    "# from dotenv import load_dotenv\n",
    "# from google.colab import drive\n",
    "# drive.mount('/content/gdrive')\n",
    "# gdrivePrefix = '/content/gdrive/My Drive/Colab_Downloads/'\n",
    "# env_path = '/content/gdrive/My Drive/Colab Notebooks/'\n",
    "# dotenv_path = env_path + \"python_script.env\"\n",
    "# load_dotenv(dotenv_path=dotenv_path)"
   ]
  },
  {
   "cell_type": "markdown",
   "metadata": {},
   "source": [
    "### 1.a) Load Libraries"
   ]
  },
  {
   "cell_type": "code",
   "execution_count": 5,
   "metadata": {},
   "outputs": [],
   "source": [
    "# Create the random seed number for reproducible results\n",
    "RNG_SEED = 888"
   ]
  },
  {
   "cell_type": "code",
   "execution_count": 6,
   "metadata": {},
   "outputs": [],
   "source": [
    "import numpy as np\n",
    "import pandas as pd\n",
    "import seaborn as sns\n",
    "import matplotlib.pyplot as plt\n",
    "import os\n",
    "import sys\n",
    "import math\n",
    "# import boto3\n",
    "from datetime import datetime\n",
    "from sklearn.metrics import mean_squared_error\n",
    "\n",
    "import tensorflow as tf\n",
    "tf.random.set_seed(RNG_SEED)"
   ]
  },
  {
   "cell_type": "markdown",
   "metadata": {},
   "source": [
    "### 1.b) Set up the controlling parameters and functions"
   ]
  },
  {
   "cell_type": "code",
   "execution_count": 7,
   "metadata": {},
   "outputs": [
    {
     "name": "stderr",
     "output_type": "stream",
     "text": [
      "2022-03-01 19:40:21.786609: I tensorflow/stream_executor/cuda/cuda_gpu_executor.cc:1050] successful NUMA node read from SysFS had negative value (-1), but there must be at least one NUMA node, so returning NUMA node zero\n",
      "2022-03-01 19:40:21.799922: I tensorflow/stream_executor/cuda/cuda_gpu_executor.cc:1050] successful NUMA node read from SysFS had negative value (-1), but there must be at least one NUMA node, so returning NUMA node zero\n",
      "2022-03-01 19:40:21.800870: I tensorflow/stream_executor/cuda/cuda_gpu_executor.cc:1050] successful NUMA node read from SysFS had negative value (-1), but there must be at least one NUMA node, so returning NUMA node zero\n",
      "2022-03-01 19:40:21.803098: I tensorflow/stream_executor/cuda/cuda_gpu_executor.cc:1050] successful NUMA node read from SysFS had negative value (-1), but there must be at least one NUMA node, so returning NUMA node zero\n",
      "2022-03-01 19:40:21.804012: I tensorflow/stream_executor/cuda/cuda_gpu_executor.cc:1050] successful NUMA node read from SysFS had negative value (-1), but there must be at least one NUMA node, so returning NUMA node zero\n",
      "2022-03-01 19:40:21.804844: I tensorflow/stream_executor/cuda/cuda_gpu_executor.cc:1050] successful NUMA node read from SysFS had negative value (-1), but there must be at least one NUMA node, so returning NUMA node zero\n",
      "2022-03-01 19:40:22.614332: I tensorflow/stream_executor/cuda/cuda_gpu_executor.cc:1050] successful NUMA node read from SysFS had negative value (-1), but there must be at least one NUMA node, so returning NUMA node zero\n",
      "2022-03-01 19:40:22.615351: I tensorflow/stream_executor/cuda/cuda_gpu_executor.cc:1050] successful NUMA node read from SysFS had negative value (-1), but there must be at least one NUMA node, so returning NUMA node zero\n",
      "2022-03-01 19:40:22.616206: I tensorflow/stream_executor/cuda/cuda_gpu_executor.cc:1050] successful NUMA node read from SysFS had negative value (-1), but there must be at least one NUMA node, so returning NUMA node zero\n",
      "2022-03-01 19:40:22.617005: I tensorflow/core/common_runtime/gpu/gpu_device.cc:1510] Created device /job:localhost/replica:0/task:0/device:GPU:0 with 14817 MB memory:  -> device: 0, name: Quadro RTX 5000, pci bus id: 0000:00:05.0, compute capability: 7.5\n"
     ]
    }
   ],
   "source": [
    "# Begin the timer for the script processing\n",
    "START_TIME_SCRIPT = datetime.now()\n",
    "\n",
    "# Set up the number of CPU cores available for multi-thread processing\n",
    "N_JOBS = 1\n",
    "\n",
    "# Set up the flag to stop sending progress emails (setting to True will send status emails!)\n",
    "NOTIFY_STATUS = False\n",
    "\n",
    "# Set various default modeling parameters\n",
    "DEFAULT_LOSS = 'mean_squared_error'\n",
    "DEFAULT_METRICS = [tf.keras.metrics.RootMeanSquaredError(name='rmse')]\n",
    "DEFAULT_OPTIMIZER = tf.keras.optimizers.Adam(learning_rate=0.001)\n",
    "DEFAULT_INITIALIZER = tf.keras.initializers.RandomNormal(seed=RNG_SEED)\n",
    "MAX_EPOCHS = 20\n",
    "BATCH_SIZE = 16\n",
    "SLIDING_WINDOW = 5"
   ]
  },
  {
   "cell_type": "code",
   "execution_count": 8,
   "metadata": {},
   "outputs": [],
   "source": [
    "# Set up the email notification function\n",
    "def status_notify(msg_text):\n",
    "    access_key = os.environ.get('SNS_ACCESS_KEY')\n",
    "    secret_key = os.environ.get('SNS_SECRET_KEY')\n",
    "    aws_region = os.environ.get('SNS_AWS_REGION')\n",
    "    topic_arn = os.environ.get('SNS_TOPIC_ARN')\n",
    "    if (access_key is None) or (secret_key is None) or (aws_region is None):\n",
    "        sys.exit(\"Incomplete notification setup info. Script Processing Aborted!!!\")\n",
    "    sns = boto3.client('sns', aws_access_key_id=access_key, aws_secret_access_key=secret_key, region_name=aws_region)\n",
    "    response = sns.publish(TopicArn=topic_arn, Message=msg_text)\n",
    "    if response['ResponseMetadata']['HTTPStatusCode'] != 200 :\n",
    "        print('Status notification not OK with HTTP status code:', response['ResponseMetadata']['HTTPStatusCode'])"
   ]
  },
  {
   "cell_type": "code",
   "execution_count": 9,
   "metadata": {},
   "outputs": [],
   "source": [
    "if NOTIFY_STATUS: status_notify(\"TensorFlow Time Series Task 1 - Define Problem and Acquire Data has begun! \" + datetime.now().strftime('%a %B %d, %Y %I:%M:%S %p'))"
   ]
  },
  {
   "cell_type": "markdown",
   "metadata": {},
   "source": [
    "### 1.c) Acquire and Load the Data"
   ]
  },
  {
   "cell_type": "code",
   "execution_count": 10,
   "metadata": {},
   "outputs": [],
   "source": [
    "# load the dataset and the necessary data structure\n",
    "time_series = pd.read_csv('https://dainesanalytics.com/datasets/time-series-data-library/tsdl004.csv', index_col='idx', parse_dates=True)\n",
    "\n",
    "# Load the dataset from the Federal Reserve Bank's FRED Database\n",
    "# starting = datetime(1990, 1, 1)\n",
    "# ending = datetime.now()\n",
    "# fred_data = 'SMU06000007072251101'\n",
    "# time_series = web.DataReader(fred_data, 'fred', starting, ending)\n",
    "# time_series.rename(columns={fred_data: 'value'}, inplace=True)\n",
    "\n",
    "# Sample code for subsetting the time-series data\n",
    "# time_series = original_series['1986':'1990']"
   ]
  },
  {
   "cell_type": "code",
   "execution_count": 11,
   "metadata": {},
   "outputs": [
    {
     "name": "stdout",
     "output_type": "stream",
     "text": [
      "The target column of the time series is: values\n",
      "The forecast boundary columns are: lower values & upper values\n"
     ]
    }
   ],
   "source": [
    "target_col = time_series.columns[0]\n",
    "lower_bound = 'lower ' + target_col\n",
    "upper_bound = 'upper ' + target_col\n",
    "print('The target column of the time series is:', target_col)\n",
    "print('The forecast boundary columns are:', lower_bound, '&', upper_bound)"
   ]
  },
  {
   "cell_type": "code",
   "execution_count": 12,
   "metadata": {},
   "outputs": [
    {
     "name": "stdout",
     "output_type": "stream",
     "text": [
      "<class 'pandas.core.frame.DataFrame'>\n",
      "DatetimeIndex: 192 entries, 1960-01-01 to 1975-12-01\n",
      "Data columns (total 1 columns):\n",
      " #   Column  Non-Null Count  Dtype\n",
      "---  ------  --------------  -----\n",
      " 0   values  192 non-null    int64\n",
      "dtypes: int64(1)\n",
      "memory usage: 3.0 KB\n"
     ]
    }
   ],
   "source": [
    "time_series.info(verbose=True)"
   ]
  },
  {
   "cell_type": "code",
   "execution_count": 13,
   "metadata": {},
   "outputs": [
    {
     "name": "stdout",
     "output_type": "stream",
     "text": [
      "            values\n",
      "idx               \n",
      "1960-01-01   87695\n",
      "1960-02-01   86890\n",
      "1960-03-01   96442\n",
      "1960-04-01   98133\n",
      "1960-05-01  113615\n"
     ]
    }
   ],
   "source": [
    "print(time_series.head())"
   ]
  },
  {
   "cell_type": "code",
   "execution_count": 14,
   "metadata": {},
   "outputs": [
    {
     "name": "stdout",
     "output_type": "stream",
     "text": [
      "            values\n",
      "idx               \n",
      "1975-08-01  244642\n",
      "1975-09-01  237579\n",
      "1975-10-01  237579\n",
      "1975-11-01  217775\n",
      "1975-12-01  227621\n"
     ]
    }
   ],
   "source": [
    "print(time_series.tail())"
   ]
  },
  {
   "cell_type": "code",
   "execution_count": 15,
   "metadata": {},
   "outputs": [],
   "source": [
    "if NOTIFY_STATUS: status_notify(\"TensorFlow Time Series Task 1 - Define Problem and Acquire Data completed! \" + datetime.now().strftime('%a %B %d, %Y %I:%M:%S %p'))"
   ]
  },
  {
   "cell_type": "markdown",
   "metadata": {},
   "source": [
    "## Task 2: Summarize and Visualize Data"
   ]
  },
  {
   "cell_type": "code",
   "execution_count": 16,
   "metadata": {},
   "outputs": [],
   "source": [
    "if NOTIFY_STATUS: status_notify(\"TensorFlow Time Series Task 2 - Summarize and Visualize Data has begun! \" + datetime.now().strftime('%a %B %d, %Y %I:%M:%S %p'))"
   ]
  },
  {
   "cell_type": "markdown",
   "metadata": {},
   "source": [
    "### 2.a) Summary Statistics of the Time Series Data"
   ]
  },
  {
   "cell_type": "code",
   "execution_count": 17,
   "metadata": {},
   "outputs": [
    {
     "name": "stdout",
     "output_type": "stream",
     "text": [
      "              values\n",
      "count     192.000000\n",
      "mean   162063.682292\n",
      "std     41661.872770\n",
      "min     86890.000000\n",
      "25%    128425.500000\n",
      "50%    157459.000000\n",
      "75%    193555.750000\n",
      "max    255918.000000\n"
     ]
    }
   ],
   "source": [
    "# Summary statistics of time series\n",
    "print(time_series.describe())"
   ]
  },
  {
   "cell_type": "markdown",
   "metadata": {},
   "source": [
    "### 2.b) Line Plot of the Time Series Data"
   ]
  },
  {
   "cell_type": "code",
   "execution_count": 18,
   "metadata": {},
   "outputs": [
    {
     "data": {
      "image/png": "[encoded data removed]",
      "text/plain": [
       "<Figure size 864x648 with 1 Axes>"
      ]
     },
     "metadata": {
      "needs_background": "light"
     },
     "output_type": "display_data"
    }
   ],
   "source": [
    "# Line plots of time series\n",
    "fig, ax = plt.subplots(figsize=(12,9))\n",
    "fig.suptitle('Line Plot of the Time Series Data')\n",
    "time_series.plot(ax=ax)\n",
    "plt.show()"
   ]
  },
  {
   "cell_type": "markdown",
   "metadata": {},
   "source": [
    "### 2.c) Histogram and Density Plots of the Time Series Data"
   ]
  },
  {
   "cell_type": "code",
   "execution_count": 19,
   "metadata": {},
   "outputs": [
    {
     "data": {
      "image/png": "[encoded data removed]",
      "text/plain": [
       "<Figure size 864x648 with 1 Axes>"
      ]
     },
     "metadata": {
      "needs_background": "light"
     },
     "output_type": "display_data"
    }
   ],
   "source": [
    "# Line plots of time series\n",
    "fig, ax = plt.subplots(figsize=(12,9))\n",
    "fig.suptitle('Histogram of the Time Series Data')\n",
    "time_series.hist(ax=ax)\n",
    "plt.show()"
   ]
  },
  {
   "cell_type": "code",
   "execution_count": 20,
   "metadata": {},
   "outputs": [
    {
     "data": {
      "image/png": "[encoded data removed]",
      "text/plain": [
       "<Figure size 864x648 with 1 Axes>"
      ]
     },
     "metadata": {
      "needs_background": "light"
     },
     "output_type": "display_data"
    }
   ],
   "source": [
    "# Line plots of time series\n",
    "fig, ax = plt.subplots(figsize=(12,9))\n",
    "fig.suptitle('Density Plot of the Time Series Data')\n",
    "time_series.plot(kind='kde', ax=ax)\n",
    "plt.show()"
   ]
  },
  {
   "cell_type": "markdown",
   "metadata": {},
   "source": [
    "### 2.d) Box and Whisker Plots of the Time Series Data"
   ]
  },
  {
   "cell_type": "code",
   "execution_count": 21,
   "metadata": {},
   "outputs": [
    {
     "data": {
      "image/png": "[encoded data removed]",
      "text/plain": [
       "<Figure size 864x648 with 1 Axes>"
      ]
     },
     "metadata": {
      "needs_background": "light"
     },
     "output_type": "display_data"
    }
   ],
   "source": [
    "# boxplots of time series\n",
    "fig, ax = plt.subplots(figsize=(12,9))\n",
    "fig.suptitle('Box and Whisker Plots of the Time Series Data')\n",
    "squeezed = time_series.squeeze()\n",
    "sns.boxplot(x=squeezed.index.year, y=squeezed, ax=ax)\n",
    "plt.show()"
   ]
  },
  {
   "cell_type": "code",
   "execution_count": 22,
   "metadata": {},
   "outputs": [],
   "source": [
    "if NOTIFY_STATUS: status_notify(\"TensorFlow Time Series Task 2 - Summarize and Visualize Data completed! \" + datetime.now().strftime('%a %B %d, %Y %I:%M:%S %p'))"
   ]
  },
  {
   "cell_type": "markdown",
   "metadata": {},
   "source": [
    "## Task 3: Pre-Process Data"
   ]
  },
  {
   "cell_type": "code",
   "execution_count": 23,
   "metadata": {},
   "outputs": [],
   "source": [
    "if NOTIFY_STATUS: status_notify(\"TensorFlow Time Series Task 3 - Pre-Process Data has begun! \" + datetime.now().strftime('%a %B %d, %Y %I:%M:%S %p'))"
   ]
  },
  {
   "cell_type": "code",
   "execution_count": 24,
   "metadata": {},
   "outputs": [],
   "source": [
    "# Resampling the time series into monthly average for the ease of modeling\n",
    "# original_series = time_series\n",
    "# resample = original_series.resample('M')\n",
    "# time_series = resample.mean()\n",
    "# time_series.head(10)"
   ]
  },
  {
   "cell_type": "code",
   "execution_count": 25,
   "metadata": {},
   "outputs": [
    {
     "name": "stdout",
     "output_type": "stream",
     "text": [
      "Number of data points in the training set: 180\n",
      "Number of data points in the test set: 12\n"
     ]
    }
   ],
   "source": [
    "# Split the data into training and test sets\n",
    "data = time_series.values\n",
    "data = data.astype('float32')\n",
    "n_test = 12\n",
    "n_train = len(data) - n_test\n",
    "train_ts, test_ts = data[0:n_train], data[n_train:]\n",
    "print('Number of data points in the training set:', n_train)\n",
    "print('Number of data points in the test set:', n_test)"
   ]
  },
  {
   "cell_type": "code",
   "execution_count": 26,
   "metadata": {},
   "outputs": [],
   "source": [
    "if NOTIFY_STATUS: status_notify(\"TensorFlow Time Series Task 3 - Pre-Process Data completed! \" + datetime.now().strftime('%a %B %d, %Y %I:%M:%S %p'))"
   ]
  },
  {
   "cell_type": "markdown",
   "metadata": {},
   "source": [
    "## Task 4: Train and Tune Models"
   ]
  },
  {
   "cell_type": "code",
   "execution_count": 27,
   "metadata": {},
   "outputs": [],
   "source": [
    "if NOTIFY_STATUS: status_notify(\"TensorFlow Time Series Task 4 - Train and Tune Models has begun! \" + datetime.now().strftime('%a %B %d, %Y %I:%M:%S %p'))"
   ]
  },
  {
   "cell_type": "markdown",
   "metadata": {},
   "source": [
    "### 4.a) Set up the Common Helper Functions"
   ]
  },
  {
   "cell_type": "code",
   "execution_count": 28,
   "metadata": {},
   "outputs": [],
   "source": [
    "# split a univariate dataset into train/test sets\n",
    "def train_test_split(data, n_test):\n",
    "    return data[:-n_test], data[-n_test:]\n",
    "\n",
    "# transform list into supervised learning format\n",
    "def series_to_supervised(data, n_in=1, n_out=1):\n",
    "    df = pd.DataFrame(data)\n",
    "    cols = list()\n",
    "    # input sequence (t-n, ... t-1)\n",
    "    for i in range(n_in, 0, -1):\n",
    "        cols.append(df.shift(i))\n",
    "    # forecast sequence (t, t+1, ... t+n)\n",
    "    for i in range(0, n_out):\n",
    "        cols.append(df.shift(-i))\n",
    "    # put it all together\n",
    "    agg = pd.concat(cols, axis=1)\n",
    "    # drop rows with NaN values\n",
    "    agg.dropna(inplace=True)\n",
    "    return agg.values\n",
    "\n",
    "# root mean squared error or rmse\n",
    "def measure_rmse(actual, predicted):\n",
    "    return math.sqrt(mean_squared_error(actual, predicted))\n",
    "\n",
    "# difference dataset\n",
    "def difference(data, interval):\n",
    "    return [data[i] - data[i - interval] for i in range(interval, len(data))]\n",
    "\n",
    "# walk-forward validation for univariate data\n",
    "def walk_forward_validation(data, n_test, cfg):\n",
    "    predictions = list()\n",
    "    # split dataset\n",
    "    train, test = train_test_split(data, n_test)\n",
    "    # fit model\n",
    "    model = model_fit(train, cfg)\n",
    "    # seed history with training dataset\n",
    "    history = [x for x in train]\n",
    "    # step over each time-step in the test set\n",
    "    for i in range(len(test)):\n",
    "        # fit model and make forecast for history\n",
    "        yhat = model_predict(model, history, cfg)\n",
    "        # store forecast in list of predictions\n",
    "        predictions.append(yhat)\n",
    "        # add actual observation to history for the next loop\n",
    "        history.append(test[i])\n",
    "    # estimate prediction error\n",
    "    error = measure_rmse(test, predictions)\n",
    "    print(' > %.3f' % error)\n",
    "    return error\n",
    "\n",
    "# repeat evaluation of a config\n",
    "def repeat_evaluate(data, config, n_test, n_repeats=30):\n",
    "    # fit and evaluate the model n times\n",
    "    scores = [walk_forward_validation(data, n_test, config) for _ in range(n_repeats)]\n",
    "    return scores\n",
    "\n",
    "# summarize model performance\n",
    "def summarize_scores(name, scores):\n",
    "    # print a summary\n",
    "    scores_m, score_std = np.mean(scores), np.std(scores)\n",
    "    print('%s: %.3f RMSE (+/- %.3f)' % (name, scores_m, score_std))\n",
    "    # box and whisker plot\n",
    "    plt.boxplot(scores)\n",
    "    plt.show()"
   ]
  },
  {
   "cell_type": "markdown",
   "metadata": {},
   "source": [
    "### 4.b) Simple Persistent Modeling as a Baseline"
   ]
  },
  {
   "cell_type": "code",
   "execution_count": 29,
   "metadata": {},
   "outputs": [],
   "source": [
    "# fit a model\n",
    "def model_fit(train, config):\n",
    "    return None"
   ]
  },
  {
   "cell_type": "code",
   "execution_count": 30,
   "metadata": {},
   "outputs": [],
   "source": [
    "# forecast with a pre-fit model\n",
    "def model_predict(model, history, config):\n",
    "    values = list()\n",
    "    for offset in config:\n",
    "        values.append(history[-offset])\n",
    "    return np.median(values)"
   ]
  },
  {
   "cell_type": "code",
   "execution_count": 31,
   "metadata": {},
   "outputs": [
    {
     "name": "stdout",
     "output_type": "stream",
     "text": [
      " > 15913.162\n",
      " > 15913.162\n",
      " > 15913.162\n",
      " > 15913.162\n",
      " > 15913.162\n",
      " > 15913.162\n",
      " > 15913.162\n",
      " > 15913.162\n",
      " > 15913.162\n",
      " > 15913.162\n",
      " > 15913.162\n",
      " > 15913.162\n",
      " > 15913.162\n",
      " > 15913.162\n",
      " > 15913.162\n",
      " > 15913.162\n",
      " > 15913.162\n",
      " > 15913.162\n",
      " > 15913.162\n",
      " > 15913.162\n",
      " > 15913.162\n",
      " > 15913.162\n",
      " > 15913.162\n",
      " > 15913.162\n",
      " > 15913.162\n",
      " > 15913.162\n",
      " > 15913.162\n",
      " > 15913.162\n",
      " > 15913.162\n",
      " > 15913.162\n"
     ]
    }
   ],
   "source": [
    "# define config\n",
    "config = [12, 24, 36]\n",
    "# grid search\n",
    "persistent_scores = repeat_evaluate(data, config, n_test)"
   ]
  },
  {
   "cell_type": "code",
   "execution_count": 32,
   "metadata": {},
   "outputs": [
    {
     "name": "stdout",
     "output_type": "stream",
     "text": [
      "Persistence Model:: 15913.162 RMSE (+/- 0.000)\n"
     ]
    },
    {
     "data": {
      "image/png": "[encoded data removed]",
      "text/plain": [
       "<Figure size 432x288 with 1 Axes>"
      ]
     },
     "metadata": {
      "needs_background": "light"
     },
     "output_type": "display_data"
    }
   ],
   "source": [
    "# summarize scores\n",
    "summarize_scores('Persistence Model:', persistent_scores)"
   ]
  },
  {
   "cell_type": "markdown",
   "metadata": {},
   "source": [
    "### 4.c) CNN Modeling and Tuning"
   ]
  },
  {
   "cell_type": "code",
   "execution_count": 33,
   "metadata": {},
   "outputs": [],
   "source": [
    "# fit a model\n",
    "def model_fit(train, config):\n",
    "    # unpack config\n",
    "    n_input, n_filters, n_kernel, n_epochs, n_batch = config\n",
    "    # prepare data\n",
    "    data = series_to_supervised(train, n_in=n_input)\n",
    "    train_x, train_y = data[:, :-1], data[:, -1]\n",
    "    train_x = train_x.reshape((train_x.shape[0], train_x.shape[1], 1))\n",
    "    # define model\n",
    "    model = tf.keras.Sequential()\n",
    "    model.add(tf.keras.layers.Conv1D(filters=n_filters, kernel_size=n_kernel, activation='relu', input_shape=(n_input, 1)))\n",
    "    model.add(tf.keras.layers.Conv1D(filters=n_filters, kernel_size=n_kernel, activation='relu'))\n",
    "    model.add(tf.keras.layers.MaxPool1D(pool_size=2))\n",
    "    model.add(tf.keras.layers.Flatten())\n",
    "    model.add(tf.keras.layers.Dense(1))\n",
    "    model.compile(loss=DEFAULT_LOSS, optimizer=DEFAULT_OPTIMIZER)\n",
    "    # fit\n",
    "    model.fit(train_x, train_y, epochs=n_epochs, batch_size=n_batch, verbose=0)\n",
    "    return model"
   ]
  },
  {
   "cell_type": "code",
   "execution_count": 34,
   "metadata": {},
   "outputs": [],
   "source": [
    "# forecast with a pre-fit model\n",
    "def model_predict(model, history, config):\n",
    "    # unpack config\n",
    "    n_input, _, _, _, _ = config\n",
    "    # prepare data\n",
    "    x_input = np.array(history[-n_input:]).reshape((1, n_input, 1))\n",
    "    # forecast\n",
    "    yhat = model.predict(x_input, verbose=0)\n",
    "    return yhat[0]"
   ]
  },
  {
   "cell_type": "code",
   "execution_count": 35,
   "metadata": {},
   "outputs": [
    {
     "name": "stderr",
     "output_type": "stream",
     "text": [
      "2022-03-01 19:40:29.216868: I tensorflow/compiler/mlir/mlir_graph_optimization_pass.cc:185] None of the MLIR Optimization Passes are enabled (registered 2)\n",
      "2022-03-01 19:40:30.516647: I tensorflow/stream_executor/cuda/cuda_dnn.cc:381] Loaded cuDNN version 8204\n"
     ]
    },
    {
     "name": "stdout",
     "output_type": "stream",
     "text": [
      " > 13524.998\n",
      " > 12854.230\n",
      " > 12843.552\n",
      " > 12982.739\n",
      " > 12841.644\n",
      " > 14023.480\n",
      " > 13707.007\n",
      " > 12910.457\n",
      " > 12782.402\n",
      " > 16221.090\n",
      " > 14729.794\n",
      " > 16130.861\n",
      " > 16057.794\n",
      " > 14601.902\n",
      " > 14267.054\n",
      " > 15133.066\n",
      " > 13206.698\n",
      " > 13967.697\n",
      " > 14340.604\n",
      " > 13678.004\n",
      " > 12689.983\n",
      " > 15359.319\n",
      " > 13284.248\n",
      " > 13668.183\n",
      " > 14746.112\n",
      " > 12503.292\n",
      " > 13889.562\n",
      " > 13211.488\n",
      " > 13912.998\n",
      " > 12882.435\n"
     ]
    }
   ],
   "source": [
    "# define config\n",
    "config = [36, 256, 3, 100, 100]\n",
    "# grid search\n",
    "cnn_scores = repeat_evaluate(data, config, n_test)"
   ]
  },
  {
   "cell_type": "code",
   "execution_count": 36,
   "metadata": {},
   "outputs": [
    {
     "name": "stdout",
     "output_type": "stream",
     "text": [
      "CNN Model:: 13898.423 RMSE (+/- 1054.845)\n"
     ]
    },
    {
     "data": {
      "image/png": "[encoded data removed]",
      "text/plain": [
       "<Figure size 432x288 with 1 Axes>"
      ]
     },
     "metadata": {
      "needs_background": "light"
     },
     "output_type": "display_data"
    }
   ],
   "source": [
    "# summarize scores\n",
    "summarize_scores('CNN Model:', cnn_scores)"
   ]
  },
  {
   "cell_type": "markdown",
   "metadata": {},
   "source": [
    "### 4.d) LSTM Modeling and Tuning"
   ]
  },
  {
   "cell_type": "code",
   "execution_count": 37,
   "metadata": {},
   "outputs": [],
   "source": [
    "# fit a model\n",
    "def model_fit(train, config):\n",
    "    # unpack config\n",
    "    n_input, n_nodes, n_epochs, n_batch, n_diff = config\n",
    "    # prepare data\n",
    "    if n_diff > 0:\n",
    "        train = difference(train, n_diff)\n",
    "    data = series_to_supervised(train, n_in=n_input)\n",
    "    train_x, train_y = data[:, :-1], data[:, -1]\n",
    "    train_x = train_x.reshape((train_x.shape[0], train_x.shape[1], 1))\n",
    "    # define model\n",
    "    model = tf.keras.Sequential()\n",
    "    model.add(tf.keras.layers.LSTM(n_nodes, activation='relu', input_shape=(n_input, 1)))\n",
    "    model.add(tf.keras.layers.Dense(n_nodes, activation='relu'))\n",
    "    model.add(tf.keras.layers.Dense(1))\n",
    "    model.compile(loss=DEFAULT_LOSS, optimizer=DEFAULT_OPTIMIZER)\n",
    "    # fit\n",
    "    model.fit(train_x, train_y, epochs=n_epochs, batch_size=n_batch, verbose=0)\n",
    "    return model"
   ]
  },
  {
   "cell_type": "code",
   "execution_count": 38,
   "metadata": {},
   "outputs": [],
   "source": [
    "# forecast with a pre-fit model\n",
    "def model_predict(model, history, config):\n",
    "    # unpack config\n",
    "    n_input, _, _, _, n_diff = config\n",
    "    # prepare data\n",
    "    correction = 0.0\n",
    "    if n_diff > 0:\n",
    "        correction = history[-n_diff]\n",
    "        history = difference(history, n_diff)\n",
    "    x_input = np.array(history[-n_input:]).reshape((1, n_input, 1))\n",
    "    # forecast\n",
    "    yhat = model.predict(x_input, verbose=0)\n",
    "    return correction + yhat[0]"
   ]
  },
  {
   "cell_type": "code",
   "execution_count": 39,
   "metadata": {},
   "outputs": [
    {
     "name": "stdout",
     "output_type": "stream",
     "text": [
      "WARNING:tensorflow:Layer lstm will not use cuDNN kernels since it doesn't meet the criteria. It will use a generic GPU kernel as fallback when running on GPU.\n",
      " > 12765.717\n",
      "WARNING:tensorflow:Layer lstm_1 will not use cuDNN kernels since it doesn't meet the criteria. It will use a generic GPU kernel as fallback when running on GPU.\n",
      " > 11922.937\n",
      "WARNING:tensorflow:Layer lstm_2 will not use cuDNN kernels since it doesn't meet the criteria. It will use a generic GPU kernel as fallback when running on GPU.\n",
      " > 10941.374\n",
      "WARNING:tensorflow:Layer lstm_3 will not use cuDNN kernels since it doesn't meet the criteria. It will use a generic GPU kernel as fallback when running on GPU.\n",
      " > 11867.601\n",
      "WARNING:tensorflow:Layer lstm_4 will not use cuDNN kernels since it doesn't meet the criteria. It will use a generic GPU kernel as fallback when running on GPU.\n",
      " > 22883.027\n",
      "WARNING:tensorflow:Layer lstm_5 will not use cuDNN kernels since it doesn't meet the criteria. It will use a generic GPU kernel as fallback when running on GPU.\n",
      " > 11196.032\n",
      "WARNING:tensorflow:Layer lstm_6 will not use cuDNN kernels since it doesn't meet the criteria. It will use a generic GPU kernel as fallback when running on GPU.\n",
      " > 11872.095\n",
      "WARNING:tensorflow:Layer lstm_7 will not use cuDNN kernels since it doesn't meet the criteria. It will use a generic GPU kernel as fallback when running on GPU.\n",
      " > 15248.300\n",
      "WARNING:tensorflow:Layer lstm_8 will not use cuDNN kernels since it doesn't meet the criteria. It will use a generic GPU kernel as fallback when running on GPU.\n",
      " > 13072.062\n",
      "WARNING:tensorflow:Layer lstm_9 will not use cuDNN kernels since it doesn't meet the criteria. It will use a generic GPU kernel as fallback when running on GPU.\n",
      " > 11274.346\n",
      "WARNING:tensorflow:Layer lstm_10 will not use cuDNN kernels since it doesn't meet the criteria. It will use a generic GPU kernel as fallback when running on GPU.\n",
      " > 18178.304\n",
      "WARNING:tensorflow:Layer lstm_11 will not use cuDNN kernels since it doesn't meet the criteria. It will use a generic GPU kernel as fallback when running on GPU.\n",
      " > 11612.741\n",
      "WARNING:tensorflow:Layer lstm_12 will not use cuDNN kernels since it doesn't meet the criteria. It will use a generic GPU kernel as fallback when running on GPU.\n",
      " > 8817.170\n",
      "WARNING:tensorflow:Layer lstm_13 will not use cuDNN kernels since it doesn't meet the criteria. It will use a generic GPU kernel as fallback when running on GPU.\n",
      " > 9440.254\n",
      "WARNING:tensorflow:Layer lstm_14 will not use cuDNN kernels since it doesn't meet the criteria. It will use a generic GPU kernel as fallback when running on GPU.\n",
      " > 12541.031\n",
      "WARNING:tensorflow:Layer lstm_15 will not use cuDNN kernels since it doesn't meet the criteria. It will use a generic GPU kernel as fallback when running on GPU.\n",
      " > 14922.036\n",
      "WARNING:tensorflow:Layer lstm_16 will not use cuDNN kernels since it doesn't meet the criteria. It will use a generic GPU kernel as fallback when running on GPU.\n",
      " > 11797.413\n",
      "WARNING:tensorflow:Layer lstm_17 will not use cuDNN kernels since it doesn't meet the criteria. It will use a generic GPU kernel as fallback when running on GPU.\n",
      " > 16951.525\n",
      "WARNING:tensorflow:Layer lstm_18 will not use cuDNN kernels since it doesn't meet the criteria. It will use a generic GPU kernel as fallback when running on GPU.\n",
      " > 11717.166\n",
      "WARNING:tensorflow:Layer lstm_19 will not use cuDNN kernels since it doesn't meet the criteria. It will use a generic GPU kernel as fallback when running on GPU.\n",
      " > 14064.941\n",
      "WARNING:tensorflow:Layer lstm_20 will not use cuDNN kernels since it doesn't meet the criteria. It will use a generic GPU kernel as fallback when running on GPU.\n",
      " > 11483.827\n",
      "WARNING:tensorflow:Layer lstm_21 will not use cuDNN kernels since it doesn't meet the criteria. It will use a generic GPU kernel as fallback when running on GPU.\n",
      " > 11265.471\n",
      "WARNING:tensorflow:Layer lstm_22 will not use cuDNN kernels since it doesn't meet the criteria. It will use a generic GPU kernel as fallback when running on GPU.\n",
      " > 9966.688\n",
      "WARNING:tensorflow:Layer lstm_23 will not use cuDNN kernels since it doesn't meet the criteria. It will use a generic GPU kernel as fallback when running on GPU.\n",
      " > 13771.583\n",
      "WARNING:tensorflow:Layer lstm_24 will not use cuDNN kernels since it doesn't meet the criteria. It will use a generic GPU kernel as fallback when running on GPU.\n",
      " > 9208.609\n",
      "WARNING:tensorflow:Layer lstm_25 will not use cuDNN kernels since it doesn't meet the criteria. It will use a generic GPU kernel as fallback when running on GPU.\n",
      " > 12484.339\n",
      "WARNING:tensorflow:Layer lstm_26 will not use cuDNN kernels since it doesn't meet the criteria. It will use a generic GPU kernel as fallback when running on GPU.\n",
      " > 14091.125\n",
      "WARNING:tensorflow:Layer lstm_27 will not use cuDNN kernels since it doesn't meet the criteria. It will use a generic GPU kernel as fallback when running on GPU.\n",
      " > 11101.957\n",
      "WARNING:tensorflow:Layer lstm_28 will not use cuDNN kernels since it doesn't meet the criteria. It will use a generic GPU kernel as fallback when running on GPU.\n",
      " > 11651.710\n",
      "WARNING:tensorflow:Layer lstm_29 will not use cuDNN kernels since it doesn't meet the criteria. It will use a generic GPU kernel as fallback when running on GPU.\n",
      " > 9405.309\n"
     ]
    }
   ],
   "source": [
    "# define config\n",
    "config = [36, 50, 100, 100, 12]\n",
    "# grid search\n",
    "lstm_scores = repeat_evaluate(data, config, n_test)"
   ]
  },
  {
   "cell_type": "code",
   "execution_count": 40,
   "metadata": {},
   "outputs": [
    {
     "name": "stdout",
     "output_type": "stream",
     "text": [
      "LSTM Model:: 12583.890 RMSE (+/- 2850.199)\n"
     ]
    },
    {
     "data": {
      "image/png": "[encoded data removed]",
      "text/plain": [
       "<Figure size 432x288 with 1 Axes>"
      ]
     },
     "metadata": {
      "needs_background": "light"
     },
     "output_type": "display_data"
    }
   ],
   "source": [
    "# summarize scores\n",
    "summarize_scores('LSTM Model:', lstm_scores)"
   ]
  },
  {
   "cell_type": "markdown",
   "metadata": {},
   "source": [
    "### 4.e) CNN-LSTM Modeling and Tuning"
   ]
  },
  {
   "cell_type": "code",
   "execution_count": 41,
   "metadata": {},
   "outputs": [],
   "source": [
    "# fit a model\n",
    "def model_fit(train, config):\n",
    "    # unpack config\n",
    "    n_seq, n_steps, n_filters, n_kernel, n_nodes, n_epochs, n_batch = config\n",
    "    n_input = n_seq * n_steps\n",
    "    # prepare data\n",
    "    data = series_to_supervised(train, n_in=n_input)\n",
    "    train_x, train_y = data[:, :-1], data[:, -1]\n",
    "    train_x = train_x.reshape((train_x.shape[0], n_seq, n_steps, 1))\n",
    "    # define model\n",
    "    model = tf.keras.Sequential()\n",
    "    model.add(tf.keras.layers.TimeDistributed(tf.keras.layers.Conv1D(filters=n_filters, kernel_size=n_kernel, activation='relu', input_shape=(None,n_steps,1))))\n",
    "    model.add(tf.keras.layers.TimeDistributed(tf.keras.layers.Conv1D(filters=n_filters, kernel_size=n_kernel, activation='relu')))\n",
    "    model.add(tf.keras.layers.TimeDistributed(tf.keras.layers.MaxPool1D(pool_size=2)))\n",
    "    model.add(tf.keras.layers.TimeDistributed(tf.keras.layers.Flatten()))\n",
    "    model.add(tf.keras.layers.LSTM(n_nodes, activation='relu'))\n",
    "    model.add(tf.keras.layers.Dense(n_nodes, activation='relu'))\n",
    "    model.add(tf.keras.layers.Dense(1))\n",
    "    model.compile(loss=DEFAULT_LOSS, optimizer=DEFAULT_OPTIMIZER)\n",
    "    # fit\n",
    "    model.fit(train_x, train_y, epochs=n_epochs, batch_size=n_batch, verbose=0)\n",
    "    return model"
   ]
  },
  {
   "cell_type": "code",
   "execution_count": 42,
   "metadata": {},
   "outputs": [],
   "source": [
    "# forecast with a pre-fit model\n",
    "def model_predict(model, history, config):\n",
    "    # unpack config\n",
    "    n_seq, n_steps, _, _, _, _, _ = config\n",
    "    n_input = n_seq * n_steps\n",
    "    # prepare data\n",
    "    x_input = np.array(history[-n_input:]).reshape((1, n_seq, n_steps, 1))\n",
    "    # forecast\n",
    "    yhat = model.predict(x_input, verbose=0)\n",
    "    return yhat[0]"
   ]
  },
  {
   "cell_type": "code",
   "execution_count": 43,
   "metadata": {},
   "outputs": [
    {
     "name": "stdout",
     "output_type": "stream",
     "text": [
      "WARNING:tensorflow:Layer lstm_30 will not use cuDNN kernels since it doesn't meet the criteria. It will use a generic GPU kernel as fallback when running on GPU.\n",
      " > 14123.036\n",
      "WARNING:tensorflow:Layer lstm_31 will not use cuDNN kernels since it doesn't meet the criteria. It will use a generic GPU kernel as fallback when running on GPU.\n",
      " > 13889.753\n",
      "WARNING:tensorflow:Layer lstm_32 will not use cuDNN kernels since it doesn't meet the criteria. It will use a generic GPU kernel as fallback when running on GPU.\n",
      " > 15759.370\n",
      "WARNING:tensorflow:Layer lstm_33 will not use cuDNN kernels since it doesn't meet the criteria. It will use a generic GPU kernel as fallback when running on GPU.\n",
      " > 12450.696\n",
      "WARNING:tensorflow:Layer lstm_34 will not use cuDNN kernels since it doesn't meet the criteria. It will use a generic GPU kernel as fallback when running on GPU.\n",
      " > 12222.586\n",
      "WARNING:tensorflow:Layer lstm_35 will not use cuDNN kernels since it doesn't meet the criteria. It will use a generic GPU kernel as fallback when running on GPU.\n",
      " > 15397.179\n",
      "WARNING:tensorflow:Layer lstm_36 will not use cuDNN kernels since it doesn't meet the criteria. It will use a generic GPU kernel as fallback when running on GPU.\n",
      " > 11864.534\n",
      "WARNING:tensorflow:Layer lstm_37 will not use cuDNN kernels since it doesn't meet the criteria. It will use a generic GPU kernel as fallback when running on GPU.\n",
      " > 11940.143\n",
      "WARNING:tensorflow:Layer lstm_38 will not use cuDNN kernels since it doesn't meet the criteria. It will use a generic GPU kernel as fallback when running on GPU.\n",
      " > 12334.683\n",
      "WARNING:tensorflow:Layer lstm_39 will not use cuDNN kernels since it doesn't meet the criteria. It will use a generic GPU kernel as fallback when running on GPU.\n",
      " > 13911.454\n",
      "WARNING:tensorflow:Layer lstm_40 will not use cuDNN kernels since it doesn't meet the criteria. It will use a generic GPU kernel as fallback when running on GPU.\n",
      " > 10989.540\n",
      "WARNING:tensorflow:Layer lstm_41 will not use cuDNN kernels since it doesn't meet the criteria. It will use a generic GPU kernel as fallback when running on GPU.\n",
      " > 13246.421\n",
      "WARNING:tensorflow:Layer lstm_42 will not use cuDNN kernels since it doesn't meet the criteria. It will use a generic GPU kernel as fallback when running on GPU.\n",
      " > 13005.376\n",
      "WARNING:tensorflow:Layer lstm_43 will not use cuDNN kernels since it doesn't meet the criteria. It will use a generic GPU kernel as fallback when running on GPU.\n",
      " > 11662.066\n",
      "WARNING:tensorflow:Layer lstm_44 will not use cuDNN kernels since it doesn't meet the criteria. It will use a generic GPU kernel as fallback when running on GPU.\n",
      " > 12595.240\n",
      "WARNING:tensorflow:Layer lstm_45 will not use cuDNN kernels since it doesn't meet the criteria. It will use a generic GPU kernel as fallback when running on GPU.\n",
      " > 13988.337\n",
      "WARNING:tensorflow:Layer lstm_46 will not use cuDNN kernels since it doesn't meet the criteria. It will use a generic GPU kernel as fallback when running on GPU.\n",
      " > 9897.381\n",
      "WARNING:tensorflow:Layer lstm_47 will not use cuDNN kernels since it doesn't meet the criteria. It will use a generic GPU kernel as fallback when running on GPU.\n",
      " > 14864.022\n",
      "WARNING:tensorflow:Layer lstm_48 will not use cuDNN kernels since it doesn't meet the criteria. It will use a generic GPU kernel as fallback when running on GPU.\n",
      " > 14985.105\n",
      "WARNING:tensorflow:Layer lstm_49 will not use cuDNN kernels since it doesn't meet the criteria. It will use a generic GPU kernel as fallback when running on GPU.\n",
      " > 13316.117\n",
      "WARNING:tensorflow:Layer lstm_50 will not use cuDNN kernels since it doesn't meet the criteria. It will use a generic GPU kernel as fallback when running on GPU.\n",
      " > 13762.546\n",
      "WARNING:tensorflow:Layer lstm_51 will not use cuDNN kernels since it doesn't meet the criteria. It will use a generic GPU kernel as fallback when running on GPU.\n",
      " > 11796.689\n",
      "WARNING:tensorflow:Layer lstm_52 will not use cuDNN kernels since it doesn't meet the criteria. It will use a generic GPU kernel as fallback when running on GPU.\n",
      " > 14903.513\n",
      "WARNING:tensorflow:Layer lstm_53 will not use cuDNN kernels since it doesn't meet the criteria. It will use a generic GPU kernel as fallback when running on GPU.\n",
      " > 10673.022\n",
      "WARNING:tensorflow:Layer lstm_54 will not use cuDNN kernels since it doesn't meet the criteria. It will use a generic GPU kernel as fallback when running on GPU.\n",
      " > 15073.710\n",
      "WARNING:tensorflow:Layer lstm_55 will not use cuDNN kernels since it doesn't meet the criteria. It will use a generic GPU kernel as fallback when running on GPU.\n",
      " > 11171.961\n",
      "WARNING:tensorflow:Layer lstm_56 will not use cuDNN kernels since it doesn't meet the criteria. It will use a generic GPU kernel as fallback when running on GPU.\n",
      " > 11266.564\n",
      "WARNING:tensorflow:Layer lstm_57 will not use cuDNN kernels since it doesn't meet the criteria. It will use a generic GPU kernel as fallback when running on GPU.\n",
      " > 14836.197\n",
      "WARNING:tensorflow:Layer lstm_58 will not use cuDNN kernels since it doesn't meet the criteria. It will use a generic GPU kernel as fallback when running on GPU.\n",
      " > 13054.803\n",
      "WARNING:tensorflow:Layer lstm_59 will not use cuDNN kernels since it doesn't meet the criteria. It will use a generic GPU kernel as fallback when running on GPU.\n",
      " > 12703.075\n"
     ]
    }
   ],
   "source": [
    "# define config\n",
    "config = [3, 12, 64, 3, 100, 200, 100]\n",
    "# grid search\n",
    "cnnlstm_scores = repeat_evaluate(data, config, n_test)"
   ]
  },
  {
   "cell_type": "code",
   "execution_count": 44,
   "metadata": {
    "scrolled": true
   },
   "outputs": [
    {
     "name": "stdout",
     "output_type": "stream",
     "text": [
      "CNN-LSTM Model:: 13056.171 RMSE (+/- 1519.462)\n"
     ]
    },
    {
     "data": {
      "image/png": "[encoded data removed]",
      "text/plain": [
       "<Figure size 432x288 with 1 Axes>"
      ]
     },
     "metadata": {
      "needs_background": "light"
     },
     "output_type": "display_data"
    }
   ],
   "source": [
    "# summarize scores\n",
    "summarize_scores('CNN-LSTM Model:', cnnlstm_scores)"
   ]
  },
  {
   "cell_type": "markdown",
   "metadata": {},
   "source": [
    "### 4.f) ConvLSTM Modeling and Tuning"
   ]
  },
  {
   "cell_type": "code",
   "execution_count": 45,
   "metadata": {},
   "outputs": [],
   "source": [
    "# fit a model\n",
    "def model_fit(train, config):\n",
    "    # unpack config\n",
    "    n_seq, n_steps, n_filters, n_kernel, n_nodes, n_epochs, n_batch = config\n",
    "    n_input = n_seq * n_steps\n",
    "    # prepare data\n",
    "    data = series_to_supervised(train, n_in=n_input)\n",
    "    train_x, train_y = data[:, :-1], data[:, -1]\n",
    "    train_x = train_x.reshape((train_x.shape[0], n_seq, 1, n_steps, 1))\n",
    "    # define model\n",
    "    model = tf.keras.Sequential()\n",
    "    model.add(tf.keras.layers.ConvLSTM2D(filters=n_filters, kernel_size=(1,n_kernel), activation='relu', input_shape=(n_seq, 1, n_steps, 1)))\n",
    "    model.add(tf.keras.layers.Flatten())\n",
    "    model.add(tf.keras.layers.Dense(n_nodes, activation='relu'))\n",
    "    model.add(tf.keras.layers.Dense(1))\n",
    "    model.compile(loss=DEFAULT_LOSS, optimizer=DEFAULT_OPTIMIZER)\n",
    "    # fit\n",
    "    model.fit(train_x, train_y, epochs=n_epochs, batch_size=n_batch, verbose=0)\n",
    "    return model"
   ]
  },
  {
   "cell_type": "code",
   "execution_count": 46,
   "metadata": {},
   "outputs": [],
   "source": [
    "# forecast with a pre-fit model\n",
    "def model_predict(model, history, config):\n",
    "    # unpack config\n",
    "    n_seq, n_steps, _, _, _, _, _ = config\n",
    "    n_input = n_seq * n_steps\n",
    "    # prepare data\n",
    "    x_input = np.array(history[-n_input:]).reshape((1, n_seq, 1, n_steps, 1))\n",
    "    # forecast\n",
    "    yhat = model.predict(x_input, verbose=0)\n",
    "    return yhat[0]"
   ]
  },
  {
   "cell_type": "code",
   "execution_count": 47,
   "metadata": {},
   "outputs": [
    {
     "name": "stdout",
     "output_type": "stream",
     "text": [
      " > 11233.062\n",
      " > 11846.271\n",
      " > 11300.930\n",
      " > 8667.664\n",
      " > 12223.450\n",
      " > 12445.963\n",
      " > 12296.727\n",
      " > 12280.035\n",
      " > 12233.283\n",
      " > 10571.910\n",
      " > 12045.786\n",
      " > 11990.981\n",
      " > 12660.715\n",
      " > 10501.728\n",
      " > 12165.769\n",
      " > 11512.467\n",
      " > 11331.699\n",
      " > 11653.730\n",
      " > 10461.517\n",
      " > 9347.267\n",
      " > 12176.935\n",
      " > 11457.966\n",
      " > 14834.173\n",
      " > 13615.704\n",
      " > 10813.139\n",
      " > 10108.387\n",
      " > 11182.727\n",
      " > 13027.941\n",
      " > 11852.982\n",
      " > 11756.710\n"
     ]
    }
   ],
   "source": [
    "# define config\n",
    "config = [3, 12, 256, 3, 200, 200, 100]\n",
    "# grid search\n",
    "convlstm_scores = repeat_evaluate(data, config, n_test)"
   ]
  },
  {
   "cell_type": "code",
   "execution_count": 48,
   "metadata": {},
   "outputs": [
    {
     "name": "stdout",
     "output_type": "stream",
     "text": [
      "ConvLSTM Model:: 11653.254 RMSE (+/- 1180.207)\n"
     ]
    },
    {
     "data": {
      "image/png": "[encoded data removed]",
      "text/plain": [
       "<Figure size 432x288 with 1 Axes>"
      ]
     },
     "metadata": {
      "needs_background": "light"
     },
     "output_type": "display_data"
    }
   ],
   "source": [
    "# summarize scores\n",
    "summarize_scores('ConvLSTM Model:', convlstm_scores)"
   ]
  },
  {
   "cell_type": "markdown",
   "metadata": {},
   "source": [
    "### 4.g) ConvLSTM Modeling and Tuning"
   ]
  },
  {
   "cell_type": "code",
   "execution_count": 49,
   "metadata": {},
   "outputs": [],
   "source": [
    "# Set up Arrays for Score Comparison\n",
    "train_models = []\n",
    "train_results = []"
   ]
  },
  {
   "cell_type": "code",
   "execution_count": 50,
   "metadata": {},
   "outputs": [],
   "source": [
    "train_models.append('Baseline')\n",
    "train_results.append(persistent_scores)\n",
    "train_models.append('CNN')\n",
    "train_results.append(cnn_scores)\n",
    "train_models.append('LSTM')\n",
    "train_results.append(lstm_scores)\n",
    "train_models.append('CNN-LSTM')\n",
    "train_results.append(cnnlstm_scores)\n",
    "train_models.append('ConvLSTM')\n",
    "train_results.append(convlstm_scores)"
   ]
  },
  {
   "cell_type": "code",
   "execution_count": 51,
   "metadata": {},
   "outputs": [
    {
     "data": {
      "image/png": "[encoded data removed]",
      "text/plain": [
       "<Figure size 1152x864 with 1 Axes>"
      ]
     },
     "metadata": {
      "needs_background": "light"
     },
     "output_type": "display_data"
    }
   ],
   "source": [
    "fig = plt.figure(figsize=(16,12))\n",
    "fig.suptitle('Model Comparison')\n",
    "ax = fig.add_subplot(111)\n",
    "plt.boxplot(train_results)\n",
    "ax.set_xticklabels(train_models)\n",
    "plt.show()"
   ]
  },
  {
   "cell_type": "code",
   "execution_count": 52,
   "metadata": {},
   "outputs": [],
   "source": [
    "if NOTIFY_STATUS: status_notify(\"TensorFlow Time Series Task 4 - Train and Tune Models completed! \" + datetime.now().strftime('%a %B %d, %Y %I:%M:%S %p'))"
   ]
  },
  {
   "cell_type": "markdown",
   "metadata": {},
   "source": [
    "## Section 5. Finalize Model and Make Predictions"
   ]
  },
  {
   "cell_type": "code",
   "execution_count": 53,
   "metadata": {},
   "outputs": [],
   "source": [
    "if NOTIFY_STATUS: status_notify(\"TensorFlow Time Series Task 5 - Finalize Model and Make Predictions has begun! \" + datetime.now().strftime('%a %B %d, %Y %I:%M:%S %p'))"
   ]
  },
  {
   "cell_type": "code",
   "execution_count": 54,
   "metadata": {},
   "outputs": [],
   "source": [
    "# Code Segment Under Construction"
   ]
  },
  {
   "cell_type": "code",
   "execution_count": 55,
   "metadata": {},
   "outputs": [],
   "source": [
    "if NOTIFY_STATUS: status_notify(\"TensorFlow Time Series Task 5 - Finalize Model and Make Predictions completed! \" + datetime.now().strftime('%a %B %d, %Y %I:%M:%S %p'))"
   ]
  },
  {
   "cell_type": "code",
   "execution_count": 56,
   "metadata": {},
   "outputs": [
    {
     "name": "stdout",
     "output_type": "stream",
     "text": [
      "Total time for the script: 0:14:45.566395\n"
     ]
    }
   ],
   "source": [
    "print ('Total time for the script:',(datetime.now() - START_TIME_SCRIPT))"
   ]
  }
 ],
 "metadata": {
  "kernelspec": {
   "display_name": "Python 3 (ipykernel)",
   "language": "python",
   "name": "python3"
  },
  "language_info": {
   "codemirror_mode": {
    "name": "ipython",
    "version": 3
   },
   "file_extension": ".py",
   "mimetype": "text/x-python",
   "name": "python",
   "nbconvert_exporter": "python",
   "pygments_lexer": "ipython3",
   "version": "3.8.10"
  }
 },
 "nbformat": 4,
 "nbformat_minor": 4
}
