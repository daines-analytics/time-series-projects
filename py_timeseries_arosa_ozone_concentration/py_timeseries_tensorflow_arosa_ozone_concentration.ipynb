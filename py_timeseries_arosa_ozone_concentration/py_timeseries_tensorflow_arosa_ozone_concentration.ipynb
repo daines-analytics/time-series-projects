{
  "cells": [
    {
      "cell_type": "markdown",
      "metadata": {
        "id": "OIRgK0tZmNdY"
      },
      "source": [
        "# Univariate Time Series Model for Ozone Concentration at Arosa Using TensorFlow\n",
        "### David Lowe\n",
        "### April 13, 2022\n",
        "\n",
        "SUMMARY: The project aims to construct a time series prediction model and document the end-to-end steps using a template. The Ozone Concentration at Arosa dataset is a univariate time series situation where we attempt to forecast future outcomes based on past data points.\n",
        "\n",
        "INTRODUCTION: The problem is to forecast the monthly ozone concentration levels measured at Arosa, Switzerland. The dataset describes a time series of concentration levels (in Dobson unit or DU) over a 40 years period (1932-1971), and there are 480 observations. We used the first 80% of the observations for training and testing various models while holding back the remaining observations for validating the final model.\n",
        "\n",
        "ANALYSIS: The baseline persistence model yielded an RMSE of 21.821. The CNN-LSTM model processed the same test data with an RMSE of 18.762, which was better than the baseline model as expected. In an earlier ARIMA modeling experiment, the best ARIMA model with non-seasonal order of (2, 0, 4) and seasonal order of (2, 0, 1, 12) processed the validation data with an RMSE of 16.6.\n",
        "\n",
        "CONCLUSION: For this dataset, the TensorFlow CNN-LSTM model achieved an acceptable result, and we should consider using TensorFlow for further modeling.\n",
        "\n",
        "Dataset Used: Monthly Ozone Concentration at Arosa January 1932 through December 1971.\n",
        "\n",
        "Dataset ML Model: Time series forecast with numerical attribute.\n",
        "\n",
        "Dataset Reference: Rob Hyndman and Yangzhuoran Yang (2018). tsdl: Time Series Data Library. v0.1.0. https://pkg.yangzhuoranyang./tsdl/."
      ]
    },
    {
      "cell_type": "markdown",
      "metadata": {
        "id": "RFArbqQfmNdb"
      },
      "source": [
        "## Task 1 - Define Problem and Acquire Data"
      ]
    },
    {
      "cell_type": "code",
      "execution_count": 1,
      "metadata": {
        "id": "JgO3qCVqmNdc",
        "outputId": "c43896a9-8ef2-4173-eac1-2c885132b9d1",
        "colab": {
          "base_uri": "https://localhost:8080/"
        }
      },
      "outputs": [
        {
          "output_type": "stream",
          "name": "stdout",
          "text": [
            "The number of available CPUs is: 12\n"
          ]
        }
      ],
      "source": [
        "# Retrieve the CPU information\n",
        "ncpu = !nproc\n",
        "print(\"The number of available CPUs is:\", ncpu[0])"
      ]
    },
    {
      "cell_type": "code",
      "execution_count": 2,
      "metadata": {
        "id": "xp6nuYTNmNdd",
        "outputId": "840d1961-3975-4ee2-c5d7-47e641a89d47",
        "colab": {
          "base_uri": "https://localhost:8080/"
        }
      },
      "outputs": [
        {
          "output_type": "stream",
          "name": "stdout",
          "text": [
            "Your runtime has 89.6 gigabytes of available RAM\n",
            "\n"
          ]
        }
      ],
      "source": [
        "# Retrieve memory configuration information\n",
        "from psutil import virtual_memory\n",
        "ram_gb = virtual_memory().total / 1e9\n",
        "print('Your runtime has {:.1f} gigabytes of available RAM\\n'.format(ram_gb))"
      ]
    },
    {
      "cell_type": "code",
      "execution_count": 3,
      "metadata": {
        "id": "q7GF0yh4mNdd",
        "outputId": "551a6b3a-c610-4c5c-c610-a95109f678e3",
        "colab": {
          "base_uri": "https://localhost:8080/"
        }
      },
      "outputs": [
        {
          "output_type": "stream",
          "name": "stdout",
          "text": [
            "Sun Apr  3 00:57:52 2022       \n",
            "+-----------------------------------------------------------------------------+\n",
            "| NVIDIA-SMI 460.32.03    Driver Version: 460.32.03    CUDA Version: 11.2     |\n",
            "|-------------------------------+----------------------+----------------------+\n",
            "| GPU  Name        Persistence-M| Bus-Id        Disp.A | Volatile Uncorr. ECC |\n",
            "| Fan  Temp  Perf  Pwr:Usage/Cap|         Memory-Usage | GPU-Util  Compute M. |\n",
            "|                               |                      |               MIG M. |\n",
            "|===============================+======================+======================|\n",
            "|   0  A100-SXM4-40GB      Off  | 00000000:00:04.0 Off |                    0 |\n",
            "| N/A   33C    P0    45W / 400W |      0MiB / 40536MiB |      0%      Default |\n",
            "|                               |                      |             Disabled |\n",
            "+-------------------------------+----------------------+----------------------+\n",
            "                                                                               \n",
            "+-----------------------------------------------------------------------------+\n",
            "| Processes:                                                                  |\n",
            "|  GPU   GI   CI        PID   Type   Process name                  GPU Memory |\n",
            "|        ID   ID                                                   Usage      |\n",
            "|=============================================================================|\n",
            "|  No running processes found                                                 |\n",
            "+-----------------------------------------------------------------------------+\n"
          ]
        }
      ],
      "source": [
        "# Retrieve the GPU information\n",
        "gpu_info = !nvidia-smi\n",
        "gpu_info = '\\n'.join(gpu_info)\n",
        "print(gpu_info)"
      ]
    },
    {
      "cell_type": "markdown",
      "metadata": {
        "id": "sVQ0F8SgmNdd"
      },
      "source": [
        "### 1.a) Load Libraries"
      ]
    },
    {
      "cell_type": "code",
      "execution_count": 4,
      "metadata": {
        "id": "2jL4WN__mNde"
      },
      "outputs": [],
      "source": [
        "# Create the random seed number for reproducible results\n",
        "RNG_SEED = 888"
      ]
    },
    {
      "cell_type": "code",
      "execution_count": 5,
      "metadata": {
        "id": "TLooWS4zmNde"
      },
      "outputs": [],
      "source": [
        "import random\n",
        "import numpy as np\n",
        "import tensorflow as tf\n",
        "random.seed(RNG_SEED)\n",
        "np.random.seed(RNG_SEED)\n",
        "tf.random.set_seed(RNG_SEED)\n",
        "\n",
        "import pandas as pd\n",
        "import seaborn as sns\n",
        "import matplotlib.pyplot as plt\n",
        "import os\n",
        "import sys\n",
        "import math\n",
        "# import boto3\n",
        "from datetime import datetime\n",
        "from sklearn.metrics import mean_squared_error"
      ]
    },
    {
      "cell_type": "markdown",
      "metadata": {
        "id": "Phie8OQLmNdf"
      },
      "source": [
        "### 1.b) Set up the controlling parameters and functions"
      ]
    },
    {
      "cell_type": "code",
      "execution_count": 6,
      "metadata": {
        "id": "o5yHVfd7mNdf"
      },
      "outputs": [],
      "source": [
        "# Begin the timer for the script processing\n",
        "START_TIME_SCRIPT = datetime.now()\n",
        "\n",
        "# Set up the number of CPU cores available for multi-thread processing\n",
        "N_JOBS = 1\n",
        "\n",
        "# Set up the flag to stop sending progress emails (setting to True will send status emails!)\n",
        "NOTIFY_STATUS = False\n",
        "\n",
        "# Set various default modeling parameters\n",
        "DEFAULT_LOSS = 'mean_squared_error'\n",
        "DEFAULT_METRICS = [tf.keras.metrics.RootMeanSquaredError(name='rmse')]\n",
        "DEFAULT_OPTIMIZER = tf.keras.optimizers.Adam(learning_rate=0.001)\n",
        "DEFAULT_INITIALIZER = tf.keras.initializers.RandomNormal(seed=RNG_SEED)\n",
        "MAX_EPOCHS = 20\n",
        "BATCH_SIZE = 16\n",
        "SLIDING_WINDOW = 5"
      ]
    },
    {
      "cell_type": "code",
      "execution_count": 7,
      "metadata": {
        "id": "7iHutUoSmNdg"
      },
      "outputs": [],
      "source": [
        "# Set up the email notification function\n",
        "def status_notify(msg_text):\n",
        "    access_key = os.environ.get('SNS_ACCESS_KEY')\n",
        "    secret_key = os.environ.get('SNS_SECRET_KEY')\n",
        "    aws_region = os.environ.get('SNS_AWS_REGION')\n",
        "    topic_arn = os.environ.get('SNS_TOPIC_ARN')\n",
        "    if (access_key is None) or (secret_key is None) or (aws_region is None):\n",
        "        sys.exit(\"Incomplete notification setup info. Script Processing Aborted!!!\")\n",
        "    sns = boto3.client('sns', aws_access_key_id=access_key, aws_secret_access_key=secret_key, region_name=aws_region)\n",
        "    response = sns.publish(TopicArn=topic_arn, Message=msg_text)\n",
        "    if response['ResponseMetadata']['HTTPStatusCode'] != 200 :\n",
        "        print('Status notification not OK with HTTP status code:', response['ResponseMetadata']['HTTPStatusCode'])"
      ]
    },
    {
      "cell_type": "code",
      "execution_count": 8,
      "metadata": {
        "id": "w4s5vaCcmNdg"
      },
      "outputs": [],
      "source": [
        "if NOTIFY_STATUS: status_notify(\"TensorFlow Time Series Task 1 - Define Problem and Acquire Data has begun! \" + datetime.now().strftime('%a %B %d, %Y %I:%M:%S %p'))"
      ]
    },
    {
      "cell_type": "markdown",
      "metadata": {
        "id": "AX8sm65xmNdg"
      },
      "source": [
        "### 1.c) Acquire and Load the Data"
      ]
    },
    {
      "cell_type": "code",
      "execution_count": 9,
      "metadata": {
        "id": "I2lUXEZGmNdg"
      },
      "outputs": [],
      "source": [
        "# load the dataset and the necessary data structure\n",
        "time_series = pd.read_csv('https://dainesanalytics.com/datasets/time-series-data-library/tsdl230.csv', index_col='idx', parse_dates=True)\n",
        "\n",
        "# Load the dataset from the Federal Reserve Bank's FRED Database\n",
        "# starting = datetime(1990, 1, 1)\n",
        "# ending = datetime.now()\n",
        "# fred_data = 'SMU06000007072251101'\n",
        "# time_series = web.DataReader(fred_data, 'fred', starting, ending)\n",
        "# time_series.rename(columns={fred_data: 'value'}, inplace=True)\n",
        "\n",
        "# Sample code for subsetting the time-series data\n",
        "# time_series = original_series['1986':'1990']"
      ]
    },
    {
      "cell_type": "code",
      "execution_count": 10,
      "metadata": {
        "id": "doFh3-sAmNdh",
        "outputId": "466538e4-509f-40dd-da46-88bd0da2db3b",
        "colab": {
          "base_uri": "https://localhost:8080/"
        }
      },
      "outputs": [
        {
          "output_type": "stream",
          "name": "stdout",
          "text": [
            "The target column of the time series is: values\n",
            "The forecast boundary columns are: lower values & upper values\n"
          ]
        }
      ],
      "source": [
        "target_col = time_series.columns[0]\n",
        "lower_bound = 'lower ' + target_col\n",
        "upper_bound = 'upper ' + target_col\n",
        "print('The target column of the time series is:', target_col)\n",
        "print('The forecast boundary columns are:', lower_bound, '&', upper_bound)"
      ]
    },
    {
      "cell_type": "code",
      "execution_count": 11,
      "metadata": {
        "id": "ZHV9EqjQmNdh",
        "outputId": "bc6747bb-9dae-47ae-fd12-0ef8b563d3b7",
        "colab": {
          "base_uri": "https://localhost:8080/"
        }
      },
      "outputs": [
        {
          "output_type": "stream",
          "name": "stdout",
          "text": [
            "<class 'pandas.core.frame.DataFrame'>\n",
            "DatetimeIndex: 480 entries, 1932-01-01 to 1971-12-01\n",
            "Data columns (total 1 columns):\n",
            " #   Column  Non-Null Count  Dtype\n",
            "---  ------  --------------  -----\n",
            " 0   values  480 non-null    int64\n",
            "dtypes: int64(1)\n",
            "memory usage: 7.5 KB\n"
          ]
        }
      ],
      "source": [
        "time_series.info(verbose=True)"
      ]
    },
    {
      "cell_type": "code",
      "execution_count": 12,
      "metadata": {
        "id": "qBGA33SQmNdh",
        "outputId": "a77b93b3-6a7a-4924-b5a7-1cf9cfd54c48",
        "colab": {
          "base_uri": "https://localhost:8080/"
        }
      },
      "outputs": [
        {
          "output_type": "stream",
          "name": "stdout",
          "text": [
            "            values\n",
            "idx               \n",
            "1932-01-01     318\n",
            "1932-02-01     347\n",
            "1932-03-01     370\n",
            "1932-04-01     394\n",
            "1932-05-01     360\n"
          ]
        }
      ],
      "source": [
        "print(time_series.head())"
      ]
    },
    {
      "cell_type": "code",
      "execution_count": 13,
      "metadata": {
        "id": "Vjc_SbDXmNdh",
        "outputId": "88952964-b5d3-4060-99f7-a24c67bec3db",
        "colab": {
          "base_uri": "https://localhost:8080/"
        }
      },
      "outputs": [
        {
          "output_type": "stream",
          "name": "stdout",
          "text": [
            "            values\n",
            "idx               \n",
            "1971-08-01     309\n",
            "1971-09-01     317\n",
            "1971-10-01     278\n",
            "1971-11-01     292\n",
            "1971-12-01     306\n"
          ]
        }
      ],
      "source": [
        "print(time_series.tail())"
      ]
    },
    {
      "cell_type": "code",
      "execution_count": 14,
      "metadata": {
        "id": "jg9D1sQkmNdh"
      },
      "outputs": [],
      "source": [
        "if NOTIFY_STATUS: status_notify(\"TensorFlow Time Series Task 1 - Define Problem and Acquire Data completed! \" + datetime.now().strftime('%a %B %d, %Y %I:%M:%S %p'))"
      ]
    },
    {
      "cell_type": "markdown",
      "metadata": {
        "id": "492S94qSmNdi"
      },
      "source": [
        "## Task 2: Summarize and Visualize Data"
      ]
    },
    {
      "cell_type": "code",
      "execution_count": 15,
      "metadata": {
        "id": "47qr21uYmNdi"
      },
      "outputs": [],
      "source": [
        "if NOTIFY_STATUS: status_notify(\"TensorFlow Time Series Task 2 - Summarize and Visualize Data has begun! \" + datetime.now().strftime('%a %B %d, %Y %I:%M:%S %p'))"
      ]
    },
    {
      "cell_type": "markdown",
      "metadata": {
        "id": "lcpaRX9FmNdi"
      },
      "source": [
        "### 2.a) Summary Statistics of the Time Series Data"
      ]
    },
    {
      "cell_type": "code",
      "execution_count": 16,
      "metadata": {
        "id": "ImaAxicLmNdi",
        "outputId": "99cf9ff4-3b2d-4d9f-ec57-d1778ba31a80",
        "colab": {
          "base_uri": "https://localhost:8080/"
        }
      },
      "outputs": [
        {
          "output_type": "stream",
          "name": "stdout",
          "text": [
            "           values\n",
            "count  480.000000\n",
            "mean   337.770833\n",
            "std     37.992604\n",
            "min    266.000000\n",
            "25%    306.000000\n",
            "50%    336.000000\n",
            "75%    365.000000\n",
            "max    430.000000\n"
          ]
        }
      ],
      "source": [
        "# Summary statistics of time series\n",
        "print(time_series.describe())"
      ]
    },
    {
      "cell_type": "markdown",
      "metadata": {
        "id": "oTrf_RhAmNdi"
      },
      "source": [
        "### 2.b) Line Plot of the Time Series Data"
      ]
    },
    {
      "cell_type": "code",
      "execution_count": 17,
      "metadata": {
        "id": "1eZrYkRLmNdi",
        "outputId": "65055954-ec5f-49a0-aa8e-6ca9610bee86",
        "colab": {
          "base_uri": "https://localhost:8080/",
          "height": 616
        }
      },
      "outputs": [
        {
          "output_type": "display_data",
          "data": {
            "text/plain": [
              "<Figure size 864x648 with 1 Axes>"
            ],
            "image/png": "[encoded data removed]"
          },
          "metadata": {
            "needs_background": "light"
          }
        }
      ],
      "source": [
        "# Line plots of time series\n",
        "fig, ax = plt.subplots(figsize=(12,9))\n",
        "fig.suptitle('Line Plot of the Time Series Data')\n",
        "time_series.plot(ax=ax)\n",
        "plt.show()"
      ]
    },
    {
      "cell_type": "markdown",
      "metadata": {
        "id": "xoEzQPPjmNdj"
      },
      "source": [
        "### 2.c) Histogram and Density Plots of the Time Series Data"
      ]
    },
    {
      "cell_type": "code",
      "execution_count": 18,
      "metadata": {
        "id": "QOoUo4NdmNdj",
        "outputId": "93619b79-bab1-4b7a-fa26-0434cbd28b23",
        "colab": {
          "base_uri": "https://localhost:8080/",
          "height": 602
        }
      },
      "outputs": [
        {
          "output_type": "display_data",
          "data": {
            "text/plain": [
              "<Figure size 864x648 with 1 Axes>"
            ],
            "image/png": "[encoded data removed]"
          },
          "metadata": {
            "needs_background": "light"
          }
        }
      ],
      "source": [
        "# Line plots of time series\n",
        "fig, ax = plt.subplots(figsize=(12,9))\n",
        "fig.suptitle('Histogram of the Time Series Data')\n",
        "time_series.hist(ax=ax)\n",
        "plt.show()"
      ]
    },
    {
      "cell_type": "code",
      "execution_count": 19,
      "metadata": {
        "id": "phsChUjgmNdj",
        "outputId": "76eaf2d6-cbd0-45d3-9217-869466c78f43",
        "colab": {
          "base_uri": "https://localhost:8080/",
          "height": 602
        }
      },
      "outputs": [
        {
          "output_type": "display_data",
          "data": {
            "text/plain": [
              "<Figure size 864x648 with 1 Axes>"
            ],
            "image/png": "[encoded data removed]"
          },
          "metadata": {
            "needs_background": "light"
          }
        }
      ],
      "source": [
        "# Line plots of time series\n",
        "fig, ax = plt.subplots(figsize=(12,9))\n",
        "fig.suptitle('Density Plot of the Time Series Data')\n",
        "time_series.plot(kind='kde', ax=ax)\n",
        "plt.show()"
      ]
    },
    {
      "cell_type": "markdown",
      "metadata": {
        "id": "QpUcUKhsmNdj"
      },
      "source": [
        "### 2.d) Box and Whisker Plots of the Time Series Data"
      ]
    },
    {
      "cell_type": "code",
      "execution_count": 20,
      "metadata": {
        "id": "lmUgagrYmNdj",
        "outputId": "c3330d94-073b-4028-b240-622bc27e7b80",
        "colab": {
          "base_uri": "https://localhost:8080/",
          "height": 616
        }
      },
      "outputs": [
        {
          "output_type": "display_data",
          "data": {
            "text/plain": [
              "<Figure size 864x648 with 1 Axes>"
            ],
            "image/png": "[encoded data removed]"
          },
          "metadata": {
            "needs_background": "light"
          }
        }
      ],
      "source": [
        "# boxplots of time series\n",
        "fig, ax = plt.subplots(figsize=(12,9))\n",
        "fig.suptitle('Box and Whisker Plots of the Time Series Data')\n",
        "squeezed = time_series.squeeze()\n",
        "sns.boxplot(x=squeezed.index.year, y=squeezed, ax=ax)\n",
        "plt.show()"
      ]
    },
    {
      "cell_type": "code",
      "execution_count": 21,
      "metadata": {
        "id": "i9A5OSvlmNdj"
      },
      "outputs": [],
      "source": [
        "if NOTIFY_STATUS: status_notify(\"TensorFlow Time Series Task 2 - Summarize and Visualize Data completed! \" + datetime.now().strftime('%a %B %d, %Y %I:%M:%S %p'))"
      ]
    },
    {
      "cell_type": "markdown",
      "metadata": {
        "id": "-zSUTWpGmNdj"
      },
      "source": [
        "## Task 3: Pre-Process Data"
      ]
    },
    {
      "cell_type": "code",
      "execution_count": 22,
      "metadata": {
        "id": "rwqkQ3kImNdj"
      },
      "outputs": [],
      "source": [
        "if NOTIFY_STATUS: status_notify(\"TensorFlow Time Series Task 3 - Pre-Process Data has begun! \" + datetime.now().strftime('%a %B %d, %Y %I:%M:%S %p'))"
      ]
    },
    {
      "cell_type": "code",
      "execution_count": 23,
      "metadata": {
        "id": "KXpK3n0jmNdj"
      },
      "outputs": [],
      "source": [
        "# Resampling the time series into monthly average for the ease of modeling\n",
        "# original_series = time_series\n",
        "# resample = original_series.resample('M')\n",
        "# time_series = resample.mean()\n",
        "# time_series.head(10)"
      ]
    },
    {
      "cell_type": "code",
      "execution_count": 24,
      "metadata": {
        "id": "O17gosqdmNdk",
        "outputId": "ef2e5e7f-07e3-4ba4-bdfe-539ba46f73b7",
        "colab": {
          "base_uri": "https://localhost:8080/"
        }
      },
      "outputs": [
        {
          "output_type": "stream",
          "name": "stdout",
          "text": [
            "Number of data points in the training set: 384\n",
            "Number of data points in the test set: 96\n"
          ]
        }
      ],
      "source": [
        "# Split the data into training and test sets\n",
        "data = time_series.values\n",
        "data = data.astype('float32')\n",
        "n_test = 96\n",
        "n_train = len(data) - n_test\n",
        "train_ts, test_ts = data[0:n_train], data[n_train:]\n",
        "print('Number of data points in the training set:', n_train)\n",
        "print('Number of data points in the test set:', n_test)"
      ]
    },
    {
      "cell_type": "code",
      "execution_count": 25,
      "metadata": {
        "id": "TRbABWpHmNdk"
      },
      "outputs": [],
      "source": [
        "if NOTIFY_STATUS: status_notify(\"TensorFlow Time Series Task 3 - Pre-Process Data completed! \" + datetime.now().strftime('%a %B %d, %Y %I:%M:%S %p'))"
      ]
    },
    {
      "cell_type": "markdown",
      "metadata": {
        "id": "FMQnKb1xmNdk"
      },
      "source": [
        "## Task 4: Train and Tune Models"
      ]
    },
    {
      "cell_type": "code",
      "execution_count": 26,
      "metadata": {
        "id": "oWi2kyROmNdk"
      },
      "outputs": [],
      "source": [
        "if NOTIFY_STATUS: status_notify(\"TensorFlow Time Series Task 4 - Train and Tune Models has begun! \" + datetime.now().strftime('%a %B %d, %Y %I:%M:%S %p'))"
      ]
    },
    {
      "cell_type": "markdown",
      "metadata": {
        "id": "_zpu32lKmNdk"
      },
      "source": [
        "### 4.a) Set up the Common Helper Functions"
      ]
    },
    {
      "cell_type": "code",
      "execution_count": 27,
      "metadata": {
        "id": "vQV68Zg0mNdk"
      },
      "outputs": [],
      "source": [
        "# split a univariate dataset into train/test sets\n",
        "def train_test_split(data, n_test):\n",
        "    return data[:-n_test], data[-n_test:]\n",
        "\n",
        "# transform list into supervised learning format\n",
        "def series_to_supervised(data, n_in=1, n_out=1):\n",
        "    df = pd.DataFrame(data)\n",
        "    cols = list()\n",
        "    # input sequence (t-n, ... t-1)\n",
        "    for i in range(n_in, 0, -1):\n",
        "        cols.append(df.shift(i))\n",
        "    # forecast sequence (t, t+1, ... t+n)\n",
        "    for i in range(0, n_out):\n",
        "        cols.append(df.shift(-i))\n",
        "    # put it all together\n",
        "    agg = pd.concat(cols, axis=1)\n",
        "    # drop rows with NaN values\n",
        "    agg.dropna(inplace=True)\n",
        "    return agg.values\n",
        "\n",
        "# root mean squared error or rmse\n",
        "def measure_rmse(actual, predicted):\n",
        "    return math.sqrt(mean_squared_error(actual, predicted))\n",
        "\n",
        "# difference dataset\n",
        "def difference(data, interval):\n",
        "    return [data[i] - data[i - interval] for i in range(interval, len(data))]\n",
        "\n",
        "# walk-forward validation for univariate data\n",
        "def walk_forward_validation(data, n_test, cfg):\n",
        "    predictions = list()\n",
        "    # split dataset\n",
        "    train, test = train_test_split(data, n_test)\n",
        "    # fit model\n",
        "    model = model_fit(train, cfg)\n",
        "    # seed history with training dataset\n",
        "    history = [x for x in train]\n",
        "    # step over each time-step in the test set\n",
        "    for i in range(len(test)):\n",
        "        # fit model and make forecast for history\n",
        "        yhat = model_predict(model, history, cfg)\n",
        "        # store forecast in list of predictions\n",
        "        predictions.append(yhat)\n",
        "        # add actual observation to history for the next loop\n",
        "        history.append(test[i])\n",
        "    # estimate prediction error\n",
        "    error = measure_rmse(test, predictions)\n",
        "    print(' > %.3f' % error)\n",
        "    return error\n",
        "\n",
        "# repeat evaluation of a config\n",
        "def repeat_evaluate(data, config, n_test, n_repeats=30):\n",
        "    # fit and evaluate the model n times\n",
        "    scores = [walk_forward_validation(data, n_test, config) for _ in range(n_repeats)]\n",
        "    return scores\n",
        "\n",
        "# summarize model performance\n",
        "def summarize_scores(name, scores):\n",
        "    # print a summary\n",
        "    scores_m, score_std = np.mean(scores), np.std(scores)\n",
        "    print('%s: %.3f RMSE (+/- %.3f)' % (name, scores_m, score_std))\n",
        "    # box and whisker plot\n",
        "    plt.boxplot(scores)\n",
        "    plt.show()"
      ]
    },
    {
      "cell_type": "markdown",
      "metadata": {
        "id": "G5d5KMdYmNdk"
      },
      "source": [
        "### 4.b) Simple Persistent Modeling as a Baseline"
      ]
    },
    {
      "cell_type": "code",
      "execution_count": 28,
      "metadata": {
        "id": "Evp7o6iemNdk"
      },
      "outputs": [],
      "source": [
        "# fit a model\n",
        "def model_fit(train, config):\n",
        "    return None"
      ]
    },
    {
      "cell_type": "code",
      "execution_count": 29,
      "metadata": {
        "id": "v1jFIxzqmNdl"
      },
      "outputs": [],
      "source": [
        "# forecast with a pre-fit model\n",
        "def model_predict(model, history, config):\n",
        "    values = list()\n",
        "    for offset in config:\n",
        "        values.append(history[-offset])\n",
        "    return np.median(values)"
      ]
    },
    {
      "cell_type": "code",
      "execution_count": 30,
      "metadata": {
        "id": "JJR3mjT-mNdl",
        "outputId": "4a945d38-a586-422d-80d1-5f84c9064a75",
        "colab": {
          "base_uri": "https://localhost:8080/"
        }
      },
      "outputs": [
        {
          "output_type": "stream",
          "name": "stdout",
          "text": [
            " > 21.821\n",
            " > 21.821\n",
            " > 21.821\n",
            " > 21.821\n",
            " > 21.821\n",
            " > 21.821\n",
            " > 21.821\n",
            " > 21.821\n",
            " > 21.821\n",
            " > 21.821\n",
            " > 21.821\n",
            " > 21.821\n",
            " > 21.821\n",
            " > 21.821\n",
            " > 21.821\n",
            " > 21.821\n",
            " > 21.821\n",
            " > 21.821\n",
            " > 21.821\n",
            " > 21.821\n",
            " > 21.821\n",
            " > 21.821\n",
            " > 21.821\n",
            " > 21.821\n",
            " > 21.821\n",
            " > 21.821\n",
            " > 21.821\n",
            " > 21.821\n",
            " > 21.821\n",
            " > 21.821\n"
          ]
        }
      ],
      "source": [
        "# define config\n",
        "config = [12, 24, 36]\n",
        "# grid search\n",
        "persistent_scores = repeat_evaluate(data, config, n_test)"
      ]
    },
    {
      "cell_type": "code",
      "execution_count": 31,
      "metadata": {
        "id": "c6lkfWPWmNdl",
        "outputId": "82dd286f-3b72-4edb-c876-f786f1e40376",
        "colab": {
          "base_uri": "https://localhost:8080/",
          "height": 285
        }
      },
      "outputs": [
        {
          "output_type": "stream",
          "name": "stdout",
          "text": [
            "Persistence Model: 21.821 RMSE (+/- 0.000)\n"
          ]
        },
        {
          "output_type": "display_data",
          "data": {
            "text/plain": [
              "<Figure size 432x288 with 1 Axes>"
            ],
            "image/png": "[encoded data removed]"
          },
          "metadata": {
            "needs_background": "light"
          }
        }
      ],
      "source": [
        "# summarize scores\n",
        "summarize_scores('Persistence Model', persistent_scores)"
      ]
    },
    {
      "cell_type": "markdown",
      "metadata": {
        "id": "CSTT0kG9mNdl"
      },
      "source": [
        "### 4.c) MLP Modeling and Tuning"
      ]
    },
    {
      "cell_type": "code",
      "source": [
        "# fit a model\n",
        "def model_fit(train, config):\n",
        "    # unpack config\n",
        "    n_input, n_nodes, n_epochs, n_batch = config\n",
        "    # prepare data\n",
        "    data = series_to_supervised(train, n_in=n_input)\n",
        "    train_x, train_y = data[:, :-1], data[:, -1]\n",
        "    # define model\n",
        "    model = tf.keras.Sequential()\n",
        "    model.add(tf.keras.layers.Dense(n_nodes, activation='relu', input_dim=n_input))\n",
        "    model.add(tf.keras.layers.Dense(1))\n",
        "    model.compile(loss='mse', optimizer='adam')\n",
        "    # fit\n",
        "    model.fit(train_x, train_y, epochs=n_epochs, batch_size=n_batch, verbose=0)\n",
        "    return model"
      ],
      "metadata": {
        "id": "sL9gVXsO-orO"
      },
      "execution_count": 32,
      "outputs": []
    },
    {
      "cell_type": "code",
      "source": [
        "# forecast with a pre-fit model\n",
        "def model_predict(model, history, config):\n",
        "    # unpack config\n",
        "    n_input, _, _, _ = config\n",
        "    # prepare data\n",
        "    x_input = np.array(history[-n_input:]).reshape(1, n_input)\n",
        "    # forecast\n",
        "    yhat = model.predict(x_input, verbose=0)\n",
        "    return yhat[0]"
      ],
      "metadata": {
        "id": "QBGgc46d-8ex"
      },
      "execution_count": 33,
      "outputs": []
    },
    {
      "cell_type": "code",
      "source": [
        "# define config\n",
        "config = [24, 512, 100, 72]\n",
        "# grid search\n",
        "mlp_scores = repeat_evaluate(data, config, n_test)"
      ],
      "metadata": {
        "colab": {
          "base_uri": "https://localhost:8080/"
        },
        "id": "Z_7fvC4W-9Dy",
        "outputId": "d41aa8ae-c981-449c-d705-508cd7e9796f"
      },
      "execution_count": 34,
      "outputs": [
        {
          "output_type": "stream",
          "name": "stdout",
          "text": [
            " > 20.030\n",
            " > 18.856\n",
            " > 19.283\n",
            " > 18.837\n",
            " > 18.862\n",
            " > 19.682\n",
            " > 19.764\n",
            " > 19.425\n",
            " > 20.735\n",
            " > 19.730\n",
            " > 19.408\n",
            " > 19.773\n",
            " > 20.495\n",
            " > 21.411\n",
            " > 18.631\n",
            " > 19.520\n",
            " > 19.354\n",
            " > 18.723\n",
            " > 19.002\n",
            " > 19.053\n",
            " > 19.516\n",
            " > 19.750\n",
            " > 20.251\n",
            " > 20.863\n",
            " > 19.248\n",
            " > 20.543\n",
            " > 19.506\n",
            " > 19.955\n",
            " > 19.408\n",
            " > 20.260\n"
          ]
        }
      ]
    },
    {
      "cell_type": "code",
      "source": [
        "# summarize scores\n",
        "summarize_scores('MLP Model', mlp_scores)"
      ],
      "metadata": {
        "colab": {
          "base_uri": "https://localhost:8080/",
          "height": 283
        },
        "id": "UHigutUI_fCH",
        "outputId": "77d3404d-f70e-4efc-dc56-155034acb2c6"
      },
      "execution_count": 35,
      "outputs": [
        {
          "output_type": "stream",
          "name": "stdout",
          "text": [
            "MLP Model: 19.662 RMSE (+/- 0.670)\n"
          ]
        },
        {
          "output_type": "display_data",
          "data": {
            "text/plain": [
              "<Figure size 432x288 with 1 Axes>"
            ],
            "image/png": "[encoded data removed]"
          },
          "metadata": {
            "needs_background": "light"
          }
        }
      ]
    },
    {
      "cell_type": "markdown",
      "metadata": {
        "id": "gIRgU6C1-jHw"
      },
      "source": [
        "### 4.d) CNN Modeling and Tuning"
      ]
    },
    {
      "cell_type": "code",
      "execution_count": 36,
      "metadata": {
        "id": "R24vd4DUmNdl"
      },
      "outputs": [],
      "source": [
        "# fit a model\n",
        "def model_fit(train, config):\n",
        "    # unpack config\n",
        "    n_input, n_filters, n_kernel, n_epochs, n_batch = config\n",
        "    # prepare data\n",
        "    data = series_to_supervised(train, n_in=n_input)\n",
        "    train_x, train_y = data[:, :-1], data[:, -1]\n",
        "    train_x = train_x.reshape((train_x.shape[0], train_x.shape[1], 1))\n",
        "    # define model\n",
        "    model = tf.keras.Sequential()\n",
        "    model.add(tf.keras.layers.Conv1D(filters=n_filters, kernel_size=n_kernel, activation='relu', input_shape=(n_input, 1)))\n",
        "    model.add(tf.keras.layers.Conv1D(filters=n_filters, kernel_size=n_kernel, activation='relu'))\n",
        "    model.add(tf.keras.layers.MaxPool1D(pool_size=2))\n",
        "    model.add(tf.keras.layers.Flatten())\n",
        "    model.add(tf.keras.layers.Dense(1))\n",
        "    model.compile(loss=DEFAULT_LOSS, optimizer=DEFAULT_OPTIMIZER)\n",
        "    # fit\n",
        "    model.fit(train_x, train_y, epochs=n_epochs, batch_size=n_batch, verbose=0)\n",
        "    return model"
      ]
    },
    {
      "cell_type": "code",
      "execution_count": 37,
      "metadata": {
        "id": "BPEbOfy_mNdl"
      },
      "outputs": [],
      "source": [
        "# forecast with a pre-fit model\n",
        "def model_predict(model, history, config):\n",
        "    # unpack config\n",
        "    n_input, _, _, _, _ = config\n",
        "    # prepare data\n",
        "    x_input = np.array(history[-n_input:]).reshape((1, n_input, 1))\n",
        "    # forecast\n",
        "    yhat = model.predict(x_input, verbose=0)\n",
        "    return yhat[0]"
      ]
    },
    {
      "cell_type": "code",
      "execution_count": 38,
      "metadata": {
        "id": "KufOR6NEmNdl",
        "outputId": "4523fd3b-ff7f-4246-84d7-fef326ab1f5c",
        "colab": {
          "base_uri": "https://localhost:8080/"
        }
      },
      "outputs": [
        {
          "output_type": "stream",
          "name": "stdout",
          "text": [
            " > 19.276\n",
            " > 19.641\n",
            " > 20.154\n",
            " > 19.934\n",
            " > 19.051\n",
            " > 19.537\n",
            " > 20.904\n",
            " > 19.176\n",
            " > 19.553\n",
            " > 20.285\n",
            " > 20.178\n",
            " > 20.062\n",
            " > 19.718\n",
            " > 19.754\n",
            " > 19.711\n",
            " > 20.227\n",
            " > 19.369\n",
            " > 21.316\n",
            " > 19.480\n",
            " > 20.321\n",
            " > 19.215\n",
            " > 19.500\n",
            " > 19.261\n",
            " > 20.548\n",
            " > 20.052\n",
            " > 20.171\n",
            " > 18.729\n",
            " > 20.950\n",
            " > 20.593\n",
            " > 20.743\n"
          ]
        }
      ],
      "source": [
        "# define config\n",
        "config = [36, 256, 3, 100, 72]\n",
        "# grid search\n",
        "cnn_scores = repeat_evaluate(data, config, n_test)"
      ]
    },
    {
      "cell_type": "code",
      "execution_count": 39,
      "metadata": {
        "id": "-8yBQ96HmNdl",
        "outputId": "66079852-59bc-4576-e66c-a2e195fd228d",
        "colab": {
          "base_uri": "https://localhost:8080/",
          "height": 283
        }
      },
      "outputs": [
        {
          "output_type": "stream",
          "name": "stdout",
          "text": [
            "CNN Model: 19.914 RMSE (+/- 0.615)\n"
          ]
        },
        {
          "output_type": "display_data",
          "data": {
            "text/plain": [
              "<Figure size 432x288 with 1 Axes>"
            ],
            "image/png": "[encoded data removed]"
          },
          "metadata": {
            "needs_background": "light"
          }
        }
      ],
      "source": [
        "# summarize scores\n",
        "summarize_scores('CNN Model', cnn_scores)"
      ]
    },
    {
      "cell_type": "markdown",
      "metadata": {
        "id": "Go4mM3v0mNdl"
      },
      "source": [
        "### 4.e) LSTM Modeling and Tuning"
      ]
    },
    {
      "cell_type": "code",
      "execution_count": 40,
      "metadata": {
        "id": "dqiwmgVRmNdm"
      },
      "outputs": [],
      "source": [
        "# fit a model\n",
        "def model_fit(train, config):\n",
        "    # unpack config\n",
        "    n_input, n_nodes, n_epochs, n_batch, n_diff = config\n",
        "    # prepare data\n",
        "    if n_diff > 0:\n",
        "        train = difference(train, n_diff)\n",
        "    data = series_to_supervised(train, n_in=n_input)\n",
        "    train_x, train_y = data[:, :-1], data[:, -1]\n",
        "    train_x = train_x.reshape((train_x.shape[0], train_x.shape[1], 1))\n",
        "    # define model\n",
        "    model = tf.keras.Sequential()\n",
        "    model.add(tf.keras.layers.LSTM(n_nodes, activation='relu', input_shape=(n_input, 1)))\n",
        "    model.add(tf.keras.layers.Dense(n_nodes, activation='relu'))\n",
        "    model.add(tf.keras.layers.Dense(1))\n",
        "    model.compile(loss=DEFAULT_LOSS, optimizer=DEFAULT_OPTIMIZER)\n",
        "    # fit\n",
        "    model.fit(train_x, train_y, epochs=n_epochs, batch_size=n_batch, verbose=0)\n",
        "    return model"
      ]
    },
    {
      "cell_type": "code",
      "execution_count": 41,
      "metadata": {
        "id": "XfmB9q0TmNdm"
      },
      "outputs": [],
      "source": [
        "# forecast with a pre-fit model\n",
        "def model_predict(model, history, config):\n",
        "    # unpack config\n",
        "    n_input, _, _, _, n_diff = config\n",
        "    # prepare data\n",
        "    correction = 0.0\n",
        "    if n_diff > 0:\n",
        "        correction = history[-n_diff]\n",
        "        history = difference(history, n_diff)\n",
        "    x_input = np.array(history[-n_input:]).reshape((1, n_input, 1))\n",
        "    # forecast\n",
        "    yhat = model.predict(x_input, verbose=0)\n",
        "    return correction + yhat[0]"
      ]
    },
    {
      "cell_type": "code",
      "execution_count": 42,
      "metadata": {
        "id": "X3KJn4DYmNdm",
        "outputId": "97580a6d-164d-4258-b210-6d961297a20e",
        "colab": {
          "base_uri": "https://localhost:8080/"
        }
      },
      "outputs": [
        {
          "output_type": "stream",
          "name": "stdout",
          "text": [
            "WARNING:tensorflow:Layer lstm will not use cuDNN kernels since it doesn't meet the criteria. It will use a generic GPU kernel as fallback when running on GPU.\n",
            " > 37.310\n",
            "WARNING:tensorflow:Layer lstm_1 will not use cuDNN kernels since it doesn't meet the criteria. It will use a generic GPU kernel as fallback when running on GPU.\n",
            " > 41.892\n",
            "WARNING:tensorflow:Layer lstm_2 will not use cuDNN kernels since it doesn't meet the criteria. It will use a generic GPU kernel as fallback when running on GPU.\n",
            " > 25.495\n",
            "WARNING:tensorflow:Layer lstm_3 will not use cuDNN kernels since it doesn't meet the criteria. It will use a generic GPU kernel as fallback when running on GPU.\n",
            " > 36.768\n",
            "WARNING:tensorflow:Layer lstm_4 will not use cuDNN kernels since it doesn't meet the criteria. It will use a generic GPU kernel as fallback when running on GPU.\n",
            " > 42.424\n",
            "WARNING:tensorflow:Layer lstm_5 will not use cuDNN kernels since it doesn't meet the criteria. It will use a generic GPU kernel as fallback when running on GPU.\n",
            " > 34.454\n",
            "WARNING:tensorflow:Layer lstm_6 will not use cuDNN kernels since it doesn't meet the criteria. It will use a generic GPU kernel as fallback when running on GPU.\n",
            " > 24.927\n",
            "WARNING:tensorflow:Layer lstm_7 will not use cuDNN kernels since it doesn't meet the criteria. It will use a generic GPU kernel as fallback when running on GPU.\n",
            " > 41.738\n",
            "WARNING:tensorflow:Layer lstm_8 will not use cuDNN kernels since it doesn't meet the criteria. It will use a generic GPU kernel as fallback when running on GPU.\n",
            " > 35.002\n",
            "WARNING:tensorflow:Layer lstm_9 will not use cuDNN kernels since it doesn't meet the criteria. It will use a generic GPU kernel as fallback when running on GPU.\n",
            " > 36.451\n",
            "WARNING:tensorflow:Layer lstm_10 will not use cuDNN kernels since it doesn't meet the criteria. It will use a generic GPU kernel as fallback when running on GPU.\n",
            " > 26.283\n",
            "WARNING:tensorflow:Layer lstm_11 will not use cuDNN kernels since it doesn't meet the criteria. It will use a generic GPU kernel as fallback when running on GPU.\n",
            " > 22.905\n",
            "WARNING:tensorflow:Layer lstm_12 will not use cuDNN kernels since it doesn't meet the criteria. It will use a generic GPU kernel as fallback when running on GPU.\n",
            " > 23.260\n",
            "WARNING:tensorflow:Layer lstm_13 will not use cuDNN kernels since it doesn't meet the criteria. It will use a generic GPU kernel as fallback when running on GPU.\n",
            " > 24.185\n",
            "WARNING:tensorflow:Layer lstm_14 will not use cuDNN kernels since it doesn't meet the criteria. It will use a generic GPU kernel as fallback when running on GPU.\n",
            " > 23.412\n",
            "WARNING:tensorflow:Layer lstm_15 will not use cuDNN kernels since it doesn't meet the criteria. It will use a generic GPU kernel as fallback when running on GPU.\n",
            " > 34.110\n",
            "WARNING:tensorflow:Layer lstm_16 will not use cuDNN kernels since it doesn't meet the criteria. It will use a generic GPU kernel as fallback when running on GPU.\n",
            " > 22.772\n",
            "WARNING:tensorflow:Layer lstm_17 will not use cuDNN kernels since it doesn't meet the criteria. It will use a generic GPU kernel as fallback when running on GPU.\n",
            " > 43.166\n",
            "WARNING:tensorflow:Layer lstm_18 will not use cuDNN kernels since it doesn't meet the criteria. It will use a generic GPU kernel as fallback when running on GPU.\n",
            " > 30.467\n",
            "WARNING:tensorflow:Layer lstm_19 will not use cuDNN kernels since it doesn't meet the criteria. It will use a generic GPU kernel as fallback when running on GPU.\n",
            " > 36.133\n",
            "WARNING:tensorflow:Layer lstm_20 will not use cuDNN kernels since it doesn't meet the criteria. It will use a generic GPU kernel as fallback when running on GPU.\n",
            " > 23.563\n",
            "WARNING:tensorflow:Layer lstm_21 will not use cuDNN kernels since it doesn't meet the criteria. It will use a generic GPU kernel as fallback when running on GPU.\n",
            " > 24.205\n",
            "WARNING:tensorflow:Layer lstm_22 will not use cuDNN kernels since it doesn't meet the criteria. It will use a generic GPU kernel as fallback when running on GPU.\n",
            " > 22.660\n",
            "WARNING:tensorflow:Layer lstm_23 will not use cuDNN kernels since it doesn't meet the criteria. It will use a generic GPU kernel as fallback when running on GPU.\n",
            " > 23.560\n",
            "WARNING:tensorflow:Layer lstm_24 will not use cuDNN kernels since it doesn't meet the criteria. It will use a generic GPU kernel as fallback when running on GPU.\n",
            " > 32.256\n",
            "WARNING:tensorflow:Layer lstm_25 will not use cuDNN kernels since it doesn't meet the criteria. It will use a generic GPU kernel as fallback when running on GPU.\n",
            " > 36.836\n",
            "WARNING:tensorflow:Layer lstm_26 will not use cuDNN kernels since it doesn't meet the criteria. It will use a generic GPU kernel as fallback when running on GPU.\n",
            " > 25.694\n",
            "WARNING:tensorflow:Layer lstm_27 will not use cuDNN kernels since it doesn't meet the criteria. It will use a generic GPU kernel as fallback when running on GPU.\n",
            " > 33.763\n",
            "WARNING:tensorflow:Layer lstm_28 will not use cuDNN kernels since it doesn't meet the criteria. It will use a generic GPU kernel as fallback when running on GPU.\n",
            " > 38.602\n",
            "WARNING:tensorflow:Layer lstm_29 will not use cuDNN kernels since it doesn't meet the criteria. It will use a generic GPU kernel as fallback when running on GPU.\n",
            " > 27.055\n"
          ]
        }
      ],
      "source": [
        "# define config\n",
        "config = [36, 256, 100, 72, 12]\n",
        "# grid search\n",
        "lstm_scores = repeat_evaluate(data, config, n_test)"
      ]
    },
    {
      "cell_type": "code",
      "execution_count": 43,
      "metadata": {
        "id": "4zif190TmNdm",
        "outputId": "8792d393-9113-4101-a361-6acb1b76d879",
        "colab": {
          "base_uri": "https://localhost:8080/",
          "height": 283
        }
      },
      "outputs": [
        {
          "output_type": "stream",
          "name": "stdout",
          "text": [
            "LSTM Model: 31.045 RMSE (+/- 6.921)\n"
          ]
        },
        {
          "output_type": "display_data",
          "data": {
            "text/plain": [
              "<Figure size 432x288 with 1 Axes>"
            ],
            "image/png": "[encoded data removed]"
          },
          "metadata": {
            "needs_background": "light"
          }
        }
      ],
      "source": [
        "# summarize scores\n",
        "summarize_scores('LSTM Model', lstm_scores)"
      ]
    },
    {
      "cell_type": "markdown",
      "metadata": {
        "id": "WUfg2kipmNdm"
      },
      "source": [
        "### 4.f) CNN-LSTM Modeling and Tuning"
      ]
    },
    {
      "cell_type": "code",
      "execution_count": 44,
      "metadata": {
        "id": "UQfhMGkdmNdm"
      },
      "outputs": [],
      "source": [
        "# fit a model\n",
        "def model_fit(train, config):\n",
        "    # unpack config\n",
        "    n_seq, n_steps, n_filters, n_kernel, n_nodes, n_epochs, n_batch = config\n",
        "    n_input = n_seq * n_steps\n",
        "    # prepare data\n",
        "    data = series_to_supervised(train, n_in=n_input)\n",
        "    train_x, train_y = data[:, :-1], data[:, -1]\n",
        "    train_x = train_x.reshape((train_x.shape[0], n_seq, n_steps, 1))\n",
        "    # define model\n",
        "    model = tf.keras.Sequential()\n",
        "    model.add(tf.keras.layers.TimeDistributed(tf.keras.layers.Conv1D(filters=n_filters, kernel_size=n_kernel, activation='relu', input_shape=(None,n_steps,1))))\n",
        "    model.add(tf.keras.layers.TimeDistributed(tf.keras.layers.Conv1D(filters=n_filters, kernel_size=n_kernel, activation='relu')))\n",
        "    model.add(tf.keras.layers.TimeDistributed(tf.keras.layers.MaxPool1D(pool_size=2)))\n",
        "    model.add(tf.keras.layers.TimeDistributed(tf.keras.layers.Flatten()))\n",
        "    model.add(tf.keras.layers.LSTM(n_nodes, activation='relu'))\n",
        "    model.add(tf.keras.layers.Dense(n_nodes, activation='relu'))\n",
        "    model.add(tf.keras.layers.Dense(1))\n",
        "    model.compile(loss=DEFAULT_LOSS, optimizer=DEFAULT_OPTIMIZER)\n",
        "    # fit\n",
        "    model.fit(train_x, train_y, epochs=n_epochs, batch_size=n_batch, verbose=0)\n",
        "    return model"
      ]
    },
    {
      "cell_type": "code",
      "execution_count": 45,
      "metadata": {
        "id": "2FPlBkgdmNdm"
      },
      "outputs": [],
      "source": [
        "# forecast with a pre-fit model\n",
        "def model_predict(model, history, config):\n",
        "    # unpack config\n",
        "    n_seq, n_steps, _, _, _, _, _ = config\n",
        "    n_input = n_seq * n_steps\n",
        "    # prepare data\n",
        "    x_input = np.array(history[-n_input:]).reshape((1, n_seq, n_steps, 1))\n",
        "    # forecast\n",
        "    yhat = model.predict(x_input, verbose=0)\n",
        "    return yhat[0]"
      ]
    },
    {
      "cell_type": "code",
      "execution_count": 46,
      "metadata": {
        "id": "hM3TETHVmNdm",
        "outputId": "e6b56c23-07fe-47e3-d06a-aa6fc4d7e97f",
        "colab": {
          "base_uri": "https://localhost:8080/"
        }
      },
      "outputs": [
        {
          "output_type": "stream",
          "name": "stdout",
          "text": [
            "WARNING:tensorflow:Layer lstm_30 will not use cuDNN kernels since it doesn't meet the criteria. It will use a generic GPU kernel as fallback when running on GPU.\n",
            " > 18.534\n",
            "WARNING:tensorflow:Layer lstm_31 will not use cuDNN kernels since it doesn't meet the criteria. It will use a generic GPU kernel as fallback when running on GPU.\n",
            " > 18.607\n",
            "WARNING:tensorflow:Layer lstm_32 will not use cuDNN kernels since it doesn't meet the criteria. It will use a generic GPU kernel as fallback when running on GPU.\n",
            " > 18.699\n",
            "WARNING:tensorflow:Layer lstm_33 will not use cuDNN kernels since it doesn't meet the criteria. It will use a generic GPU kernel as fallback when running on GPU.\n",
            " > 18.614\n",
            "WARNING:tensorflow:Layer lstm_34 will not use cuDNN kernels since it doesn't meet the criteria. It will use a generic GPU kernel as fallback when running on GPU.\n",
            " > 20.257\n",
            "WARNING:tensorflow:Layer lstm_35 will not use cuDNN kernels since it doesn't meet the criteria. It will use a generic GPU kernel as fallback when running on GPU.\n",
            " > 18.103\n",
            "WARNING:tensorflow:Layer lstm_36 will not use cuDNN kernels since it doesn't meet the criteria. It will use a generic GPU kernel as fallback when running on GPU.\n",
            " > 18.455\n",
            "WARNING:tensorflow:Layer lstm_37 will not use cuDNN kernels since it doesn't meet the criteria. It will use a generic GPU kernel as fallback when running on GPU.\n",
            " > 19.238\n",
            "WARNING:tensorflow:Layer lstm_38 will not use cuDNN kernels since it doesn't meet the criteria. It will use a generic GPU kernel as fallback when running on GPU.\n",
            " > 18.104\n",
            "WARNING:tensorflow:Layer lstm_39 will not use cuDNN kernels since it doesn't meet the criteria. It will use a generic GPU kernel as fallback when running on GPU.\n",
            " > 18.353\n",
            "WARNING:tensorflow:Layer lstm_40 will not use cuDNN kernels since it doesn't meet the criteria. It will use a generic GPU kernel as fallback when running on GPU.\n",
            " > 18.228\n",
            "WARNING:tensorflow:Layer lstm_41 will not use cuDNN kernels since it doesn't meet the criteria. It will use a generic GPU kernel as fallback when running on GPU.\n",
            " > 18.949\n",
            "WARNING:tensorflow:Layer lstm_42 will not use cuDNN kernels since it doesn't meet the criteria. It will use a generic GPU kernel as fallback when running on GPU.\n",
            " > 17.880\n",
            "WARNING:tensorflow:Layer lstm_43 will not use cuDNN kernels since it doesn't meet the criteria. It will use a generic GPU kernel as fallback when running on GPU.\n",
            " > 18.957\n",
            "WARNING:tensorflow:Layer lstm_44 will not use cuDNN kernels since it doesn't meet the criteria. It will use a generic GPU kernel as fallback when running on GPU.\n",
            " > 19.654\n",
            "WARNING:tensorflow:Layer lstm_45 will not use cuDNN kernels since it doesn't meet the criteria. It will use a generic GPU kernel as fallback when running on GPU.\n",
            " > 20.399\n",
            "WARNING:tensorflow:Layer lstm_46 will not use cuDNN kernels since it doesn't meet the criteria. It will use a generic GPU kernel as fallback when running on GPU.\n",
            " > 18.002\n",
            "WARNING:tensorflow:Layer lstm_47 will not use cuDNN kernels since it doesn't meet the criteria. It will use a generic GPU kernel as fallback when running on GPU.\n",
            " > 21.149\n",
            "WARNING:tensorflow:Layer lstm_48 will not use cuDNN kernels since it doesn't meet the criteria. It will use a generic GPU kernel as fallback when running on GPU.\n",
            " > 17.895\n",
            "WARNING:tensorflow:Layer lstm_49 will not use cuDNN kernels since it doesn't meet the criteria. It will use a generic GPU kernel as fallback when running on GPU.\n",
            " > 18.642\n",
            "WARNING:tensorflow:Layer lstm_50 will not use cuDNN kernels since it doesn't meet the criteria. It will use a generic GPU kernel as fallback when running on GPU.\n",
            " > 17.980\n",
            "WARNING:tensorflow:Layer lstm_51 will not use cuDNN kernels since it doesn't meet the criteria. It will use a generic GPU kernel as fallback when running on GPU.\n",
            " > 18.962\n",
            "WARNING:tensorflow:Layer lstm_52 will not use cuDNN kernels since it doesn't meet the criteria. It will use a generic GPU kernel as fallback when running on GPU.\n",
            " > 18.790\n",
            "WARNING:tensorflow:Layer lstm_53 will not use cuDNN kernels since it doesn't meet the criteria. It will use a generic GPU kernel as fallback when running on GPU.\n",
            " > 18.278\n",
            "WARNING:tensorflow:Layer lstm_54 will not use cuDNN kernels since it doesn't meet the criteria. It will use a generic GPU kernel as fallback when running on GPU.\n",
            " > 18.822\n",
            "WARNING:tensorflow:Layer lstm_55 will not use cuDNN kernels since it doesn't meet the criteria. It will use a generic GPU kernel as fallback when running on GPU.\n",
            " > 18.246\n",
            "WARNING:tensorflow:Layer lstm_56 will not use cuDNN kernels since it doesn't meet the criteria. It will use a generic GPU kernel as fallback when running on GPU.\n",
            " > 18.624\n",
            "WARNING:tensorflow:Layer lstm_57 will not use cuDNN kernels since it doesn't meet the criteria. It will use a generic GPU kernel as fallback when running on GPU.\n",
            " > 17.995\n",
            "WARNING:tensorflow:Layer lstm_58 will not use cuDNN kernels since it doesn't meet the criteria. It will use a generic GPU kernel as fallback when running on GPU.\n",
            " > 19.479\n",
            "WARNING:tensorflow:Layer lstm_59 will not use cuDNN kernels since it doesn't meet the criteria. It will use a generic GPU kernel as fallback when running on GPU.\n",
            " > 18.966\n"
          ]
        }
      ],
      "source": [
        "# define config\n",
        "config = [3, 12, 128, 3, 100, 200, 72]\n",
        "# grid search\n",
        "cnnlstm_scores = repeat_evaluate(data, config, n_test)"
      ]
    },
    {
      "cell_type": "code",
      "execution_count": 47,
      "metadata": {
        "scrolled": true,
        "id": "hTCFyOP3mNdm",
        "outputId": "2ac3a044-822b-4801-b153-8ec4f55817a2",
        "colab": {
          "base_uri": "https://localhost:8080/",
          "height": 283
        }
      },
      "outputs": [
        {
          "output_type": "stream",
          "name": "stdout",
          "text": [
            "CNN-LSTM Model: 18.762 RMSE (+/- 0.767)\n"
          ]
        },
        {
          "output_type": "display_data",
          "data": {
            "text/plain": [
              "<Figure size 432x288 with 1 Axes>"
            ],
            "image/png": "[encoded data removed]"
          },
          "metadata": {
            "needs_background": "light"
          }
        }
      ],
      "source": [
        "# summarize scores\n",
        "summarize_scores('CNN-LSTM Model', cnnlstm_scores)"
      ]
    },
    {
      "cell_type": "markdown",
      "metadata": {
        "id": "uyM9NtLomNdn"
      },
      "source": [
        "### 4.g) ConvLSTM Modeling and Tuning"
      ]
    },
    {
      "cell_type": "code",
      "execution_count": 48,
      "metadata": {
        "id": "RhHX42IKmNdn"
      },
      "outputs": [],
      "source": [
        "# fit a model\n",
        "def model_fit(train, config):\n",
        "    # unpack config\n",
        "    n_seq, n_steps, n_filters, n_kernel, n_nodes, n_epochs, n_batch = config\n",
        "    n_input = n_seq * n_steps\n",
        "    # prepare data\n",
        "    data = series_to_supervised(train, n_in=n_input)\n",
        "    train_x, train_y = data[:, :-1], data[:, -1]\n",
        "    train_x = train_x.reshape((train_x.shape[0], n_seq, 1, n_steps, 1))\n",
        "    # define model\n",
        "    model = tf.keras.Sequential()\n",
        "    model.add(tf.keras.layers.ConvLSTM2D(filters=n_filters, kernel_size=(1,n_kernel), activation='relu', input_shape=(n_seq, 1, n_steps, 1)))\n",
        "    model.add(tf.keras.layers.Flatten())\n",
        "    model.add(tf.keras.layers.Dense(n_nodes, activation='relu'))\n",
        "    model.add(tf.keras.layers.Dense(1))\n",
        "    model.compile(loss=DEFAULT_LOSS, optimizer=DEFAULT_OPTIMIZER)\n",
        "    # fit\n",
        "    model.fit(train_x, train_y, epochs=n_epochs, batch_size=n_batch, verbose=0)\n",
        "    return model"
      ]
    },
    {
      "cell_type": "code",
      "execution_count": 49,
      "metadata": {
        "id": "TQMgFqLSmNdn"
      },
      "outputs": [],
      "source": [
        "# forecast with a pre-fit model\n",
        "def model_predict(model, history, config):\n",
        "    # unpack config\n",
        "    n_seq, n_steps, _, _, _, _, _ = config\n",
        "    n_input = n_seq * n_steps\n",
        "    # prepare data\n",
        "    x_input = np.array(history[-n_input:]).reshape((1, n_seq, 1, n_steps, 1))\n",
        "    # forecast\n",
        "    yhat = model.predict(x_input, verbose=0)\n",
        "    return yhat[0]"
      ]
    },
    {
      "cell_type": "code",
      "execution_count": 50,
      "metadata": {
        "id": "97RqO5I6mNdn",
        "outputId": "717393df-e8c5-405a-9465-cee6f347cf3f",
        "colab": {
          "base_uri": "https://localhost:8080/"
        }
      },
      "outputs": [
        {
          "output_type": "stream",
          "name": "stdout",
          "text": [
            " > 20.902\n",
            " > 18.572\n",
            " > 19.362\n",
            " > 20.344\n",
            " > 19.384\n",
            " > 19.024\n",
            " > 17.854\n",
            " > 18.257\n",
            " > 20.398\n",
            " > 18.680\n",
            " > 19.029\n",
            " > 20.127\n",
            " > 19.381\n",
            " > 21.064\n",
            " > 18.011\n",
            " > 18.031\n",
            " > 18.054\n",
            " > 20.494\n",
            " > 19.202\n",
            " > 18.545\n",
            " > 19.544\n",
            " > 18.252\n",
            " > 19.062\n",
            " > 18.924\n",
            " > 17.666\n",
            " > 19.219\n",
            " > 19.117\n",
            " > 19.068\n",
            " > 18.505\n",
            " > 18.606\n"
          ]
        }
      ],
      "source": [
        "# define config\n",
        "config = [3, 12, 256, 3, 200, 200, 72]\n",
        "# grid search\n",
        "convlstm_scores = repeat_evaluate(data, config, n_test)"
      ]
    },
    {
      "cell_type": "code",
      "execution_count": 51,
      "metadata": {
        "id": "bcZXkLwPmNdn",
        "outputId": "504af3e2-e3aa-4606-c97b-534c12cafc2f",
        "colab": {
          "base_uri": "https://localhost:8080/",
          "height": 283
        }
      },
      "outputs": [
        {
          "output_type": "stream",
          "name": "stdout",
          "text": [
            "ConvLSTM Model: 19.089 RMSE (+/- 0.888)\n"
          ]
        },
        {
          "output_type": "display_data",
          "data": {
            "text/plain": [
              "<Figure size 432x288 with 1 Axes>"
            ],
            "image/png": "[encoded data removed]"
          },
          "metadata": {
            "needs_background": "light"
          }
        }
      ],
      "source": [
        "# summarize scores\n",
        "summarize_scores('ConvLSTM Model', convlstm_scores)"
      ]
    },
    {
      "cell_type": "markdown",
      "metadata": {
        "id": "9pd7byRzmNdn"
      },
      "source": [
        "### 4.g) Models Comparison"
      ]
    },
    {
      "cell_type": "code",
      "execution_count": 52,
      "metadata": {
        "id": "IeG-TaWgmNdn"
      },
      "outputs": [],
      "source": [
        "# Set up Arrays for Score Comparison\n",
        "train_models = []\n",
        "train_results = []"
      ]
    },
    {
      "cell_type": "code",
      "execution_count": 53,
      "metadata": {
        "id": "8kMEbgiUmNdn"
      },
      "outputs": [],
      "source": [
        "train_models.append('Baseline')\n",
        "train_results.append(persistent_scores)\n",
        "train_models.append('MLP')\n",
        "train_results.append(mlp_scores)\n",
        "train_models.append('CNN')\n",
        "train_results.append(cnn_scores)\n",
        "train_models.append('LSTM')\n",
        "train_results.append(lstm_scores)\n",
        "train_models.append('CNN-LSTM')\n",
        "train_results.append(cnnlstm_scores)\n",
        "train_models.append('ConvLSTM')\n",
        "train_results.append(convlstm_scores)"
      ]
    },
    {
      "cell_type": "code",
      "execution_count": 54,
      "metadata": {
        "id": "ITfd6LLkmNdn",
        "outputId": "7517d020-e9d7-4435-c6c7-3f38431d9ff3",
        "colab": {
          "base_uri": "https://localhost:8080/",
          "height": 787
        }
      },
      "outputs": [
        {
          "output_type": "display_data",
          "data": {
            "text/plain": [
              "<Figure size 1152x864 with 1 Axes>"
            ],
            "image/png": "[encoded data removed]"
          },
          "metadata": {
            "needs_background": "light"
          }
        }
      ],
      "source": [
        "fig = plt.figure(figsize=(16,12))\n",
        "fig.suptitle('Model Comparison')\n",
        "ax = fig.add_subplot(111)\n",
        "plt.boxplot(train_results)\n",
        "ax.set_xticklabels(train_models)\n",
        "plt.show()"
      ]
    },
    {
      "cell_type": "code",
      "execution_count": 55,
      "metadata": {
        "id": "vvyzdubMmNdn"
      },
      "outputs": [],
      "source": [
        "if NOTIFY_STATUS: status_notify(\"TensorFlow Time Series Task 4 - Train and Tune Models completed! \" + datetime.now().strftime('%a %B %d, %Y %I:%M:%S %p'))"
      ]
    },
    {
      "cell_type": "markdown",
      "metadata": {
        "id": "GA8ECRD5mNdn"
      },
      "source": [
        "## Section 5. Finalize Model and Make Predictions"
      ]
    },
    {
      "cell_type": "code",
      "execution_count": 56,
      "metadata": {
        "id": "hzfS6ikYmNdo"
      },
      "outputs": [],
      "source": [
        "if NOTIFY_STATUS: status_notify(\"TensorFlow Time Series Task 5 - Finalize Model and Make Predictions has begun! \" + datetime.now().strftime('%a %B %d, %Y %I:%M:%S %p'))"
      ]
    },
    {
      "cell_type": "code",
      "execution_count": 57,
      "metadata": {
        "id": "1et1_yYemNdo"
      },
      "outputs": [],
      "source": [
        "# Code Segment Under Construction"
      ]
    },
    {
      "cell_type": "code",
      "execution_count": 58,
      "metadata": {
        "id": "h-V1DnqamNdo"
      },
      "outputs": [],
      "source": [
        "if NOTIFY_STATUS: status_notify(\"TensorFlow Time Series Task 5 - Finalize Model and Make Predictions completed! \" + datetime.now().strftime('%a %B %d, %Y %I:%M:%S %p'))"
      ]
    },
    {
      "cell_type": "code",
      "execution_count": 59,
      "metadata": {
        "id": "YoyBpIbLmNdo",
        "outputId": "d7e7f887-9578-428a-83a0-aa3ca74d595a",
        "colab": {
          "base_uri": "https://localhost:8080/"
        }
      },
      "outputs": [
        {
          "output_type": "stream",
          "name": "stdout",
          "text": [
            "Total time for the script: 0:39:37.181094\n"
          ]
        }
      ],
      "source": [
        "print ('Total time for the script:',(datetime.now() - START_TIME_SCRIPT))"
      ]
    }
  ],
  "metadata": {
    "kernelspec": {
      "display_name": "Python 3 (ipykernel)",
      "language": "python",
      "name": "python3"
    },
    "language_info": {
      "codemirror_mode": {
        "name": "ipython",
        "version": 3
      },
      "file_extension": ".py",
      "mimetype": "text/x-python",
      "name": "python",
      "nbconvert_exporter": "python",
      "pygments_lexer": "ipython3",
      "version": "3.8.10"
    },
    "colab": {
      "name": "py_timeseries_tensorflow_arosa_ozone_concentration.ipynb",
      "provenance": [],
      "background_execution": "on",
      "collapsed_sections": [],
      "toc_visible": true
    },
    "accelerator": "GPU"
  },
  "nbformat": 4,
  "nbformat_minor": 0
}