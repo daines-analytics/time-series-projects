{
  "cells": [
    {
      "cell_type": "markdown",
      "metadata": {
        "id": "OIRgK0tZmNdY"
      },
      "source": [
        "# Univariate Time Series Model for American River Riverflow Using TensorFlow\n",
        "### David Lowe\n",
        "### April 6, 2022\n",
        "\n",
        "SUMMARY: The project aims to construct a time series prediction model and document the end-to-end steps using a template. The American River Riverflow dataset is a univariate time series situation where we attempt to forecast future outcomes based on past data points.\n",
        "\n",
        "INTRODUCTION: The problem is to forecast the monthly river flow for American River at Fair Oaks, California. The dataset describes a time series of flow volume (in cms) over 55 years (1906-1960), and there are 660 observations. We used the first 80% of the observations for training and testing various models while holding back the remaining observations for validating the final model.\n",
        "\n",
        "ANALYSIS: The baseline persistence model yielded an RMSE of 112.477. The MLP model processed the same test data with an RMSE of 88.34, which was better than the baseline model as expected. In an earlier ARIMA modeling experiment, the best ARIMA model with non-seasonal order of (1, 0, 0) and seasonal order of (1, 0, 1, 12) processed the validation data with an RMSE of 78.413.\n",
        "\n",
        "CONCLUSION: For this dataset, the TensorFlow MLP model achieved an acceptable result, and we should consider using TensorFlow for further modeling.\n",
        "\n",
        "Dataset Used: Monthly river flow in cms, American River at Fair Oaks, California from October 1906 through September 1960\n",
        "\n",
        "Dataset ML Model: Time series forecast with numerical attribute\n",
        "\n",
        "Dataset Reference: Rob Hyndman and Yangzhuoran Yang (2018). tsdl: Time Series Data Library. v0.1.0. https://pkg.yangzhuoranyang./tsdl/."
      ]
    },
    {
      "cell_type": "markdown",
      "metadata": {
        "id": "RFArbqQfmNdb"
      },
      "source": [
        "## Task 1 - Define Problem and Acquire Data"
      ]
    },
    {
      "cell_type": "code",
      "execution_count": 1,
      "metadata": {
        "id": "JgO3qCVqmNdc",
        "outputId": "a20886ee-e0dd-4c4c-d661-204bdbfa1040",
        "colab": {
          "base_uri": "https://localhost:8080/"
        }
      },
      "outputs": [
        {
          "output_type": "stream",
          "name": "stdout",
          "text": [
            "The number of available CPUs is: 12\n"
          ]
        }
      ],
      "source": [
        "# Retrieve the CPU information\n",
        "ncpu = !nproc\n",
        "print(\"The number of available CPUs is:\", ncpu[0])"
      ]
    },
    {
      "cell_type": "code",
      "execution_count": 2,
      "metadata": {
        "id": "xp6nuYTNmNdd",
        "outputId": "51938243-434e-499e-d6c1-f05880a9f54c",
        "colab": {
          "base_uri": "https://localhost:8080/"
        }
      },
      "outputs": [
        {
          "output_type": "stream",
          "name": "stdout",
          "text": [
            "Your runtime has 89.6 gigabytes of available RAM\n",
            "\n"
          ]
        }
      ],
      "source": [
        "# Retrieve memory configuration information\n",
        "from psutil import virtual_memory\n",
        "ram_gb = virtual_memory().total / 1e9\n",
        "print('Your runtime has {:.1f} gigabytes of available RAM\\n'.format(ram_gb))"
      ]
    },
    {
      "cell_type": "code",
      "execution_count": 3,
      "metadata": {
        "id": "q7GF0yh4mNdd",
        "outputId": "119b2ffb-033d-423a-cf6b-6501d8aeae70",
        "colab": {
          "base_uri": "https://localhost:8080/"
        }
      },
      "outputs": [
        {
          "output_type": "stream",
          "name": "stdout",
          "text": [
            "Thu Mar 31 12:32:24 2022       \n",
            "+-----------------------------------------------------------------------------+\n",
            "| NVIDIA-SMI 460.32.03    Driver Version: 460.32.03    CUDA Version: 11.2     |\n",
            "|-------------------------------+----------------------+----------------------+\n",
            "| GPU  Name        Persistence-M| Bus-Id        Disp.A | Volatile Uncorr. ECC |\n",
            "| Fan  Temp  Perf  Pwr:Usage/Cap|         Memory-Usage | GPU-Util  Compute M. |\n",
            "|                               |                      |               MIG M. |\n",
            "|===============================+======================+======================|\n",
            "|   0  A100-SXM4-40GB      Off  | 00000000:00:04.0 Off |                    0 |\n",
            "| N/A   46C    P0    44W / 400W |      0MiB / 40536MiB |      0%      Default |\n",
            "|                               |                      |             Disabled |\n",
            "+-------------------------------+----------------------+----------------------+\n",
            "                                                                               \n",
            "+-----------------------------------------------------------------------------+\n",
            "| Processes:                                                                  |\n",
            "|  GPU   GI   CI        PID   Type   Process name                  GPU Memory |\n",
            "|        ID   ID                                                   Usage      |\n",
            "|=============================================================================|\n",
            "|  No running processes found                                                 |\n",
            "+-----------------------------------------------------------------------------+\n"
          ]
        }
      ],
      "source": [
        "# Retrieve the GPU information\n",
        "gpu_info = !nvidia-smi\n",
        "gpu_info = '\\n'.join(gpu_info)\n",
        "print(gpu_info)"
      ]
    },
    {
      "cell_type": "markdown",
      "metadata": {
        "id": "sVQ0F8SgmNdd"
      },
      "source": [
        "### 1.a) Load Libraries"
      ]
    },
    {
      "cell_type": "code",
      "execution_count": 4,
      "metadata": {
        "id": "2jL4WN__mNde"
      },
      "outputs": [],
      "source": [
        "# Create the random seed number for reproducible results\n",
        "RNG_SEED = 888"
      ]
    },
    {
      "cell_type": "code",
      "execution_count": 5,
      "metadata": {
        "id": "TLooWS4zmNde"
      },
      "outputs": [],
      "source": [
        "import random\n",
        "import numpy as np\n",
        "import tensorflow as tf\n",
        "random.seed(RNG_SEED)\n",
        "np.random.seed(RNG_SEED)\n",
        "tf.random.set_seed(RNG_SEED)\n",
        "\n",
        "import pandas as pd\n",
        "import seaborn as sns\n",
        "import matplotlib.pyplot as plt\n",
        "import os\n",
        "import sys\n",
        "import math\n",
        "# import boto3\n",
        "from datetime import datetime\n",
        "from sklearn.metrics import mean_squared_error"
      ]
    },
    {
      "cell_type": "markdown",
      "metadata": {
        "id": "Phie8OQLmNdf"
      },
      "source": [
        "### 1.b) Set up the controlling parameters and functions"
      ]
    },
    {
      "cell_type": "code",
      "execution_count": 6,
      "metadata": {
        "id": "o5yHVfd7mNdf"
      },
      "outputs": [],
      "source": [
        "# Begin the timer for the script processing\n",
        "START_TIME_SCRIPT = datetime.now()\n",
        "\n",
        "# Set up the number of CPU cores available for multi-thread processing\n",
        "N_JOBS = 1\n",
        "\n",
        "# Set up the flag to stop sending progress emails (setting to True will send status emails!)\n",
        "NOTIFY_STATUS = False\n",
        "\n",
        "# Set various default modeling parameters\n",
        "DEFAULT_LOSS = 'mean_squared_error'\n",
        "DEFAULT_METRICS = [tf.keras.metrics.RootMeanSquaredError(name='rmse')]\n",
        "DEFAULT_OPTIMIZER = tf.keras.optimizers.Adam(learning_rate=0.001)\n",
        "DEFAULT_INITIALIZER = tf.keras.initializers.RandomNormal(seed=RNG_SEED)\n",
        "MAX_EPOCHS = 20\n",
        "BATCH_SIZE = 16\n",
        "SLIDING_WINDOW = 5"
      ]
    },
    {
      "cell_type": "code",
      "execution_count": 7,
      "metadata": {
        "id": "7iHutUoSmNdg"
      },
      "outputs": [],
      "source": [
        "# Set up the email notification function\n",
        "def status_notify(msg_text):\n",
        "    access_key = os.environ.get('SNS_ACCESS_KEY')\n",
        "    secret_key = os.environ.get('SNS_SECRET_KEY')\n",
        "    aws_region = os.environ.get('SNS_AWS_REGION')\n",
        "    topic_arn = os.environ.get('SNS_TOPIC_ARN')\n",
        "    if (access_key is None) or (secret_key is None) or (aws_region is None):\n",
        "        sys.exit(\"Incomplete notification setup info. Script Processing Aborted!!!\")\n",
        "    sns = boto3.client('sns', aws_access_key_id=access_key, aws_secret_access_key=secret_key, region_name=aws_region)\n",
        "    response = sns.publish(TopicArn=topic_arn, Message=msg_text)\n",
        "    if response['ResponseMetadata']['HTTPStatusCode'] != 200 :\n",
        "        print('Status notification not OK with HTTP status code:', response['ResponseMetadata']['HTTPStatusCode'])"
      ]
    },
    {
      "cell_type": "code",
      "execution_count": 8,
      "metadata": {
        "id": "w4s5vaCcmNdg"
      },
      "outputs": [],
      "source": [
        "if NOTIFY_STATUS: status_notify(\"TensorFlow Time Series Task 1 - Define Problem and Acquire Data has begun! \" + datetime.now().strftime('%a %B %d, %Y %I:%M:%S %p'))"
      ]
    },
    {
      "cell_type": "markdown",
      "metadata": {
        "id": "AX8sm65xmNdg"
      },
      "source": [
        "### 1.c) Acquire and Load the Data"
      ]
    },
    {
      "cell_type": "code",
      "execution_count": 9,
      "metadata": {
        "id": "I2lUXEZGmNdg"
      },
      "outputs": [],
      "source": [
        "# load the dataset and the necessary data structure\n",
        "time_series = pd.read_csv('https://dainesanalytics.com/datasets/time-series-data-library/tsdl228.csv', index_col='idx', parse_dates=True)\n",
        "\n",
        "# Load the dataset from the Federal Reserve Bank's FRED Database\n",
        "# starting = datetime(1990, 1, 1)\n",
        "# ending = datetime.now()\n",
        "# fred_data = 'SMU06000007072251101'\n",
        "# time_series = web.DataReader(fred_data, 'fred', starting, ending)\n",
        "# time_series.rename(columns={fred_data: 'value'}, inplace=True)\n",
        "\n",
        "# Sample code for subsetting the time-series data\n",
        "# time_series = original_series['1986':'1990']"
      ]
    },
    {
      "cell_type": "code",
      "execution_count": 10,
      "metadata": {
        "id": "doFh3-sAmNdh",
        "outputId": "dc17681b-dd71-4345-d599-040934a9e92a",
        "colab": {
          "base_uri": "https://localhost:8080/"
        }
      },
      "outputs": [
        {
          "output_type": "stream",
          "name": "stdout",
          "text": [
            "The target column of the time series is: values\n",
            "The forecast boundary columns are: lower values & upper values\n"
          ]
        }
      ],
      "source": [
        "target_col = time_series.columns[0]\n",
        "lower_bound = 'lower ' + target_col\n",
        "upper_bound = 'upper ' + target_col\n",
        "print('The target column of the time series is:', target_col)\n",
        "print('The forecast boundary columns are:', lower_bound, '&', upper_bound)"
      ]
    },
    {
      "cell_type": "code",
      "execution_count": 11,
      "metadata": {
        "id": "ZHV9EqjQmNdh",
        "outputId": "457063ad-651c-4088-be53-81a798faaeb4",
        "colab": {
          "base_uri": "https://localhost:8080/"
        }
      },
      "outputs": [
        {
          "output_type": "stream",
          "name": "stdout",
          "text": [
            "<class 'pandas.core.frame.DataFrame'>\n",
            "DatetimeIndex: 660 entries, 1906-10-01 to 1961-09-01\n",
            "Data columns (total 1 columns):\n",
            " #   Column  Non-Null Count  Dtype  \n",
            "---  ------  --------------  -----  \n",
            " 0   values  660 non-null    float64\n",
            "dtypes: float64(1)\n",
            "memory usage: 10.3 KB\n"
          ]
        }
      ],
      "source": [
        "time_series.info(verbose=True)"
      ]
    },
    {
      "cell_type": "code",
      "execution_count": 12,
      "metadata": {
        "id": "qBGA33SQmNdh",
        "outputId": "8dedc767-e6bc-4ee7-b180-73aace0f9431",
        "colab": {
          "base_uri": "https://localhost:8080/"
        }
      },
      "outputs": [
        {
          "output_type": "stream",
          "name": "stdout",
          "text": [
            "              values\n",
            "idx                 \n",
            "1906-10-01    4.1626\n",
            "1906-11-01    5.4935\n",
            "1906-12-01    7.1925\n",
            "1907-01-01  205.5237\n",
            "1907-02-01  168.0322\n"
          ]
        }
      ],
      "source": [
        "print(time_series.head())"
      ]
    },
    {
      "cell_type": "code",
      "execution_count": 13,
      "metadata": {
        "id": "Vjc_SbDXmNdh",
        "outputId": "3ea952ef-13fb-42c0-ee2f-55dc5871eef5",
        "colab": {
          "base_uri": "https://localhost:8080/"
        }
      },
      "outputs": [
        {
          "output_type": "stream",
          "name": "stdout",
          "text": [
            "             values\n",
            "idx                \n",
            "1961-05-01  53.8303\n",
            "1961-06-01  81.8074\n",
            "1961-07-01  95.3428\n",
            "1961-08-01  67.0543\n",
            "1961-09-01  34.9713\n"
          ]
        }
      ],
      "source": [
        "print(time_series.tail())"
      ]
    },
    {
      "cell_type": "code",
      "execution_count": 14,
      "metadata": {
        "id": "jg9D1sQkmNdh"
      },
      "outputs": [],
      "source": [
        "if NOTIFY_STATUS: status_notify(\"TensorFlow Time Series Task 1 - Define Problem and Acquire Data completed! \" + datetime.now().strftime('%a %B %d, %Y %I:%M:%S %p'))"
      ]
    },
    {
      "cell_type": "markdown",
      "metadata": {
        "id": "492S94qSmNdi"
      },
      "source": [
        "## Task 2: Summarize and Visualize Data"
      ]
    },
    {
      "cell_type": "code",
      "execution_count": 15,
      "metadata": {
        "id": "47qr21uYmNdi"
      },
      "outputs": [],
      "source": [
        "if NOTIFY_STATUS: status_notify(\"TensorFlow Time Series Task 2 - Summarize and Visualize Data has begun! \" + datetime.now().strftime('%a %B %d, %Y %I:%M:%S %p'))"
      ]
    },
    {
      "cell_type": "markdown",
      "metadata": {
        "id": "lcpaRX9FmNdi"
      },
      "source": [
        "### 2.a) Summary Statistics of the Time Series Data"
      ]
    },
    {
      "cell_type": "code",
      "execution_count": 16,
      "metadata": {
        "id": "ImaAxicLmNdi",
        "outputId": "596f42a9-f9c8-4dab-875a-0899e24f8b2d",
        "colab": {
          "base_uri": "https://localhost:8080/"
        }
      },
      "outputs": [
        {
          "output_type": "stream",
          "name": "stdout",
          "text": [
            "           values\n",
            "count  660.000000\n",
            "mean   106.186175\n",
            "std    119.789848\n",
            "min      0.447400\n",
            "25%     15.453900\n",
            "50%     54.694000\n",
            "75%    167.671150\n",
            "max    699.709400\n"
          ]
        }
      ],
      "source": [
        "# Summary statistics of time series\n",
        "print(time_series.describe())"
      ]
    },
    {
      "cell_type": "markdown",
      "metadata": {
        "id": "oTrf_RhAmNdi"
      },
      "source": [
        "### 2.b) Line Plot of the Time Series Data"
      ]
    },
    {
      "cell_type": "code",
      "execution_count": 17,
      "metadata": {
        "id": "1eZrYkRLmNdi",
        "outputId": "ec5164c3-156c-4a0a-bc55-35fb5c720c3f",
        "colab": {
          "base_uri": "https://localhost:8080/",
          "height": 616
        }
      },
      "outputs": [
        {
          "output_type": "display_data",
          "data": {
            "text/plain": [
              "<Figure size 864x648 with 1 Axes>"
            ],
            "image/png": "[encoded data removed]"
          },
          "metadata": {
            "needs_background": "light"
          }
        }
      ],
      "source": [
        "# Line plots of time series\n",
        "fig, ax = plt.subplots(figsize=(12,9))\n",
        "fig.suptitle('Line Plot of the Time Series Data')\n",
        "time_series.plot(ax=ax)\n",
        "plt.show()"
      ]
    },
    {
      "cell_type": "markdown",
      "metadata": {
        "id": "xoEzQPPjmNdj"
      },
      "source": [
        "### 2.c) Histogram and Density Plots of the Time Series Data"
      ]
    },
    {
      "cell_type": "code",
      "execution_count": 18,
      "metadata": {
        "id": "QOoUo4NdmNdj",
        "outputId": "c1d6bac7-c16a-40e7-f78a-1f66ece62b13",
        "colab": {
          "base_uri": "https://localhost:8080/",
          "height": 602
        }
      },
      "outputs": [
        {
          "output_type": "display_data",
          "data": {
            "text/plain": [
              "<Figure size 864x648 with 1 Axes>"
            ],
            "image/png": "[encoded data removed]"
          },
          "metadata": {
            "needs_background": "light"
          }
        }
      ],
      "source": [
        "# Line plots of time series\n",
        "fig, ax = plt.subplots(figsize=(12,9))\n",
        "fig.suptitle('Histogram of the Time Series Data')\n",
        "time_series.hist(ax=ax)\n",
        "plt.show()"
      ]
    },
    {
      "cell_type": "code",
      "execution_count": 19,
      "metadata": {
        "id": "phsChUjgmNdj",
        "outputId": "ba858cbf-5422-45d1-cf8e-d0e6be0797fc",
        "colab": {
          "base_uri": "https://localhost:8080/",
          "height": 602
        }
      },
      "outputs": [
        {
          "output_type": "display_data",
          "data": {
            "text/plain": [
              "<Figure size 864x648 with 1 Axes>"
            ],
            "image/png": "[encoded data removed]"
          },
          "metadata": {
            "needs_background": "light"
          }
        }
      ],
      "source": [
        "# Line plots of time series\n",
        "fig, ax = plt.subplots(figsize=(12,9))\n",
        "fig.suptitle('Density Plot of the Time Series Data')\n",
        "time_series.plot(kind='kde', ax=ax)\n",
        "plt.show()"
      ]
    },
    {
      "cell_type": "markdown",
      "metadata": {
        "id": "QpUcUKhsmNdj"
      },
      "source": [
        "### 2.d) Box and Whisker Plots of the Time Series Data"
      ]
    },
    {
      "cell_type": "code",
      "execution_count": 20,
      "metadata": {
        "id": "lmUgagrYmNdj",
        "outputId": "1b84be38-6f85-47e7-a8d3-3241889f0f1c",
        "colab": {
          "base_uri": "https://localhost:8080/",
          "height": 616
        }
      },
      "outputs": [
        {
          "output_type": "display_data",
          "data": {
            "text/plain": [
              "<Figure size 864x648 with 1 Axes>"
            ],
            "image/png": "[encoded data removed]"
          },
          "metadata": {
            "needs_background": "light"
          }
        }
      ],
      "source": [
        "# boxplots of time series\n",
        "fig, ax = plt.subplots(figsize=(12,9))\n",
        "fig.suptitle('Box and Whisker Plots of the Time Series Data')\n",
        "squeezed = time_series.squeeze()\n",
        "sns.boxplot(x=squeezed.index.year, y=squeezed, ax=ax)\n",
        "plt.show()"
      ]
    },
    {
      "cell_type": "code",
      "execution_count": 21,
      "metadata": {
        "id": "i9A5OSvlmNdj"
      },
      "outputs": [],
      "source": [
        "if NOTIFY_STATUS: status_notify(\"TensorFlow Time Series Task 2 - Summarize and Visualize Data completed! \" + datetime.now().strftime('%a %B %d, %Y %I:%M:%S %p'))"
      ]
    },
    {
      "cell_type": "markdown",
      "metadata": {
        "id": "-zSUTWpGmNdj"
      },
      "source": [
        "## Task 3: Pre-Process Data"
      ]
    },
    {
      "cell_type": "code",
      "execution_count": 22,
      "metadata": {
        "id": "rwqkQ3kImNdj"
      },
      "outputs": [],
      "source": [
        "if NOTIFY_STATUS: status_notify(\"TensorFlow Time Series Task 3 - Pre-Process Data has begun! \" + datetime.now().strftime('%a %B %d, %Y %I:%M:%S %p'))"
      ]
    },
    {
      "cell_type": "code",
      "execution_count": 23,
      "metadata": {
        "id": "KXpK3n0jmNdj"
      },
      "outputs": [],
      "source": [
        "# Resampling the time series into monthly average for the ease of modeling\n",
        "# original_series = time_series\n",
        "# resample = original_series.resample('M')\n",
        "# time_series = resample.mean()\n",
        "# time_series.head(10)"
      ]
    },
    {
      "cell_type": "code",
      "execution_count": 24,
      "metadata": {
        "id": "O17gosqdmNdk",
        "outputId": "418119ee-751c-4095-c410-2ad0a5364d8a",
        "colab": {
          "base_uri": "https://localhost:8080/"
        }
      },
      "outputs": [
        {
          "output_type": "stream",
          "name": "stdout",
          "text": [
            "Number of data points in the training set: 528\n",
            "Number of data points in the test set: 132\n"
          ]
        }
      ],
      "source": [
        "# Split the data into training and test sets\n",
        "data = time_series.values\n",
        "data = data.astype('float32')\n",
        "n_test = 132\n",
        "n_train = len(data) - n_test\n",
        "train_ts, test_ts = data[0:n_train], data[n_train:]\n",
        "print('Number of data points in the training set:', n_train)\n",
        "print('Number of data points in the test set:', n_test)"
      ]
    },
    {
      "cell_type": "code",
      "execution_count": 25,
      "metadata": {
        "id": "TRbABWpHmNdk"
      },
      "outputs": [],
      "source": [
        "if NOTIFY_STATUS: status_notify(\"TensorFlow Time Series Task 3 - Pre-Process Data completed! \" + datetime.now().strftime('%a %B %d, %Y %I:%M:%S %p'))"
      ]
    },
    {
      "cell_type": "markdown",
      "metadata": {
        "id": "FMQnKb1xmNdk"
      },
      "source": [
        "## Task 4: Train and Tune Models"
      ]
    },
    {
      "cell_type": "code",
      "execution_count": 26,
      "metadata": {
        "id": "oWi2kyROmNdk"
      },
      "outputs": [],
      "source": [
        "if NOTIFY_STATUS: status_notify(\"TensorFlow Time Series Task 4 - Train and Tune Models has begun! \" + datetime.now().strftime('%a %B %d, %Y %I:%M:%S %p'))"
      ]
    },
    {
      "cell_type": "markdown",
      "metadata": {
        "id": "_zpu32lKmNdk"
      },
      "source": [
        "### 4.a) Set up the Common Helper Functions"
      ]
    },
    {
      "cell_type": "code",
      "execution_count": 27,
      "metadata": {
        "id": "vQV68Zg0mNdk"
      },
      "outputs": [],
      "source": [
        "# split a univariate dataset into train/test sets\n",
        "def train_test_split(data, n_test):\n",
        "    return data[:-n_test], data[-n_test:]\n",
        "\n",
        "# transform list into supervised learning format\n",
        "def series_to_supervised(data, n_in=1, n_out=1):\n",
        "    df = pd.DataFrame(data)\n",
        "    cols = list()\n",
        "    # input sequence (t-n, ... t-1)\n",
        "    for i in range(n_in, 0, -1):\n",
        "        cols.append(df.shift(i))\n",
        "    # forecast sequence (t, t+1, ... t+n)\n",
        "    for i in range(0, n_out):\n",
        "        cols.append(df.shift(-i))\n",
        "    # put it all together\n",
        "    agg = pd.concat(cols, axis=1)\n",
        "    # drop rows with NaN values\n",
        "    agg.dropna(inplace=True)\n",
        "    return agg.values\n",
        "\n",
        "# root mean squared error or rmse\n",
        "def measure_rmse(actual, predicted):\n",
        "    return math.sqrt(mean_squared_error(actual, predicted))\n",
        "\n",
        "# difference dataset\n",
        "def difference(data, interval):\n",
        "    return [data[i] - data[i - interval] for i in range(interval, len(data))]\n",
        "\n",
        "# walk-forward validation for univariate data\n",
        "def walk_forward_validation(data, n_test, cfg):\n",
        "    predictions = list()\n",
        "    # split dataset\n",
        "    train, test = train_test_split(data, n_test)\n",
        "    # fit model\n",
        "    model = model_fit(train, cfg)\n",
        "    # seed history with training dataset\n",
        "    history = [x for x in train]\n",
        "    # step over each time-step in the test set\n",
        "    for i in range(len(test)):\n",
        "        # fit model and make forecast for history\n",
        "        yhat = model_predict(model, history, cfg)\n",
        "        # store forecast in list of predictions\n",
        "        predictions.append(yhat)\n",
        "        # add actual observation to history for the next loop\n",
        "        history.append(test[i])\n",
        "    # estimate prediction error\n",
        "    error = measure_rmse(test, predictions)\n",
        "    print(' > %.3f' % error)\n",
        "    return error\n",
        "\n",
        "# repeat evaluation of a config\n",
        "def repeat_evaluate(data, config, n_test, n_repeats=30):\n",
        "    # fit and evaluate the model n times\n",
        "    scores = [walk_forward_validation(data, n_test, config) for _ in range(n_repeats)]\n",
        "    return scores\n",
        "\n",
        "# summarize model performance\n",
        "def summarize_scores(name, scores):\n",
        "    # print a summary\n",
        "    scores_m, score_std = np.mean(scores), np.std(scores)\n",
        "    print('%s: %.3f RMSE (+/- %.3f)' % (name, scores_m, score_std))\n",
        "    # box and whisker plot\n",
        "    plt.boxplot(scores)\n",
        "    plt.show()"
      ]
    },
    {
      "cell_type": "markdown",
      "metadata": {
        "id": "G5d5KMdYmNdk"
      },
      "source": [
        "### 4.b) Simple Persistent Modeling as a Baseline"
      ]
    },
    {
      "cell_type": "code",
      "execution_count": 28,
      "metadata": {
        "id": "Evp7o6iemNdk"
      },
      "outputs": [],
      "source": [
        "# fit a model\n",
        "def model_fit(train, config):\n",
        "    return None"
      ]
    },
    {
      "cell_type": "code",
      "execution_count": 29,
      "metadata": {
        "id": "v1jFIxzqmNdl"
      },
      "outputs": [],
      "source": [
        "# forecast with a pre-fit model\n",
        "def model_predict(model, history, config):\n",
        "    values = list()\n",
        "    for offset in config:\n",
        "        values.append(history[-offset])\n",
        "    return np.median(values)"
      ]
    },
    {
      "cell_type": "code",
      "execution_count": 30,
      "metadata": {
        "id": "JJR3mjT-mNdl",
        "outputId": "79274c34-522c-4112-a30b-a3bdd65248f9",
        "colab": {
          "base_uri": "https://localhost:8080/"
        }
      },
      "outputs": [
        {
          "output_type": "stream",
          "name": "stdout",
          "text": [
            " > 112.477\n",
            " > 112.477\n",
            " > 112.477\n",
            " > 112.477\n",
            " > 112.477\n",
            " > 112.477\n",
            " > 112.477\n",
            " > 112.477\n",
            " > 112.477\n",
            " > 112.477\n",
            " > 112.477\n",
            " > 112.477\n",
            " > 112.477\n",
            " > 112.477\n",
            " > 112.477\n",
            " > 112.477\n",
            " > 112.477\n",
            " > 112.477\n",
            " > 112.477\n",
            " > 112.477\n",
            " > 112.477\n",
            " > 112.477\n",
            " > 112.477\n",
            " > 112.477\n",
            " > 112.477\n",
            " > 112.477\n",
            " > 112.477\n",
            " > 112.477\n",
            " > 112.477\n",
            " > 112.477\n"
          ]
        }
      ],
      "source": [
        "# define config\n",
        "config = [12, 24, 36]\n",
        "# grid search\n",
        "persistent_scores = repeat_evaluate(data, config, n_test)"
      ]
    },
    {
      "cell_type": "code",
      "execution_count": 31,
      "metadata": {
        "id": "c6lkfWPWmNdl",
        "outputId": "9690c626-5e73-4179-b199-1a583de9a288",
        "colab": {
          "base_uri": "https://localhost:8080/",
          "height": 283
        }
      },
      "outputs": [
        {
          "output_type": "stream",
          "name": "stdout",
          "text": [
            "Persistence Model: 112.477 RMSE (+/- 0.000)\n"
          ]
        },
        {
          "output_type": "display_data",
          "data": {
            "text/plain": [
              "<Figure size 432x288 with 1 Axes>"
            ],
            "image/png": "[encoded data removed]"
          },
          "metadata": {
            "needs_background": "light"
          }
        }
      ],
      "source": [
        "# summarize scores\n",
        "summarize_scores('Persistence Model', persistent_scores)"
      ]
    },
    {
      "cell_type": "markdown",
      "metadata": {
        "id": "CSTT0kG9mNdl"
      },
      "source": [
        "### 4.c) MLP Modeling and Tuning"
      ]
    },
    {
      "cell_type": "code",
      "source": [
        "# fit a model\n",
        "def model_fit(train, config):\n",
        "    # unpack config\n",
        "    n_input, n_nodes, n_epochs, n_batch = config\n",
        "    # prepare data\n",
        "    data = series_to_supervised(train, n_in=n_input)\n",
        "    train_x, train_y = data[:, :-1], data[:, -1]\n",
        "    # define model\n",
        "    model = tf.keras.Sequential()\n",
        "    model.add(tf.keras.layers.Dense(n_nodes, activation='relu', input_dim=n_input))\n",
        "    model.add(tf.keras.layers.Dense(1))\n",
        "    model.compile(loss='mse', optimizer='adam')\n",
        "    # fit\n",
        "    model.fit(train_x, train_y, epochs=n_epochs, batch_size=n_batch, verbose=0)\n",
        "    return model"
      ],
      "metadata": {
        "id": "sL9gVXsO-orO"
      },
      "execution_count": 32,
      "outputs": []
    },
    {
      "cell_type": "code",
      "source": [
        "# forecast with a pre-fit model\n",
        "def model_predict(model, history, config):\n",
        "    # unpack config\n",
        "    n_input, _, _, _ = config\n",
        "    # prepare data\n",
        "    x_input = np.array(history[-n_input:]).reshape(1, n_input)\n",
        "    # forecast\n",
        "    yhat = model.predict(x_input, verbose=0)\n",
        "    return yhat[0]"
      ],
      "metadata": {
        "id": "QBGgc46d-8ex"
      },
      "execution_count": 33,
      "outputs": []
    },
    {
      "cell_type": "code",
      "source": [
        "# define config\n",
        "config = [24, 512, 100, 72]\n",
        "# grid search\n",
        "mlp_scores = repeat_evaluate(data, config, n_test)"
      ],
      "metadata": {
        "colab": {
          "base_uri": "https://localhost:8080/"
        },
        "id": "Z_7fvC4W-9Dy",
        "outputId": "e2b6e73d-8d94-4c86-ec38-2ddaeaeaae78"
      },
      "execution_count": 34,
      "outputs": [
        {
          "output_type": "stream",
          "name": "stdout",
          "text": [
            " > 88.846\n",
            " > 89.751\n",
            " > 91.566\n",
            " > 89.824\n",
            " > 87.165\n",
            " > 86.053\n",
            " > 88.078\n",
            " > 86.242\n",
            " > 86.188\n",
            " > 87.919\n",
            " > 87.662\n",
            " > 86.768\n",
            " > 87.349\n",
            " > 86.955\n",
            " > 87.975\n",
            " > 87.801\n",
            " > 89.302\n",
            " > 85.621\n",
            " > 88.647\n",
            " > 88.703\n",
            " > 88.953\n",
            " > 89.020\n",
            " > 89.109\n",
            " > 86.355\n",
            " > 87.017\n",
            " > 87.633\n",
            " > 91.648\n",
            " > 91.953\n",
            " > 90.328\n",
            " > 89.773\n"
          ]
        }
      ]
    },
    {
      "cell_type": "code",
      "source": [
        "# summarize scores\n",
        "summarize_scores('MLP Model', mlp_scores)"
      ],
      "metadata": {
        "colab": {
          "base_uri": "https://localhost:8080/",
          "height": 283
        },
        "id": "UHigutUI_fCH",
        "outputId": "685516fc-a24a-4a93-9fde-eca0241d136e"
      },
      "execution_count": 35,
      "outputs": [
        {
          "output_type": "stream",
          "name": "stdout",
          "text": [
            "MLP Model: 88.340 RMSE (+/- 1.665)\n"
          ]
        },
        {
          "output_type": "display_data",
          "data": {
            "text/plain": [
              "<Figure size 432x288 with 1 Axes>"
            ],
            "image/png": "[encoded data removed]"
          },
          "metadata": {
            "needs_background": "light"
          }
        }
      ]
    },
    {
      "cell_type": "markdown",
      "metadata": {
        "id": "gIRgU6C1-jHw"
      },
      "source": [
        "### 4.d) CNN Modeling and Tuning"
      ]
    },
    {
      "cell_type": "code",
      "execution_count": 36,
      "metadata": {
        "id": "R24vd4DUmNdl"
      },
      "outputs": [],
      "source": [
        "# fit a model\n",
        "def model_fit(train, config):\n",
        "    # unpack config\n",
        "    n_input, n_filters, n_kernel, n_epochs, n_batch = config\n",
        "    # prepare data\n",
        "    data = series_to_supervised(train, n_in=n_input)\n",
        "    train_x, train_y = data[:, :-1], data[:, -1]\n",
        "    train_x = train_x.reshape((train_x.shape[0], train_x.shape[1], 1))\n",
        "    # define model\n",
        "    model = tf.keras.Sequential()\n",
        "    model.add(tf.keras.layers.Conv1D(filters=n_filters, kernel_size=n_kernel, activation='relu', input_shape=(n_input, 1)))\n",
        "    model.add(tf.keras.layers.Conv1D(filters=n_filters, kernel_size=n_kernel, activation='relu'))\n",
        "    model.add(tf.keras.layers.MaxPool1D(pool_size=2))\n",
        "    model.add(tf.keras.layers.Flatten())\n",
        "    model.add(tf.keras.layers.Dense(1))\n",
        "    model.compile(loss=DEFAULT_LOSS, optimizer=DEFAULT_OPTIMIZER)\n",
        "    # fit\n",
        "    model.fit(train_x, train_y, epochs=n_epochs, batch_size=n_batch, verbose=0)\n",
        "    return model"
      ]
    },
    {
      "cell_type": "code",
      "execution_count": 37,
      "metadata": {
        "id": "BPEbOfy_mNdl"
      },
      "outputs": [],
      "source": [
        "# forecast with a pre-fit model\n",
        "def model_predict(model, history, config):\n",
        "    # unpack config\n",
        "    n_input, _, _, _, _ = config\n",
        "    # prepare data\n",
        "    x_input = np.array(history[-n_input:]).reshape((1, n_input, 1))\n",
        "    # forecast\n",
        "    yhat = model.predict(x_input, verbose=0)\n",
        "    return yhat[0]"
      ]
    },
    {
      "cell_type": "code",
      "execution_count": 38,
      "metadata": {
        "id": "KufOR6NEmNdl",
        "outputId": "26e1fc1a-6a2a-4bb0-ca39-157832e7ddae",
        "colab": {
          "base_uri": "https://localhost:8080/"
        }
      },
      "outputs": [
        {
          "output_type": "stream",
          "name": "stdout",
          "text": [
            " > 101.963\n",
            " > 112.183\n",
            " > 109.846\n",
            " > 107.454\n",
            " > 115.201\n",
            " > 106.558\n",
            " > 109.724\n",
            " > 109.770\n",
            " > 111.903\n",
            " > 109.990\n",
            " > 108.526\n",
            " > 112.221\n",
            " > 102.865\n",
            " > 110.931\n",
            " > 108.713\n",
            " > 112.135\n",
            " > 109.355\n",
            " > 105.968\n",
            " > 106.331\n",
            " > 109.510\n",
            " > 105.406\n",
            " > 107.494\n",
            " > 106.595\n",
            " > 112.771\n",
            " > 108.783\n",
            " > 104.572\n",
            " > 112.895\n",
            " > 107.821\n",
            " > 107.370\n",
            " > 108.289\n"
          ]
        }
      ],
      "source": [
        "# define config\n",
        "config = [36, 256, 3, 100, 72]\n",
        "# grid search\n",
        "cnn_scores = repeat_evaluate(data, config, n_test)"
      ]
    },
    {
      "cell_type": "code",
      "execution_count": 39,
      "metadata": {
        "id": "-8yBQ96HmNdl",
        "outputId": "68d8942e-8e73-4d02-b2ac-e3dc5c510b1a",
        "colab": {
          "base_uri": "https://localhost:8080/",
          "height": 283
        }
      },
      "outputs": [
        {
          "output_type": "stream",
          "name": "stdout",
          "text": [
            "CNN Model: 108.772 RMSE (+/- 2.996)\n"
          ]
        },
        {
          "output_type": "display_data",
          "data": {
            "text/plain": [
              "<Figure size 432x288 with 1 Axes>"
            ],
            "image/png": "[encoded data removed]"
          },
          "metadata": {
            "needs_background": "light"
          }
        }
      ],
      "source": [
        "# summarize scores\n",
        "summarize_scores('CNN Model', cnn_scores)"
      ]
    },
    {
      "cell_type": "markdown",
      "metadata": {
        "id": "Go4mM3v0mNdl"
      },
      "source": [
        "### 4.e) LSTM Modeling and Tuning"
      ]
    },
    {
      "cell_type": "code",
      "execution_count": 40,
      "metadata": {
        "id": "dqiwmgVRmNdm"
      },
      "outputs": [],
      "source": [
        "# fit a model\n",
        "def model_fit(train, config):\n",
        "    # unpack config\n",
        "    n_input, n_nodes, n_epochs, n_batch, n_diff = config\n",
        "    # prepare data\n",
        "    if n_diff > 0:\n",
        "        train = difference(train, n_diff)\n",
        "    data = series_to_supervised(train, n_in=n_input)\n",
        "    train_x, train_y = data[:, :-1], data[:, -1]\n",
        "    train_x = train_x.reshape((train_x.shape[0], train_x.shape[1], 1))\n",
        "    # define model\n",
        "    model = tf.keras.Sequential()\n",
        "    model.add(tf.keras.layers.LSTM(n_nodes, activation='relu', input_shape=(n_input, 1)))\n",
        "    model.add(tf.keras.layers.Dense(n_nodes, activation='relu'))\n",
        "    model.add(tf.keras.layers.Dense(1))\n",
        "    model.compile(loss=DEFAULT_LOSS, optimizer=DEFAULT_OPTIMIZER)\n",
        "    # fit\n",
        "    model.fit(train_x, train_y, epochs=n_epochs, batch_size=n_batch, verbose=0)\n",
        "    return model"
      ]
    },
    {
      "cell_type": "code",
      "execution_count": 41,
      "metadata": {
        "id": "XfmB9q0TmNdm"
      },
      "outputs": [],
      "source": [
        "# forecast with a pre-fit model\n",
        "def model_predict(model, history, config):\n",
        "    # unpack config\n",
        "    n_input, _, _, _, n_diff = config\n",
        "    # prepare data\n",
        "    correction = 0.0\n",
        "    if n_diff > 0:\n",
        "        correction = history[-n_diff]\n",
        "        history = difference(history, n_diff)\n",
        "    x_input = np.array(history[-n_input:]).reshape((1, n_input, 1))\n",
        "    # forecast\n",
        "    yhat = model.predict(x_input, verbose=0)\n",
        "    return correction + yhat[0]"
      ]
    },
    {
      "cell_type": "code",
      "execution_count": 42,
      "metadata": {
        "id": "X3KJn4DYmNdm",
        "outputId": "130ecfdd-2f41-4fff-cbd0-eb5b2a8ae938",
        "colab": {
          "base_uri": "https://localhost:8080/"
        }
      },
      "outputs": [
        {
          "output_type": "stream",
          "name": "stdout",
          "text": [
            "WARNING:tensorflow:Layer lstm will not use cuDNN kernels since it doesn't meet the criteria. It will use a generic GPU kernel as fallback when running on GPU.\n",
            " > 137.953\n",
            "WARNING:tensorflow:Layer lstm_1 will not use cuDNN kernels since it doesn't meet the criteria. It will use a generic GPU kernel as fallback when running on GPU.\n",
            " > 155.255\n",
            "WARNING:tensorflow:Layer lstm_2 will not use cuDNN kernels since it doesn't meet the criteria. It will use a generic GPU kernel as fallback when running on GPU.\n",
            " > 154.836\n",
            "WARNING:tensorflow:Layer lstm_3 will not use cuDNN kernels since it doesn't meet the criteria. It will use a generic GPU kernel as fallback when running on GPU.\n",
            " > 164.454\n",
            "WARNING:tensorflow:Layer lstm_4 will not use cuDNN kernels since it doesn't meet the criteria. It will use a generic GPU kernel as fallback when running on GPU.\n",
            " > 161.117\n",
            "WARNING:tensorflow:Layer lstm_5 will not use cuDNN kernels since it doesn't meet the criteria. It will use a generic GPU kernel as fallback when running on GPU.\n",
            " > 170.694\n",
            "WARNING:tensorflow:Layer lstm_6 will not use cuDNN kernels since it doesn't meet the criteria. It will use a generic GPU kernel as fallback when running on GPU.\n",
            " > 152.669\n",
            "WARNING:tensorflow:Layer lstm_7 will not use cuDNN kernels since it doesn't meet the criteria. It will use a generic GPU kernel as fallback when running on GPU.\n",
            " > 138.462\n",
            "WARNING:tensorflow:Layer lstm_8 will not use cuDNN kernels since it doesn't meet the criteria. It will use a generic GPU kernel as fallback when running on GPU.\n",
            " > 136.636\n",
            "WARNING:tensorflow:Layer lstm_9 will not use cuDNN kernels since it doesn't meet the criteria. It will use a generic GPU kernel as fallback when running on GPU.\n",
            " > 176.316\n",
            "WARNING:tensorflow:Layer lstm_10 will not use cuDNN kernels since it doesn't meet the criteria. It will use a generic GPU kernel as fallback when running on GPU.\n",
            " > 162.720\n",
            "WARNING:tensorflow:Layer lstm_11 will not use cuDNN kernels since it doesn't meet the criteria. It will use a generic GPU kernel as fallback when running on GPU.\n",
            " > 133.133\n",
            "WARNING:tensorflow:Layer lstm_12 will not use cuDNN kernels since it doesn't meet the criteria. It will use a generic GPU kernel as fallback when running on GPU.\n",
            " > 171.428\n",
            "WARNING:tensorflow:Layer lstm_13 will not use cuDNN kernels since it doesn't meet the criteria. It will use a generic GPU kernel as fallback when running on GPU.\n",
            " > 331.869\n",
            "WARNING:tensorflow:Layer lstm_14 will not use cuDNN kernels since it doesn't meet the criteria. It will use a generic GPU kernel as fallback when running on GPU.\n",
            " > 899.391\n",
            "WARNING:tensorflow:Layer lstm_15 will not use cuDNN kernels since it doesn't meet the criteria. It will use a generic GPU kernel as fallback when running on GPU.\n",
            " > 140.533\n",
            "WARNING:tensorflow:Layer lstm_16 will not use cuDNN kernels since it doesn't meet the criteria. It will use a generic GPU kernel as fallback when running on GPU.\n",
            " > 139.903\n",
            "WARNING:tensorflow:Layer lstm_17 will not use cuDNN kernels since it doesn't meet the criteria. It will use a generic GPU kernel as fallback when running on GPU.\n",
            " > 234.175\n",
            "WARNING:tensorflow:Layer lstm_18 will not use cuDNN kernels since it doesn't meet the criteria. It will use a generic GPU kernel as fallback when running on GPU.\n",
            " > 143.376\n",
            "WARNING:tensorflow:Layer lstm_19 will not use cuDNN kernels since it doesn't meet the criteria. It will use a generic GPU kernel as fallback when running on GPU.\n",
            " > 142.763\n",
            "WARNING:tensorflow:Layer lstm_20 will not use cuDNN kernels since it doesn't meet the criteria. It will use a generic GPU kernel as fallback when running on GPU.\n",
            " > 259.877\n",
            "WARNING:tensorflow:Layer lstm_21 will not use cuDNN kernels since it doesn't meet the criteria. It will use a generic GPU kernel as fallback when running on GPU.\n",
            " > 154.057\n",
            "WARNING:tensorflow:Layer lstm_22 will not use cuDNN kernels since it doesn't meet the criteria. It will use a generic GPU kernel as fallback when running on GPU.\n",
            " > 155.995\n",
            "WARNING:tensorflow:Layer lstm_23 will not use cuDNN kernels since it doesn't meet the criteria. It will use a generic GPU kernel as fallback when running on GPU.\n",
            " > 331.302\n",
            "WARNING:tensorflow:Layer lstm_24 will not use cuDNN kernels since it doesn't meet the criteria. It will use a generic GPU kernel as fallback when running on GPU.\n",
            " > 134.897\n",
            "WARNING:tensorflow:Layer lstm_25 will not use cuDNN kernels since it doesn't meet the criteria. It will use a generic GPU kernel as fallback when running on GPU.\n",
            " > 990.861\n",
            "WARNING:tensorflow:Layer lstm_26 will not use cuDNN kernels since it doesn't meet the criteria. It will use a generic GPU kernel as fallback when running on GPU.\n",
            " > 295.486\n",
            "WARNING:tensorflow:Layer lstm_27 will not use cuDNN kernels since it doesn't meet the criteria. It will use a generic GPU kernel as fallback when running on GPU.\n",
            " > 202.397\n",
            "WARNING:tensorflow:Layer lstm_28 will not use cuDNN kernels since it doesn't meet the criteria. It will use a generic GPU kernel as fallback when running on GPU.\n",
            " > 156.776\n",
            "WARNING:tensorflow:Layer lstm_29 will not use cuDNN kernels since it doesn't meet the criteria. It will use a generic GPU kernel as fallback when running on GPU.\n",
            " > 144.383\n"
          ]
        }
      ],
      "source": [
        "# define config\n",
        "config = [36, 256, 100, 72, 12]\n",
        "# grid search\n",
        "lstm_scores = repeat_evaluate(data, config, n_test)"
      ]
    },
    {
      "cell_type": "code",
      "execution_count": 43,
      "metadata": {
        "id": "4zif190TmNdm",
        "outputId": "9407f809-f486-4f17-8e96-f8bff36e8832",
        "colab": {
          "base_uri": "https://localhost:8080/",
          "height": 283
        }
      },
      "outputs": [
        {
          "output_type": "stream",
          "name": "stdout",
          "text": [
            "LSTM Model: 229.124 RMSE (+/- 199.445)\n"
          ]
        },
        {
          "output_type": "display_data",
          "data": {
            "text/plain": [
              "<Figure size 432x288 with 1 Axes>"
            ],
            "image/png": "[encoded data removed]"
          },
          "metadata": {
            "needs_background": "light"
          }
        }
      ],
      "source": [
        "# summarize scores\n",
        "summarize_scores('LSTM Model', lstm_scores)"
      ]
    },
    {
      "cell_type": "markdown",
      "metadata": {
        "id": "WUfg2kipmNdm"
      },
      "source": [
        "### 4.f) CNN-LSTM Modeling and Tuning"
      ]
    },
    {
      "cell_type": "code",
      "execution_count": 44,
      "metadata": {
        "id": "UQfhMGkdmNdm"
      },
      "outputs": [],
      "source": [
        "# fit a model\n",
        "def model_fit(train, config):\n",
        "    # unpack config\n",
        "    n_seq, n_steps, n_filters, n_kernel, n_nodes, n_epochs, n_batch = config\n",
        "    n_input = n_seq * n_steps\n",
        "    # prepare data\n",
        "    data = series_to_supervised(train, n_in=n_input)\n",
        "    train_x, train_y = data[:, :-1], data[:, -1]\n",
        "    train_x = train_x.reshape((train_x.shape[0], n_seq, n_steps, 1))\n",
        "    # define model\n",
        "    model = tf.keras.Sequential()\n",
        "    model.add(tf.keras.layers.TimeDistributed(tf.keras.layers.Conv1D(filters=n_filters, kernel_size=n_kernel, activation='relu', input_shape=(None,n_steps,1))))\n",
        "    model.add(tf.keras.layers.TimeDistributed(tf.keras.layers.Conv1D(filters=n_filters, kernel_size=n_kernel, activation='relu')))\n",
        "    model.add(tf.keras.layers.TimeDistributed(tf.keras.layers.MaxPool1D(pool_size=2)))\n",
        "    model.add(tf.keras.layers.TimeDistributed(tf.keras.layers.Flatten()))\n",
        "    model.add(tf.keras.layers.LSTM(n_nodes, activation='relu'))\n",
        "    model.add(tf.keras.layers.Dense(n_nodes, activation='relu'))\n",
        "    model.add(tf.keras.layers.Dense(1))\n",
        "    model.compile(loss=DEFAULT_LOSS, optimizer=DEFAULT_OPTIMIZER)\n",
        "    # fit\n",
        "    model.fit(train_x, train_y, epochs=n_epochs, batch_size=n_batch, verbose=0)\n",
        "    return model"
      ]
    },
    {
      "cell_type": "code",
      "execution_count": 45,
      "metadata": {
        "id": "2FPlBkgdmNdm"
      },
      "outputs": [],
      "source": [
        "# forecast with a pre-fit model\n",
        "def model_predict(model, history, config):\n",
        "    # unpack config\n",
        "    n_seq, n_steps, _, _, _, _, _ = config\n",
        "    n_input = n_seq * n_steps\n",
        "    # prepare data\n",
        "    x_input = np.array(history[-n_input:]).reshape((1, n_seq, n_steps, 1))\n",
        "    # forecast\n",
        "    yhat = model.predict(x_input, verbose=0)\n",
        "    return yhat[0]"
      ]
    },
    {
      "cell_type": "code",
      "execution_count": 46,
      "metadata": {
        "id": "hM3TETHVmNdm",
        "outputId": "f3f8b62e-381a-4b5e-aba9-f8d5fdca2a4b",
        "colab": {
          "base_uri": "https://localhost:8080/"
        }
      },
      "outputs": [
        {
          "output_type": "stream",
          "name": "stdout",
          "text": [
            "WARNING:tensorflow:Layer lstm_30 will not use cuDNN kernels since it doesn't meet the criteria. It will use a generic GPU kernel as fallback when running on GPU.\n",
            " > 113.420\n",
            "WARNING:tensorflow:Layer lstm_31 will not use cuDNN kernels since it doesn't meet the criteria. It will use a generic GPU kernel as fallback when running on GPU.\n",
            " > 126.940\n",
            "WARNING:tensorflow:Layer lstm_32 will not use cuDNN kernels since it doesn't meet the criteria. It will use a generic GPU kernel as fallback when running on GPU.\n",
            " > 107.785\n",
            "WARNING:tensorflow:Layer lstm_33 will not use cuDNN kernels since it doesn't meet the criteria. It will use a generic GPU kernel as fallback when running on GPU.\n",
            " > 104.130\n",
            "WARNING:tensorflow:Layer lstm_34 will not use cuDNN kernels since it doesn't meet the criteria. It will use a generic GPU kernel as fallback when running on GPU.\n",
            " > 121.708\n",
            "WARNING:tensorflow:Layer lstm_35 will not use cuDNN kernels since it doesn't meet the criteria. It will use a generic GPU kernel as fallback when running on GPU.\n",
            " > 103.041\n",
            "WARNING:tensorflow:Layer lstm_36 will not use cuDNN kernels since it doesn't meet the criteria. It will use a generic GPU kernel as fallback when running on GPU.\n",
            " > 113.668\n",
            "WARNING:tensorflow:Layer lstm_37 will not use cuDNN kernels since it doesn't meet the criteria. It will use a generic GPU kernel as fallback when running on GPU.\n",
            " > 110.487\n",
            "WARNING:tensorflow:Layer lstm_38 will not use cuDNN kernels since it doesn't meet the criteria. It will use a generic GPU kernel as fallback when running on GPU.\n",
            " > 101.677\n",
            "WARNING:tensorflow:Layer lstm_39 will not use cuDNN kernels since it doesn't meet the criteria. It will use a generic GPU kernel as fallback when running on GPU.\n",
            " > 105.364\n",
            "WARNING:tensorflow:Layer lstm_40 will not use cuDNN kernels since it doesn't meet the criteria. It will use a generic GPU kernel as fallback when running on GPU.\n",
            " > 111.941\n",
            "WARNING:tensorflow:Layer lstm_41 will not use cuDNN kernels since it doesn't meet the criteria. It will use a generic GPU kernel as fallback when running on GPU.\n",
            " > 109.124\n",
            "WARNING:tensorflow:Layer lstm_42 will not use cuDNN kernels since it doesn't meet the criteria. It will use a generic GPU kernel as fallback when running on GPU.\n",
            " > 112.508\n",
            "WARNING:tensorflow:Layer lstm_43 will not use cuDNN kernels since it doesn't meet the criteria. It will use a generic GPU kernel as fallback when running on GPU.\n",
            " > 105.770\n",
            "WARNING:tensorflow:Layer lstm_44 will not use cuDNN kernels since it doesn't meet the criteria. It will use a generic GPU kernel as fallback when running on GPU.\n",
            " > 114.665\n",
            "WARNING:tensorflow:Layer lstm_45 will not use cuDNN kernels since it doesn't meet the criteria. It will use a generic GPU kernel as fallback when running on GPU.\n",
            " > 112.782\n",
            "WARNING:tensorflow:Layer lstm_46 will not use cuDNN kernels since it doesn't meet the criteria. It will use a generic GPU kernel as fallback when running on GPU.\n",
            " > 109.338\n",
            "WARNING:tensorflow:Layer lstm_47 will not use cuDNN kernels since it doesn't meet the criteria. It will use a generic GPU kernel as fallback when running on GPU.\n",
            " > 112.127\n",
            "WARNING:tensorflow:Layer lstm_48 will not use cuDNN kernels since it doesn't meet the criteria. It will use a generic GPU kernel as fallback when running on GPU.\n",
            " > 107.568\n",
            "WARNING:tensorflow:Layer lstm_49 will not use cuDNN kernels since it doesn't meet the criteria. It will use a generic GPU kernel as fallback when running on GPU.\n",
            " > 106.074\n",
            "WARNING:tensorflow:Layer lstm_50 will not use cuDNN kernels since it doesn't meet the criteria. It will use a generic GPU kernel as fallback when running on GPU.\n",
            " > 104.971\n",
            "WARNING:tensorflow:Layer lstm_51 will not use cuDNN kernels since it doesn't meet the criteria. It will use a generic GPU kernel as fallback when running on GPU.\n",
            " > 123.385\n",
            "WARNING:tensorflow:Layer lstm_52 will not use cuDNN kernels since it doesn't meet the criteria. It will use a generic GPU kernel as fallback when running on GPU.\n",
            " > 102.723\n",
            "WARNING:tensorflow:Layer lstm_53 will not use cuDNN kernels since it doesn't meet the criteria. It will use a generic GPU kernel as fallback when running on GPU.\n",
            " > 118.294\n",
            "WARNING:tensorflow:Layer lstm_54 will not use cuDNN kernels since it doesn't meet the criteria. It will use a generic GPU kernel as fallback when running on GPU.\n",
            " > 113.693\n",
            "WARNING:tensorflow:Layer lstm_55 will not use cuDNN kernels since it doesn't meet the criteria. It will use a generic GPU kernel as fallback when running on GPU.\n",
            " > 102.399\n",
            "WARNING:tensorflow:Layer lstm_56 will not use cuDNN kernels since it doesn't meet the criteria. It will use a generic GPU kernel as fallback when running on GPU.\n",
            " > 110.690\n",
            "WARNING:tensorflow:Layer lstm_57 will not use cuDNN kernels since it doesn't meet the criteria. It will use a generic GPU kernel as fallback when running on GPU.\n",
            " > 112.683\n",
            "WARNING:tensorflow:Layer lstm_58 will not use cuDNN kernels since it doesn't meet the criteria. It will use a generic GPU kernel as fallback when running on GPU.\n",
            " > 105.431\n",
            "WARNING:tensorflow:Layer lstm_59 will not use cuDNN kernels since it doesn't meet the criteria. It will use a generic GPU kernel as fallback when running on GPU.\n",
            " > 109.029\n"
          ]
        }
      ],
      "source": [
        "# define config\n",
        "config = [3, 12, 128, 3, 100, 200, 72]\n",
        "# grid search\n",
        "cnnlstm_scores = repeat_evaluate(data, config, n_test)"
      ]
    },
    {
      "cell_type": "code",
      "execution_count": 47,
      "metadata": {
        "scrolled": true,
        "id": "hTCFyOP3mNdm",
        "outputId": "5336664c-24fe-4fec-8641-bed5f23be7a0",
        "colab": {
          "base_uri": "https://localhost:8080/",
          "height": 283
        }
      },
      "outputs": [
        {
          "output_type": "stream",
          "name": "stdout",
          "text": [
            "CNN-LSTM Model: 110.447 RMSE (+/- 6.147)\n"
          ]
        },
        {
          "output_type": "display_data",
          "data": {
            "text/plain": [
              "<Figure size 432x288 with 1 Axes>"
            ],
            "image/png": "[encoded data removed]"
          },
          "metadata": {
            "needs_background": "light"
          }
        }
      ],
      "source": [
        "# summarize scores\n",
        "summarize_scores('CNN-LSTM Model', cnnlstm_scores)"
      ]
    },
    {
      "cell_type": "markdown",
      "metadata": {
        "id": "uyM9NtLomNdn"
      },
      "source": [
        "### 4.g) ConvLSTM Modeling and Tuning"
      ]
    },
    {
      "cell_type": "code",
      "execution_count": 48,
      "metadata": {
        "id": "RhHX42IKmNdn"
      },
      "outputs": [],
      "source": [
        "# fit a model\n",
        "def model_fit(train, config):\n",
        "    # unpack config\n",
        "    n_seq, n_steps, n_filters, n_kernel, n_nodes, n_epochs, n_batch = config\n",
        "    n_input = n_seq * n_steps\n",
        "    # prepare data\n",
        "    data = series_to_supervised(train, n_in=n_input)\n",
        "    train_x, train_y = data[:, :-1], data[:, -1]\n",
        "    train_x = train_x.reshape((train_x.shape[0], n_seq, 1, n_steps, 1))\n",
        "    # define model\n",
        "    model = tf.keras.Sequential()\n",
        "    model.add(tf.keras.layers.ConvLSTM2D(filters=n_filters, kernel_size=(1,n_kernel), activation='relu', input_shape=(n_seq, 1, n_steps, 1)))\n",
        "    model.add(tf.keras.layers.Flatten())\n",
        "    model.add(tf.keras.layers.Dense(n_nodes, activation='relu'))\n",
        "    model.add(tf.keras.layers.Dense(1))\n",
        "    model.compile(loss=DEFAULT_LOSS, optimizer=DEFAULT_OPTIMIZER)\n",
        "    # fit\n",
        "    model.fit(train_x, train_y, epochs=n_epochs, batch_size=n_batch, verbose=0)\n",
        "    return model"
      ]
    },
    {
      "cell_type": "code",
      "execution_count": 49,
      "metadata": {
        "id": "TQMgFqLSmNdn"
      },
      "outputs": [],
      "source": [
        "# forecast with a pre-fit model\n",
        "def model_predict(model, history, config):\n",
        "    # unpack config\n",
        "    n_seq, n_steps, _, _, _, _, _ = config\n",
        "    n_input = n_seq * n_steps\n",
        "    # prepare data\n",
        "    x_input = np.array(history[-n_input:]).reshape((1, n_seq, 1, n_steps, 1))\n",
        "    # forecast\n",
        "    yhat = model.predict(x_input, verbose=0)\n",
        "    return yhat[0]"
      ]
    },
    {
      "cell_type": "code",
      "execution_count": 50,
      "metadata": {
        "id": "97RqO5I6mNdn",
        "outputId": "c6014cba-f7f5-40cf-8604-48f3924ed049",
        "colab": {
          "base_uri": "https://localhost:8080/"
        }
      },
      "outputs": [
        {
          "output_type": "stream",
          "name": "stdout",
          "text": [
            " > 117.551\n",
            " > 102.432\n",
            " > 95.604\n",
            " > 102.114\n",
            " > 102.375\n",
            " > 99.622\n",
            " > 106.162\n",
            " > 103.278\n",
            " > 100.991\n",
            " > 97.704\n",
            " > 104.906\n",
            " > 107.267\n",
            " > 107.059\n",
            " > 107.205\n",
            " > 101.540\n",
            " > 103.381\n",
            " > 108.033\n",
            " > 104.607\n",
            " > 103.948\n",
            " > 99.158\n",
            " > 104.719\n",
            " > 105.107\n",
            " > 101.786\n",
            " > 108.246\n",
            " > 94.553\n",
            " > 105.112\n",
            " > 105.439\n",
            " > 105.529\n",
            " > 108.000\n",
            " > 96.704\n"
          ]
        }
      ],
      "source": [
        "# define config\n",
        "config = [3, 12, 256, 3, 200, 200, 72]\n",
        "# grid search\n",
        "convlstm_scores = repeat_evaluate(data, config, n_test)"
      ]
    },
    {
      "cell_type": "code",
      "execution_count": 51,
      "metadata": {
        "id": "bcZXkLwPmNdn",
        "outputId": "327d132d-4099-4237-9cbe-7446592077bd",
        "colab": {
          "base_uri": "https://localhost:8080/",
          "height": 283
        }
      },
      "outputs": [
        {
          "output_type": "stream",
          "name": "stdout",
          "text": [
            "ConvLSTM Model: 103.671 RMSE (+/- 4.468)\n"
          ]
        },
        {
          "output_type": "display_data",
          "data": {
            "text/plain": [
              "<Figure size 432x288 with 1 Axes>"
            ],
            "image/png": "[encoded data removed]"
          },
          "metadata": {
            "needs_background": "light"
          }
        }
      ],
      "source": [
        "# summarize scores\n",
        "summarize_scores('ConvLSTM Model', convlstm_scores)"
      ]
    },
    {
      "cell_type": "markdown",
      "metadata": {
        "id": "9pd7byRzmNdn"
      },
      "source": [
        "### 4.g) Models Comparison"
      ]
    },
    {
      "cell_type": "code",
      "execution_count": 52,
      "metadata": {
        "id": "IeG-TaWgmNdn"
      },
      "outputs": [],
      "source": [
        "# Set up Arrays for Score Comparison\n",
        "train_models = []\n",
        "train_results = []"
      ]
    },
    {
      "cell_type": "code",
      "execution_count": 53,
      "metadata": {
        "id": "8kMEbgiUmNdn"
      },
      "outputs": [],
      "source": [
        "train_models.append('Baseline')\n",
        "train_results.append(persistent_scores)\n",
        "train_models.append('MLP')\n",
        "train_results.append(mlp_scores)\n",
        "train_models.append('CNN')\n",
        "train_results.append(cnn_scores)\n",
        "train_models.append('LSTM')\n",
        "train_results.append(lstm_scores)\n",
        "train_models.append('CNN-LSTM')\n",
        "train_results.append(cnnlstm_scores)\n",
        "train_models.append('ConvLSTM')\n",
        "train_results.append(convlstm_scores)"
      ]
    },
    {
      "cell_type": "code",
      "execution_count": 54,
      "metadata": {
        "id": "ITfd6LLkmNdn",
        "outputId": "84fe2cbb-cc3b-46f5-811d-f35b9f2533b1",
        "colab": {
          "base_uri": "https://localhost:8080/",
          "height": 787
        }
      },
      "outputs": [
        {
          "output_type": "display_data",
          "data": {
            "text/plain": [
              "<Figure size 1152x864 with 1 Axes>"
            ],
            "image/png": "[encoded data removed]"
          },
          "metadata": {
            "needs_background": "light"
          }
        }
      ],
      "source": [
        "fig = plt.figure(figsize=(16,12))\n",
        "fig.suptitle('Model Comparison')\n",
        "ax = fig.add_subplot(111)\n",
        "plt.boxplot(train_results)\n",
        "ax.set_xticklabels(train_models)\n",
        "plt.show()"
      ]
    },
    {
      "cell_type": "code",
      "execution_count": 55,
      "metadata": {
        "id": "vvyzdubMmNdn"
      },
      "outputs": [],
      "source": [
        "if NOTIFY_STATUS: status_notify(\"TensorFlow Time Series Task 4 - Train and Tune Models completed! \" + datetime.now().strftime('%a %B %d, %Y %I:%M:%S %p'))"
      ]
    },
    {
      "cell_type": "markdown",
      "metadata": {
        "id": "GA8ECRD5mNdn"
      },
      "source": [
        "## Section 5. Finalize Model and Make Predictions"
      ]
    },
    {
      "cell_type": "code",
      "execution_count": 56,
      "metadata": {
        "id": "hzfS6ikYmNdo"
      },
      "outputs": [],
      "source": [
        "if NOTIFY_STATUS: status_notify(\"TensorFlow Time Series Task 5 - Finalize Model and Make Predictions has begun! \" + datetime.now().strftime('%a %B %d, %Y %I:%M:%S %p'))"
      ]
    },
    {
      "cell_type": "code",
      "execution_count": 57,
      "metadata": {
        "id": "1et1_yYemNdo"
      },
      "outputs": [],
      "source": [
        "# Code Segment Under Construction"
      ]
    },
    {
      "cell_type": "code",
      "execution_count": 58,
      "metadata": {
        "id": "h-V1DnqamNdo"
      },
      "outputs": [],
      "source": [
        "if NOTIFY_STATUS: status_notify(\"TensorFlow Time Series Task 5 - Finalize Model and Make Predictions completed! \" + datetime.now().strftime('%a %B %d, %Y %I:%M:%S %p'))"
      ]
    },
    {
      "cell_type": "code",
      "execution_count": 59,
      "metadata": {
        "id": "YoyBpIbLmNdo",
        "outputId": "98f8b86e-f310-4de5-def8-9e9cfc63e551",
        "colab": {
          "base_uri": "https://localhost:8080/"
        }
      },
      "outputs": [
        {
          "output_type": "stream",
          "name": "stdout",
          "text": [
            "Total time for the script: 0:50:35.789546\n"
          ]
        }
      ],
      "source": [
        "print ('Total time for the script:',(datetime.now() - START_TIME_SCRIPT))"
      ]
    }
  ],
  "metadata": {
    "kernelspec": {
      "display_name": "Python 3 (ipykernel)",
      "language": "python",
      "name": "python3"
    },
    "language_info": {
      "codemirror_mode": {
        "name": "ipython",
        "version": 3
      },
      "file_extension": ".py",
      "mimetype": "text/x-python",
      "name": "python",
      "nbconvert_exporter": "python",
      "pygments_lexer": "ipython3",
      "version": "3.8.10"
    },
    "colab": {
      "name": "py_timeseries_tensorflow_american_river_riverflow.ipynb",
      "provenance": [],
      "background_execution": "on",
      "collapsed_sections": [],
      "toc_visible": true
    },
    "accelerator": "GPU"
  },
  "nbformat": 4,
  "nbformat_minor": 0
}